{
  "cells": [
    {
      "cell_type": "markdown",
      "metadata": {
        "id": "d06RU3-XHvQG"
      },
      "source": [
        "<h1>Extracting and Visualizing Stock Data</h1>\n",
        "<h2>Description</h2>\n"
      ]
    },
    {
      "cell_type": "markdown",
      "metadata": {
        "id": "n-1jksjXHvQG"
      },
      "source": [
        "Extracting essential data from a dataset and displaying it is a necessary part of data science; therefore individuals can make correct decisions based on the data. In this assignment, you will extract some stock data, you will then display this data in a graph.\n"
      ]
    },
    {
      "cell_type": "markdown",
      "metadata": {
        "id": "9-r7eYl-HvQG"
      },
      "source": [
        "<h2>Table of Contents</h2>\n",
        "<div class=\"alert alert-block alert-info\" style=\"margin-top: 20px\">\n",
        "    <ul>\n",
        "        <li>Defined a Function that Makes a Graph</li>\n",
        "        <li>Question 1: Use yfinance to Extract Stock Data</li>\n",
        "        <li>Question 2: Use Webscraping to Extract Tesla Revenue Data</li>\n",
        "        <li>Question 3: Use yfinance to Extract Stock Data</li>\n",
        "        <li>Question 4: Use Webscraping to Extract GME Revenue Data</li>\n",
        "        <li>Question 5: Plot GameStop Stock Graph</li>   \n",
        "    </ul>\n",
        "\n",
        "</div>\n",
        "\n",
        "<hr>\n"
      ]
    },
    {
      "cell_type": "code",
      "execution_count": null,
      "metadata": {
        "tags": [],
        "id": "UeVTl0e4HvQH",
        "outputId": "7c4aeaad-b2ec-4c61-cf62-6ab5b1879c59"
      },
      "outputs": [
        {
          "name": "stdout",
          "output_type": "stream",
          "text": [
            "Requirement already satisfied: yfinance==0.1.67 in /home/jupyterlab/conda/envs/python/lib/python3.7/site-packages (0.1.67)\n",
            "Requirement already satisfied: pandas>=0.24 in /home/jupyterlab/conda/envs/python/lib/python3.7/site-packages (from yfinance==0.1.67) (1.3.5)\n",
            "Requirement already satisfied: numpy>=1.15 in /home/jupyterlab/conda/envs/python/lib/python3.7/site-packages (from yfinance==0.1.67) (1.21.6)\n",
            "Requirement already satisfied: requests>=2.20 in /home/jupyterlab/conda/envs/python/lib/python3.7/site-packages (from yfinance==0.1.67) (2.29.0)\n",
            "Requirement already satisfied: multitasking>=0.0.7 in /home/jupyterlab/conda/envs/python/lib/python3.7/site-packages (from yfinance==0.1.67) (0.0.11)\n",
            "Requirement already satisfied: lxml>=4.5.1 in /home/jupyterlab/conda/envs/python/lib/python3.7/site-packages (from yfinance==0.1.67) (4.9.2)\n",
            "Requirement already satisfied: python-dateutil>=2.7.3 in /home/jupyterlab/conda/envs/python/lib/python3.7/site-packages (from pandas>=0.24->yfinance==0.1.67) (2.8.2)\n",
            "Requirement already satisfied: pytz>=2017.3 in /home/jupyterlab/conda/envs/python/lib/python3.7/site-packages (from pandas>=0.24->yfinance==0.1.67) (2023.3)\n",
            "Requirement already satisfied: charset-normalizer<4,>=2 in /home/jupyterlab/conda/envs/python/lib/python3.7/site-packages (from requests>=2.20->yfinance==0.1.67) (3.1.0)\n",
            "Requirement already satisfied: idna<4,>=2.5 in /home/jupyterlab/conda/envs/python/lib/python3.7/site-packages (from requests>=2.20->yfinance==0.1.67) (3.4)\n",
            "Requirement already satisfied: urllib3<1.27,>=1.21.1 in /home/jupyterlab/conda/envs/python/lib/python3.7/site-packages (from requests>=2.20->yfinance==0.1.67) (1.26.15)\n",
            "Requirement already satisfied: certifi>=2017.4.17 in /home/jupyterlab/conda/envs/python/lib/python3.7/site-packages (from requests>=2.20->yfinance==0.1.67) (2023.5.7)\n",
            "Requirement already satisfied: six>=1.5 in /home/jupyterlab/conda/envs/python/lib/python3.7/site-packages (from python-dateutil>=2.7.3->pandas>=0.24->yfinance==0.1.67) (1.16.0)\n",
            "\n",
            "                  __    __    __    __\n",
            "                 /  \\  /  \\  /  \\  /  \\\n",
            "                /    \\/    \\/    \\/    \\\n",
            "███████████████/  /██/  /██/  /██/  /████████████████████████\n",
            "              /  / \\   / \\   / \\   / \\  \\____\n",
            "             /  /   \\_/   \\_/   \\_/   \\    o \\__,\n",
            "            / _/                       \\_____/  `\n",
            "            |/\n",
            "        ███╗   ███╗ █████╗ ███╗   ███╗██████╗  █████╗\n",
            "        ████╗ ████║██╔══██╗████╗ ████║██╔══██╗██╔══██╗\n",
            "        ██╔████╔██║███████║██╔████╔██║██████╔╝███████║\n",
            "        ██║╚██╔╝██║██╔══██║██║╚██╔╝██║██╔══██╗██╔══██║\n",
            "        ██║ ╚═╝ ██║██║  ██║██║ ╚═╝ ██║██████╔╝██║  ██║\n",
            "        ╚═╝     ╚═╝╚═╝  ╚═╝╚═╝     ╚═╝╚═════╝ ╚═╝  ╚═╝\n",
            "\n",
            "        mamba (1.4.2) supported by @QuantStack\n",
            "\n",
            "        GitHub:  https://github.com/mamba-org/mamba\n",
            "        Twitter: https://twitter.com/QuantStack\n",
            "\n",
            "█████████████████████████████████████████████████████████████\n",
            "\n",
            "\n",
            "Looking for: ['bs4==4.10.0']\n",
            "\n",
            "\u001b[?25l\u001b[2K\u001b[0G[+] 0.0s\n",
            "\u001b[2K\u001b[1A\u001b[2K\u001b[0G[+] 0.1s\n",
            "pkgs/main/linux-64 \u001b[90m━━━━━━━━━╸\u001b[0m\u001b[33m━━━━━━━━━━━━━━━\u001b[0m   0.0 B /  ??.?MB @  ??.?MB/s  0.1s\n",
            "pkgs/main/noarch   \u001b[90m━━━━━━━━━━━━━━╸\u001b[0m\u001b[33m━━━━━━━━━━\u001b[0m   0.0 B /  ??.?MB @  ??.?MB/s  0.1s\n",
            "pkgs/r/linux-64    \u001b[33m━━━━━━━╸\u001b[0m\u001b[90m━━━━━━━━━━━━━━━━━\u001b[0m   0.0 B /  ??.?MB @  ??.?MB/s  0.1s\n",
            "pkgs/r/noarch      \u001b[90m━━━━━━━╸\u001b[0m\u001b[33m━━━━━━━━━━━━━━━╸\u001b[0m\u001b[90m━\u001b[0m   0.0 B /  ??.?MB @  ??.?MB/s  0.1s\u001b[2K\u001b[1A\u001b[2K\u001b[1A\u001b[2K\u001b[1A\u001b[2K\u001b[1A\u001b[2K\u001b[0Gpkgs/main/noarch                                              No change\n",
            "pkgs/main/linux-64                                            No change\n",
            "pkgs/r/noarch                                                 No change\n",
            "pkgs/r/linux-64                                               No change\n",
            "\u001b[?25h\n",
            "Pinned packages:\n",
            "  - python 3.7.*\n",
            "\n",
            "\n",
            "Transaction\n",
            "\n",
            "  Prefix: /home/jupyterlab/conda/envs/python\n",
            "\n",
            "  All requested packages already installed\n",
            "\n",
            "\u001b[?25l\u001b[2K\u001b[0G\u001b[?25hRequirement already satisfied: nbformat==4.2.0 in /home/jupyterlab/conda/envs/python/lib/python3.7/site-packages (4.2.0)\n",
            "Requirement already satisfied: ipython-genutils in /home/jupyterlab/conda/envs/python/lib/python3.7/site-packages (from nbformat==4.2.0) (0.2.0)\n",
            "Requirement already satisfied: jsonschema!=2.5.0,>=2.4 in /home/jupyterlab/conda/envs/python/lib/python3.7/site-packages (from nbformat==4.2.0) (4.17.3)\n",
            "Requirement already satisfied: jupyter-core in /home/jupyterlab/conda/envs/python/lib/python3.7/site-packages (from nbformat==4.2.0) (4.12.0)\n",
            "Requirement already satisfied: traitlets>=4.1 in /home/jupyterlab/conda/envs/python/lib/python3.7/site-packages (from nbformat==4.2.0) (5.9.0)\n",
            "Requirement already satisfied: attrs>=17.4.0 in /home/jupyterlab/conda/envs/python/lib/python3.7/site-packages (from jsonschema!=2.5.0,>=2.4->nbformat==4.2.0) (23.1.0)\n",
            "Requirement already satisfied: importlib-metadata in /home/jupyterlab/conda/envs/python/lib/python3.7/site-packages (from jsonschema!=2.5.0,>=2.4->nbformat==4.2.0) (4.11.4)\n",
            "Requirement already satisfied: importlib-resources>=1.4.0 in /home/jupyterlab/conda/envs/python/lib/python3.7/site-packages (from jsonschema!=2.5.0,>=2.4->nbformat==4.2.0) (5.12.0)\n",
            "Requirement already satisfied: pkgutil-resolve-name>=1.3.10 in /home/jupyterlab/conda/envs/python/lib/python3.7/site-packages (from jsonschema!=2.5.0,>=2.4->nbformat==4.2.0) (1.3.10)\n",
            "Requirement already satisfied: pyrsistent!=0.17.0,!=0.17.1,!=0.17.2,>=0.14.0 in /home/jupyterlab/conda/envs/python/lib/python3.7/site-packages (from jsonschema!=2.5.0,>=2.4->nbformat==4.2.0) (0.19.3)\n",
            "Requirement already satisfied: typing-extensions in /home/jupyterlab/conda/envs/python/lib/python3.7/site-packages (from jsonschema!=2.5.0,>=2.4->nbformat==4.2.0) (4.5.0)\n",
            "Requirement already satisfied: zipp>=3.1.0 in /home/jupyterlab/conda/envs/python/lib/python3.7/site-packages (from importlib-resources>=1.4.0->jsonschema!=2.5.0,>=2.4->nbformat==4.2.0) (3.15.0)\n",
            "Collecting html5lib\n",
            "  Downloading html5lib-1.1-py2.py3-none-any.whl (112 kB)\n",
            "\u001b[2K     \u001b[90m━━━━━━━━━━━━━━━━━━━━━━━━━━━━━━━━━━━━━━\u001b[0m \u001b[32m112.2/112.2 kB\u001b[0m \u001b[31m14.8 MB/s\u001b[0m eta \u001b[36m0:00:00\u001b[0m\n",
            "\u001b[?25hRequirement already satisfied: six>=1.9 in /home/jupyterlab/conda/envs/python/lib/python3.7/site-packages (from html5lib) (1.16.0)\n",
            "Requirement already satisfied: webencodings in /home/jupyterlab/conda/envs/python/lib/python3.7/site-packages (from html5lib) (0.5.1)\n",
            "Installing collected packages: html5lib\n",
            "Successfully installed html5lib-1.1\n"
          ]
        }
      ],
      "source": [
        "!pip install yfinance==0.1.67\n",
        "!mamba install bs4==4.10.0 -y\n",
        "!pip install nbformat==4.2.0\n",
        "!pip install html5lib\n"
      ]
    },
    {
      "cell_type": "code",
      "execution_count": 2,
      "metadata": {
        "tags": [],
        "colab": {
          "base_uri": "https://localhost:8080/"
        },
        "id": "YAb4oNUwHvQH",
        "outputId": "15be7110-0aab-4966-8d7c-06044eeb27f2"
      },
      "outputs": [
        {
          "output_type": "stream",
          "name": "stderr",
          "text": [
            "/usr/local/lib/python3.10/dist-packages/yfinance/base.py:48: FutureWarning: The default dtype for empty Series will be 'object' instead of 'float64' in a future version. Specify a dtype explicitly to silence this warning.\n",
            "  _empty_series = pd.Series()\n"
          ]
        }
      ],
      "source": [
        "import yfinance as yf\n",
        "import pandas as pd\n",
        "import requests\n",
        "from bs4 import BeautifulSoup\n",
        "import plotly.graph_objects as go\n",
        "from plotly.subplots import make_subplots"
      ]
    },
    {
      "cell_type": "markdown",
      "metadata": {
        "id": "Af8QTRhIHvQI"
      },
      "source": [
        "In Python, you can ignore warnings using the warnings module. You can use the filterwarnings function to filter or ignore specific warning messages or categories.\n"
      ]
    },
    {
      "cell_type": "code",
      "execution_count": 3,
      "metadata": {
        "tags": [],
        "id": "w7D21qARHvQI"
      },
      "outputs": [],
      "source": [
        "import warnings\n",
        "# Ignore all warnings\n",
        "warnings.filterwarnings(\"ignore\", category=FutureWarning)"
      ]
    },
    {
      "cell_type": "markdown",
      "metadata": {
        "id": "-B-5vAIwHvQI"
      },
      "source": [
        "## Define Graphing Function\n"
      ]
    },
    {
      "cell_type": "markdown",
      "metadata": {
        "id": "iLjUy0CCHvQI"
      },
      "source": [
        "In this section, we define the function `make_graph`. It takes a dataframe with stock data (dataframe must contain Date and Close columns), a dataframe with revenue data (dataframe must contain Date and Revenue columns), and the name of the stock.\n"
      ]
    },
    {
      "cell_type": "code",
      "execution_count": 4,
      "metadata": {
        "tags": [],
        "id": "nH0kRo7HHvQI"
      },
      "outputs": [],
      "source": [
        "def make_graph(stock_data, revenue_data, stock):\n",
        "    fig = make_subplots(rows=2, cols=1, shared_xaxes=True, subplot_titles=(\"Historical Share Price\", \"Historical Revenue\"), vertical_spacing = .3)\n",
        "    stock_data_specific = stock_data[stock_data.Date <= '2021--06-14']\n",
        "    revenue_data_specific = revenue_data[revenue_data.Date <= '2021-04-30']\n",
        "    fig.add_trace(go.Scatter(x=pd.to_datetime(stock_data_specific.Date, infer_datetime_format=True), y=stock_data_specific.Close.astype(\"float\"), name=\"Share Price\"), row=1, col=1)\n",
        "    fig.add_trace(go.Scatter(x=pd.to_datetime(revenue_data_specific.Date, infer_datetime_format=True), y=revenue_data_specific.Revenue.astype(\"float\"), name=\"Revenue\"), row=2, col=1)\n",
        "    fig.update_xaxes(title_text=\"Date\", row=1, col=1)\n",
        "    fig.update_xaxes(title_text=\"Date\", row=2, col=1)\n",
        "    fig.update_yaxes(title_text=\"Price ($US)\", row=1, col=1)\n",
        "    fig.update_yaxes(title_text=\"Revenue ($US Millions)\", row=2, col=1)\n",
        "    fig.update_layout(showlegend=False,\n",
        "    height=900,\n",
        "    title=stock,\n",
        "    xaxis_rangeslider_visible=True)\n",
        "    fig.show()"
      ]
    },
    {
      "cell_type": "markdown",
      "metadata": {
        "id": "gEUGQnYXHvQI"
      },
      "source": [
        "## Question 1: Use yfinance to Extract Stock Data\n"
      ]
    },
    {
      "cell_type": "markdown",
      "metadata": {
        "id": "5HD6Oz1jHvQI"
      },
      "source": [
        "Using the `Ticker` function enter the ticker symbol of the stock we want to extract data on to create a ticker object. The stock is Tesla and its ticker symbol is `TSLA`.\n"
      ]
    },
    {
      "cell_type": "code",
      "execution_count": null,
      "metadata": {
        "tags": [],
        "id": "mBCVTfUAHvQJ"
      },
      "outputs": [],
      "source": [
        "tesla = yf.Ticker(\"TSLA\")"
      ]
    },
    {
      "cell_type": "markdown",
      "metadata": {
        "id": "lk0tcdI8HvQJ"
      },
      "source": [
        "Using the ticker object and the function `history` extract stock information and save it in a dataframe named `tesla_data`. Set the `period` parameter to `max` so we get information for the maximum amount of time.\n"
      ]
    },
    {
      "cell_type": "code",
      "execution_count": null,
      "metadata": {
        "tags": [],
        "id": "VFIB3UiOHvQJ"
      },
      "outputs": [],
      "source": [
        "tesla_data = tesla.history(period=\"max\")"
      ]
    },
    {
      "cell_type": "markdown",
      "metadata": {
        "id": "lcF8-WovHvQJ"
      },
      "source": [
        "**Reseting the index** using the `reset_index(inplace=True)` function on the tesla_data DataFrame and display the first five rows of the `tesla_data` dataframe using the `head` function.\n"
      ]
    },
    {
      "cell_type": "code",
      "execution_count": null,
      "metadata": {
        "tags": [],
        "id": "hfsXQD4xHvQJ",
        "outputId": "277ad578-3eb3-4102-fbc9-4f1b30af8f1a"
      },
      "outputs": [
        {
          "data": {
            "text/html": [
              "<div>\n",
              "<style scoped>\n",
              "    .dataframe tbody tr th:only-of-type {\n",
              "        vertical-align: middle;\n",
              "    }\n",
              "\n",
              "    .dataframe tbody tr th {\n",
              "        vertical-align: top;\n",
              "    }\n",
              "\n",
              "    .dataframe thead th {\n",
              "        text-align: right;\n",
              "    }\n",
              "</style>\n",
              "<table border=\"1\" class=\"dataframe\">\n",
              "  <thead>\n",
              "    <tr style=\"text-align: right;\">\n",
              "      <th></th>\n",
              "      <th>Date</th>\n",
              "      <th>Open</th>\n",
              "      <th>High</th>\n",
              "      <th>Low</th>\n",
              "      <th>Close</th>\n",
              "      <th>Volume</th>\n",
              "      <th>Dividends</th>\n",
              "      <th>Stock Splits</th>\n",
              "    </tr>\n",
              "  </thead>\n",
              "  <tbody>\n",
              "    <tr>\n",
              "      <th>0</th>\n",
              "      <td>2010-06-29</td>\n",
              "      <td>1.266667</td>\n",
              "      <td>1.666667</td>\n",
              "      <td>1.169333</td>\n",
              "      <td>1.592667</td>\n",
              "      <td>281494500</td>\n",
              "      <td>0</td>\n",
              "      <td>0.0</td>\n",
              "    </tr>\n",
              "    <tr>\n",
              "      <th>1</th>\n",
              "      <td>2010-06-30</td>\n",
              "      <td>1.719333</td>\n",
              "      <td>2.028000</td>\n",
              "      <td>1.553333</td>\n",
              "      <td>1.588667</td>\n",
              "      <td>257806500</td>\n",
              "      <td>0</td>\n",
              "      <td>0.0</td>\n",
              "    </tr>\n",
              "    <tr>\n",
              "      <th>2</th>\n",
              "      <td>2010-07-01</td>\n",
              "      <td>1.666667</td>\n",
              "      <td>1.728000</td>\n",
              "      <td>1.351333</td>\n",
              "      <td>1.464000</td>\n",
              "      <td>123282000</td>\n",
              "      <td>0</td>\n",
              "      <td>0.0</td>\n",
              "    </tr>\n",
              "    <tr>\n",
              "      <th>3</th>\n",
              "      <td>2010-07-02</td>\n",
              "      <td>1.533333</td>\n",
              "      <td>1.540000</td>\n",
              "      <td>1.247333</td>\n",
              "      <td>1.280000</td>\n",
              "      <td>77097000</td>\n",
              "      <td>0</td>\n",
              "      <td>0.0</td>\n",
              "    </tr>\n",
              "    <tr>\n",
              "      <th>4</th>\n",
              "      <td>2010-07-06</td>\n",
              "      <td>1.333333</td>\n",
              "      <td>1.333333</td>\n",
              "      <td>1.055333</td>\n",
              "      <td>1.074000</td>\n",
              "      <td>103003500</td>\n",
              "      <td>0</td>\n",
              "      <td>0.0</td>\n",
              "    </tr>\n",
              "  </tbody>\n",
              "</table>\n",
              "</div>"
            ],
            "text/plain": [
              "        Date      Open      High       Low     Close     Volume  Dividends  \\\n",
              "0 2010-06-29  1.266667  1.666667  1.169333  1.592667  281494500          0   \n",
              "1 2010-06-30  1.719333  2.028000  1.553333  1.588667  257806500          0   \n",
              "2 2010-07-01  1.666667  1.728000  1.351333  1.464000  123282000          0   \n",
              "3 2010-07-02  1.533333  1.540000  1.247333  1.280000   77097000          0   \n",
              "4 2010-07-06  1.333333  1.333333  1.055333  1.074000  103003500          0   \n",
              "\n",
              "   Stock Splits  \n",
              "0           0.0  \n",
              "1           0.0  \n",
              "2           0.0  \n",
              "3           0.0  \n",
              "4           0.0  "
            ]
          },
          "execution_count": 7,
          "metadata": {},
          "output_type": "execute_result"
        }
      ],
      "source": [
        "tesla_data.reset_index(inplace=True)\n",
        "tesla_data.head()"
      ]
    },
    {
      "cell_type": "markdown",
      "metadata": {
        "id": "LzWlO4oHHvQJ"
      },
      "source": [
        "## Question 2: Use Webscraping to Extract Tesla Revenue Data\n"
      ]
    },
    {
      "cell_type": "markdown",
      "metadata": {
        "id": "Q9qpvnw0HvQJ"
      },
      "source": [
        "Using the `requests` library to download the webpage https://cf-courses-data.s3.us.cloud-object-storage.appdomain.cloud/IBMDeveloperSkillsNetwork-PY0220EN-SkillsNetwork/labs/project/revenue.htm Saving the text of the response as a variable named `html_data`.\n"
      ]
    },
    {
      "cell_type": "code",
      "execution_count": 5,
      "metadata": {
        "tags": [],
        "id": "NZLpRapiHvQJ"
      },
      "outputs": [],
      "source": [
        "url = 'https://cf-courses-data.s3.us.cloud-object-storage.appdomain.cloud/IBMDeveloperSkillsNetwork-PY0220EN-SkillsNetwork/labs/project/revenue.htm'\n",
        "html_data = requests.get(url).text"
      ]
    },
    {
      "cell_type": "code",
      "execution_count": 6,
      "metadata": {
        "tags": [],
        "id": "FdNb5xw7HvQK"
      },
      "outputs": [],
      "source": [
        "soup = BeautifulSoup(html_data, 'html.parser')\n"
      ]
    },
    {
      "cell_type": "markdown",
      "metadata": {
        "id": "f1hVG5VSHvQK"
      },
      "source": [
        "Using `BeautifulSoup` or the `read_html` function extracting the table with `Tesla Revenue` and storing it into a dataframe named `tesla_revenue`. The dataframe will have columns `Date` and `Revenue`.\n"
      ]
    },
    {
      "cell_type": "code",
      "execution_count": 7,
      "metadata": {
        "tags": [],
        "id": "NXUiNSuZHvQK"
      },
      "outputs": [],
      "source": [
        "tesla_revenue = pd.DataFrame(columns=['Date', 'Revenue'])\n",
        "\n",
        "for table in soup.find_all('table'):\n",
        "\n",
        "    if ('Tesla Quarterly Revenue' in table.find('th').text):\n",
        "        rows = table.find_all('tr')\n",
        "\n",
        "        for row in rows:\n",
        "            col = row.find_all('td')\n",
        "\n",
        "            if col != []:\n",
        "                date = col[0].text\n",
        "                revenue = col[1].text.replace(',','').replace('$','')\n",
        "\n",
        "                tesla_revenue = tesla_revenue.append({\"Date\":date, \"Revenue\":revenue}, ignore_index=True)"
      ]
    },
    {
      "cell_type": "markdown",
      "metadata": {
        "id": "S0gqlxmtHvQK"
      },
      "source": [
        "Removing the comma and dollar sign from the `Revenue` column.\n"
      ]
    },
    {
      "cell_type": "code",
      "execution_count": 8,
      "metadata": {
        "tags": [],
        "id": "SDGSYe1UHvQK"
      },
      "outputs": [],
      "source": [
        "tesla_revenue[\"Revenue\"] = tesla_revenue['Revenue'].str.replace(',|\\$',\"\")"
      ]
    },
    {
      "cell_type": "markdown",
      "metadata": {
        "id": "snbNq3KKHvQK"
      },
      "source": [
        "Removing null or empty strings in the Revenue column.\n"
      ]
    },
    {
      "cell_type": "code",
      "execution_count": 9,
      "metadata": {
        "tags": [],
        "id": "_qbsdyWcHvQK"
      },
      "outputs": [],
      "source": [
        "tesla_revenue.dropna(inplace=True)\n",
        "\n",
        "tesla_revenue = tesla_revenue[tesla_revenue['Revenue'] != \"\"]"
      ]
    },
    {
      "cell_type": "markdown",
      "metadata": {
        "id": "zKdO13eWHvQK"
      },
      "source": [
        "last 5 row of the `tesla_revenue` dataframe.\n"
      ]
    },
    {
      "cell_type": "code",
      "execution_count": 10,
      "metadata": {
        "tags": [],
        "colab": {
          "base_uri": "https://localhost:8080/",
          "height": 206
        },
        "id": "xSTq9y9YHvQL",
        "outputId": "b75a12e8-ca2a-4987-af3c-7ec1741b09d3"
      },
      "outputs": [
        {
          "output_type": "execute_result",
          "data": {
            "text/plain": [
              "          Date Revenue\n",
              "48  2010-09-30      31\n",
              "49  2010-06-30      28\n",
              "50  2010-03-31      21\n",
              "52  2009-09-30      46\n",
              "53  2009-06-30      27"
            ],
            "text/html": [
              "\n",
              "  <div id=\"df-35ff3dfa-fd11-413b-9e3d-05cceda9ecd7\" class=\"colab-df-container\">\n",
              "    <div>\n",
              "<style scoped>\n",
              "    .dataframe tbody tr th:only-of-type {\n",
              "        vertical-align: middle;\n",
              "    }\n",
              "\n",
              "    .dataframe tbody tr th {\n",
              "        vertical-align: top;\n",
              "    }\n",
              "\n",
              "    .dataframe thead th {\n",
              "        text-align: right;\n",
              "    }\n",
              "</style>\n",
              "<table border=\"1\" class=\"dataframe\">\n",
              "  <thead>\n",
              "    <tr style=\"text-align: right;\">\n",
              "      <th></th>\n",
              "      <th>Date</th>\n",
              "      <th>Revenue</th>\n",
              "    </tr>\n",
              "  </thead>\n",
              "  <tbody>\n",
              "    <tr>\n",
              "      <th>48</th>\n",
              "      <td>2010-09-30</td>\n",
              "      <td>31</td>\n",
              "    </tr>\n",
              "    <tr>\n",
              "      <th>49</th>\n",
              "      <td>2010-06-30</td>\n",
              "      <td>28</td>\n",
              "    </tr>\n",
              "    <tr>\n",
              "      <th>50</th>\n",
              "      <td>2010-03-31</td>\n",
              "      <td>21</td>\n",
              "    </tr>\n",
              "    <tr>\n",
              "      <th>52</th>\n",
              "      <td>2009-09-30</td>\n",
              "      <td>46</td>\n",
              "    </tr>\n",
              "    <tr>\n",
              "      <th>53</th>\n",
              "      <td>2009-06-30</td>\n",
              "      <td>27</td>\n",
              "    </tr>\n",
              "  </tbody>\n",
              "</table>\n",
              "</div>\n",
              "    <div class=\"colab-df-buttons\">\n",
              "\n",
              "  <div class=\"colab-df-container\">\n",
              "    <button class=\"colab-df-convert\" onclick=\"convertToInteractive('df-35ff3dfa-fd11-413b-9e3d-05cceda9ecd7')\"\n",
              "            title=\"Convert this dataframe to an interactive table.\"\n",
              "            style=\"display:none;\">\n",
              "\n",
              "  <svg xmlns=\"http://www.w3.org/2000/svg\" height=\"24px\" viewBox=\"0 -960 960 960\">\n",
              "    <path d=\"M120-120v-720h720v720H120Zm60-500h600v-160H180v160Zm220 220h160v-160H400v160Zm0 220h160v-160H400v160ZM180-400h160v-160H180v160Zm440 0h160v-160H620v160ZM180-180h160v-160H180v160Zm440 0h160v-160H620v160Z\"/>\n",
              "  </svg>\n",
              "    </button>\n",
              "\n",
              "  <style>\n",
              "    .colab-df-container {\n",
              "      display:flex;\n",
              "      gap: 12px;\n",
              "    }\n",
              "\n",
              "    .colab-df-convert {\n",
              "      background-color: #E8F0FE;\n",
              "      border: none;\n",
              "      border-radius: 50%;\n",
              "      cursor: pointer;\n",
              "      display: none;\n",
              "      fill: #1967D2;\n",
              "      height: 32px;\n",
              "      padding: 0 0 0 0;\n",
              "      width: 32px;\n",
              "    }\n",
              "\n",
              "    .colab-df-convert:hover {\n",
              "      background-color: #E2EBFA;\n",
              "      box-shadow: 0px 1px 2px rgba(60, 64, 67, 0.3), 0px 1px 3px 1px rgba(60, 64, 67, 0.15);\n",
              "      fill: #174EA6;\n",
              "    }\n",
              "\n",
              "    .colab-df-buttons div {\n",
              "      margin-bottom: 4px;\n",
              "    }\n",
              "\n",
              "    [theme=dark] .colab-df-convert {\n",
              "      background-color: #3B4455;\n",
              "      fill: #D2E3FC;\n",
              "    }\n",
              "\n",
              "    [theme=dark] .colab-df-convert:hover {\n",
              "      background-color: #434B5C;\n",
              "      box-shadow: 0px 1px 3px 1px rgba(0, 0, 0, 0.15);\n",
              "      filter: drop-shadow(0px 1px 2px rgba(0, 0, 0, 0.3));\n",
              "      fill: #FFFFFF;\n",
              "    }\n",
              "  </style>\n",
              "\n",
              "    <script>\n",
              "      const buttonEl =\n",
              "        document.querySelector('#df-35ff3dfa-fd11-413b-9e3d-05cceda9ecd7 button.colab-df-convert');\n",
              "      buttonEl.style.display =\n",
              "        google.colab.kernel.accessAllowed ? 'block' : 'none';\n",
              "\n",
              "      async function convertToInteractive(key) {\n",
              "        const element = document.querySelector('#df-35ff3dfa-fd11-413b-9e3d-05cceda9ecd7');\n",
              "        const dataTable =\n",
              "          await google.colab.kernel.invokeFunction('convertToInteractive',\n",
              "                                                    [key], {});\n",
              "        if (!dataTable) return;\n",
              "\n",
              "        const docLinkHtml = 'Like what you see? Visit the ' +\n",
              "          '<a target=\"_blank\" href=https://colab.research.google.com/notebooks/data_table.ipynb>data table notebook</a>'\n",
              "          + ' to learn more about interactive tables.';\n",
              "        element.innerHTML = '';\n",
              "        dataTable['output_type'] = 'display_data';\n",
              "        await google.colab.output.renderOutput(dataTable, element);\n",
              "        const docLink = document.createElement('div');\n",
              "        docLink.innerHTML = docLinkHtml;\n",
              "        element.appendChild(docLink);\n",
              "      }\n",
              "    </script>\n",
              "  </div>\n",
              "\n",
              "\n",
              "<div id=\"df-8a12cad4-984c-4bb1-944a-c5189c5b0d61\">\n",
              "  <button class=\"colab-df-quickchart\" onclick=\"quickchart('df-8a12cad4-984c-4bb1-944a-c5189c5b0d61')\"\n",
              "            title=\"Suggest charts\"\n",
              "            style=\"display:none;\">\n",
              "\n",
              "<svg xmlns=\"http://www.w3.org/2000/svg\" height=\"24px\"viewBox=\"0 0 24 24\"\n",
              "     width=\"24px\">\n",
              "    <g>\n",
              "        <path d=\"M19 3H5c-1.1 0-2 .9-2 2v14c0 1.1.9 2 2 2h14c1.1 0 2-.9 2-2V5c0-1.1-.9-2-2-2zM9 17H7v-7h2v7zm4 0h-2V7h2v10zm4 0h-2v-4h2v4z\"/>\n",
              "    </g>\n",
              "</svg>\n",
              "  </button>\n",
              "\n",
              "<style>\n",
              "  .colab-df-quickchart {\n",
              "      --bg-color: #E8F0FE;\n",
              "      --fill-color: #1967D2;\n",
              "      --hover-bg-color: #E2EBFA;\n",
              "      --hover-fill-color: #174EA6;\n",
              "      --disabled-fill-color: #AAA;\n",
              "      --disabled-bg-color: #DDD;\n",
              "  }\n",
              "\n",
              "  [theme=dark] .colab-df-quickchart {\n",
              "      --bg-color: #3B4455;\n",
              "      --fill-color: #D2E3FC;\n",
              "      --hover-bg-color: #434B5C;\n",
              "      --hover-fill-color: #FFFFFF;\n",
              "      --disabled-bg-color: #3B4455;\n",
              "      --disabled-fill-color: #666;\n",
              "  }\n",
              "\n",
              "  .colab-df-quickchart {\n",
              "    background-color: var(--bg-color);\n",
              "    border: none;\n",
              "    border-radius: 50%;\n",
              "    cursor: pointer;\n",
              "    display: none;\n",
              "    fill: var(--fill-color);\n",
              "    height: 32px;\n",
              "    padding: 0;\n",
              "    width: 32px;\n",
              "  }\n",
              "\n",
              "  .colab-df-quickchart:hover {\n",
              "    background-color: var(--hover-bg-color);\n",
              "    box-shadow: 0 1px 2px rgba(60, 64, 67, 0.3), 0 1px 3px 1px rgba(60, 64, 67, 0.15);\n",
              "    fill: var(--button-hover-fill-color);\n",
              "  }\n",
              "\n",
              "  .colab-df-quickchart-complete:disabled,\n",
              "  .colab-df-quickchart-complete:disabled:hover {\n",
              "    background-color: var(--disabled-bg-color);\n",
              "    fill: var(--disabled-fill-color);\n",
              "    box-shadow: none;\n",
              "  }\n",
              "\n",
              "  .colab-df-spinner {\n",
              "    border: 2px solid var(--fill-color);\n",
              "    border-color: transparent;\n",
              "    border-bottom-color: var(--fill-color);\n",
              "    animation:\n",
              "      spin 1s steps(1) infinite;\n",
              "  }\n",
              "\n",
              "  @keyframes spin {\n",
              "    0% {\n",
              "      border-color: transparent;\n",
              "      border-bottom-color: var(--fill-color);\n",
              "      border-left-color: var(--fill-color);\n",
              "    }\n",
              "    20% {\n",
              "      border-color: transparent;\n",
              "      border-left-color: var(--fill-color);\n",
              "      border-top-color: var(--fill-color);\n",
              "    }\n",
              "    30% {\n",
              "      border-color: transparent;\n",
              "      border-left-color: var(--fill-color);\n",
              "      border-top-color: var(--fill-color);\n",
              "      border-right-color: var(--fill-color);\n",
              "    }\n",
              "    40% {\n",
              "      border-color: transparent;\n",
              "      border-right-color: var(--fill-color);\n",
              "      border-top-color: var(--fill-color);\n",
              "    }\n",
              "    60% {\n",
              "      border-color: transparent;\n",
              "      border-right-color: var(--fill-color);\n",
              "    }\n",
              "    80% {\n",
              "      border-color: transparent;\n",
              "      border-right-color: var(--fill-color);\n",
              "      border-bottom-color: var(--fill-color);\n",
              "    }\n",
              "    90% {\n",
              "      border-color: transparent;\n",
              "      border-bottom-color: var(--fill-color);\n",
              "    }\n",
              "  }\n",
              "</style>\n",
              "\n",
              "  <script>\n",
              "    async function quickchart(key) {\n",
              "      const quickchartButtonEl =\n",
              "        document.querySelector('#' + key + ' button');\n",
              "      quickchartButtonEl.disabled = true;  // To prevent multiple clicks.\n",
              "      quickchartButtonEl.classList.add('colab-df-spinner');\n",
              "      try {\n",
              "        const charts = await google.colab.kernel.invokeFunction(\n",
              "            'suggestCharts', [key], {});\n",
              "      } catch (error) {\n",
              "        console.error('Error during call to suggestCharts:', error);\n",
              "      }\n",
              "      quickchartButtonEl.classList.remove('colab-df-spinner');\n",
              "      quickchartButtonEl.classList.add('colab-df-quickchart-complete');\n",
              "    }\n",
              "    (() => {\n",
              "      let quickchartButtonEl =\n",
              "        document.querySelector('#df-8a12cad4-984c-4bb1-944a-c5189c5b0d61 button');\n",
              "      quickchartButtonEl.style.display =\n",
              "        google.colab.kernel.accessAllowed ? 'block' : 'none';\n",
              "    })();\n",
              "  </script>\n",
              "</div>\n",
              "\n",
              "    </div>\n",
              "  </div>\n"
            ]
          },
          "metadata": {},
          "execution_count": 10
        }
      ],
      "source": [
        "tesla_revenue.tail()"
      ]
    },
    {
      "cell_type": "markdown",
      "metadata": {
        "id": "sbytUXwTHvQL"
      },
      "source": [
        "## Question 3: Use yfinance to Extract Stock Data\n"
      ]
    },
    {
      "cell_type": "markdown",
      "metadata": {
        "id": "GbREVilXHvQL"
      },
      "source": [
        "Using the `Ticker` function enter the ticker symbol of the stock we want to extract data on to create a ticker object. The stock is GameStop and its ticker symbol is `GME`.\n"
      ]
    },
    {
      "cell_type": "code",
      "execution_count": 11,
      "metadata": {
        "tags": [],
        "id": "8fbPdI8sHvQL"
      },
      "outputs": [],
      "source": [
        "gme = yf.Ticker('GME')"
      ]
    },
    {
      "cell_type": "markdown",
      "metadata": {
        "id": "P0OzP3vuHvQL"
      },
      "source": [
        "Using the ticker object and the function `history` to extract stock information and saving it in a dataframe named `gme_data`. Seting the `period` parameter to `max` so we get information for the maximum amount of time.\n"
      ]
    },
    {
      "cell_type": "code",
      "execution_count": 12,
      "metadata": {
        "tags": [],
        "id": "VBEO8WDVHvQL"
      },
      "outputs": [],
      "source": [
        "gme_data = gme.history(period='max')"
      ]
    },
    {
      "cell_type": "markdown",
      "metadata": {
        "id": "3bp3itmcHvQL"
      },
      "source": [
        "**Reseting the index** using the `reset_index(inplace=True)` function on the gme_data DataFrame and displaing the first five rows of the `gme_data` dataframe using the `head` function.\n"
      ]
    },
    {
      "cell_type": "code",
      "execution_count": 13,
      "metadata": {
        "tags": [],
        "colab": {
          "base_uri": "https://localhost:8080/",
          "height": 206
        },
        "id": "ahN9OYV6HvQL",
        "outputId": "673b3f6c-f8eb-4504-fd68-23beeb172467"
      },
      "outputs": [
        {
          "output_type": "execute_result",
          "data": {
            "text/plain": [
              "                       Date      Open      High       Low     Close    Volume  \\\n",
              "0 2002-02-13 00:00:00-05:00  1.620129  1.693350  1.603296  1.691667  76216000   \n",
              "1 2002-02-14 00:00:00-05:00  1.712707  1.716074  1.670626  1.683250  11021600   \n",
              "2 2002-02-15 00:00:00-05:00  1.683250  1.687458  1.658002  1.674834   8389600   \n",
              "3 2002-02-19 00:00:00-05:00  1.666419  1.666419  1.578048  1.607505   7410400   \n",
              "4 2002-02-20 00:00:00-05:00  1.615921  1.662210  1.603296  1.662210   6892800   \n",
              "\n",
              "   Dividends  Stock Splits  \n",
              "0        0.0           0.0  \n",
              "1        0.0           0.0  \n",
              "2        0.0           0.0  \n",
              "3        0.0           0.0  \n",
              "4        0.0           0.0  "
            ],
            "text/html": [
              "\n",
              "  <div id=\"df-bd621211-5e17-4e81-b61a-2ea19ceb858f\" class=\"colab-df-container\">\n",
              "    <div>\n",
              "<style scoped>\n",
              "    .dataframe tbody tr th:only-of-type {\n",
              "        vertical-align: middle;\n",
              "    }\n",
              "\n",
              "    .dataframe tbody tr th {\n",
              "        vertical-align: top;\n",
              "    }\n",
              "\n",
              "    .dataframe thead th {\n",
              "        text-align: right;\n",
              "    }\n",
              "</style>\n",
              "<table border=\"1\" class=\"dataframe\">\n",
              "  <thead>\n",
              "    <tr style=\"text-align: right;\">\n",
              "      <th></th>\n",
              "      <th>Date</th>\n",
              "      <th>Open</th>\n",
              "      <th>High</th>\n",
              "      <th>Low</th>\n",
              "      <th>Close</th>\n",
              "      <th>Volume</th>\n",
              "      <th>Dividends</th>\n",
              "      <th>Stock Splits</th>\n",
              "    </tr>\n",
              "  </thead>\n",
              "  <tbody>\n",
              "    <tr>\n",
              "      <th>0</th>\n",
              "      <td>2002-02-13 00:00:00-05:00</td>\n",
              "      <td>1.620129</td>\n",
              "      <td>1.693350</td>\n",
              "      <td>1.603296</td>\n",
              "      <td>1.691667</td>\n",
              "      <td>76216000</td>\n",
              "      <td>0.0</td>\n",
              "      <td>0.0</td>\n",
              "    </tr>\n",
              "    <tr>\n",
              "      <th>1</th>\n",
              "      <td>2002-02-14 00:00:00-05:00</td>\n",
              "      <td>1.712707</td>\n",
              "      <td>1.716074</td>\n",
              "      <td>1.670626</td>\n",
              "      <td>1.683250</td>\n",
              "      <td>11021600</td>\n",
              "      <td>0.0</td>\n",
              "      <td>0.0</td>\n",
              "    </tr>\n",
              "    <tr>\n",
              "      <th>2</th>\n",
              "      <td>2002-02-15 00:00:00-05:00</td>\n",
              "      <td>1.683250</td>\n",
              "      <td>1.687458</td>\n",
              "      <td>1.658002</td>\n",
              "      <td>1.674834</td>\n",
              "      <td>8389600</td>\n",
              "      <td>0.0</td>\n",
              "      <td>0.0</td>\n",
              "    </tr>\n",
              "    <tr>\n",
              "      <th>3</th>\n",
              "      <td>2002-02-19 00:00:00-05:00</td>\n",
              "      <td>1.666419</td>\n",
              "      <td>1.666419</td>\n",
              "      <td>1.578048</td>\n",
              "      <td>1.607505</td>\n",
              "      <td>7410400</td>\n",
              "      <td>0.0</td>\n",
              "      <td>0.0</td>\n",
              "    </tr>\n",
              "    <tr>\n",
              "      <th>4</th>\n",
              "      <td>2002-02-20 00:00:00-05:00</td>\n",
              "      <td>1.615921</td>\n",
              "      <td>1.662210</td>\n",
              "      <td>1.603296</td>\n",
              "      <td>1.662210</td>\n",
              "      <td>6892800</td>\n",
              "      <td>0.0</td>\n",
              "      <td>0.0</td>\n",
              "    </tr>\n",
              "  </tbody>\n",
              "</table>\n",
              "</div>\n",
              "    <div class=\"colab-df-buttons\">\n",
              "\n",
              "  <div class=\"colab-df-container\">\n",
              "    <button class=\"colab-df-convert\" onclick=\"convertToInteractive('df-bd621211-5e17-4e81-b61a-2ea19ceb858f')\"\n",
              "            title=\"Convert this dataframe to an interactive table.\"\n",
              "            style=\"display:none;\">\n",
              "\n",
              "  <svg xmlns=\"http://www.w3.org/2000/svg\" height=\"24px\" viewBox=\"0 -960 960 960\">\n",
              "    <path d=\"M120-120v-720h720v720H120Zm60-500h600v-160H180v160Zm220 220h160v-160H400v160Zm0 220h160v-160H400v160ZM180-400h160v-160H180v160Zm440 0h160v-160H620v160ZM180-180h160v-160H180v160Zm440 0h160v-160H620v160Z\"/>\n",
              "  </svg>\n",
              "    </button>\n",
              "\n",
              "  <style>\n",
              "    .colab-df-container {\n",
              "      display:flex;\n",
              "      gap: 12px;\n",
              "    }\n",
              "\n",
              "    .colab-df-convert {\n",
              "      background-color: #E8F0FE;\n",
              "      border: none;\n",
              "      border-radius: 50%;\n",
              "      cursor: pointer;\n",
              "      display: none;\n",
              "      fill: #1967D2;\n",
              "      height: 32px;\n",
              "      padding: 0 0 0 0;\n",
              "      width: 32px;\n",
              "    }\n",
              "\n",
              "    .colab-df-convert:hover {\n",
              "      background-color: #E2EBFA;\n",
              "      box-shadow: 0px 1px 2px rgba(60, 64, 67, 0.3), 0px 1px 3px 1px rgba(60, 64, 67, 0.15);\n",
              "      fill: #174EA6;\n",
              "    }\n",
              "\n",
              "    .colab-df-buttons div {\n",
              "      margin-bottom: 4px;\n",
              "    }\n",
              "\n",
              "    [theme=dark] .colab-df-convert {\n",
              "      background-color: #3B4455;\n",
              "      fill: #D2E3FC;\n",
              "    }\n",
              "\n",
              "    [theme=dark] .colab-df-convert:hover {\n",
              "      background-color: #434B5C;\n",
              "      box-shadow: 0px 1px 3px 1px rgba(0, 0, 0, 0.15);\n",
              "      filter: drop-shadow(0px 1px 2px rgba(0, 0, 0, 0.3));\n",
              "      fill: #FFFFFF;\n",
              "    }\n",
              "  </style>\n",
              "\n",
              "    <script>\n",
              "      const buttonEl =\n",
              "        document.querySelector('#df-bd621211-5e17-4e81-b61a-2ea19ceb858f button.colab-df-convert');\n",
              "      buttonEl.style.display =\n",
              "        google.colab.kernel.accessAllowed ? 'block' : 'none';\n",
              "\n",
              "      async function convertToInteractive(key) {\n",
              "        const element = document.querySelector('#df-bd621211-5e17-4e81-b61a-2ea19ceb858f');\n",
              "        const dataTable =\n",
              "          await google.colab.kernel.invokeFunction('convertToInteractive',\n",
              "                                                    [key], {});\n",
              "        if (!dataTable) return;\n",
              "\n",
              "        const docLinkHtml = 'Like what you see? Visit the ' +\n",
              "          '<a target=\"_blank\" href=https://colab.research.google.com/notebooks/data_table.ipynb>data table notebook</a>'\n",
              "          + ' to learn more about interactive tables.';\n",
              "        element.innerHTML = '';\n",
              "        dataTable['output_type'] = 'display_data';\n",
              "        await google.colab.output.renderOutput(dataTable, element);\n",
              "        const docLink = document.createElement('div');\n",
              "        docLink.innerHTML = docLinkHtml;\n",
              "        element.appendChild(docLink);\n",
              "      }\n",
              "    </script>\n",
              "  </div>\n",
              "\n",
              "\n",
              "<div id=\"df-b50469d0-f97a-4372-bb85-5547c4169887\">\n",
              "  <button class=\"colab-df-quickchart\" onclick=\"quickchart('df-b50469d0-f97a-4372-bb85-5547c4169887')\"\n",
              "            title=\"Suggest charts\"\n",
              "            style=\"display:none;\">\n",
              "\n",
              "<svg xmlns=\"http://www.w3.org/2000/svg\" height=\"24px\"viewBox=\"0 0 24 24\"\n",
              "     width=\"24px\">\n",
              "    <g>\n",
              "        <path d=\"M19 3H5c-1.1 0-2 .9-2 2v14c0 1.1.9 2 2 2h14c1.1 0 2-.9 2-2V5c0-1.1-.9-2-2-2zM9 17H7v-7h2v7zm4 0h-2V7h2v10zm4 0h-2v-4h2v4z\"/>\n",
              "    </g>\n",
              "</svg>\n",
              "  </button>\n",
              "\n",
              "<style>\n",
              "  .colab-df-quickchart {\n",
              "      --bg-color: #E8F0FE;\n",
              "      --fill-color: #1967D2;\n",
              "      --hover-bg-color: #E2EBFA;\n",
              "      --hover-fill-color: #174EA6;\n",
              "      --disabled-fill-color: #AAA;\n",
              "      --disabled-bg-color: #DDD;\n",
              "  }\n",
              "\n",
              "  [theme=dark] .colab-df-quickchart {\n",
              "      --bg-color: #3B4455;\n",
              "      --fill-color: #D2E3FC;\n",
              "      --hover-bg-color: #434B5C;\n",
              "      --hover-fill-color: #FFFFFF;\n",
              "      --disabled-bg-color: #3B4455;\n",
              "      --disabled-fill-color: #666;\n",
              "  }\n",
              "\n",
              "  .colab-df-quickchart {\n",
              "    background-color: var(--bg-color);\n",
              "    border: none;\n",
              "    border-radius: 50%;\n",
              "    cursor: pointer;\n",
              "    display: none;\n",
              "    fill: var(--fill-color);\n",
              "    height: 32px;\n",
              "    padding: 0;\n",
              "    width: 32px;\n",
              "  }\n",
              "\n",
              "  .colab-df-quickchart:hover {\n",
              "    background-color: var(--hover-bg-color);\n",
              "    box-shadow: 0 1px 2px rgba(60, 64, 67, 0.3), 0 1px 3px 1px rgba(60, 64, 67, 0.15);\n",
              "    fill: var(--button-hover-fill-color);\n",
              "  }\n",
              "\n",
              "  .colab-df-quickchart-complete:disabled,\n",
              "  .colab-df-quickchart-complete:disabled:hover {\n",
              "    background-color: var(--disabled-bg-color);\n",
              "    fill: var(--disabled-fill-color);\n",
              "    box-shadow: none;\n",
              "  }\n",
              "\n",
              "  .colab-df-spinner {\n",
              "    border: 2px solid var(--fill-color);\n",
              "    border-color: transparent;\n",
              "    border-bottom-color: var(--fill-color);\n",
              "    animation:\n",
              "      spin 1s steps(1) infinite;\n",
              "  }\n",
              "\n",
              "  @keyframes spin {\n",
              "    0% {\n",
              "      border-color: transparent;\n",
              "      border-bottom-color: var(--fill-color);\n",
              "      border-left-color: var(--fill-color);\n",
              "    }\n",
              "    20% {\n",
              "      border-color: transparent;\n",
              "      border-left-color: var(--fill-color);\n",
              "      border-top-color: var(--fill-color);\n",
              "    }\n",
              "    30% {\n",
              "      border-color: transparent;\n",
              "      border-left-color: var(--fill-color);\n",
              "      border-top-color: var(--fill-color);\n",
              "      border-right-color: var(--fill-color);\n",
              "    }\n",
              "    40% {\n",
              "      border-color: transparent;\n",
              "      border-right-color: var(--fill-color);\n",
              "      border-top-color: var(--fill-color);\n",
              "    }\n",
              "    60% {\n",
              "      border-color: transparent;\n",
              "      border-right-color: var(--fill-color);\n",
              "    }\n",
              "    80% {\n",
              "      border-color: transparent;\n",
              "      border-right-color: var(--fill-color);\n",
              "      border-bottom-color: var(--fill-color);\n",
              "    }\n",
              "    90% {\n",
              "      border-color: transparent;\n",
              "      border-bottom-color: var(--fill-color);\n",
              "    }\n",
              "  }\n",
              "</style>\n",
              "\n",
              "  <script>\n",
              "    async function quickchart(key) {\n",
              "      const quickchartButtonEl =\n",
              "        document.querySelector('#' + key + ' button');\n",
              "      quickchartButtonEl.disabled = true;  // To prevent multiple clicks.\n",
              "      quickchartButtonEl.classList.add('colab-df-spinner');\n",
              "      try {\n",
              "        const charts = await google.colab.kernel.invokeFunction(\n",
              "            'suggestCharts', [key], {});\n",
              "      } catch (error) {\n",
              "        console.error('Error during call to suggestCharts:', error);\n",
              "      }\n",
              "      quickchartButtonEl.classList.remove('colab-df-spinner');\n",
              "      quickchartButtonEl.classList.add('colab-df-quickchart-complete');\n",
              "    }\n",
              "    (() => {\n",
              "      let quickchartButtonEl =\n",
              "        document.querySelector('#df-b50469d0-f97a-4372-bb85-5547c4169887 button');\n",
              "      quickchartButtonEl.style.display =\n",
              "        google.colab.kernel.accessAllowed ? 'block' : 'none';\n",
              "    })();\n",
              "  </script>\n",
              "</div>\n",
              "\n",
              "    </div>\n",
              "  </div>\n"
            ]
          },
          "metadata": {},
          "execution_count": 13
        }
      ],
      "source": [
        "gme_data.reset_index(inplace=True)\n",
        "gme_data.head()"
      ]
    },
    {
      "cell_type": "markdown",
      "metadata": {
        "id": "CgAu-kkyHvQM"
      },
      "source": [
        "## Question 4: Use Webscraping to Extract GME Revenue Data\n"
      ]
    },
    {
      "cell_type": "markdown",
      "metadata": {
        "id": "Ln1_cC3iHvQM"
      },
      "source": [
        "Using the `requests` library to download the webpage https://cf-courses-data.s3.us.cloud-object-storage.appdomain.cloud/IBMDeveloperSkillsNetwork-PY0220EN-SkillsNetwork/labs/project/stock.html. Saving the text of the response in a variable named `html_data`.\n"
      ]
    },
    {
      "cell_type": "code",
      "execution_count": 14,
      "metadata": {
        "tags": [],
        "id": "xOE_bNyTHvQM"
      },
      "outputs": [],
      "source": [
        "url = 'https://cf-courses-data.s3.us.cloud-object-storage.appdomain.cloud/IBMDeveloperSkillsNetwork-PY0220EN-SkillsNetwork/labs/project/stock.html'\n",
        "html_data = requests.get(url).text"
      ]
    },
    {
      "cell_type": "markdown",
      "metadata": {
        "id": "q-y6ZrvrHvQM"
      },
      "source": [
        "Parsing the html data using `beautiful_soup`.\n"
      ]
    },
    {
      "cell_type": "code",
      "execution_count": 15,
      "metadata": {
        "tags": [],
        "id": "TeKORoJ_HvQM"
      },
      "outputs": [],
      "source": [
        "soup = BeautifulSoup(html_data, 'html.parser')"
      ]
    },
    {
      "cell_type": "markdown",
      "metadata": {
        "id": "ozMejGazHvQM"
      },
      "source": [
        "Using `BeautifulSoup` or the `read_html` function extract the table with `GameStop Revenue` and storing it into a dataframe named `gme_revenue`. The dataframe has columns `Date` and `Revenue`.\n"
      ]
    },
    {
      "cell_type": "markdown",
      "metadata": {
        "id": "jKAkYguHHvQM"
      },
      "source": [
        "<details><summary>Click here if you need help locating the table</summary>\n",
        "\n",
        "```\n",
        "    \n",
        "Below is the code to isolate the table, you will now need to loop through the rows and columns like in the previous lab\n",
        "    \n",
        "soup.find_all(\"tbody\")[1]\n",
        "    \n",
        "If you want to use the read_html function the table is located at index 1\n",
        "\n",
        "\n",
        "```\n",
        "\n",
        "</details>\n"
      ]
    },
    {
      "cell_type": "code",
      "execution_count": 16,
      "metadata": {
        "tags": [],
        "id": "U0Pnz8yDHvQM"
      },
      "outputs": [],
      "source": [
        "gme_revenue = pd.DataFrame(columns=['Date', 'Revenue'])\n",
        "\n",
        "for table in soup.find_all('table'):\n",
        "\n",
        "    if ('GameStop Quarterly Revenue' in table.find('th').text):\n",
        "        rows = table.find_all('tr')\n",
        "\n",
        "        for row in rows:\n",
        "            col = row.find_all('td')\n",
        "\n",
        "            if col != []:\n",
        "                date = col[0].text\n",
        "                revenue = col[1].text.replace(',','').replace('$','')\n",
        "\n",
        "                gme_revenue = gme_revenue.append({\"Date\":date, \"Revenue\":revenue}, ignore_index=True)\n"
      ]
    },
    {
      "cell_type": "markdown",
      "metadata": {
        "id": "nIfLk9mFHvQN"
      },
      "source": [
        "Displaing the last five rows of the `gme_revenue` dataframe using the `tail` function.\n"
      ]
    },
    {
      "cell_type": "code",
      "execution_count": 17,
      "metadata": {
        "tags": [],
        "colab": {
          "base_uri": "https://localhost:8080/",
          "height": 206
        },
        "id": "An7EsOBIHvQN",
        "outputId": "630260fb-0c46-4775-b58c-2b7d9ab3b632"
      },
      "outputs": [
        {
          "output_type": "execute_result",
          "data": {
            "text/plain": [
              "          Date Revenue\n",
              "57  2006-01-31    1667\n",
              "58  2005-10-31     534\n",
              "59  2005-07-31     416\n",
              "60  2005-04-30     475\n",
              "61  2005-01-31     709"
            ],
            "text/html": [
              "\n",
              "  <div id=\"df-3a693bc2-4675-4969-9926-271f979b18a3\" class=\"colab-df-container\">\n",
              "    <div>\n",
              "<style scoped>\n",
              "    .dataframe tbody tr th:only-of-type {\n",
              "        vertical-align: middle;\n",
              "    }\n",
              "\n",
              "    .dataframe tbody tr th {\n",
              "        vertical-align: top;\n",
              "    }\n",
              "\n",
              "    .dataframe thead th {\n",
              "        text-align: right;\n",
              "    }\n",
              "</style>\n",
              "<table border=\"1\" class=\"dataframe\">\n",
              "  <thead>\n",
              "    <tr style=\"text-align: right;\">\n",
              "      <th></th>\n",
              "      <th>Date</th>\n",
              "      <th>Revenue</th>\n",
              "    </tr>\n",
              "  </thead>\n",
              "  <tbody>\n",
              "    <tr>\n",
              "      <th>57</th>\n",
              "      <td>2006-01-31</td>\n",
              "      <td>1667</td>\n",
              "    </tr>\n",
              "    <tr>\n",
              "      <th>58</th>\n",
              "      <td>2005-10-31</td>\n",
              "      <td>534</td>\n",
              "    </tr>\n",
              "    <tr>\n",
              "      <th>59</th>\n",
              "      <td>2005-07-31</td>\n",
              "      <td>416</td>\n",
              "    </tr>\n",
              "    <tr>\n",
              "      <th>60</th>\n",
              "      <td>2005-04-30</td>\n",
              "      <td>475</td>\n",
              "    </tr>\n",
              "    <tr>\n",
              "      <th>61</th>\n",
              "      <td>2005-01-31</td>\n",
              "      <td>709</td>\n",
              "    </tr>\n",
              "  </tbody>\n",
              "</table>\n",
              "</div>\n",
              "    <div class=\"colab-df-buttons\">\n",
              "\n",
              "  <div class=\"colab-df-container\">\n",
              "    <button class=\"colab-df-convert\" onclick=\"convertToInteractive('df-3a693bc2-4675-4969-9926-271f979b18a3')\"\n",
              "            title=\"Convert this dataframe to an interactive table.\"\n",
              "            style=\"display:none;\">\n",
              "\n",
              "  <svg xmlns=\"http://www.w3.org/2000/svg\" height=\"24px\" viewBox=\"0 -960 960 960\">\n",
              "    <path d=\"M120-120v-720h720v720H120Zm60-500h600v-160H180v160Zm220 220h160v-160H400v160Zm0 220h160v-160H400v160ZM180-400h160v-160H180v160Zm440 0h160v-160H620v160ZM180-180h160v-160H180v160Zm440 0h160v-160H620v160Z\"/>\n",
              "  </svg>\n",
              "    </button>\n",
              "\n",
              "  <style>\n",
              "    .colab-df-container {\n",
              "      display:flex;\n",
              "      gap: 12px;\n",
              "    }\n",
              "\n",
              "    .colab-df-convert {\n",
              "      background-color: #E8F0FE;\n",
              "      border: none;\n",
              "      border-radius: 50%;\n",
              "      cursor: pointer;\n",
              "      display: none;\n",
              "      fill: #1967D2;\n",
              "      height: 32px;\n",
              "      padding: 0 0 0 0;\n",
              "      width: 32px;\n",
              "    }\n",
              "\n",
              "    .colab-df-convert:hover {\n",
              "      background-color: #E2EBFA;\n",
              "      box-shadow: 0px 1px 2px rgba(60, 64, 67, 0.3), 0px 1px 3px 1px rgba(60, 64, 67, 0.15);\n",
              "      fill: #174EA6;\n",
              "    }\n",
              "\n",
              "    .colab-df-buttons div {\n",
              "      margin-bottom: 4px;\n",
              "    }\n",
              "\n",
              "    [theme=dark] .colab-df-convert {\n",
              "      background-color: #3B4455;\n",
              "      fill: #D2E3FC;\n",
              "    }\n",
              "\n",
              "    [theme=dark] .colab-df-convert:hover {\n",
              "      background-color: #434B5C;\n",
              "      box-shadow: 0px 1px 3px 1px rgba(0, 0, 0, 0.15);\n",
              "      filter: drop-shadow(0px 1px 2px rgba(0, 0, 0, 0.3));\n",
              "      fill: #FFFFFF;\n",
              "    }\n",
              "  </style>\n",
              "\n",
              "    <script>\n",
              "      const buttonEl =\n",
              "        document.querySelector('#df-3a693bc2-4675-4969-9926-271f979b18a3 button.colab-df-convert');\n",
              "      buttonEl.style.display =\n",
              "        google.colab.kernel.accessAllowed ? 'block' : 'none';\n",
              "\n",
              "      async function convertToInteractive(key) {\n",
              "        const element = document.querySelector('#df-3a693bc2-4675-4969-9926-271f979b18a3');\n",
              "        const dataTable =\n",
              "          await google.colab.kernel.invokeFunction('convertToInteractive',\n",
              "                                                    [key], {});\n",
              "        if (!dataTable) return;\n",
              "\n",
              "        const docLinkHtml = 'Like what you see? Visit the ' +\n",
              "          '<a target=\"_blank\" href=https://colab.research.google.com/notebooks/data_table.ipynb>data table notebook</a>'\n",
              "          + ' to learn more about interactive tables.';\n",
              "        element.innerHTML = '';\n",
              "        dataTable['output_type'] = 'display_data';\n",
              "        await google.colab.output.renderOutput(dataTable, element);\n",
              "        const docLink = document.createElement('div');\n",
              "        docLink.innerHTML = docLinkHtml;\n",
              "        element.appendChild(docLink);\n",
              "      }\n",
              "    </script>\n",
              "  </div>\n",
              "\n",
              "\n",
              "<div id=\"df-4b88227e-d4bb-400e-bd09-4064f3612ddf\">\n",
              "  <button class=\"colab-df-quickchart\" onclick=\"quickchart('df-4b88227e-d4bb-400e-bd09-4064f3612ddf')\"\n",
              "            title=\"Suggest charts\"\n",
              "            style=\"display:none;\">\n",
              "\n",
              "<svg xmlns=\"http://www.w3.org/2000/svg\" height=\"24px\"viewBox=\"0 0 24 24\"\n",
              "     width=\"24px\">\n",
              "    <g>\n",
              "        <path d=\"M19 3H5c-1.1 0-2 .9-2 2v14c0 1.1.9 2 2 2h14c1.1 0 2-.9 2-2V5c0-1.1-.9-2-2-2zM9 17H7v-7h2v7zm4 0h-2V7h2v10zm4 0h-2v-4h2v4z\"/>\n",
              "    </g>\n",
              "</svg>\n",
              "  </button>\n",
              "\n",
              "<style>\n",
              "  .colab-df-quickchart {\n",
              "      --bg-color: #E8F0FE;\n",
              "      --fill-color: #1967D2;\n",
              "      --hover-bg-color: #E2EBFA;\n",
              "      --hover-fill-color: #174EA6;\n",
              "      --disabled-fill-color: #AAA;\n",
              "      --disabled-bg-color: #DDD;\n",
              "  }\n",
              "\n",
              "  [theme=dark] .colab-df-quickchart {\n",
              "      --bg-color: #3B4455;\n",
              "      --fill-color: #D2E3FC;\n",
              "      --hover-bg-color: #434B5C;\n",
              "      --hover-fill-color: #FFFFFF;\n",
              "      --disabled-bg-color: #3B4455;\n",
              "      --disabled-fill-color: #666;\n",
              "  }\n",
              "\n",
              "  .colab-df-quickchart {\n",
              "    background-color: var(--bg-color);\n",
              "    border: none;\n",
              "    border-radius: 50%;\n",
              "    cursor: pointer;\n",
              "    display: none;\n",
              "    fill: var(--fill-color);\n",
              "    height: 32px;\n",
              "    padding: 0;\n",
              "    width: 32px;\n",
              "  }\n",
              "\n",
              "  .colab-df-quickchart:hover {\n",
              "    background-color: var(--hover-bg-color);\n",
              "    box-shadow: 0 1px 2px rgba(60, 64, 67, 0.3), 0 1px 3px 1px rgba(60, 64, 67, 0.15);\n",
              "    fill: var(--button-hover-fill-color);\n",
              "  }\n",
              "\n",
              "  .colab-df-quickchart-complete:disabled,\n",
              "  .colab-df-quickchart-complete:disabled:hover {\n",
              "    background-color: var(--disabled-bg-color);\n",
              "    fill: var(--disabled-fill-color);\n",
              "    box-shadow: none;\n",
              "  }\n",
              "\n",
              "  .colab-df-spinner {\n",
              "    border: 2px solid var(--fill-color);\n",
              "    border-color: transparent;\n",
              "    border-bottom-color: var(--fill-color);\n",
              "    animation:\n",
              "      spin 1s steps(1) infinite;\n",
              "  }\n",
              "\n",
              "  @keyframes spin {\n",
              "    0% {\n",
              "      border-color: transparent;\n",
              "      border-bottom-color: var(--fill-color);\n",
              "      border-left-color: var(--fill-color);\n",
              "    }\n",
              "    20% {\n",
              "      border-color: transparent;\n",
              "      border-left-color: var(--fill-color);\n",
              "      border-top-color: var(--fill-color);\n",
              "    }\n",
              "    30% {\n",
              "      border-color: transparent;\n",
              "      border-left-color: var(--fill-color);\n",
              "      border-top-color: var(--fill-color);\n",
              "      border-right-color: var(--fill-color);\n",
              "    }\n",
              "    40% {\n",
              "      border-color: transparent;\n",
              "      border-right-color: var(--fill-color);\n",
              "      border-top-color: var(--fill-color);\n",
              "    }\n",
              "    60% {\n",
              "      border-color: transparent;\n",
              "      border-right-color: var(--fill-color);\n",
              "    }\n",
              "    80% {\n",
              "      border-color: transparent;\n",
              "      border-right-color: var(--fill-color);\n",
              "      border-bottom-color: var(--fill-color);\n",
              "    }\n",
              "    90% {\n",
              "      border-color: transparent;\n",
              "      border-bottom-color: var(--fill-color);\n",
              "    }\n",
              "  }\n",
              "</style>\n",
              "\n",
              "  <script>\n",
              "    async function quickchart(key) {\n",
              "      const quickchartButtonEl =\n",
              "        document.querySelector('#' + key + ' button');\n",
              "      quickchartButtonEl.disabled = true;  // To prevent multiple clicks.\n",
              "      quickchartButtonEl.classList.add('colab-df-spinner');\n",
              "      try {\n",
              "        const charts = await google.colab.kernel.invokeFunction(\n",
              "            'suggestCharts', [key], {});\n",
              "      } catch (error) {\n",
              "        console.error('Error during call to suggestCharts:', error);\n",
              "      }\n",
              "      quickchartButtonEl.classList.remove('colab-df-spinner');\n",
              "      quickchartButtonEl.classList.add('colab-df-quickchart-complete');\n",
              "    }\n",
              "    (() => {\n",
              "      let quickchartButtonEl =\n",
              "        document.querySelector('#df-4b88227e-d4bb-400e-bd09-4064f3612ddf button');\n",
              "      quickchartButtonEl.style.display =\n",
              "        google.colab.kernel.accessAllowed ? 'block' : 'none';\n",
              "    })();\n",
              "  </script>\n",
              "</div>\n",
              "\n",
              "    </div>\n",
              "  </div>\n"
            ]
          },
          "metadata": {},
          "execution_count": 17
        }
      ],
      "source": [
        "gme_revenue.tail()"
      ]
    },
    {
      "cell_type": "markdown",
      "metadata": {
        "id": "fZpeFXQWHvQN"
      },
      "source": [
        "## Question 5: Plot GameStop Stock Graph\n"
      ]
    },
    {
      "cell_type": "markdown",
      "metadata": {
        "id": "Rh_4gAE_HvQN"
      },
      "source": [
        "Using the `make_graph` function to graph the GameStop Stock Data.\n"
      ]
    },
    {
      "cell_type": "code",
      "execution_count": 19,
      "metadata": {
        "tags": [],
        "colab": {
          "base_uri": "https://localhost:8080/",
          "height": 917
        },
        "id": "yTUTSetLHvQN",
        "outputId": "57192bbf-fcb2-4ab2-832c-291bd1a26299"
      },
      "outputs": [
        {
          "output_type": "display_data",
          "data": {
            "text/html": [
              "<html>\n",
              "<head><meta charset=\"utf-8\" /></head>\n",
              "<body>\n",
              "    <div>            <script src=\"https://cdnjs.cloudflare.com/ajax/libs/mathjax/2.7.5/MathJax.js?config=TeX-AMS-MML_SVG\"></script><script type=\"text/javascript\">if (window.MathJax && window.MathJax.Hub && window.MathJax.Hub.Config) {window.MathJax.Hub.Config({SVG: {font: \"STIX-Web\"}});}</script>                <script type=\"text/javascript\">window.PlotlyConfig = {MathJaxConfig: 'local'};</script>\n",
              "        <script charset=\"utf-8\" src=\"https://cdn.plot.ly/plotly-2.24.1.min.js\"></script>                <div id=\"6fd7f7a6-7265-4f9f-9e6e-0de2e143d03d\" class=\"plotly-graph-div\" style=\"height:900px; width:100%;\"></div>            <script type=\"text/javascript\">                                    window.PLOTLYENV=window.PLOTLYENV || {};                                    if (document.getElementById(\"6fd7f7a6-7265-4f9f-9e6e-0de2e143d03d\")) {                    Plotly.newPlot(                        \"6fd7f7a6-7265-4f9f-9e6e-0de2e143d03d\",                        [{\"name\":\"Share Price\",\"x\":[\"2002-02-13T00:00:00-05:00\",\"2002-02-14T00:00:00-05:00\",\"2002-02-15T00:00:00-05:00\",\"2002-02-19T00:00:00-05:00\",\"2002-02-20T00:00:00-05:00\",\"2002-02-21T00:00:00-05:00\",\"2002-02-22T00:00:00-05:00\",\"2002-02-25T00:00:00-05:00\",\"2002-02-26T00:00:00-05:00\",\"2002-02-27T00:00:00-05:00\",\"2002-02-28T00:00:00-05:00\",\"2002-03-01T00:00:00-05:00\",\"2002-03-04T00:00:00-05:00\",\"2002-03-05T00:00:00-05:00\",\"2002-03-06T00:00:00-05:00\",\"2002-03-07T00:00:00-05:00\",\"2002-03-08T00:00:00-05:00\",\"2002-03-11T00:00:00-05:00\",\"2002-03-12T00:00:00-05:00\",\"2002-03-13T00:00:00-05:00\",\"2002-03-14T00:00:00-05:00\",\"2002-03-15T00:00:00-05:00\",\"2002-03-18T00:00:00-05:00\",\"2002-03-19T00:00:00-05:00\",\"2002-03-20T00:00:00-05:00\",\"2002-03-21T00:00:00-05:00\",\"2002-03-22T00:00:00-05:00\",\"2002-03-25T00:00:00-05:00\",\"2002-03-26T00:00:00-05:00\",\"2002-03-27T00:00:00-05:00\",\"2002-03-28T00:00:00-05:00\",\"2002-04-01T00:00:00-05:00\",\"2002-04-02T00:00:00-05:00\",\"2002-04-03T00:00:00-05:00\",\"2002-04-04T00:00:00-05:00\",\"2002-04-05T00:00:00-05:00\",\"2002-04-08T00:00:00-04:00\",\"2002-04-09T00:00:00-04:00\",\"2002-04-10T00:00:00-04:00\",\"2002-04-11T00:00:00-04:00\",\"2002-04-12T00:00:00-04:00\",\"2002-04-15T00:00:00-04:00\",\"2002-04-16T00:00:00-04:00\",\"2002-04-17T00:00:00-04:00\",\"2002-04-18T00:00:00-04:00\",\"2002-04-19T00:00:00-04:00\",\"2002-04-22T00:00:00-04:00\",\"2002-04-23T00:00:00-04:00\",\"2002-04-24T00:00:00-04:00\",\"2002-04-25T00:00:00-04:00\",\"2002-04-26T00:00:00-04:00\",\"2002-04-29T00:00:00-04:00\",\"2002-04-30T00:00:00-04:00\",\"2002-05-01T00:00:00-04:00\",\"2002-05-02T00:00:00-04:00\",\"2002-05-03T00:00:00-04:00\",\"2002-05-06T00:00:00-04:00\",\"2002-05-07T00:00:00-04:00\",\"2002-05-08T00:00:00-04:00\",\"2002-05-09T00:00:00-04:00\",\"2002-05-10T00:00:00-04:00\",\"2002-05-13T00:00:00-04:00\",\"2002-05-14T00:00:00-04:00\",\"2002-05-15T00:00:00-04:00\",\"2002-05-16T00:00:00-04:00\",\"2002-05-17T00:00:00-04:00\",\"2002-05-20T00:00:00-04:00\",\"2002-05-21T00:00:00-04:00\",\"2002-05-22T00:00:00-04:00\",\"2002-05-23T00:00:00-04:00\",\"2002-05-24T00:00:00-04:00\",\"2002-05-28T00:00:00-04:00\",\"2002-05-29T00:00:00-04:00\",\"2002-05-30T00:00:00-04:00\",\"2002-05-31T00:00:00-04:00\",\"2002-06-03T00:00:00-04:00\",\"2002-06-04T00:00:00-04:00\",\"2002-06-05T00:00:00-04:00\",\"2002-06-06T00:00:00-04:00\",\"2002-06-07T00:00:00-04:00\",\"2002-06-10T00:00:00-04:00\",\"2002-06-11T00:00:00-04:00\",\"2002-06-12T00:00:00-04:00\",\"2002-06-13T00:00:00-04:00\",\"2002-06-14T00:00:00-04:00\",\"2002-06-17T00:00:00-04:00\",\"2002-06-18T00:00:00-04:00\",\"2002-06-19T00:00:00-04:00\",\"2002-06-20T00:00:00-04:00\",\"2002-06-21T00:00:00-04:00\",\"2002-06-24T00:00:00-04:00\",\"2002-06-25T00:00:00-04:00\",\"2002-06-26T00:00:00-04:00\",\"2002-06-27T00:00:00-04:00\",\"2002-06-28T00:00:00-04:00\",\"2002-07-01T00:00:00-04:00\",\"2002-07-02T00:00:00-04:00\",\"2002-07-03T00:00:00-04:00\",\"2002-07-05T00:00:00-04:00\",\"2002-07-08T00:00:00-04:00\",\"2002-07-09T00:00:00-04:00\",\"2002-07-10T00:00:00-04:00\",\"2002-07-11T00:00:00-04:00\",\"2002-07-12T00:00:00-04:00\",\"2002-07-15T00:00:00-04:00\",\"2002-07-16T00:00:00-04:00\",\"2002-07-17T00:00:00-04:00\",\"2002-07-18T00:00:00-04:00\",\"2002-07-19T00:00:00-04:00\",\"2002-07-22T00:00:00-04:00\",\"2002-07-23T00:00:00-04:00\",\"2002-07-24T00:00:00-04:00\",\"2002-07-25T00:00:00-04:00\",\"2002-07-26T00:00:00-04:00\",\"2002-07-29T00:00:00-04:00\",\"2002-07-30T00:00:00-04:00\",\"2002-07-31T00:00:00-04:00\",\"2002-08-01T00:00:00-04:00\",\"2002-08-02T00:00:00-04:00\",\"2002-08-05T00:00:00-04:00\",\"2002-08-06T00:00:00-04:00\",\"2002-08-07T00:00:00-04:00\",\"2002-08-08T00:00:00-04:00\",\"2002-08-09T00:00:00-04:00\",\"2002-08-12T00:00:00-04:00\",\"2002-08-13T00:00:00-04:00\",\"2002-08-14T00:00:00-04:00\",\"2002-08-15T00:00:00-04:00\",\"2002-08-16T00:00:00-04:00\",\"2002-08-19T00:00:00-04:00\",\"2002-08-20T00:00:00-04:00\",\"2002-08-21T00:00:00-04:00\",\"2002-08-22T00:00:00-04:00\",\"2002-08-23T00:00:00-04:00\",\"2002-08-26T00:00:00-04:00\",\"2002-08-27T00:00:00-04:00\",\"2002-08-28T00:00:00-04:00\",\"2002-08-29T00:00:00-04:00\",\"2002-08-30T00:00:00-04:00\",\"2002-09-03T00:00:00-04:00\",\"2002-09-04T00:00:00-04:00\",\"2002-09-05T00:00:00-04:00\",\"2002-09-06T00:00:00-04:00\",\"2002-09-09T00:00:00-04:00\",\"2002-09-10T00:00:00-04:00\",\"2002-09-11T00:00:00-04:00\",\"2002-09-12T00:00:00-04:00\",\"2002-09-13T00:00:00-04:00\",\"2002-09-16T00:00:00-04:00\",\"2002-09-17T00:00:00-04:00\",\"2002-09-18T00:00:00-04:00\",\"2002-09-19T00:00:00-04:00\",\"2002-09-20T00:00:00-04:00\",\"2002-09-23T00:00:00-04:00\",\"2002-09-24T00:00:00-04:00\",\"2002-09-25T00:00:00-04:00\",\"2002-09-26T00:00:00-04:00\",\"2002-09-27T00:00:00-04:00\",\"2002-09-30T00:00:00-04:00\",\"2002-10-01T00:00:00-04:00\",\"2002-10-02T00:00:00-04:00\",\"2002-10-03T00:00:00-04:00\",\"2002-10-04T00:00:00-04:00\",\"2002-10-07T00:00:00-04:00\",\"2002-10-08T00:00:00-04:00\",\"2002-10-09T00:00:00-04:00\",\"2002-10-10T00:00:00-04:00\",\"2002-10-11T00:00:00-04:00\",\"2002-10-14T00:00:00-04:00\",\"2002-10-15T00:00:00-04:00\",\"2002-10-16T00:00:00-04:00\",\"2002-10-17T00:00:00-04:00\",\"2002-10-18T00:00:00-04:00\",\"2002-10-21T00:00:00-04:00\",\"2002-10-22T00:00:00-04:00\",\"2002-10-23T00:00:00-04:00\",\"2002-10-24T00:00:00-04:00\",\"2002-10-25T00:00:00-04:00\",\"2002-10-28T00:00:00-05:00\",\"2002-10-29T00:00:00-05:00\",\"2002-10-30T00:00:00-05:00\",\"2002-10-31T00:00:00-05:00\",\"2002-11-01T00:00:00-05:00\",\"2002-11-04T00:00:00-05:00\",\"2002-11-05T00:00:00-05:00\",\"2002-11-06T00:00:00-05:00\",\"2002-11-07T00:00:00-05:00\",\"2002-11-08T00:00:00-05:00\",\"2002-11-11T00:00:00-05:00\",\"2002-11-12T00:00:00-05:00\",\"2002-11-13T00:00:00-05:00\",\"2002-11-14T00:00:00-05:00\",\"2002-11-15T00:00:00-05:00\",\"2002-11-18T00:00:00-05:00\",\"2002-11-19T00:00:00-05:00\",\"2002-11-20T00:00:00-05:00\",\"2002-11-21T00:00:00-05:00\",\"2002-11-22T00:00:00-05:00\",\"2002-11-25T00:00:00-05:00\",\"2002-11-26T00:00:00-05:00\",\"2002-11-27T00:00:00-05:00\",\"2002-11-29T00:00:00-05:00\",\"2002-12-02T00:00:00-05:00\",\"2002-12-03T00:00:00-05:00\",\"2002-12-04T00:00:00-05:00\",\"2002-12-05T00:00:00-05:00\",\"2002-12-06T00:00:00-05:00\",\"2002-12-09T00:00:00-05:00\",\"2002-12-10T00:00:00-05:00\",\"2002-12-11T00:00:00-05:00\",\"2002-12-12T00:00:00-05:00\",\"2002-12-13T00:00:00-05:00\",\"2002-12-16T00:00:00-05:00\",\"2002-12-17T00:00:00-05:00\",\"2002-12-18T00:00:00-05:00\",\"2002-12-19T00:00:00-05:00\",\"2002-12-20T00:00:00-05:00\",\"2002-12-23T00:00:00-05:00\",\"2002-12-24T00:00:00-05:00\",\"2002-12-26T00:00:00-05:00\",\"2002-12-27T00:00:00-05:00\",\"2002-12-30T00:00:00-05:00\",\"2002-12-31T00:00:00-05:00\",\"2003-01-02T00:00:00-05:00\",\"2003-01-03T00:00:00-05:00\",\"2003-01-06T00:00:00-05:00\",\"2003-01-07T00:00:00-05:00\",\"2003-01-08T00:00:00-05:00\",\"2003-01-09T00:00:00-05:00\",\"2003-01-10T00:00:00-05:00\",\"2003-01-13T00:00:00-05:00\",\"2003-01-14T00:00:00-05:00\",\"2003-01-15T00:00:00-05:00\",\"2003-01-16T00:00:00-05:00\",\"2003-01-17T00:00:00-05:00\",\"2003-01-21T00:00:00-05:00\",\"2003-01-22T00:00:00-05:00\",\"2003-01-23T00:00:00-05:00\",\"2003-01-24T00:00:00-05:00\",\"2003-01-27T00:00:00-05:00\",\"2003-01-28T00:00:00-05:00\",\"2003-01-29T00:00:00-05:00\",\"2003-01-30T00:00:00-05:00\",\"2003-01-31T00:00:00-05:00\",\"2003-02-03T00:00:00-05:00\",\"2003-02-04T00:00:00-05:00\",\"2003-02-05T00:00:00-05:00\",\"2003-02-06T00:00:00-05:00\",\"2003-02-07T00:00:00-05:00\",\"2003-02-10T00:00:00-05:00\",\"2003-02-11T00:00:00-05:00\",\"2003-02-12T00:00:00-05:00\",\"2003-02-13T00:00:00-05:00\",\"2003-02-14T00:00:00-05:00\",\"2003-02-18T00:00:00-05:00\",\"2003-02-19T00:00:00-05:00\",\"2003-02-20T00:00:00-05:00\",\"2003-02-21T00:00:00-05:00\",\"2003-02-24T00:00:00-05:00\",\"2003-02-25T00:00:00-05:00\",\"2003-02-26T00:00:00-05:00\",\"2003-02-27T00:00:00-05:00\",\"2003-02-28T00:00:00-05:00\",\"2003-03-03T00:00:00-05:00\",\"2003-03-04T00:00:00-05:00\",\"2003-03-05T00:00:00-05:00\",\"2003-03-06T00:00:00-05:00\",\"2003-03-07T00:00:00-05:00\",\"2003-03-10T00:00:00-05:00\",\"2003-03-11T00:00:00-05:00\",\"2003-03-12T00:00:00-05:00\",\"2003-03-13T00:00:00-05:00\",\"2003-03-14T00:00:00-05:00\",\"2003-03-17T00:00:00-05:00\",\"2003-03-18T00:00:00-05:00\",\"2003-03-19T00:00:00-05:00\",\"2003-03-20T00:00:00-05:00\",\"2003-03-21T00:00:00-05:00\",\"2003-03-24T00:00:00-05:00\",\"2003-03-25T00:00:00-05:00\",\"2003-03-26T00:00:00-05:00\",\"2003-03-27T00:00:00-05:00\",\"2003-03-28T00:00:00-05:00\",\"2003-03-31T00:00:00-05:00\",\"2003-04-01T00:00:00-05:00\",\"2003-04-02T00:00:00-05:00\",\"2003-04-03T00:00:00-05:00\",\"2003-04-04T00:00:00-05:00\",\"2003-04-07T00:00:00-04:00\",\"2003-04-08T00:00:00-04:00\",\"2003-04-09T00:00:00-04:00\",\"2003-04-10T00:00:00-04:00\",\"2003-04-11T00:00:00-04:00\",\"2003-04-14T00:00:00-04:00\",\"2003-04-15T00:00:00-04:00\",\"2003-04-16T00:00:00-04:00\",\"2003-04-17T00:00:00-04:00\",\"2003-04-21T00:00:00-04:00\",\"2003-04-22T00:00:00-04:00\",\"2003-04-23T00:00:00-04:00\",\"2003-04-24T00:00:00-04:00\",\"2003-04-25T00:00:00-04:00\",\"2003-04-28T00:00:00-04:00\",\"2003-04-29T00:00:00-04:00\",\"2003-04-30T00:00:00-04:00\",\"2003-05-01T00:00:00-04:00\",\"2003-05-02T00:00:00-04:00\",\"2003-05-05T00:00:00-04:00\",\"2003-05-06T00:00:00-04:00\",\"2003-05-07T00:00:00-04:00\",\"2003-05-08T00:00:00-04:00\",\"2003-05-09T00:00:00-04:00\",\"2003-05-12T00:00:00-04:00\",\"2003-05-13T00:00:00-04:00\",\"2003-05-14T00:00:00-04:00\",\"2003-05-15T00:00:00-04:00\",\"2003-05-16T00:00:00-04:00\",\"2003-05-19T00:00:00-04:00\",\"2003-05-20T00:00:00-04:00\",\"2003-05-21T00:00:00-04:00\",\"2003-05-22T00:00:00-04:00\",\"2003-05-23T00:00:00-04:00\",\"2003-05-27T00:00:00-04:00\",\"2003-05-28T00:00:00-04:00\",\"2003-05-29T00:00:00-04:00\",\"2003-05-30T00:00:00-04:00\",\"2003-06-02T00:00:00-04:00\",\"2003-06-03T00:00:00-04:00\",\"2003-06-04T00:00:00-04:00\",\"2003-06-05T00:00:00-04:00\",\"2003-06-06T00:00:00-04:00\",\"2003-06-09T00:00:00-04:00\",\"2003-06-10T00:00:00-04:00\",\"2003-06-11T00:00:00-04:00\",\"2003-06-12T00:00:00-04:00\",\"2003-06-13T00:00:00-04:00\",\"2003-06-16T00:00:00-04:00\",\"2003-06-17T00:00:00-04:00\",\"2003-06-18T00:00:00-04:00\",\"2003-06-19T00:00:00-04:00\",\"2003-06-20T00:00:00-04:00\",\"2003-06-23T00:00:00-04:00\",\"2003-06-24T00:00:00-04:00\",\"2003-06-25T00:00:00-04:00\",\"2003-06-26T00:00:00-04:00\",\"2003-06-27T00:00:00-04:00\",\"2003-06-30T00:00:00-04:00\",\"2003-07-01T00:00:00-04:00\",\"2003-07-02T00:00:00-04:00\",\"2003-07-03T00:00:00-04:00\",\"2003-07-07T00:00:00-04:00\",\"2003-07-08T00:00:00-04:00\",\"2003-07-09T00:00:00-04:00\",\"2003-07-10T00:00:00-04:00\",\"2003-07-11T00:00:00-04:00\",\"2003-07-14T00:00:00-04:00\",\"2003-07-15T00:00:00-04:00\",\"2003-07-16T00:00:00-04:00\",\"2003-07-17T00:00:00-04:00\",\"2003-07-18T00:00:00-04:00\",\"2003-07-21T00:00:00-04:00\",\"2003-07-22T00:00:00-04:00\",\"2003-07-23T00:00:00-04:00\",\"2003-07-24T00:00:00-04:00\",\"2003-07-25T00:00:00-04:00\",\"2003-07-28T00:00:00-04:00\",\"2003-07-29T00:00:00-04:00\",\"2003-07-30T00:00:00-04:00\",\"2003-07-31T00:00:00-04:00\",\"2003-08-01T00:00:00-04:00\",\"2003-08-04T00:00:00-04:00\",\"2003-08-05T00:00:00-04:00\",\"2003-08-06T00:00:00-04:00\",\"2003-08-07T00:00:00-04:00\",\"2003-08-08T00:00:00-04:00\",\"2003-08-11T00:00:00-04:00\",\"2003-08-12T00:00:00-04:00\",\"2003-08-13T00:00:00-04:00\",\"2003-08-14T00:00:00-04:00\",\"2003-08-15T00:00:00-04:00\",\"2003-08-18T00:00:00-04:00\",\"2003-08-19T00:00:00-04:00\",\"2003-08-20T00:00:00-04:00\",\"2003-08-21T00:00:00-04:00\",\"2003-08-22T00:00:00-04:00\",\"2003-08-25T00:00:00-04:00\",\"2003-08-26T00:00:00-04:00\",\"2003-08-27T00:00:00-04:00\",\"2003-08-28T00:00:00-04:00\",\"2003-08-29T00:00:00-04:00\",\"2003-09-02T00:00:00-04:00\",\"2003-09-03T00:00:00-04:00\",\"2003-09-04T00:00:00-04:00\",\"2003-09-05T00:00:00-04:00\",\"2003-09-08T00:00:00-04:00\",\"2003-09-09T00:00:00-04:00\",\"2003-09-10T00:00:00-04:00\",\"2003-09-11T00:00:00-04:00\",\"2003-09-12T00:00:00-04:00\",\"2003-09-15T00:00:00-04:00\",\"2003-09-16T00:00:00-04:00\",\"2003-09-17T00:00:00-04:00\",\"2003-09-18T00:00:00-04:00\",\"2003-09-19T00:00:00-04:00\",\"2003-09-22T00:00:00-04:00\",\"2003-09-23T00:00:00-04:00\",\"2003-09-24T00:00:00-04:00\",\"2003-09-25T00:00:00-04:00\",\"2003-09-26T00:00:00-04:00\",\"2003-09-29T00:00:00-04:00\",\"2003-09-30T00:00:00-04:00\",\"2003-10-01T00:00:00-04:00\",\"2003-10-02T00:00:00-04:00\",\"2003-10-03T00:00:00-04:00\",\"2003-10-06T00:00:00-04:00\",\"2003-10-07T00:00:00-04:00\",\"2003-10-08T00:00:00-04:00\",\"2003-10-09T00:00:00-04:00\",\"2003-10-10T00:00:00-04:00\",\"2003-10-13T00:00:00-04:00\",\"2003-10-14T00:00:00-04:00\",\"2003-10-15T00:00:00-04:00\",\"2003-10-16T00:00:00-04:00\",\"2003-10-17T00:00:00-04:00\",\"2003-10-20T00:00:00-04:00\",\"2003-10-21T00:00:00-04:00\",\"2003-10-22T00:00:00-04:00\",\"2003-10-23T00:00:00-04:00\",\"2003-10-24T00:00:00-04:00\",\"2003-10-27T00:00:00-05:00\",\"2003-10-28T00:00:00-05:00\",\"2003-10-29T00:00:00-05:00\",\"2003-10-30T00:00:00-05:00\",\"2003-10-31T00:00:00-05:00\",\"2003-11-03T00:00:00-05:00\",\"2003-11-04T00:00:00-05:00\",\"2003-11-05T00:00:00-05:00\",\"2003-11-06T00:00:00-05:00\",\"2003-11-07T00:00:00-05:00\",\"2003-11-10T00:00:00-05:00\",\"2003-11-11T00:00:00-05:00\",\"2003-11-12T00:00:00-05:00\",\"2003-11-13T00:00:00-05:00\",\"2003-11-14T00:00:00-05:00\",\"2003-11-17T00:00:00-05:00\",\"2003-11-18T00:00:00-05:00\",\"2003-11-19T00:00:00-05:00\",\"2003-11-20T00:00:00-05:00\",\"2003-11-21T00:00:00-05:00\",\"2003-11-24T00:00:00-05:00\",\"2003-11-25T00:00:00-05:00\",\"2003-11-26T00:00:00-05:00\",\"2003-11-28T00:00:00-05:00\",\"2003-12-01T00:00:00-05:00\",\"2003-12-02T00:00:00-05:00\",\"2003-12-03T00:00:00-05:00\",\"2003-12-04T00:00:00-05:00\",\"2003-12-05T00:00:00-05:00\",\"2003-12-08T00:00:00-05:00\",\"2003-12-09T00:00:00-05:00\",\"2003-12-10T00:00:00-05:00\",\"2003-12-11T00:00:00-05:00\",\"2003-12-12T00:00:00-05:00\",\"2003-12-15T00:00:00-05:00\",\"2003-12-16T00:00:00-05:00\",\"2003-12-17T00:00:00-05:00\",\"2003-12-18T00:00:00-05:00\",\"2003-12-19T00:00:00-05:00\",\"2003-12-22T00:00:00-05:00\",\"2003-12-23T00:00:00-05:00\",\"2003-12-24T00:00:00-05:00\",\"2003-12-26T00:00:00-05:00\",\"2003-12-29T00:00:00-05:00\",\"2003-12-30T00:00:00-05:00\",\"2003-12-31T00:00:00-05:00\",\"2004-01-02T00:00:00-05:00\",\"2004-01-05T00:00:00-05:00\",\"2004-01-06T00:00:00-05:00\",\"2004-01-07T00:00:00-05:00\",\"2004-01-08T00:00:00-05:00\",\"2004-01-09T00:00:00-05:00\",\"2004-01-12T00:00:00-05:00\",\"2004-01-13T00:00:00-05:00\",\"2004-01-14T00:00:00-05:00\",\"2004-01-15T00:00:00-05:00\",\"2004-01-16T00:00:00-05:00\",\"2004-01-20T00:00:00-05:00\",\"2004-01-21T00:00:00-05:00\",\"2004-01-22T00:00:00-05:00\",\"2004-01-23T00:00:00-05:00\",\"2004-01-26T00:00:00-05:00\",\"2004-01-27T00:00:00-05:00\",\"2004-01-28T00:00:00-05:00\",\"2004-01-29T00:00:00-05:00\",\"2004-01-30T00:00:00-05:00\",\"2004-02-02T00:00:00-05:00\",\"2004-02-03T00:00:00-05:00\",\"2004-02-04T00:00:00-05:00\",\"2004-02-05T00:00:00-05:00\",\"2004-02-06T00:00:00-05:00\",\"2004-02-09T00:00:00-05:00\",\"2004-02-10T00:00:00-05:00\",\"2004-02-11T00:00:00-05:00\",\"2004-02-12T00:00:00-05:00\",\"2004-02-13T00:00:00-05:00\",\"2004-02-17T00:00:00-05:00\",\"2004-02-18T00:00:00-05:00\",\"2004-02-19T00:00:00-05:00\",\"2004-02-20T00:00:00-05:00\",\"2004-02-23T00:00:00-05:00\",\"2004-02-24T00:00:00-05:00\",\"2004-02-25T00:00:00-05:00\",\"2004-02-26T00:00:00-05:00\",\"2004-02-27T00:00:00-05:00\",\"2004-03-01T00:00:00-05:00\",\"2004-03-02T00:00:00-05:00\",\"2004-03-03T00:00:00-05:00\",\"2004-03-04T00:00:00-05:00\",\"2004-03-05T00:00:00-05:00\",\"2004-03-08T00:00:00-05:00\",\"2004-03-09T00:00:00-05:00\",\"2004-03-10T00:00:00-05:00\",\"2004-03-11T00:00:00-05:00\",\"2004-03-12T00:00:00-05:00\",\"2004-03-15T00:00:00-05:00\",\"2004-03-16T00:00:00-05:00\",\"2004-03-17T00:00:00-05:00\",\"2004-03-18T00:00:00-05:00\",\"2004-03-19T00:00:00-05:00\",\"2004-03-22T00:00:00-05:00\",\"2004-03-23T00:00:00-05:00\",\"2004-03-24T00:00:00-05:00\",\"2004-03-25T00:00:00-05:00\",\"2004-03-26T00:00:00-05:00\",\"2004-03-29T00:00:00-05:00\",\"2004-03-30T00:00:00-05:00\",\"2004-03-31T00:00:00-05:00\",\"2004-04-01T00:00:00-05:00\",\"2004-04-02T00:00:00-05:00\",\"2004-04-05T00:00:00-04:00\",\"2004-04-06T00:00:00-04:00\",\"2004-04-07T00:00:00-04:00\",\"2004-04-08T00:00:00-04:00\",\"2004-04-12T00:00:00-04:00\",\"2004-04-13T00:00:00-04:00\",\"2004-04-14T00:00:00-04:00\",\"2004-04-15T00:00:00-04:00\",\"2004-04-16T00:00:00-04:00\",\"2004-04-19T00:00:00-04:00\",\"2004-04-20T00:00:00-04:00\",\"2004-04-21T00:00:00-04:00\",\"2004-04-22T00:00:00-04:00\",\"2004-04-23T00:00:00-04:00\",\"2004-04-26T00:00:00-04:00\",\"2004-04-27T00:00:00-04:00\",\"2004-04-28T00:00:00-04:00\",\"2004-04-29T00:00:00-04:00\",\"2004-04-30T00:00:00-04:00\",\"2004-05-03T00:00:00-04:00\",\"2004-05-04T00:00:00-04:00\",\"2004-05-05T00:00:00-04:00\",\"2004-05-06T00:00:00-04:00\",\"2004-05-07T00:00:00-04:00\",\"2004-05-10T00:00:00-04:00\",\"2004-05-11T00:00:00-04:00\",\"2004-05-12T00:00:00-04:00\",\"2004-05-13T00:00:00-04:00\",\"2004-05-14T00:00:00-04:00\",\"2004-05-17T00:00:00-04:00\",\"2004-05-18T00:00:00-04:00\",\"2004-05-19T00:00:00-04:00\",\"2004-05-20T00:00:00-04:00\",\"2004-05-21T00:00:00-04:00\",\"2004-05-24T00:00:00-04:00\",\"2004-05-25T00:00:00-04:00\",\"2004-05-26T00:00:00-04:00\",\"2004-05-27T00:00:00-04:00\",\"2004-05-28T00:00:00-04:00\",\"2004-06-01T00:00:00-04:00\",\"2004-06-02T00:00:00-04:00\",\"2004-06-03T00:00:00-04:00\",\"2004-06-04T00:00:00-04:00\",\"2004-06-07T00:00:00-04:00\",\"2004-06-08T00:00:00-04:00\",\"2004-06-09T00:00:00-04:00\",\"2004-06-10T00:00:00-04:00\",\"2004-06-14T00:00:00-04:00\",\"2004-06-15T00:00:00-04:00\",\"2004-06-16T00:00:00-04:00\",\"2004-06-17T00:00:00-04:00\",\"2004-06-18T00:00:00-04:00\",\"2004-06-21T00:00:00-04:00\",\"2004-06-22T00:00:00-04:00\",\"2004-06-23T00:00:00-04:00\",\"2004-06-24T00:00:00-04:00\",\"2004-06-25T00:00:00-04:00\",\"2004-06-28T00:00:00-04:00\",\"2004-06-29T00:00:00-04:00\",\"2004-06-30T00:00:00-04:00\",\"2004-07-01T00:00:00-04:00\",\"2004-07-02T00:00:00-04:00\",\"2004-07-06T00:00:00-04:00\",\"2004-07-07T00:00:00-04:00\",\"2004-07-08T00:00:00-04:00\",\"2004-07-09T00:00:00-04:00\",\"2004-07-12T00:00:00-04:00\",\"2004-07-13T00:00:00-04:00\",\"2004-07-14T00:00:00-04:00\",\"2004-07-15T00:00:00-04:00\",\"2004-07-16T00:00:00-04:00\",\"2004-07-19T00:00:00-04:00\",\"2004-07-20T00:00:00-04:00\",\"2004-07-21T00:00:00-04:00\",\"2004-07-22T00:00:00-04:00\",\"2004-07-23T00:00:00-04:00\",\"2004-07-26T00:00:00-04:00\",\"2004-07-27T00:00:00-04:00\",\"2004-07-28T00:00:00-04:00\",\"2004-07-29T00:00:00-04:00\",\"2004-07-30T00:00:00-04:00\",\"2004-08-02T00:00:00-04:00\",\"2004-08-03T00:00:00-04:00\",\"2004-08-04T00:00:00-04:00\",\"2004-08-05T00:00:00-04:00\",\"2004-08-06T00:00:00-04:00\",\"2004-08-09T00:00:00-04:00\",\"2004-08-10T00:00:00-04:00\",\"2004-08-11T00:00:00-04:00\",\"2004-08-12T00:00:00-04:00\",\"2004-08-13T00:00:00-04:00\",\"2004-08-16T00:00:00-04:00\",\"2004-08-17T00:00:00-04:00\",\"2004-08-18T00:00:00-04:00\",\"2004-08-19T00:00:00-04:00\",\"2004-08-20T00:00:00-04:00\",\"2004-08-23T00:00:00-04:00\",\"2004-08-24T00:00:00-04:00\",\"2004-08-25T00:00:00-04:00\",\"2004-08-26T00:00:00-04:00\",\"2004-08-27T00:00:00-04:00\",\"2004-08-30T00:00:00-04:00\",\"2004-08-31T00:00:00-04:00\",\"2004-09-01T00:00:00-04:00\",\"2004-09-02T00:00:00-04:00\",\"2004-09-03T00:00:00-04:00\",\"2004-09-07T00:00:00-04:00\",\"2004-09-08T00:00:00-04:00\",\"2004-09-09T00:00:00-04:00\",\"2004-09-10T00:00:00-04:00\",\"2004-09-13T00:00:00-04:00\",\"2004-09-14T00:00:00-04:00\",\"2004-09-15T00:00:00-04:00\",\"2004-09-16T00:00:00-04:00\",\"2004-09-17T00:00:00-04:00\",\"2004-09-20T00:00:00-04:00\",\"2004-09-21T00:00:00-04:00\",\"2004-09-22T00:00:00-04:00\",\"2004-09-23T00:00:00-04:00\",\"2004-09-24T00:00:00-04:00\",\"2004-09-27T00:00:00-04:00\",\"2004-09-28T00:00:00-04:00\",\"2004-09-29T00:00:00-04:00\",\"2004-09-30T00:00:00-04:00\",\"2004-10-01T00:00:00-04:00\",\"2004-10-04T00:00:00-04:00\",\"2004-10-05T00:00:00-04:00\",\"2004-10-06T00:00:00-04:00\",\"2004-10-07T00:00:00-04:00\",\"2004-10-08T00:00:00-04:00\",\"2004-10-11T00:00:00-04:00\",\"2004-10-12T00:00:00-04:00\",\"2004-10-13T00:00:00-04:00\",\"2004-10-14T00:00:00-04:00\",\"2004-10-15T00:00:00-04:00\",\"2004-10-18T00:00:00-04:00\",\"2004-10-19T00:00:00-04:00\",\"2004-10-20T00:00:00-04:00\",\"2004-10-21T00:00:00-04:00\",\"2004-10-22T00:00:00-04:00\",\"2004-10-25T00:00:00-04:00\",\"2004-10-26T00:00:00-04:00\",\"2004-10-27T00:00:00-04:00\",\"2004-10-28T00:00:00-04:00\",\"2004-10-29T00:00:00-04:00\",\"2004-11-01T00:00:00-05:00\",\"2004-11-02T00:00:00-05:00\",\"2004-11-03T00:00:00-05:00\",\"2004-11-04T00:00:00-05:00\",\"2004-11-05T00:00:00-05:00\",\"2004-11-08T00:00:00-05:00\",\"2004-11-09T00:00:00-05:00\",\"2004-11-10T00:00:00-05:00\",\"2004-11-11T00:00:00-05:00\",\"2004-11-12T00:00:00-05:00\",\"2004-11-15T00:00:00-05:00\",\"2004-11-16T00:00:00-05:00\",\"2004-11-17T00:00:00-05:00\",\"2004-11-18T00:00:00-05:00\",\"2004-11-19T00:00:00-05:00\",\"2004-11-22T00:00:00-05:00\",\"2004-11-23T00:00:00-05:00\",\"2004-11-24T00:00:00-05:00\",\"2004-11-26T00:00:00-05:00\",\"2004-11-29T00:00:00-05:00\",\"2004-11-30T00:00:00-05:00\",\"2004-12-01T00:00:00-05:00\",\"2004-12-02T00:00:00-05:00\",\"2004-12-03T00:00:00-05:00\",\"2004-12-06T00:00:00-05:00\",\"2004-12-07T00:00:00-05:00\",\"2004-12-08T00:00:00-05:00\",\"2004-12-09T00:00:00-05:00\",\"2004-12-10T00:00:00-05:00\",\"2004-12-13T00:00:00-05:00\",\"2004-12-14T00:00:00-05:00\",\"2004-12-15T00:00:00-05:00\",\"2004-12-16T00:00:00-05:00\",\"2004-12-17T00:00:00-05:00\",\"2004-12-20T00:00:00-05:00\",\"2004-12-21T00:00:00-05:00\",\"2004-12-22T00:00:00-05:00\",\"2004-12-23T00:00:00-05:00\",\"2004-12-27T00:00:00-05:00\",\"2004-12-28T00:00:00-05:00\",\"2004-12-29T00:00:00-05:00\",\"2004-12-30T00:00:00-05:00\",\"2004-12-31T00:00:00-05:00\",\"2005-01-03T00:00:00-05:00\",\"2005-01-04T00:00:00-05:00\",\"2005-01-05T00:00:00-05:00\",\"2005-01-06T00:00:00-05:00\",\"2005-01-07T00:00:00-05:00\",\"2005-01-10T00:00:00-05:00\",\"2005-01-11T00:00:00-05:00\",\"2005-01-12T00:00:00-05:00\",\"2005-01-13T00:00:00-05:00\",\"2005-01-14T00:00:00-05:00\",\"2005-01-18T00:00:00-05:00\",\"2005-01-19T00:00:00-05:00\",\"2005-01-20T00:00:00-05:00\",\"2005-01-21T00:00:00-05:00\",\"2005-01-24T00:00:00-05:00\",\"2005-01-25T00:00:00-05:00\",\"2005-01-26T00:00:00-05:00\",\"2005-01-27T00:00:00-05:00\",\"2005-01-28T00:00:00-05:00\",\"2005-01-31T00:00:00-05:00\",\"2005-02-01T00:00:00-05:00\",\"2005-02-02T00:00:00-05:00\",\"2005-02-03T00:00:00-05:00\",\"2005-02-04T00:00:00-05:00\",\"2005-02-07T00:00:00-05:00\",\"2005-02-08T00:00:00-05:00\",\"2005-02-09T00:00:00-05:00\",\"2005-02-10T00:00:00-05:00\",\"2005-02-11T00:00:00-05:00\",\"2005-02-14T00:00:00-05:00\",\"2005-02-15T00:00:00-05:00\",\"2005-02-16T00:00:00-05:00\",\"2005-02-17T00:00:00-05:00\",\"2005-02-18T00:00:00-05:00\",\"2005-02-22T00:00:00-05:00\",\"2005-02-23T00:00:00-05:00\",\"2005-02-24T00:00:00-05:00\",\"2005-02-25T00:00:00-05:00\",\"2005-02-28T00:00:00-05:00\",\"2005-03-01T00:00:00-05:00\",\"2005-03-02T00:00:00-05:00\",\"2005-03-03T00:00:00-05:00\",\"2005-03-04T00:00:00-05:00\",\"2005-03-07T00:00:00-05:00\",\"2005-03-08T00:00:00-05:00\",\"2005-03-09T00:00:00-05:00\",\"2005-03-10T00:00:00-05:00\",\"2005-03-11T00:00:00-05:00\",\"2005-03-14T00:00:00-05:00\",\"2005-03-15T00:00:00-05:00\",\"2005-03-16T00:00:00-05:00\",\"2005-03-17T00:00:00-05:00\",\"2005-03-18T00:00:00-05:00\",\"2005-03-21T00:00:00-05:00\",\"2005-03-22T00:00:00-05:00\",\"2005-03-23T00:00:00-05:00\",\"2005-03-24T00:00:00-05:00\",\"2005-03-28T00:00:00-05:00\",\"2005-03-29T00:00:00-05:00\",\"2005-03-30T00:00:00-05:00\",\"2005-03-31T00:00:00-05:00\",\"2005-04-01T00:00:00-05:00\",\"2005-04-04T00:00:00-04:00\",\"2005-04-05T00:00:00-04:00\",\"2005-04-06T00:00:00-04:00\",\"2005-04-07T00:00:00-04:00\",\"2005-04-08T00:00:00-04:00\",\"2005-04-11T00:00:00-04:00\",\"2005-04-12T00:00:00-04:00\",\"2005-04-13T00:00:00-04:00\",\"2005-04-14T00:00:00-04:00\",\"2005-04-15T00:00:00-04:00\",\"2005-04-18T00:00:00-04:00\",\"2005-04-19T00:00:00-04:00\",\"2005-04-20T00:00:00-04:00\",\"2005-04-21T00:00:00-04:00\",\"2005-04-22T00:00:00-04:00\",\"2005-04-25T00:00:00-04:00\",\"2005-04-26T00:00:00-04:00\",\"2005-04-27T00:00:00-04:00\",\"2005-04-28T00:00:00-04:00\",\"2005-04-29T00:00:00-04:00\",\"2005-05-02T00:00:00-04:00\",\"2005-05-03T00:00:00-04:00\",\"2005-05-04T00:00:00-04:00\",\"2005-05-05T00:00:00-04:00\",\"2005-05-06T00:00:00-04:00\",\"2005-05-09T00:00:00-04:00\",\"2005-05-10T00:00:00-04:00\",\"2005-05-11T00:00:00-04:00\",\"2005-05-12T00:00:00-04:00\",\"2005-05-13T00:00:00-04:00\",\"2005-05-16T00:00:00-04:00\",\"2005-05-17T00:00:00-04:00\",\"2005-05-18T00:00:00-04:00\",\"2005-05-19T00:00:00-04:00\",\"2005-05-20T00:00:00-04:00\",\"2005-05-23T00:00:00-04:00\",\"2005-05-24T00:00:00-04:00\",\"2005-05-25T00:00:00-04:00\",\"2005-05-26T00:00:00-04:00\",\"2005-05-27T00:00:00-04:00\",\"2005-05-31T00:00:00-04:00\",\"2005-06-01T00:00:00-04:00\",\"2005-06-02T00:00:00-04:00\",\"2005-06-03T00:00:00-04:00\",\"2005-06-06T00:00:00-04:00\",\"2005-06-07T00:00:00-04:00\",\"2005-06-08T00:00:00-04:00\",\"2005-06-09T00:00:00-04:00\",\"2005-06-10T00:00:00-04:00\",\"2005-06-13T00:00:00-04:00\",\"2005-06-14T00:00:00-04:00\",\"2005-06-15T00:00:00-04:00\",\"2005-06-16T00:00:00-04:00\",\"2005-06-17T00:00:00-04:00\",\"2005-06-20T00:00:00-04:00\",\"2005-06-21T00:00:00-04:00\",\"2005-06-22T00:00:00-04:00\",\"2005-06-23T00:00:00-04:00\",\"2005-06-24T00:00:00-04:00\",\"2005-06-27T00:00:00-04:00\",\"2005-06-28T00:00:00-04:00\",\"2005-06-29T00:00:00-04:00\",\"2005-06-30T00:00:00-04:00\",\"2005-07-01T00:00:00-04:00\",\"2005-07-05T00:00:00-04:00\",\"2005-07-06T00:00:00-04:00\",\"2005-07-07T00:00:00-04:00\",\"2005-07-08T00:00:00-04:00\",\"2005-07-11T00:00:00-04:00\",\"2005-07-12T00:00:00-04:00\",\"2005-07-13T00:00:00-04:00\",\"2005-07-14T00:00:00-04:00\",\"2005-07-15T00:00:00-04:00\",\"2005-07-18T00:00:00-04:00\",\"2005-07-19T00:00:00-04:00\",\"2005-07-20T00:00:00-04:00\",\"2005-07-21T00:00:00-04:00\",\"2005-07-22T00:00:00-04:00\",\"2005-07-25T00:00:00-04:00\",\"2005-07-26T00:00:00-04:00\",\"2005-07-27T00:00:00-04:00\",\"2005-07-28T00:00:00-04:00\",\"2005-07-29T00:00:00-04:00\",\"2005-08-01T00:00:00-04:00\",\"2005-08-02T00:00:00-04:00\",\"2005-08-03T00:00:00-04:00\",\"2005-08-04T00:00:00-04:00\",\"2005-08-05T00:00:00-04:00\",\"2005-08-08T00:00:00-04:00\",\"2005-08-09T00:00:00-04:00\",\"2005-08-10T00:00:00-04:00\",\"2005-08-11T00:00:00-04:00\",\"2005-08-12T00:00:00-04:00\",\"2005-08-15T00:00:00-04:00\",\"2005-08-16T00:00:00-04:00\",\"2005-08-17T00:00:00-04:00\",\"2005-08-18T00:00:00-04:00\",\"2005-08-19T00:00:00-04:00\",\"2005-08-22T00:00:00-04:00\",\"2005-08-23T00:00:00-04:00\",\"2005-08-24T00:00:00-04:00\",\"2005-08-25T00:00:00-04:00\",\"2005-08-26T00:00:00-04:00\",\"2005-08-29T00:00:00-04:00\",\"2005-08-30T00:00:00-04:00\",\"2005-08-31T00:00:00-04:00\",\"2005-09-01T00:00:00-04:00\",\"2005-09-02T00:00:00-04:00\",\"2005-09-06T00:00:00-04:00\",\"2005-09-07T00:00:00-04:00\",\"2005-09-08T00:00:00-04:00\",\"2005-09-09T00:00:00-04:00\",\"2005-09-12T00:00:00-04:00\",\"2005-09-13T00:00:00-04:00\",\"2005-09-14T00:00:00-04:00\",\"2005-09-15T00:00:00-04:00\",\"2005-09-16T00:00:00-04:00\",\"2005-09-19T00:00:00-04:00\",\"2005-09-20T00:00:00-04:00\",\"2005-09-21T00:00:00-04:00\",\"2005-09-22T00:00:00-04:00\",\"2005-09-23T00:00:00-04:00\",\"2005-09-26T00:00:00-04:00\",\"2005-09-27T00:00:00-04:00\",\"2005-09-28T00:00:00-04:00\",\"2005-09-29T00:00:00-04:00\",\"2005-09-30T00:00:00-04:00\",\"2005-10-03T00:00:00-04:00\",\"2005-10-04T00:00:00-04:00\",\"2005-10-05T00:00:00-04:00\",\"2005-10-06T00:00:00-04:00\",\"2005-10-07T00:00:00-04:00\",\"2005-10-10T00:00:00-04:00\",\"2005-10-11T00:00:00-04:00\",\"2005-10-12T00:00:00-04:00\",\"2005-10-13T00:00:00-04:00\",\"2005-10-14T00:00:00-04:00\",\"2005-10-17T00:00:00-04:00\",\"2005-10-18T00:00:00-04:00\",\"2005-10-19T00:00:00-04:00\",\"2005-10-20T00:00:00-04:00\",\"2005-10-21T00:00:00-04:00\",\"2005-10-24T00:00:00-04:00\",\"2005-10-25T00:00:00-04:00\",\"2005-10-26T00:00:00-04:00\",\"2005-10-27T00:00:00-04:00\",\"2005-10-28T00:00:00-04:00\",\"2005-10-31T00:00:00-05:00\",\"2005-11-01T00:00:00-05:00\",\"2005-11-02T00:00:00-05:00\",\"2005-11-03T00:00:00-05:00\",\"2005-11-04T00:00:00-05:00\",\"2005-11-07T00:00:00-05:00\",\"2005-11-08T00:00:00-05:00\",\"2005-11-09T00:00:00-05:00\",\"2005-11-10T00:00:00-05:00\",\"2005-11-11T00:00:00-05:00\",\"2005-11-14T00:00:00-05:00\",\"2005-11-15T00:00:00-05:00\",\"2005-11-16T00:00:00-05:00\",\"2005-11-17T00:00:00-05:00\",\"2005-11-18T00:00:00-05:00\",\"2005-11-21T00:00:00-05:00\",\"2005-11-22T00:00:00-05:00\",\"2005-11-23T00:00:00-05:00\",\"2005-11-25T00:00:00-05:00\",\"2005-11-28T00:00:00-05:00\",\"2005-11-29T00:00:00-05:00\",\"2005-11-30T00:00:00-05:00\",\"2005-12-01T00:00:00-05:00\",\"2005-12-02T00:00:00-05:00\",\"2005-12-05T00:00:00-05:00\",\"2005-12-06T00:00:00-05:00\",\"2005-12-07T00:00:00-05:00\",\"2005-12-08T00:00:00-05:00\",\"2005-12-09T00:00:00-05:00\",\"2005-12-12T00:00:00-05:00\",\"2005-12-13T00:00:00-05:00\",\"2005-12-14T00:00:00-05:00\",\"2005-12-15T00:00:00-05:00\",\"2005-12-16T00:00:00-05:00\",\"2005-12-19T00:00:00-05:00\",\"2005-12-20T00:00:00-05:00\",\"2005-12-21T00:00:00-05:00\",\"2005-12-22T00:00:00-05:00\",\"2005-12-23T00:00:00-05:00\",\"2005-12-27T00:00:00-05:00\",\"2005-12-28T00:00:00-05:00\",\"2005-12-29T00:00:00-05:00\",\"2005-12-30T00:00:00-05:00\",\"2006-01-03T00:00:00-05:00\",\"2006-01-04T00:00:00-05:00\",\"2006-01-05T00:00:00-05:00\",\"2006-01-06T00:00:00-05:00\",\"2006-01-09T00:00:00-05:00\",\"2006-01-10T00:00:00-05:00\",\"2006-01-11T00:00:00-05:00\",\"2006-01-12T00:00:00-05:00\",\"2006-01-13T00:00:00-05:00\",\"2006-01-17T00:00:00-05:00\",\"2006-01-18T00:00:00-05:00\",\"2006-01-19T00:00:00-05:00\",\"2006-01-20T00:00:00-05:00\",\"2006-01-23T00:00:00-05:00\",\"2006-01-24T00:00:00-05:00\",\"2006-01-25T00:00:00-05:00\",\"2006-01-26T00:00:00-05:00\",\"2006-01-27T00:00:00-05:00\",\"2006-01-30T00:00:00-05:00\",\"2006-01-31T00:00:00-05:00\",\"2006-02-01T00:00:00-05:00\",\"2006-02-02T00:00:00-05:00\",\"2006-02-03T00:00:00-05:00\",\"2006-02-06T00:00:00-05:00\",\"2006-02-07T00:00:00-05:00\",\"2006-02-08T00:00:00-05:00\",\"2006-02-09T00:00:00-05:00\",\"2006-02-10T00:00:00-05:00\",\"2006-02-13T00:00:00-05:00\",\"2006-02-14T00:00:00-05:00\",\"2006-02-15T00:00:00-05:00\",\"2006-02-16T00:00:00-05:00\",\"2006-02-17T00:00:00-05:00\",\"2006-02-21T00:00:00-05:00\",\"2006-02-22T00:00:00-05:00\",\"2006-02-23T00:00:00-05:00\",\"2006-02-24T00:00:00-05:00\",\"2006-02-27T00:00:00-05:00\",\"2006-02-28T00:00:00-05:00\",\"2006-03-01T00:00:00-05:00\",\"2006-03-02T00:00:00-05:00\",\"2006-03-03T00:00:00-05:00\",\"2006-03-06T00:00:00-05:00\",\"2006-03-07T00:00:00-05:00\",\"2006-03-08T00:00:00-05:00\",\"2006-03-09T00:00:00-05:00\",\"2006-03-10T00:00:00-05:00\",\"2006-03-13T00:00:00-05:00\",\"2006-03-14T00:00:00-05:00\",\"2006-03-15T00:00:00-05:00\",\"2006-03-16T00:00:00-05:00\",\"2006-03-17T00:00:00-05:00\",\"2006-03-20T00:00:00-05:00\",\"2006-03-21T00:00:00-05:00\",\"2006-03-22T00:00:00-05:00\",\"2006-03-23T00:00:00-05:00\",\"2006-03-24T00:00:00-05:00\",\"2006-03-27T00:00:00-05:00\",\"2006-03-28T00:00:00-05:00\",\"2006-03-29T00:00:00-05:00\",\"2006-03-30T00:00:00-05:00\",\"2006-03-31T00:00:00-05:00\",\"2006-04-03T00:00:00-04:00\",\"2006-04-04T00:00:00-04:00\",\"2006-04-05T00:00:00-04:00\",\"2006-04-06T00:00:00-04:00\",\"2006-04-07T00:00:00-04:00\",\"2006-04-10T00:00:00-04:00\",\"2006-04-11T00:00:00-04:00\",\"2006-04-12T00:00:00-04:00\",\"2006-04-13T00:00:00-04:00\",\"2006-04-17T00:00:00-04:00\",\"2006-04-18T00:00:00-04:00\",\"2006-04-19T00:00:00-04:00\",\"2006-04-20T00:00:00-04:00\",\"2006-04-21T00:00:00-04:00\",\"2006-04-24T00:00:00-04:00\",\"2006-04-25T00:00:00-04:00\",\"2006-04-26T00:00:00-04:00\",\"2006-04-27T00:00:00-04:00\",\"2006-04-28T00:00:00-04:00\",\"2006-05-01T00:00:00-04:00\",\"2006-05-02T00:00:00-04:00\",\"2006-05-03T00:00:00-04:00\",\"2006-05-04T00:00:00-04:00\",\"2006-05-05T00:00:00-04:00\",\"2006-05-08T00:00:00-04:00\",\"2006-05-09T00:00:00-04:00\",\"2006-05-10T00:00:00-04:00\",\"2006-05-11T00:00:00-04:00\",\"2006-05-12T00:00:00-04:00\",\"2006-05-15T00:00:00-04:00\",\"2006-05-16T00:00:00-04:00\",\"2006-05-17T00:00:00-04:00\",\"2006-05-18T00:00:00-04:00\",\"2006-05-19T00:00:00-04:00\",\"2006-05-22T00:00:00-04:00\",\"2006-05-23T00:00:00-04:00\",\"2006-05-24T00:00:00-04:00\",\"2006-05-25T00:00:00-04:00\",\"2006-05-26T00:00:00-04:00\",\"2006-05-30T00:00:00-04:00\",\"2006-05-31T00:00:00-04:00\",\"2006-06-01T00:00:00-04:00\",\"2006-06-02T00:00:00-04:00\",\"2006-06-05T00:00:00-04:00\",\"2006-06-06T00:00:00-04:00\",\"2006-06-07T00:00:00-04:00\",\"2006-06-08T00:00:00-04:00\",\"2006-06-09T00:00:00-04:00\",\"2006-06-12T00:00:00-04:00\",\"2006-06-13T00:00:00-04:00\",\"2006-06-14T00:00:00-04:00\",\"2006-06-15T00:00:00-04:00\",\"2006-06-16T00:00:00-04:00\",\"2006-06-19T00:00:00-04:00\",\"2006-06-20T00:00:00-04:00\",\"2006-06-21T00:00:00-04:00\",\"2006-06-22T00:00:00-04:00\",\"2006-06-23T00:00:00-04:00\",\"2006-06-26T00:00:00-04:00\",\"2006-06-27T00:00:00-04:00\",\"2006-06-28T00:00:00-04:00\",\"2006-06-29T00:00:00-04:00\",\"2006-06-30T00:00:00-04:00\",\"2006-07-03T00:00:00-04:00\",\"2006-07-05T00:00:00-04:00\",\"2006-07-06T00:00:00-04:00\",\"2006-07-07T00:00:00-04:00\",\"2006-07-10T00:00:00-04:00\",\"2006-07-11T00:00:00-04:00\",\"2006-07-12T00:00:00-04:00\",\"2006-07-13T00:00:00-04:00\",\"2006-07-14T00:00:00-04:00\",\"2006-07-17T00:00:00-04:00\",\"2006-07-18T00:00:00-04:00\",\"2006-07-19T00:00:00-04:00\",\"2006-07-20T00:00:00-04:00\",\"2006-07-21T00:00:00-04:00\",\"2006-07-24T00:00:00-04:00\",\"2006-07-25T00:00:00-04:00\",\"2006-07-26T00:00:00-04:00\",\"2006-07-27T00:00:00-04:00\",\"2006-07-28T00:00:00-04:00\",\"2006-07-31T00:00:00-04:00\",\"2006-08-01T00:00:00-04:00\",\"2006-08-02T00:00:00-04:00\",\"2006-08-03T00:00:00-04:00\",\"2006-08-04T00:00:00-04:00\",\"2006-08-07T00:00:00-04:00\",\"2006-08-08T00:00:00-04:00\",\"2006-08-09T00:00:00-04:00\",\"2006-08-10T00:00:00-04:00\",\"2006-08-11T00:00:00-04:00\",\"2006-08-14T00:00:00-04:00\",\"2006-08-15T00:00:00-04:00\",\"2006-08-16T00:00:00-04:00\",\"2006-08-17T00:00:00-04:00\",\"2006-08-18T00:00:00-04:00\",\"2006-08-21T00:00:00-04:00\",\"2006-08-22T00:00:00-04:00\",\"2006-08-23T00:00:00-04:00\",\"2006-08-24T00:00:00-04:00\",\"2006-08-25T00:00:00-04:00\",\"2006-08-28T00:00:00-04:00\",\"2006-08-29T00:00:00-04:00\",\"2006-08-30T00:00:00-04:00\",\"2006-08-31T00:00:00-04:00\",\"2006-09-01T00:00:00-04:00\",\"2006-09-05T00:00:00-04:00\",\"2006-09-06T00:00:00-04:00\",\"2006-09-07T00:00:00-04:00\",\"2006-09-08T00:00:00-04:00\",\"2006-09-11T00:00:00-04:00\",\"2006-09-12T00:00:00-04:00\",\"2006-09-13T00:00:00-04:00\",\"2006-09-14T00:00:00-04:00\",\"2006-09-15T00:00:00-04:00\",\"2006-09-18T00:00:00-04:00\",\"2006-09-19T00:00:00-04:00\",\"2006-09-20T00:00:00-04:00\",\"2006-09-21T00:00:00-04:00\",\"2006-09-22T00:00:00-04:00\",\"2006-09-25T00:00:00-04:00\",\"2006-09-26T00:00:00-04:00\",\"2006-09-27T00:00:00-04:00\",\"2006-09-28T00:00:00-04:00\",\"2006-09-29T00:00:00-04:00\",\"2006-10-02T00:00:00-04:00\",\"2006-10-03T00:00:00-04:00\",\"2006-10-04T00:00:00-04:00\",\"2006-10-05T00:00:00-04:00\",\"2006-10-06T00:00:00-04:00\",\"2006-10-09T00:00:00-04:00\",\"2006-10-10T00:00:00-04:00\",\"2006-10-11T00:00:00-04:00\",\"2006-10-12T00:00:00-04:00\",\"2006-10-13T00:00:00-04:00\",\"2006-10-16T00:00:00-04:00\",\"2006-10-17T00:00:00-04:00\",\"2006-10-18T00:00:00-04:00\",\"2006-10-19T00:00:00-04:00\",\"2006-10-20T00:00:00-04:00\",\"2006-10-23T00:00:00-04:00\",\"2006-10-24T00:00:00-04:00\",\"2006-10-25T00:00:00-04:00\",\"2006-10-26T00:00:00-04:00\",\"2006-10-27T00:00:00-04:00\",\"2006-10-30T00:00:00-05:00\",\"2006-10-31T00:00:00-05:00\",\"2006-11-01T00:00:00-05:00\",\"2006-11-02T00:00:00-05:00\",\"2006-11-03T00:00:00-05:00\",\"2006-11-06T00:00:00-05:00\",\"2006-11-07T00:00:00-05:00\",\"2006-11-08T00:00:00-05:00\",\"2006-11-09T00:00:00-05:00\",\"2006-11-10T00:00:00-05:00\",\"2006-11-13T00:00:00-05:00\",\"2006-11-14T00:00:00-05:00\",\"2006-11-15T00:00:00-05:00\",\"2006-11-16T00:00:00-05:00\",\"2006-11-17T00:00:00-05:00\",\"2006-11-20T00:00:00-05:00\",\"2006-11-21T00:00:00-05:00\",\"2006-11-22T00:00:00-05:00\",\"2006-11-24T00:00:00-05:00\",\"2006-11-27T00:00:00-05:00\",\"2006-11-28T00:00:00-05:00\",\"2006-11-29T00:00:00-05:00\",\"2006-11-30T00:00:00-05:00\",\"2006-12-01T00:00:00-05:00\",\"2006-12-04T00:00:00-05:00\",\"2006-12-05T00:00:00-05:00\",\"2006-12-06T00:00:00-05:00\",\"2006-12-07T00:00:00-05:00\",\"2006-12-08T00:00:00-05:00\",\"2006-12-11T00:00:00-05:00\",\"2006-12-12T00:00:00-05:00\",\"2006-12-13T00:00:00-05:00\",\"2006-12-14T00:00:00-05:00\",\"2006-12-15T00:00:00-05:00\",\"2006-12-18T00:00:00-05:00\",\"2006-12-19T00:00:00-05:00\",\"2006-12-20T00:00:00-05:00\",\"2006-12-21T00:00:00-05:00\",\"2006-12-22T00:00:00-05:00\",\"2006-12-26T00:00:00-05:00\",\"2006-12-27T00:00:00-05:00\",\"2006-12-28T00:00:00-05:00\",\"2006-12-29T00:00:00-05:00\",\"2007-01-03T00:00:00-05:00\",\"2007-01-04T00:00:00-05:00\",\"2007-01-05T00:00:00-05:00\",\"2007-01-08T00:00:00-05:00\",\"2007-01-09T00:00:00-05:00\",\"2007-01-10T00:00:00-05:00\",\"2007-01-11T00:00:00-05:00\",\"2007-01-12T00:00:00-05:00\",\"2007-01-16T00:00:00-05:00\",\"2007-01-17T00:00:00-05:00\",\"2007-01-18T00:00:00-05:00\",\"2007-01-19T00:00:00-05:00\",\"2007-01-22T00:00:00-05:00\",\"2007-01-23T00:00:00-05:00\",\"2007-01-24T00:00:00-05:00\",\"2007-01-25T00:00:00-05:00\",\"2007-01-26T00:00:00-05:00\",\"2007-01-29T00:00:00-05:00\",\"2007-01-30T00:00:00-05:00\",\"2007-01-31T00:00:00-05:00\",\"2007-02-01T00:00:00-05:00\",\"2007-02-02T00:00:00-05:00\",\"2007-02-05T00:00:00-05:00\",\"2007-02-06T00:00:00-05:00\",\"2007-02-07T00:00:00-05:00\",\"2007-02-08T00:00:00-05:00\",\"2007-02-09T00:00:00-05:00\",\"2007-02-12T00:00:00-05:00\",\"2007-02-13T00:00:00-05:00\",\"2007-02-14T00:00:00-05:00\",\"2007-02-15T00:00:00-05:00\",\"2007-02-16T00:00:00-05:00\",\"2007-02-20T00:00:00-05:00\",\"2007-02-21T00:00:00-05:00\",\"2007-02-22T00:00:00-05:00\",\"2007-02-23T00:00:00-05:00\",\"2007-02-26T00:00:00-05:00\",\"2007-02-27T00:00:00-05:00\",\"2007-02-28T00:00:00-05:00\",\"2007-03-01T00:00:00-05:00\",\"2007-03-02T00:00:00-05:00\",\"2007-03-05T00:00:00-05:00\",\"2007-03-06T00:00:00-05:00\",\"2007-03-07T00:00:00-05:00\",\"2007-03-08T00:00:00-05:00\",\"2007-03-09T00:00:00-05:00\",\"2007-03-12T00:00:00-04:00\",\"2007-03-13T00:00:00-04:00\",\"2007-03-14T00:00:00-04:00\",\"2007-03-15T00:00:00-04:00\",\"2007-03-16T00:00:00-04:00\",\"2007-03-19T00:00:00-04:00\",\"2007-03-20T00:00:00-04:00\",\"2007-03-21T00:00:00-04:00\",\"2007-03-22T00:00:00-04:00\",\"2007-03-23T00:00:00-04:00\",\"2007-03-26T00:00:00-04:00\",\"2007-03-27T00:00:00-04:00\",\"2007-03-28T00:00:00-04:00\",\"2007-03-29T00:00:00-04:00\",\"2007-03-30T00:00:00-04:00\",\"2007-04-02T00:00:00-04:00\",\"2007-04-03T00:00:00-04:00\",\"2007-04-04T00:00:00-04:00\",\"2007-04-05T00:00:00-04:00\",\"2007-04-09T00:00:00-04:00\",\"2007-04-10T00:00:00-04:00\",\"2007-04-11T00:00:00-04:00\",\"2007-04-12T00:00:00-04:00\",\"2007-04-13T00:00:00-04:00\",\"2007-04-16T00:00:00-04:00\",\"2007-04-17T00:00:00-04:00\",\"2007-04-18T00:00:00-04:00\",\"2007-04-19T00:00:00-04:00\",\"2007-04-20T00:00:00-04:00\",\"2007-04-23T00:00:00-04:00\",\"2007-04-24T00:00:00-04:00\",\"2007-04-25T00:00:00-04:00\",\"2007-04-26T00:00:00-04:00\",\"2007-04-27T00:00:00-04:00\",\"2007-04-30T00:00:00-04:00\",\"2007-05-01T00:00:00-04:00\",\"2007-05-02T00:00:00-04:00\",\"2007-05-03T00:00:00-04:00\",\"2007-05-04T00:00:00-04:00\",\"2007-05-07T00:00:00-04:00\",\"2007-05-08T00:00:00-04:00\",\"2007-05-09T00:00:00-04:00\",\"2007-05-10T00:00:00-04:00\",\"2007-05-11T00:00:00-04:00\",\"2007-05-14T00:00:00-04:00\",\"2007-05-15T00:00:00-04:00\",\"2007-05-16T00:00:00-04:00\",\"2007-05-17T00:00:00-04:00\",\"2007-05-18T00:00:00-04:00\",\"2007-05-21T00:00:00-04:00\",\"2007-05-22T00:00:00-04:00\",\"2007-05-23T00:00:00-04:00\",\"2007-05-24T00:00:00-04:00\",\"2007-05-25T00:00:00-04:00\",\"2007-05-29T00:00:00-04:00\",\"2007-05-30T00:00:00-04:00\",\"2007-05-31T00:00:00-04:00\",\"2007-06-01T00:00:00-04:00\",\"2007-06-04T00:00:00-04:00\",\"2007-06-05T00:00:00-04:00\",\"2007-06-06T00:00:00-04:00\",\"2007-06-07T00:00:00-04:00\",\"2007-06-08T00:00:00-04:00\",\"2007-06-11T00:00:00-04:00\",\"2007-06-12T00:00:00-04:00\",\"2007-06-13T00:00:00-04:00\",\"2007-06-14T00:00:00-04:00\",\"2007-06-15T00:00:00-04:00\",\"2007-06-18T00:00:00-04:00\",\"2007-06-19T00:00:00-04:00\",\"2007-06-20T00:00:00-04:00\",\"2007-06-21T00:00:00-04:00\",\"2007-06-22T00:00:00-04:00\",\"2007-06-25T00:00:00-04:00\",\"2007-06-26T00:00:00-04:00\",\"2007-06-27T00:00:00-04:00\",\"2007-06-28T00:00:00-04:00\",\"2007-06-29T00:00:00-04:00\",\"2007-07-02T00:00:00-04:00\",\"2007-07-03T00:00:00-04:00\",\"2007-07-05T00:00:00-04:00\",\"2007-07-06T00:00:00-04:00\",\"2007-07-09T00:00:00-04:00\",\"2007-07-10T00:00:00-04:00\",\"2007-07-11T00:00:00-04:00\",\"2007-07-12T00:00:00-04:00\",\"2007-07-13T00:00:00-04:00\",\"2007-07-16T00:00:00-04:00\",\"2007-07-17T00:00:00-04:00\",\"2007-07-18T00:00:00-04:00\",\"2007-07-19T00:00:00-04:00\",\"2007-07-20T00:00:00-04:00\",\"2007-07-23T00:00:00-04:00\",\"2007-07-24T00:00:00-04:00\",\"2007-07-25T00:00:00-04:00\",\"2007-07-26T00:00:00-04:00\",\"2007-07-27T00:00:00-04:00\",\"2007-07-30T00:00:00-04:00\",\"2007-07-31T00:00:00-04:00\",\"2007-08-01T00:00:00-04:00\",\"2007-08-02T00:00:00-04:00\",\"2007-08-03T00:00:00-04:00\",\"2007-08-06T00:00:00-04:00\",\"2007-08-07T00:00:00-04:00\",\"2007-08-08T00:00:00-04:00\",\"2007-08-09T00:00:00-04:00\",\"2007-08-10T00:00:00-04:00\",\"2007-08-13T00:00:00-04:00\",\"2007-08-14T00:00:00-04:00\",\"2007-08-15T00:00:00-04:00\",\"2007-08-16T00:00:00-04:00\",\"2007-08-17T00:00:00-04:00\",\"2007-08-20T00:00:00-04:00\",\"2007-08-21T00:00:00-04:00\",\"2007-08-22T00:00:00-04:00\",\"2007-08-23T00:00:00-04:00\",\"2007-08-24T00:00:00-04:00\",\"2007-08-27T00:00:00-04:00\",\"2007-08-28T00:00:00-04:00\",\"2007-08-29T00:00:00-04:00\",\"2007-08-30T00:00:00-04:00\",\"2007-08-31T00:00:00-04:00\",\"2007-09-04T00:00:00-04:00\",\"2007-09-05T00:00:00-04:00\",\"2007-09-06T00:00:00-04:00\",\"2007-09-07T00:00:00-04:00\",\"2007-09-10T00:00:00-04:00\",\"2007-09-11T00:00:00-04:00\",\"2007-09-12T00:00:00-04:00\",\"2007-09-13T00:00:00-04:00\",\"2007-09-14T00:00:00-04:00\",\"2007-09-17T00:00:00-04:00\",\"2007-09-18T00:00:00-04:00\",\"2007-09-19T00:00:00-04:00\",\"2007-09-20T00:00:00-04:00\",\"2007-09-21T00:00:00-04:00\",\"2007-09-24T00:00:00-04:00\",\"2007-09-25T00:00:00-04:00\",\"2007-09-26T00:00:00-04:00\",\"2007-09-27T00:00:00-04:00\",\"2007-09-28T00:00:00-04:00\",\"2007-10-01T00:00:00-04:00\",\"2007-10-02T00:00:00-04:00\",\"2007-10-03T00:00:00-04:00\",\"2007-10-04T00:00:00-04:00\",\"2007-10-05T00:00:00-04:00\",\"2007-10-08T00:00:00-04:00\",\"2007-10-09T00:00:00-04:00\",\"2007-10-10T00:00:00-04:00\",\"2007-10-11T00:00:00-04:00\",\"2007-10-12T00:00:00-04:00\",\"2007-10-15T00:00:00-04:00\",\"2007-10-16T00:00:00-04:00\",\"2007-10-17T00:00:00-04:00\",\"2007-10-18T00:00:00-04:00\",\"2007-10-19T00:00:00-04:00\",\"2007-10-22T00:00:00-04:00\",\"2007-10-23T00:00:00-04:00\",\"2007-10-24T00:00:00-04:00\",\"2007-10-25T00:00:00-04:00\",\"2007-10-26T00:00:00-04:00\",\"2007-10-29T00:00:00-04:00\",\"2007-10-30T00:00:00-04:00\",\"2007-10-31T00:00:00-04:00\",\"2007-11-01T00:00:00-04:00\",\"2007-11-02T00:00:00-04:00\",\"2007-11-05T00:00:00-05:00\",\"2007-11-06T00:00:00-05:00\",\"2007-11-07T00:00:00-05:00\",\"2007-11-08T00:00:00-05:00\",\"2007-11-09T00:00:00-05:00\",\"2007-11-12T00:00:00-05:00\",\"2007-11-13T00:00:00-05:00\",\"2007-11-14T00:00:00-05:00\",\"2007-11-15T00:00:00-05:00\",\"2007-11-16T00:00:00-05:00\",\"2007-11-19T00:00:00-05:00\",\"2007-11-20T00:00:00-05:00\",\"2007-11-21T00:00:00-05:00\",\"2007-11-23T00:00:00-05:00\",\"2007-11-26T00:00:00-05:00\",\"2007-11-27T00:00:00-05:00\",\"2007-11-28T00:00:00-05:00\",\"2007-11-29T00:00:00-05:00\",\"2007-11-30T00:00:00-05:00\",\"2007-12-03T00:00:00-05:00\",\"2007-12-04T00:00:00-05:00\",\"2007-12-05T00:00:00-05:00\",\"2007-12-06T00:00:00-05:00\",\"2007-12-07T00:00:00-05:00\",\"2007-12-10T00:00:00-05:00\",\"2007-12-11T00:00:00-05:00\",\"2007-12-12T00:00:00-05:00\",\"2007-12-13T00:00:00-05:00\",\"2007-12-14T00:00:00-05:00\",\"2007-12-17T00:00:00-05:00\",\"2007-12-18T00:00:00-05:00\",\"2007-12-19T00:00:00-05:00\",\"2007-12-20T00:00:00-05:00\",\"2007-12-21T00:00:00-05:00\",\"2007-12-24T00:00:00-05:00\",\"2007-12-26T00:00:00-05:00\",\"2007-12-27T00:00:00-05:00\",\"2007-12-28T00:00:00-05:00\",\"2007-12-31T00:00:00-05:00\",\"2008-01-02T00:00:00-05:00\",\"2008-01-03T00:00:00-05:00\",\"2008-01-04T00:00:00-05:00\",\"2008-01-07T00:00:00-05:00\",\"2008-01-08T00:00:00-05:00\",\"2008-01-09T00:00:00-05:00\",\"2008-01-10T00:00:00-05:00\",\"2008-01-11T00:00:00-05:00\",\"2008-01-14T00:00:00-05:00\",\"2008-01-15T00:00:00-05:00\",\"2008-01-16T00:00:00-05:00\",\"2008-01-17T00:00:00-05:00\",\"2008-01-18T00:00:00-05:00\",\"2008-01-22T00:00:00-05:00\",\"2008-01-23T00:00:00-05:00\",\"2008-01-24T00:00:00-05:00\",\"2008-01-25T00:00:00-05:00\",\"2008-01-28T00:00:00-05:00\",\"2008-01-29T00:00:00-05:00\",\"2008-01-30T00:00:00-05:00\",\"2008-01-31T00:00:00-05:00\",\"2008-02-01T00:00:00-05:00\",\"2008-02-04T00:00:00-05:00\",\"2008-02-05T00:00:00-05:00\",\"2008-02-06T00:00:00-05:00\",\"2008-02-07T00:00:00-05:00\",\"2008-02-08T00:00:00-05:00\",\"2008-02-11T00:00:00-05:00\",\"2008-02-12T00:00:00-05:00\",\"2008-02-13T00:00:00-05:00\",\"2008-02-14T00:00:00-05:00\",\"2008-02-15T00:00:00-05:00\",\"2008-02-19T00:00:00-05:00\",\"2008-02-20T00:00:00-05:00\",\"2008-02-21T00:00:00-05:00\",\"2008-02-22T00:00:00-05:00\",\"2008-02-25T00:00:00-05:00\",\"2008-02-26T00:00:00-05:00\",\"2008-02-27T00:00:00-05:00\",\"2008-02-28T00:00:00-05:00\",\"2008-02-29T00:00:00-05:00\",\"2008-03-03T00:00:00-05:00\",\"2008-03-04T00:00:00-05:00\",\"2008-03-05T00:00:00-05:00\",\"2008-03-06T00:00:00-05:00\",\"2008-03-07T00:00:00-05:00\",\"2008-03-10T00:00:00-04:00\",\"2008-03-11T00:00:00-04:00\",\"2008-03-12T00:00:00-04:00\",\"2008-03-13T00:00:00-04:00\",\"2008-03-14T00:00:00-04:00\",\"2008-03-17T00:00:00-04:00\",\"2008-03-18T00:00:00-04:00\",\"2008-03-19T00:00:00-04:00\",\"2008-03-20T00:00:00-04:00\",\"2008-03-24T00:00:00-04:00\",\"2008-03-25T00:00:00-04:00\",\"2008-03-26T00:00:00-04:00\",\"2008-03-27T00:00:00-04:00\",\"2008-03-28T00:00:00-04:00\",\"2008-03-31T00:00:00-04:00\",\"2008-04-01T00:00:00-04:00\",\"2008-04-02T00:00:00-04:00\",\"2008-04-03T00:00:00-04:00\",\"2008-04-04T00:00:00-04:00\",\"2008-04-07T00:00:00-04:00\",\"2008-04-08T00:00:00-04:00\",\"2008-04-09T00:00:00-04:00\",\"2008-04-10T00:00:00-04:00\",\"2008-04-11T00:00:00-04:00\",\"2008-04-14T00:00:00-04:00\",\"2008-04-15T00:00:00-04:00\",\"2008-04-16T00:00:00-04:00\",\"2008-04-17T00:00:00-04:00\",\"2008-04-18T00:00:00-04:00\",\"2008-04-21T00:00:00-04:00\",\"2008-04-22T00:00:00-04:00\",\"2008-04-23T00:00:00-04:00\",\"2008-04-24T00:00:00-04:00\",\"2008-04-25T00:00:00-04:00\",\"2008-04-28T00:00:00-04:00\",\"2008-04-29T00:00:00-04:00\",\"2008-04-30T00:00:00-04:00\",\"2008-05-01T00:00:00-04:00\",\"2008-05-02T00:00:00-04:00\",\"2008-05-05T00:00:00-04:00\",\"2008-05-06T00:00:00-04:00\",\"2008-05-07T00:00:00-04:00\",\"2008-05-08T00:00:00-04:00\",\"2008-05-09T00:00:00-04:00\",\"2008-05-12T00:00:00-04:00\",\"2008-05-13T00:00:00-04:00\",\"2008-05-14T00:00:00-04:00\",\"2008-05-15T00:00:00-04:00\",\"2008-05-16T00:00:00-04:00\",\"2008-05-19T00:00:00-04:00\",\"2008-05-20T00:00:00-04:00\",\"2008-05-21T00:00:00-04:00\",\"2008-05-22T00:00:00-04:00\",\"2008-05-23T00:00:00-04:00\",\"2008-05-27T00:00:00-04:00\",\"2008-05-28T00:00:00-04:00\",\"2008-05-29T00:00:00-04:00\",\"2008-05-30T00:00:00-04:00\",\"2008-06-02T00:00:00-04:00\",\"2008-06-03T00:00:00-04:00\",\"2008-06-04T00:00:00-04:00\",\"2008-06-05T00:00:00-04:00\",\"2008-06-06T00:00:00-04:00\",\"2008-06-09T00:00:00-04:00\",\"2008-06-10T00:00:00-04:00\",\"2008-06-11T00:00:00-04:00\",\"2008-06-12T00:00:00-04:00\",\"2008-06-13T00:00:00-04:00\",\"2008-06-16T00:00:00-04:00\",\"2008-06-17T00:00:00-04:00\",\"2008-06-18T00:00:00-04:00\",\"2008-06-19T00:00:00-04:00\",\"2008-06-20T00:00:00-04:00\",\"2008-06-23T00:00:00-04:00\",\"2008-06-24T00:00:00-04:00\",\"2008-06-25T00:00:00-04:00\",\"2008-06-26T00:00:00-04:00\",\"2008-06-27T00:00:00-04:00\",\"2008-06-30T00:00:00-04:00\",\"2008-07-01T00:00:00-04:00\",\"2008-07-02T00:00:00-04:00\",\"2008-07-03T00:00:00-04:00\",\"2008-07-07T00:00:00-04:00\",\"2008-07-08T00:00:00-04:00\",\"2008-07-09T00:00:00-04:00\",\"2008-07-10T00:00:00-04:00\",\"2008-07-11T00:00:00-04:00\",\"2008-07-14T00:00:00-04:00\",\"2008-07-15T00:00:00-04:00\",\"2008-07-16T00:00:00-04:00\",\"2008-07-17T00:00:00-04:00\",\"2008-07-18T00:00:00-04:00\",\"2008-07-21T00:00:00-04:00\",\"2008-07-22T00:00:00-04:00\",\"2008-07-23T00:00:00-04:00\",\"2008-07-24T00:00:00-04:00\",\"2008-07-25T00:00:00-04:00\",\"2008-07-28T00:00:00-04:00\",\"2008-07-29T00:00:00-04:00\",\"2008-07-30T00:00:00-04:00\",\"2008-07-31T00:00:00-04:00\",\"2008-08-01T00:00:00-04:00\",\"2008-08-04T00:00:00-04:00\",\"2008-08-05T00:00:00-04:00\",\"2008-08-06T00:00:00-04:00\",\"2008-08-07T00:00:00-04:00\",\"2008-08-08T00:00:00-04:00\",\"2008-08-11T00:00:00-04:00\",\"2008-08-12T00:00:00-04:00\",\"2008-08-13T00:00:00-04:00\",\"2008-08-14T00:00:00-04:00\",\"2008-08-15T00:00:00-04:00\",\"2008-08-18T00:00:00-04:00\",\"2008-08-19T00:00:00-04:00\",\"2008-08-20T00:00:00-04:00\",\"2008-08-21T00:00:00-04:00\",\"2008-08-22T00:00:00-04:00\",\"2008-08-25T00:00:00-04:00\",\"2008-08-26T00:00:00-04:00\",\"2008-08-27T00:00:00-04:00\",\"2008-08-28T00:00:00-04:00\",\"2008-08-29T00:00:00-04:00\",\"2008-09-02T00:00:00-04:00\",\"2008-09-03T00:00:00-04:00\",\"2008-09-04T00:00:00-04:00\",\"2008-09-05T00:00:00-04:00\",\"2008-09-08T00:00:00-04:00\",\"2008-09-09T00:00:00-04:00\",\"2008-09-10T00:00:00-04:00\",\"2008-09-11T00:00:00-04:00\",\"2008-09-12T00:00:00-04:00\",\"2008-09-15T00:00:00-04:00\",\"2008-09-16T00:00:00-04:00\",\"2008-09-17T00:00:00-04:00\",\"2008-09-18T00:00:00-04:00\",\"2008-09-19T00:00:00-04:00\",\"2008-09-22T00:00:00-04:00\",\"2008-09-23T00:00:00-04:00\",\"2008-09-24T00:00:00-04:00\",\"2008-09-25T00:00:00-04:00\",\"2008-09-26T00:00:00-04:00\",\"2008-09-29T00:00:00-04:00\",\"2008-09-30T00:00:00-04:00\",\"2008-10-01T00:00:00-04:00\",\"2008-10-02T00:00:00-04:00\",\"2008-10-03T00:00:00-04:00\",\"2008-10-06T00:00:00-04:00\",\"2008-10-07T00:00:00-04:00\",\"2008-10-08T00:00:00-04:00\",\"2008-10-09T00:00:00-04:00\",\"2008-10-10T00:00:00-04:00\",\"2008-10-13T00:00:00-04:00\",\"2008-10-14T00:00:00-04:00\",\"2008-10-15T00:00:00-04:00\",\"2008-10-16T00:00:00-04:00\",\"2008-10-17T00:00:00-04:00\",\"2008-10-20T00:00:00-04:00\",\"2008-10-21T00:00:00-04:00\",\"2008-10-22T00:00:00-04:00\",\"2008-10-23T00:00:00-04:00\",\"2008-10-24T00:00:00-04:00\",\"2008-10-27T00:00:00-04:00\",\"2008-10-28T00:00:00-04:00\",\"2008-10-29T00:00:00-04:00\",\"2008-10-30T00:00:00-04:00\",\"2008-10-31T00:00:00-04:00\",\"2008-11-03T00:00:00-05:00\",\"2008-11-04T00:00:00-05:00\",\"2008-11-05T00:00:00-05:00\",\"2008-11-06T00:00:00-05:00\",\"2008-11-07T00:00:00-05:00\",\"2008-11-10T00:00:00-05:00\",\"2008-11-11T00:00:00-05:00\",\"2008-11-12T00:00:00-05:00\",\"2008-11-13T00:00:00-05:00\",\"2008-11-14T00:00:00-05:00\",\"2008-11-17T00:00:00-05:00\",\"2008-11-18T00:00:00-05:00\",\"2008-11-19T00:00:00-05:00\",\"2008-11-20T00:00:00-05:00\",\"2008-11-21T00:00:00-05:00\",\"2008-11-24T00:00:00-05:00\",\"2008-11-25T00:00:00-05:00\",\"2008-11-26T00:00:00-05:00\",\"2008-11-28T00:00:00-05:00\",\"2008-12-01T00:00:00-05:00\",\"2008-12-02T00:00:00-05:00\",\"2008-12-03T00:00:00-05:00\",\"2008-12-04T00:00:00-05:00\",\"2008-12-05T00:00:00-05:00\",\"2008-12-08T00:00:00-05:00\",\"2008-12-09T00:00:00-05:00\",\"2008-12-10T00:00:00-05:00\",\"2008-12-11T00:00:00-05:00\",\"2008-12-12T00:00:00-05:00\",\"2008-12-15T00:00:00-05:00\",\"2008-12-16T00:00:00-05:00\",\"2008-12-17T00:00:00-05:00\",\"2008-12-18T00:00:00-05:00\",\"2008-12-19T00:00:00-05:00\",\"2008-12-22T00:00:00-05:00\",\"2008-12-23T00:00:00-05:00\",\"2008-12-24T00:00:00-05:00\",\"2008-12-26T00:00:00-05:00\",\"2008-12-29T00:00:00-05:00\",\"2008-12-30T00:00:00-05:00\",\"2008-12-31T00:00:00-05:00\",\"2009-01-02T00:00:00-05:00\",\"2009-01-05T00:00:00-05:00\",\"2009-01-06T00:00:00-05:00\",\"2009-01-07T00:00:00-05:00\",\"2009-01-08T00:00:00-05:00\",\"2009-01-09T00:00:00-05:00\",\"2009-01-12T00:00:00-05:00\",\"2009-01-13T00:00:00-05:00\",\"2009-01-14T00:00:00-05:00\",\"2009-01-15T00:00:00-05:00\",\"2009-01-16T00:00:00-05:00\",\"2009-01-20T00:00:00-05:00\",\"2009-01-21T00:00:00-05:00\",\"2009-01-22T00:00:00-05:00\",\"2009-01-23T00:00:00-05:00\",\"2009-01-26T00:00:00-05:00\",\"2009-01-27T00:00:00-05:00\",\"2009-01-28T00:00:00-05:00\",\"2009-01-29T00:00:00-05:00\",\"2009-01-30T00:00:00-05:00\",\"2009-02-02T00:00:00-05:00\",\"2009-02-03T00:00:00-05:00\",\"2009-02-04T00:00:00-05:00\",\"2009-02-05T00:00:00-05:00\",\"2009-02-06T00:00:00-05:00\",\"2009-02-09T00:00:00-05:00\",\"2009-02-10T00:00:00-05:00\",\"2009-02-11T00:00:00-05:00\",\"2009-02-12T00:00:00-05:00\",\"2009-02-13T00:00:00-05:00\",\"2009-02-17T00:00:00-05:00\",\"2009-02-18T00:00:00-05:00\",\"2009-02-19T00:00:00-05:00\",\"2009-02-20T00:00:00-05:00\",\"2009-02-23T00:00:00-05:00\",\"2009-02-24T00:00:00-05:00\",\"2009-02-25T00:00:00-05:00\",\"2009-02-26T00:00:00-05:00\",\"2009-02-27T00:00:00-05:00\",\"2009-03-02T00:00:00-05:00\",\"2009-03-03T00:00:00-05:00\",\"2009-03-04T00:00:00-05:00\",\"2009-03-05T00:00:00-05:00\",\"2009-03-06T00:00:00-05:00\",\"2009-03-09T00:00:00-04:00\",\"2009-03-10T00:00:00-04:00\",\"2009-03-11T00:00:00-04:00\",\"2009-03-12T00:00:00-04:00\",\"2009-03-13T00:00:00-04:00\",\"2009-03-16T00:00:00-04:00\",\"2009-03-17T00:00:00-04:00\",\"2009-03-18T00:00:00-04:00\",\"2009-03-19T00:00:00-04:00\",\"2009-03-20T00:00:00-04:00\",\"2009-03-23T00:00:00-04:00\",\"2009-03-24T00:00:00-04:00\",\"2009-03-25T00:00:00-04:00\",\"2009-03-26T00:00:00-04:00\",\"2009-03-27T00:00:00-04:00\",\"2009-03-30T00:00:00-04:00\",\"2009-03-31T00:00:00-04:00\",\"2009-04-01T00:00:00-04:00\",\"2009-04-02T00:00:00-04:00\",\"2009-04-03T00:00:00-04:00\",\"2009-04-06T00:00:00-04:00\",\"2009-04-07T00:00:00-04:00\",\"2009-04-08T00:00:00-04:00\",\"2009-04-09T00:00:00-04:00\",\"2009-04-13T00:00:00-04:00\",\"2009-04-14T00:00:00-04:00\",\"2009-04-15T00:00:00-04:00\",\"2009-04-16T00:00:00-04:00\",\"2009-04-17T00:00:00-04:00\",\"2009-04-20T00:00:00-04:00\",\"2009-04-21T00:00:00-04:00\",\"2009-04-22T00:00:00-04:00\",\"2009-04-23T00:00:00-04:00\",\"2009-04-24T00:00:00-04:00\",\"2009-04-27T00:00:00-04:00\",\"2009-04-28T00:00:00-04:00\",\"2009-04-29T00:00:00-04:00\",\"2009-04-30T00:00:00-04:00\",\"2009-05-01T00:00:00-04:00\",\"2009-05-04T00:00:00-04:00\",\"2009-05-05T00:00:00-04:00\",\"2009-05-06T00:00:00-04:00\",\"2009-05-07T00:00:00-04:00\",\"2009-05-08T00:00:00-04:00\",\"2009-05-11T00:00:00-04:00\",\"2009-05-12T00:00:00-04:00\",\"2009-05-13T00:00:00-04:00\",\"2009-05-14T00:00:00-04:00\",\"2009-05-15T00:00:00-04:00\",\"2009-05-18T00:00:00-04:00\",\"2009-05-19T00:00:00-04:00\",\"2009-05-20T00:00:00-04:00\",\"2009-05-21T00:00:00-04:00\",\"2009-05-22T00:00:00-04:00\",\"2009-05-26T00:00:00-04:00\",\"2009-05-27T00:00:00-04:00\",\"2009-05-28T00:00:00-04:00\",\"2009-05-29T00:00:00-04:00\",\"2009-06-01T00:00:00-04:00\",\"2009-06-02T00:00:00-04:00\",\"2009-06-03T00:00:00-04:00\",\"2009-06-04T00:00:00-04:00\",\"2009-06-05T00:00:00-04:00\",\"2009-06-08T00:00:00-04:00\",\"2009-06-09T00:00:00-04:00\",\"2009-06-10T00:00:00-04:00\",\"2009-06-11T00:00:00-04:00\",\"2009-06-12T00:00:00-04:00\",\"2009-06-15T00:00:00-04:00\",\"2009-06-16T00:00:00-04:00\",\"2009-06-17T00:00:00-04:00\",\"2009-06-18T00:00:00-04:00\",\"2009-06-19T00:00:00-04:00\",\"2009-06-22T00:00:00-04:00\",\"2009-06-23T00:00:00-04:00\",\"2009-06-24T00:00:00-04:00\",\"2009-06-25T00:00:00-04:00\",\"2009-06-26T00:00:00-04:00\",\"2009-06-29T00:00:00-04:00\",\"2009-06-30T00:00:00-04:00\",\"2009-07-01T00:00:00-04:00\",\"2009-07-02T00:00:00-04:00\",\"2009-07-06T00:00:00-04:00\",\"2009-07-07T00:00:00-04:00\",\"2009-07-08T00:00:00-04:00\",\"2009-07-09T00:00:00-04:00\",\"2009-07-10T00:00:00-04:00\",\"2009-07-13T00:00:00-04:00\",\"2009-07-14T00:00:00-04:00\",\"2009-07-15T00:00:00-04:00\",\"2009-07-16T00:00:00-04:00\",\"2009-07-17T00:00:00-04:00\",\"2009-07-20T00:00:00-04:00\",\"2009-07-21T00:00:00-04:00\",\"2009-07-22T00:00:00-04:00\",\"2009-07-23T00:00:00-04:00\",\"2009-07-24T00:00:00-04:00\",\"2009-07-27T00:00:00-04:00\",\"2009-07-28T00:00:00-04:00\",\"2009-07-29T00:00:00-04:00\",\"2009-07-30T00:00:00-04:00\",\"2009-07-31T00:00:00-04:00\",\"2009-08-03T00:00:00-04:00\",\"2009-08-04T00:00:00-04:00\",\"2009-08-05T00:00:00-04:00\",\"2009-08-06T00:00:00-04:00\",\"2009-08-07T00:00:00-04:00\",\"2009-08-10T00:00:00-04:00\",\"2009-08-11T00:00:00-04:00\",\"2009-08-12T00:00:00-04:00\",\"2009-08-13T00:00:00-04:00\",\"2009-08-14T00:00:00-04:00\",\"2009-08-17T00:00:00-04:00\",\"2009-08-18T00:00:00-04:00\",\"2009-08-19T00:00:00-04:00\",\"2009-08-20T00:00:00-04:00\",\"2009-08-21T00:00:00-04:00\",\"2009-08-24T00:00:00-04:00\",\"2009-08-25T00:00:00-04:00\",\"2009-08-26T00:00:00-04:00\",\"2009-08-27T00:00:00-04:00\",\"2009-08-28T00:00:00-04:00\",\"2009-08-31T00:00:00-04:00\",\"2009-09-01T00:00:00-04:00\",\"2009-09-02T00:00:00-04:00\",\"2009-09-03T00:00:00-04:00\",\"2009-09-04T00:00:00-04:00\",\"2009-09-08T00:00:00-04:00\",\"2009-09-09T00:00:00-04:00\",\"2009-09-10T00:00:00-04:00\",\"2009-09-11T00:00:00-04:00\",\"2009-09-14T00:00:00-04:00\",\"2009-09-15T00:00:00-04:00\",\"2009-09-16T00:00:00-04:00\",\"2009-09-17T00:00:00-04:00\",\"2009-09-18T00:00:00-04:00\",\"2009-09-21T00:00:00-04:00\",\"2009-09-22T00:00:00-04:00\",\"2009-09-23T00:00:00-04:00\",\"2009-09-24T00:00:00-04:00\",\"2009-09-25T00:00:00-04:00\",\"2009-09-28T00:00:00-04:00\",\"2009-09-29T00:00:00-04:00\",\"2009-09-30T00:00:00-04:00\",\"2009-10-01T00:00:00-04:00\",\"2009-10-02T00:00:00-04:00\",\"2009-10-05T00:00:00-04:00\",\"2009-10-06T00:00:00-04:00\",\"2009-10-07T00:00:00-04:00\",\"2009-10-08T00:00:00-04:00\",\"2009-10-09T00:00:00-04:00\",\"2009-10-12T00:00:00-04:00\",\"2009-10-13T00:00:00-04:00\",\"2009-10-14T00:00:00-04:00\",\"2009-10-15T00:00:00-04:00\",\"2009-10-16T00:00:00-04:00\",\"2009-10-19T00:00:00-04:00\",\"2009-10-20T00:00:00-04:00\",\"2009-10-21T00:00:00-04:00\",\"2009-10-22T00:00:00-04:00\",\"2009-10-23T00:00:00-04:00\",\"2009-10-26T00:00:00-04:00\",\"2009-10-27T00:00:00-04:00\",\"2009-10-28T00:00:00-04:00\",\"2009-10-29T00:00:00-04:00\",\"2009-10-30T00:00:00-04:00\",\"2009-11-02T00:00:00-05:00\",\"2009-11-03T00:00:00-05:00\",\"2009-11-04T00:00:00-05:00\",\"2009-11-05T00:00:00-05:00\",\"2009-11-06T00:00:00-05:00\",\"2009-11-09T00:00:00-05:00\",\"2009-11-10T00:00:00-05:00\",\"2009-11-11T00:00:00-05:00\",\"2009-11-12T00:00:00-05:00\",\"2009-11-13T00:00:00-05:00\",\"2009-11-16T00:00:00-05:00\",\"2009-11-17T00:00:00-05:00\",\"2009-11-18T00:00:00-05:00\",\"2009-11-19T00:00:00-05:00\",\"2009-11-20T00:00:00-05:00\",\"2009-11-23T00:00:00-05:00\",\"2009-11-24T00:00:00-05:00\",\"2009-11-25T00:00:00-05:00\",\"2009-11-27T00:00:00-05:00\",\"2009-11-30T00:00:00-05:00\",\"2009-12-01T00:00:00-05:00\",\"2009-12-02T00:00:00-05:00\",\"2009-12-03T00:00:00-05:00\",\"2009-12-04T00:00:00-05:00\",\"2009-12-07T00:00:00-05:00\",\"2009-12-08T00:00:00-05:00\",\"2009-12-09T00:00:00-05:00\",\"2009-12-10T00:00:00-05:00\",\"2009-12-11T00:00:00-05:00\",\"2009-12-14T00:00:00-05:00\",\"2009-12-15T00:00:00-05:00\",\"2009-12-16T00:00:00-05:00\",\"2009-12-17T00:00:00-05:00\",\"2009-12-18T00:00:00-05:00\",\"2009-12-21T00:00:00-05:00\",\"2009-12-22T00:00:00-05:00\",\"2009-12-23T00:00:00-05:00\",\"2009-12-24T00:00:00-05:00\",\"2009-12-28T00:00:00-05:00\",\"2009-12-29T00:00:00-05:00\",\"2009-12-30T00:00:00-05:00\",\"2009-12-31T00:00:00-05:00\",\"2010-01-04T00:00:00-05:00\",\"2010-01-05T00:00:00-05:00\",\"2010-01-06T00:00:00-05:00\",\"2010-01-07T00:00:00-05:00\",\"2010-01-08T00:00:00-05:00\",\"2010-01-11T00:00:00-05:00\",\"2010-01-12T00:00:00-05:00\",\"2010-01-13T00:00:00-05:00\",\"2010-01-14T00:00:00-05:00\",\"2010-01-15T00:00:00-05:00\",\"2010-01-19T00:00:00-05:00\",\"2010-01-20T00:00:00-05:00\",\"2010-01-21T00:00:00-05:00\",\"2010-01-22T00:00:00-05:00\",\"2010-01-25T00:00:00-05:00\",\"2010-01-26T00:00:00-05:00\",\"2010-01-27T00:00:00-05:00\",\"2010-01-28T00:00:00-05:00\",\"2010-01-29T00:00:00-05:00\",\"2010-02-01T00:00:00-05:00\",\"2010-02-02T00:00:00-05:00\",\"2010-02-03T00:00:00-05:00\",\"2010-02-04T00:00:00-05:00\",\"2010-02-05T00:00:00-05:00\",\"2010-02-08T00:00:00-05:00\",\"2010-02-09T00:00:00-05:00\",\"2010-02-10T00:00:00-05:00\",\"2010-02-11T00:00:00-05:00\",\"2010-02-12T00:00:00-05:00\",\"2010-02-16T00:00:00-05:00\",\"2010-02-17T00:00:00-05:00\",\"2010-02-18T00:00:00-05:00\",\"2010-02-19T00:00:00-05:00\",\"2010-02-22T00:00:00-05:00\",\"2010-02-23T00:00:00-05:00\",\"2010-02-24T00:00:00-05:00\",\"2010-02-25T00:00:00-05:00\",\"2010-02-26T00:00:00-05:00\",\"2010-03-01T00:00:00-05:00\",\"2010-03-02T00:00:00-05:00\",\"2010-03-03T00:00:00-05:00\",\"2010-03-04T00:00:00-05:00\",\"2010-03-05T00:00:00-05:00\",\"2010-03-08T00:00:00-05:00\",\"2010-03-09T00:00:00-05:00\",\"2010-03-10T00:00:00-05:00\",\"2010-03-11T00:00:00-05:00\",\"2010-03-12T00:00:00-05:00\",\"2010-03-15T00:00:00-04:00\",\"2010-03-16T00:00:00-04:00\",\"2010-03-17T00:00:00-04:00\",\"2010-03-18T00:00:00-04:00\",\"2010-03-19T00:00:00-04:00\",\"2010-03-22T00:00:00-04:00\",\"2010-03-23T00:00:00-04:00\",\"2010-03-24T00:00:00-04:00\",\"2010-03-25T00:00:00-04:00\",\"2010-03-26T00:00:00-04:00\",\"2010-03-29T00:00:00-04:00\",\"2010-03-30T00:00:00-04:00\",\"2010-03-31T00:00:00-04:00\",\"2010-04-01T00:00:00-04:00\",\"2010-04-05T00:00:00-04:00\",\"2010-04-06T00:00:00-04:00\",\"2010-04-07T00:00:00-04:00\",\"2010-04-08T00:00:00-04:00\",\"2010-04-09T00:00:00-04:00\",\"2010-04-12T00:00:00-04:00\",\"2010-04-13T00:00:00-04:00\",\"2010-04-14T00:00:00-04:00\",\"2010-04-15T00:00:00-04:00\",\"2010-04-16T00:00:00-04:00\",\"2010-04-19T00:00:00-04:00\",\"2010-04-20T00:00:00-04:00\",\"2010-04-21T00:00:00-04:00\",\"2010-04-22T00:00:00-04:00\",\"2010-04-23T00:00:00-04:00\",\"2010-04-26T00:00:00-04:00\",\"2010-04-27T00:00:00-04:00\",\"2010-04-28T00:00:00-04:00\",\"2010-04-29T00:00:00-04:00\",\"2010-04-30T00:00:00-04:00\",\"2010-05-03T00:00:00-04:00\",\"2010-05-04T00:00:00-04:00\",\"2010-05-05T00:00:00-04:00\",\"2010-05-06T00:00:00-04:00\",\"2010-05-07T00:00:00-04:00\",\"2010-05-10T00:00:00-04:00\",\"2010-05-11T00:00:00-04:00\",\"2010-05-12T00:00:00-04:00\",\"2010-05-13T00:00:00-04:00\",\"2010-05-14T00:00:00-04:00\",\"2010-05-17T00:00:00-04:00\",\"2010-05-18T00:00:00-04:00\",\"2010-05-19T00:00:00-04:00\",\"2010-05-20T00:00:00-04:00\",\"2010-05-21T00:00:00-04:00\",\"2010-05-24T00:00:00-04:00\",\"2010-05-25T00:00:00-04:00\",\"2010-05-26T00:00:00-04:00\",\"2010-05-27T00:00:00-04:00\",\"2010-05-28T00:00:00-04:00\",\"2010-06-01T00:00:00-04:00\",\"2010-06-02T00:00:00-04:00\",\"2010-06-03T00:00:00-04:00\",\"2010-06-04T00:00:00-04:00\",\"2010-06-07T00:00:00-04:00\",\"2010-06-08T00:00:00-04:00\",\"2010-06-09T00:00:00-04:00\",\"2010-06-10T00:00:00-04:00\",\"2010-06-11T00:00:00-04:00\",\"2010-06-14T00:00:00-04:00\",\"2010-06-15T00:00:00-04:00\",\"2010-06-16T00:00:00-04:00\",\"2010-06-17T00:00:00-04:00\",\"2010-06-18T00:00:00-04:00\",\"2010-06-21T00:00:00-04:00\",\"2010-06-22T00:00:00-04:00\",\"2010-06-23T00:00:00-04:00\",\"2010-06-24T00:00:00-04:00\",\"2010-06-25T00:00:00-04:00\",\"2010-06-28T00:00:00-04:00\",\"2010-06-29T00:00:00-04:00\",\"2010-06-30T00:00:00-04:00\",\"2010-07-01T00:00:00-04:00\",\"2010-07-02T00:00:00-04:00\",\"2010-07-06T00:00:00-04:00\",\"2010-07-07T00:00:00-04:00\",\"2010-07-08T00:00:00-04:00\",\"2010-07-09T00:00:00-04:00\",\"2010-07-12T00:00:00-04:00\",\"2010-07-13T00:00:00-04:00\",\"2010-07-14T00:00:00-04:00\",\"2010-07-15T00:00:00-04:00\",\"2010-07-16T00:00:00-04:00\",\"2010-07-19T00:00:00-04:00\",\"2010-07-20T00:00:00-04:00\",\"2010-07-21T00:00:00-04:00\",\"2010-07-22T00:00:00-04:00\",\"2010-07-23T00:00:00-04:00\",\"2010-07-26T00:00:00-04:00\",\"2010-07-27T00:00:00-04:00\",\"2010-07-28T00:00:00-04:00\",\"2010-07-29T00:00:00-04:00\",\"2010-07-30T00:00:00-04:00\",\"2010-08-02T00:00:00-04:00\",\"2010-08-03T00:00:00-04:00\",\"2010-08-04T00:00:00-04:00\",\"2010-08-05T00:00:00-04:00\",\"2010-08-06T00:00:00-04:00\",\"2010-08-09T00:00:00-04:00\",\"2010-08-10T00:00:00-04:00\",\"2010-08-11T00:00:00-04:00\",\"2010-08-12T00:00:00-04:00\",\"2010-08-13T00:00:00-04:00\",\"2010-08-16T00:00:00-04:00\",\"2010-08-17T00:00:00-04:00\",\"2010-08-18T00:00:00-04:00\",\"2010-08-19T00:00:00-04:00\",\"2010-08-20T00:00:00-04:00\",\"2010-08-23T00:00:00-04:00\",\"2010-08-24T00:00:00-04:00\",\"2010-08-25T00:00:00-04:00\",\"2010-08-26T00:00:00-04:00\",\"2010-08-27T00:00:00-04:00\",\"2010-08-30T00:00:00-04:00\",\"2010-08-31T00:00:00-04:00\",\"2010-09-01T00:00:00-04:00\",\"2010-09-02T00:00:00-04:00\",\"2010-09-03T00:00:00-04:00\",\"2010-09-07T00:00:00-04:00\",\"2010-09-08T00:00:00-04:00\",\"2010-09-09T00:00:00-04:00\",\"2010-09-10T00:00:00-04:00\",\"2010-09-13T00:00:00-04:00\",\"2010-09-14T00:00:00-04:00\",\"2010-09-15T00:00:00-04:00\",\"2010-09-16T00:00:00-04:00\",\"2010-09-17T00:00:00-04:00\",\"2010-09-20T00:00:00-04:00\",\"2010-09-21T00:00:00-04:00\",\"2010-09-22T00:00:00-04:00\",\"2010-09-23T00:00:00-04:00\",\"2010-09-24T00:00:00-04:00\",\"2010-09-27T00:00:00-04:00\",\"2010-09-28T00:00:00-04:00\",\"2010-09-29T00:00:00-04:00\",\"2010-09-30T00:00:00-04:00\",\"2010-10-01T00:00:00-04:00\",\"2010-10-04T00:00:00-04:00\",\"2010-10-05T00:00:00-04:00\",\"2010-10-06T00:00:00-04:00\",\"2010-10-07T00:00:00-04:00\",\"2010-10-08T00:00:00-04:00\",\"2010-10-11T00:00:00-04:00\",\"2010-10-12T00:00:00-04:00\",\"2010-10-13T00:00:00-04:00\",\"2010-10-14T00:00:00-04:00\",\"2010-10-15T00:00:00-04:00\",\"2010-10-18T00:00:00-04:00\",\"2010-10-19T00:00:00-04:00\",\"2010-10-20T00:00:00-04:00\",\"2010-10-21T00:00:00-04:00\",\"2010-10-22T00:00:00-04:00\",\"2010-10-25T00:00:00-04:00\",\"2010-10-26T00:00:00-04:00\",\"2010-10-27T00:00:00-04:00\",\"2010-10-28T00:00:00-04:00\",\"2010-10-29T00:00:00-04:00\",\"2010-11-01T00:00:00-04:00\",\"2010-11-02T00:00:00-04:00\",\"2010-11-03T00:00:00-04:00\",\"2010-11-04T00:00:00-04:00\",\"2010-11-05T00:00:00-04:00\",\"2010-11-08T00:00:00-05:00\",\"2010-11-09T00:00:00-05:00\",\"2010-11-10T00:00:00-05:00\",\"2010-11-11T00:00:00-05:00\",\"2010-11-12T00:00:00-05:00\",\"2010-11-15T00:00:00-05:00\",\"2010-11-16T00:00:00-05:00\",\"2010-11-17T00:00:00-05:00\",\"2010-11-18T00:00:00-05:00\",\"2010-11-19T00:00:00-05:00\",\"2010-11-22T00:00:00-05:00\",\"2010-11-23T00:00:00-05:00\",\"2010-11-24T00:00:00-05:00\",\"2010-11-26T00:00:00-05:00\",\"2010-11-29T00:00:00-05:00\",\"2010-11-30T00:00:00-05:00\",\"2010-12-01T00:00:00-05:00\",\"2010-12-02T00:00:00-05:00\",\"2010-12-03T00:00:00-05:00\",\"2010-12-06T00:00:00-05:00\",\"2010-12-07T00:00:00-05:00\",\"2010-12-08T00:00:00-05:00\",\"2010-12-09T00:00:00-05:00\",\"2010-12-10T00:00:00-05:00\",\"2010-12-13T00:00:00-05:00\",\"2010-12-14T00:00:00-05:00\",\"2010-12-15T00:00:00-05:00\",\"2010-12-16T00:00:00-05:00\",\"2010-12-17T00:00:00-05:00\",\"2010-12-20T00:00:00-05:00\",\"2010-12-21T00:00:00-05:00\",\"2010-12-22T00:00:00-05:00\",\"2010-12-23T00:00:00-05:00\",\"2010-12-27T00:00:00-05:00\",\"2010-12-28T00:00:00-05:00\",\"2010-12-29T00:00:00-05:00\",\"2010-12-30T00:00:00-05:00\",\"2010-12-31T00:00:00-05:00\",\"2011-01-03T00:00:00-05:00\",\"2011-01-04T00:00:00-05:00\",\"2011-01-05T00:00:00-05:00\",\"2011-01-06T00:00:00-05:00\",\"2011-01-07T00:00:00-05:00\",\"2011-01-10T00:00:00-05:00\",\"2011-01-11T00:00:00-05:00\",\"2011-01-12T00:00:00-05:00\",\"2011-01-13T00:00:00-05:00\",\"2011-01-14T00:00:00-05:00\",\"2011-01-18T00:00:00-05:00\",\"2011-01-19T00:00:00-05:00\",\"2011-01-20T00:00:00-05:00\",\"2011-01-21T00:00:00-05:00\",\"2011-01-24T00:00:00-05:00\",\"2011-01-25T00:00:00-05:00\",\"2011-01-26T00:00:00-05:00\",\"2011-01-27T00:00:00-05:00\",\"2011-01-28T00:00:00-05:00\",\"2011-01-31T00:00:00-05:00\",\"2011-02-01T00:00:00-05:00\",\"2011-02-02T00:00:00-05:00\",\"2011-02-03T00:00:00-05:00\",\"2011-02-04T00:00:00-05:00\",\"2011-02-07T00:00:00-05:00\",\"2011-02-08T00:00:00-05:00\",\"2011-02-09T00:00:00-05:00\",\"2011-02-10T00:00:00-05:00\",\"2011-02-11T00:00:00-05:00\",\"2011-02-14T00:00:00-05:00\",\"2011-02-15T00:00:00-05:00\",\"2011-02-16T00:00:00-05:00\",\"2011-02-17T00:00:00-05:00\",\"2011-02-18T00:00:00-05:00\",\"2011-02-22T00:00:00-05:00\",\"2011-02-23T00:00:00-05:00\",\"2011-02-24T00:00:00-05:00\",\"2011-02-25T00:00:00-05:00\",\"2011-02-28T00:00:00-05:00\",\"2011-03-01T00:00:00-05:00\",\"2011-03-02T00:00:00-05:00\",\"2011-03-03T00:00:00-05:00\",\"2011-03-04T00:00:00-05:00\",\"2011-03-07T00:00:00-05:00\",\"2011-03-08T00:00:00-05:00\",\"2011-03-09T00:00:00-05:00\",\"2011-03-10T00:00:00-05:00\",\"2011-03-11T00:00:00-05:00\",\"2011-03-14T00:00:00-04:00\",\"2011-03-15T00:00:00-04:00\",\"2011-03-16T00:00:00-04:00\",\"2011-03-17T00:00:00-04:00\",\"2011-03-18T00:00:00-04:00\",\"2011-03-21T00:00:00-04:00\",\"2011-03-22T00:00:00-04:00\",\"2011-03-23T00:00:00-04:00\",\"2011-03-24T00:00:00-04:00\",\"2011-03-25T00:00:00-04:00\",\"2011-03-28T00:00:00-04:00\",\"2011-03-29T00:00:00-04:00\",\"2011-03-30T00:00:00-04:00\",\"2011-03-31T00:00:00-04:00\",\"2011-04-01T00:00:00-04:00\",\"2011-04-04T00:00:00-04:00\",\"2011-04-05T00:00:00-04:00\",\"2011-04-06T00:00:00-04:00\",\"2011-04-07T00:00:00-04:00\",\"2011-04-08T00:00:00-04:00\",\"2011-04-11T00:00:00-04:00\",\"2011-04-12T00:00:00-04:00\",\"2011-04-13T00:00:00-04:00\",\"2011-04-14T00:00:00-04:00\",\"2011-04-15T00:00:00-04:00\",\"2011-04-18T00:00:00-04:00\",\"2011-04-19T00:00:00-04:00\",\"2011-04-20T00:00:00-04:00\",\"2011-04-21T00:00:00-04:00\",\"2011-04-25T00:00:00-04:00\",\"2011-04-26T00:00:00-04:00\",\"2011-04-27T00:00:00-04:00\",\"2011-04-28T00:00:00-04:00\",\"2011-04-29T00:00:00-04:00\",\"2011-05-02T00:00:00-04:00\",\"2011-05-03T00:00:00-04:00\",\"2011-05-04T00:00:00-04:00\",\"2011-05-05T00:00:00-04:00\",\"2011-05-06T00:00:00-04:00\",\"2011-05-09T00:00:00-04:00\",\"2011-05-10T00:00:00-04:00\",\"2011-05-11T00:00:00-04:00\",\"2011-05-12T00:00:00-04:00\",\"2011-05-13T00:00:00-04:00\",\"2011-05-16T00:00:00-04:00\",\"2011-05-17T00:00:00-04:00\",\"2011-05-18T00:00:00-04:00\",\"2011-05-19T00:00:00-04:00\",\"2011-05-20T00:00:00-04:00\",\"2011-05-23T00:00:00-04:00\",\"2011-05-24T00:00:00-04:00\",\"2011-05-25T00:00:00-04:00\",\"2011-05-26T00:00:00-04:00\",\"2011-05-27T00:00:00-04:00\",\"2011-05-31T00:00:00-04:00\",\"2011-06-01T00:00:00-04:00\",\"2011-06-02T00:00:00-04:00\",\"2011-06-03T00:00:00-04:00\",\"2011-06-06T00:00:00-04:00\",\"2011-06-07T00:00:00-04:00\",\"2011-06-08T00:00:00-04:00\",\"2011-06-09T00:00:00-04:00\",\"2011-06-10T00:00:00-04:00\",\"2011-06-13T00:00:00-04:00\",\"2011-06-14T00:00:00-04:00\",\"2011-06-15T00:00:00-04:00\",\"2011-06-16T00:00:00-04:00\",\"2011-06-17T00:00:00-04:00\",\"2011-06-20T00:00:00-04:00\",\"2011-06-21T00:00:00-04:00\",\"2011-06-22T00:00:00-04:00\",\"2011-06-23T00:00:00-04:00\",\"2011-06-24T00:00:00-04:00\",\"2011-06-27T00:00:00-04:00\",\"2011-06-28T00:00:00-04:00\",\"2011-06-29T00:00:00-04:00\",\"2011-06-30T00:00:00-04:00\",\"2011-07-01T00:00:00-04:00\",\"2011-07-05T00:00:00-04:00\",\"2011-07-06T00:00:00-04:00\",\"2011-07-07T00:00:00-04:00\",\"2011-07-08T00:00:00-04:00\",\"2011-07-11T00:00:00-04:00\",\"2011-07-12T00:00:00-04:00\",\"2011-07-13T00:00:00-04:00\",\"2011-07-14T00:00:00-04:00\",\"2011-07-15T00:00:00-04:00\",\"2011-07-18T00:00:00-04:00\",\"2011-07-19T00:00:00-04:00\",\"2011-07-20T00:00:00-04:00\",\"2011-07-21T00:00:00-04:00\",\"2011-07-22T00:00:00-04:00\",\"2011-07-25T00:00:00-04:00\",\"2011-07-26T00:00:00-04:00\",\"2011-07-27T00:00:00-04:00\",\"2011-07-28T00:00:00-04:00\",\"2011-07-29T00:00:00-04:00\",\"2011-08-01T00:00:00-04:00\",\"2011-08-02T00:00:00-04:00\",\"2011-08-03T00:00:00-04:00\",\"2011-08-04T00:00:00-04:00\",\"2011-08-05T00:00:00-04:00\",\"2011-08-08T00:00:00-04:00\",\"2011-08-09T00:00:00-04:00\",\"2011-08-10T00:00:00-04:00\",\"2011-08-11T00:00:00-04:00\",\"2011-08-12T00:00:00-04:00\",\"2011-08-15T00:00:00-04:00\",\"2011-08-16T00:00:00-04:00\",\"2011-08-17T00:00:00-04:00\",\"2011-08-18T00:00:00-04:00\",\"2011-08-19T00:00:00-04:00\",\"2011-08-22T00:00:00-04:00\",\"2011-08-23T00:00:00-04:00\",\"2011-08-24T00:00:00-04:00\",\"2011-08-25T00:00:00-04:00\",\"2011-08-26T00:00:00-04:00\",\"2011-08-29T00:00:00-04:00\",\"2011-08-30T00:00:00-04:00\",\"2011-08-31T00:00:00-04:00\",\"2011-09-01T00:00:00-04:00\",\"2011-09-02T00:00:00-04:00\",\"2011-09-06T00:00:00-04:00\",\"2011-09-07T00:00:00-04:00\",\"2011-09-08T00:00:00-04:00\",\"2011-09-09T00:00:00-04:00\",\"2011-09-12T00:00:00-04:00\",\"2011-09-13T00:00:00-04:00\",\"2011-09-14T00:00:00-04:00\",\"2011-09-15T00:00:00-04:00\",\"2011-09-16T00:00:00-04:00\",\"2011-09-19T00:00:00-04:00\",\"2011-09-20T00:00:00-04:00\",\"2011-09-21T00:00:00-04:00\",\"2011-09-22T00:00:00-04:00\",\"2011-09-23T00:00:00-04:00\",\"2011-09-26T00:00:00-04:00\",\"2011-09-27T00:00:00-04:00\",\"2011-09-28T00:00:00-04:00\",\"2011-09-29T00:00:00-04:00\",\"2011-09-30T00:00:00-04:00\",\"2011-10-03T00:00:00-04:00\",\"2011-10-04T00:00:00-04:00\",\"2011-10-05T00:00:00-04:00\",\"2011-10-06T00:00:00-04:00\",\"2011-10-07T00:00:00-04:00\",\"2011-10-10T00:00:00-04:00\",\"2011-10-11T00:00:00-04:00\",\"2011-10-12T00:00:00-04:00\",\"2011-10-13T00:00:00-04:00\",\"2011-10-14T00:00:00-04:00\",\"2011-10-17T00:00:00-04:00\",\"2011-10-18T00:00:00-04:00\",\"2011-10-19T00:00:00-04:00\",\"2011-10-20T00:00:00-04:00\",\"2011-10-21T00:00:00-04:00\",\"2011-10-24T00:00:00-04:00\",\"2011-10-25T00:00:00-04:00\",\"2011-10-26T00:00:00-04:00\",\"2011-10-27T00:00:00-04:00\",\"2011-10-28T00:00:00-04:00\",\"2011-10-31T00:00:00-04:00\",\"2011-11-01T00:00:00-04:00\",\"2011-11-02T00:00:00-04:00\",\"2011-11-03T00:00:00-04:00\",\"2011-11-04T00:00:00-04:00\",\"2011-11-07T00:00:00-05:00\",\"2011-11-08T00:00:00-05:00\",\"2011-11-09T00:00:00-05:00\",\"2011-11-10T00:00:00-05:00\",\"2011-11-11T00:00:00-05:00\",\"2011-11-14T00:00:00-05:00\",\"2011-11-15T00:00:00-05:00\",\"2011-11-16T00:00:00-05:00\",\"2011-11-17T00:00:00-05:00\",\"2011-11-18T00:00:00-05:00\",\"2011-11-21T00:00:00-05:00\",\"2011-11-22T00:00:00-05:00\",\"2011-11-23T00:00:00-05:00\",\"2011-11-25T00:00:00-05:00\",\"2011-11-28T00:00:00-05:00\",\"2011-11-29T00:00:00-05:00\",\"2011-11-30T00:00:00-05:00\",\"2011-12-01T00:00:00-05:00\",\"2011-12-02T00:00:00-05:00\",\"2011-12-05T00:00:00-05:00\",\"2011-12-06T00:00:00-05:00\",\"2011-12-07T00:00:00-05:00\",\"2011-12-08T00:00:00-05:00\",\"2011-12-09T00:00:00-05:00\",\"2011-12-12T00:00:00-05:00\",\"2011-12-13T00:00:00-05:00\",\"2011-12-14T00:00:00-05:00\",\"2011-12-15T00:00:00-05:00\",\"2011-12-16T00:00:00-05:00\",\"2011-12-19T00:00:00-05:00\",\"2011-12-20T00:00:00-05:00\",\"2011-12-21T00:00:00-05:00\",\"2011-12-22T00:00:00-05:00\",\"2011-12-23T00:00:00-05:00\",\"2011-12-27T00:00:00-05:00\",\"2011-12-28T00:00:00-05:00\",\"2011-12-29T00:00:00-05:00\",\"2011-12-30T00:00:00-05:00\",\"2012-01-03T00:00:00-05:00\",\"2012-01-04T00:00:00-05:00\",\"2012-01-05T00:00:00-05:00\",\"2012-01-06T00:00:00-05:00\",\"2012-01-09T00:00:00-05:00\",\"2012-01-10T00:00:00-05:00\",\"2012-01-11T00:00:00-05:00\",\"2012-01-12T00:00:00-05:00\",\"2012-01-13T00:00:00-05:00\",\"2012-01-17T00:00:00-05:00\",\"2012-01-18T00:00:00-05:00\",\"2012-01-19T00:00:00-05:00\",\"2012-01-20T00:00:00-05:00\",\"2012-01-23T00:00:00-05:00\",\"2012-01-24T00:00:00-05:00\",\"2012-01-25T00:00:00-05:00\",\"2012-01-26T00:00:00-05:00\",\"2012-01-27T00:00:00-05:00\",\"2012-01-30T00:00:00-05:00\",\"2012-01-31T00:00:00-05:00\",\"2012-02-01T00:00:00-05:00\",\"2012-02-02T00:00:00-05:00\",\"2012-02-03T00:00:00-05:00\",\"2012-02-06T00:00:00-05:00\",\"2012-02-07T00:00:00-05:00\",\"2012-02-08T00:00:00-05:00\",\"2012-02-09T00:00:00-05:00\",\"2012-02-10T00:00:00-05:00\",\"2012-02-13T00:00:00-05:00\",\"2012-02-14T00:00:00-05:00\",\"2012-02-15T00:00:00-05:00\",\"2012-02-16T00:00:00-05:00\",\"2012-02-17T00:00:00-05:00\",\"2012-02-21T00:00:00-05:00\",\"2012-02-22T00:00:00-05:00\",\"2012-02-23T00:00:00-05:00\",\"2012-02-24T00:00:00-05:00\",\"2012-02-27T00:00:00-05:00\",\"2012-02-28T00:00:00-05:00\",\"2012-02-29T00:00:00-05:00\",\"2012-03-01T00:00:00-05:00\",\"2012-03-02T00:00:00-05:00\",\"2012-03-05T00:00:00-05:00\",\"2012-03-06T00:00:00-05:00\",\"2012-03-07T00:00:00-05:00\",\"2012-03-08T00:00:00-05:00\",\"2012-03-09T00:00:00-05:00\",\"2012-03-12T00:00:00-04:00\",\"2012-03-13T00:00:00-04:00\",\"2012-03-14T00:00:00-04:00\",\"2012-03-15T00:00:00-04:00\",\"2012-03-16T00:00:00-04:00\",\"2012-03-19T00:00:00-04:00\",\"2012-03-20T00:00:00-04:00\",\"2012-03-21T00:00:00-04:00\",\"2012-03-22T00:00:00-04:00\",\"2012-03-23T00:00:00-04:00\",\"2012-03-26T00:00:00-04:00\",\"2012-03-27T00:00:00-04:00\",\"2012-03-28T00:00:00-04:00\",\"2012-03-29T00:00:00-04:00\",\"2012-03-30T00:00:00-04:00\",\"2012-04-02T00:00:00-04:00\",\"2012-04-03T00:00:00-04:00\",\"2012-04-04T00:00:00-04:00\",\"2012-04-05T00:00:00-04:00\",\"2012-04-09T00:00:00-04:00\",\"2012-04-10T00:00:00-04:00\",\"2012-04-11T00:00:00-04:00\",\"2012-04-12T00:00:00-04:00\",\"2012-04-13T00:00:00-04:00\",\"2012-04-16T00:00:00-04:00\",\"2012-04-17T00:00:00-04:00\",\"2012-04-18T00:00:00-04:00\",\"2012-04-19T00:00:00-04:00\",\"2012-04-20T00:00:00-04:00\",\"2012-04-23T00:00:00-04:00\",\"2012-04-24T00:00:00-04:00\",\"2012-04-25T00:00:00-04:00\",\"2012-04-26T00:00:00-04:00\",\"2012-04-27T00:00:00-04:00\",\"2012-04-30T00:00:00-04:00\",\"2012-05-01T00:00:00-04:00\",\"2012-05-02T00:00:00-04:00\",\"2012-05-03T00:00:00-04:00\",\"2012-05-04T00:00:00-04:00\",\"2012-05-07T00:00:00-04:00\",\"2012-05-08T00:00:00-04:00\",\"2012-05-09T00:00:00-04:00\",\"2012-05-10T00:00:00-04:00\",\"2012-05-11T00:00:00-04:00\",\"2012-05-14T00:00:00-04:00\",\"2012-05-15T00:00:00-04:00\",\"2012-05-16T00:00:00-04:00\",\"2012-05-17T00:00:00-04:00\",\"2012-05-18T00:00:00-04:00\",\"2012-05-21T00:00:00-04:00\",\"2012-05-22T00:00:00-04:00\",\"2012-05-23T00:00:00-04:00\",\"2012-05-24T00:00:00-04:00\",\"2012-05-25T00:00:00-04:00\",\"2012-05-29T00:00:00-04:00\",\"2012-05-30T00:00:00-04:00\",\"2012-05-31T00:00:00-04:00\",\"2012-06-01T00:00:00-04:00\",\"2012-06-04T00:00:00-04:00\",\"2012-06-05T00:00:00-04:00\",\"2012-06-06T00:00:00-04:00\",\"2012-06-07T00:00:00-04:00\",\"2012-06-08T00:00:00-04:00\",\"2012-06-11T00:00:00-04:00\",\"2012-06-12T00:00:00-04:00\",\"2012-06-13T00:00:00-04:00\",\"2012-06-14T00:00:00-04:00\",\"2012-06-15T00:00:00-04:00\",\"2012-06-18T00:00:00-04:00\",\"2012-06-19T00:00:00-04:00\",\"2012-06-20T00:00:00-04:00\",\"2012-06-21T00:00:00-04:00\",\"2012-06-22T00:00:00-04:00\",\"2012-06-25T00:00:00-04:00\",\"2012-06-26T00:00:00-04:00\",\"2012-06-27T00:00:00-04:00\",\"2012-06-28T00:00:00-04:00\",\"2012-06-29T00:00:00-04:00\",\"2012-07-02T00:00:00-04:00\",\"2012-07-03T00:00:00-04:00\",\"2012-07-05T00:00:00-04:00\",\"2012-07-06T00:00:00-04:00\",\"2012-07-09T00:00:00-04:00\",\"2012-07-10T00:00:00-04:00\",\"2012-07-11T00:00:00-04:00\",\"2012-07-12T00:00:00-04:00\",\"2012-07-13T00:00:00-04:00\",\"2012-07-16T00:00:00-04:00\",\"2012-07-17T00:00:00-04:00\",\"2012-07-18T00:00:00-04:00\",\"2012-07-19T00:00:00-04:00\",\"2012-07-20T00:00:00-04:00\",\"2012-07-23T00:00:00-04:00\",\"2012-07-24T00:00:00-04:00\",\"2012-07-25T00:00:00-04:00\",\"2012-07-26T00:00:00-04:00\",\"2012-07-27T00:00:00-04:00\",\"2012-07-30T00:00:00-04:00\",\"2012-07-31T00:00:00-04:00\",\"2012-08-01T00:00:00-04:00\",\"2012-08-02T00:00:00-04:00\",\"2012-08-03T00:00:00-04:00\",\"2012-08-06T00:00:00-04:00\",\"2012-08-07T00:00:00-04:00\",\"2012-08-08T00:00:00-04:00\",\"2012-08-09T00:00:00-04:00\",\"2012-08-10T00:00:00-04:00\",\"2012-08-13T00:00:00-04:00\",\"2012-08-14T00:00:00-04:00\",\"2012-08-15T00:00:00-04:00\",\"2012-08-16T00:00:00-04:00\",\"2012-08-17T00:00:00-04:00\",\"2012-08-20T00:00:00-04:00\",\"2012-08-21T00:00:00-04:00\",\"2012-08-22T00:00:00-04:00\",\"2012-08-23T00:00:00-04:00\",\"2012-08-24T00:00:00-04:00\",\"2012-08-27T00:00:00-04:00\",\"2012-08-28T00:00:00-04:00\",\"2012-08-29T00:00:00-04:00\",\"2012-08-30T00:00:00-04:00\",\"2012-08-31T00:00:00-04:00\",\"2012-09-04T00:00:00-04:00\",\"2012-09-05T00:00:00-04:00\",\"2012-09-06T00:00:00-04:00\",\"2012-09-07T00:00:00-04:00\",\"2012-09-10T00:00:00-04:00\",\"2012-09-11T00:00:00-04:00\",\"2012-09-12T00:00:00-04:00\",\"2012-09-13T00:00:00-04:00\",\"2012-09-14T00:00:00-04:00\",\"2012-09-17T00:00:00-04:00\",\"2012-09-18T00:00:00-04:00\",\"2012-09-19T00:00:00-04:00\",\"2012-09-20T00:00:00-04:00\",\"2012-09-21T00:00:00-04:00\",\"2012-09-24T00:00:00-04:00\",\"2012-09-25T00:00:00-04:00\",\"2012-09-26T00:00:00-04:00\",\"2012-09-27T00:00:00-04:00\",\"2012-09-28T00:00:00-04:00\",\"2012-10-01T00:00:00-04:00\",\"2012-10-02T00:00:00-04:00\",\"2012-10-03T00:00:00-04:00\",\"2012-10-04T00:00:00-04:00\",\"2012-10-05T00:00:00-04:00\",\"2012-10-08T00:00:00-04:00\",\"2012-10-09T00:00:00-04:00\",\"2012-10-10T00:00:00-04:00\",\"2012-10-11T00:00:00-04:00\",\"2012-10-12T00:00:00-04:00\",\"2012-10-15T00:00:00-04:00\",\"2012-10-16T00:00:00-04:00\",\"2012-10-17T00:00:00-04:00\",\"2012-10-18T00:00:00-04:00\",\"2012-10-19T00:00:00-04:00\",\"2012-10-22T00:00:00-04:00\",\"2012-10-23T00:00:00-04:00\",\"2012-10-24T00:00:00-04:00\",\"2012-10-25T00:00:00-04:00\",\"2012-10-26T00:00:00-04:00\",\"2012-10-31T00:00:00-04:00\",\"2012-11-01T00:00:00-04:00\",\"2012-11-02T00:00:00-04:00\",\"2012-11-05T00:00:00-05:00\",\"2012-11-06T00:00:00-05:00\",\"2012-11-07T00:00:00-05:00\",\"2012-11-08T00:00:00-05:00\",\"2012-11-09T00:00:00-05:00\",\"2012-11-12T00:00:00-05:00\",\"2012-11-13T00:00:00-05:00\",\"2012-11-14T00:00:00-05:00\",\"2012-11-15T00:00:00-05:00\",\"2012-11-16T00:00:00-05:00\",\"2012-11-19T00:00:00-05:00\",\"2012-11-20T00:00:00-05:00\",\"2012-11-21T00:00:00-05:00\",\"2012-11-23T00:00:00-05:00\",\"2012-11-26T00:00:00-05:00\",\"2012-11-27T00:00:00-05:00\",\"2012-11-28T00:00:00-05:00\",\"2012-11-29T00:00:00-05:00\",\"2012-11-30T00:00:00-05:00\",\"2012-12-03T00:00:00-05:00\",\"2012-12-04T00:00:00-05:00\",\"2012-12-05T00:00:00-05:00\",\"2012-12-06T00:00:00-05:00\",\"2012-12-07T00:00:00-05:00\",\"2012-12-10T00:00:00-05:00\",\"2012-12-11T00:00:00-05:00\",\"2012-12-12T00:00:00-05:00\",\"2012-12-13T00:00:00-05:00\",\"2012-12-14T00:00:00-05:00\",\"2012-12-17T00:00:00-05:00\",\"2012-12-18T00:00:00-05:00\",\"2012-12-19T00:00:00-05:00\",\"2012-12-20T00:00:00-05:00\",\"2012-12-21T00:00:00-05:00\",\"2012-12-24T00:00:00-05:00\",\"2012-12-26T00:00:00-05:00\",\"2012-12-27T00:00:00-05:00\",\"2012-12-28T00:00:00-05:00\",\"2012-12-31T00:00:00-05:00\",\"2013-01-02T00:00:00-05:00\",\"2013-01-03T00:00:00-05:00\",\"2013-01-04T00:00:00-05:00\",\"2013-01-07T00:00:00-05:00\",\"2013-01-08T00:00:00-05:00\",\"2013-01-09T00:00:00-05:00\",\"2013-01-10T00:00:00-05:00\",\"2013-01-11T00:00:00-05:00\",\"2013-01-14T00:00:00-05:00\",\"2013-01-15T00:00:00-05:00\",\"2013-01-16T00:00:00-05:00\",\"2013-01-17T00:00:00-05:00\",\"2013-01-18T00:00:00-05:00\",\"2013-01-22T00:00:00-05:00\",\"2013-01-23T00:00:00-05:00\",\"2013-01-24T00:00:00-05:00\",\"2013-01-25T00:00:00-05:00\",\"2013-01-28T00:00:00-05:00\",\"2013-01-29T00:00:00-05:00\",\"2013-01-30T00:00:00-05:00\",\"2013-01-31T00:00:00-05:00\",\"2013-02-01T00:00:00-05:00\",\"2013-02-04T00:00:00-05:00\",\"2013-02-05T00:00:00-05:00\",\"2013-02-06T00:00:00-05:00\",\"2013-02-07T00:00:00-05:00\",\"2013-02-08T00:00:00-05:00\",\"2013-02-11T00:00:00-05:00\",\"2013-02-12T00:00:00-05:00\",\"2013-02-13T00:00:00-05:00\",\"2013-02-14T00:00:00-05:00\",\"2013-02-15T00:00:00-05:00\",\"2013-02-19T00:00:00-05:00\",\"2013-02-20T00:00:00-05:00\",\"2013-02-21T00:00:00-05:00\",\"2013-02-22T00:00:00-05:00\",\"2013-02-25T00:00:00-05:00\",\"2013-02-26T00:00:00-05:00\",\"2013-02-27T00:00:00-05:00\",\"2013-02-28T00:00:00-05:00\",\"2013-03-01T00:00:00-05:00\",\"2013-03-04T00:00:00-05:00\",\"2013-03-05T00:00:00-05:00\",\"2013-03-06T00:00:00-05:00\",\"2013-03-07T00:00:00-05:00\",\"2013-03-08T00:00:00-05:00\",\"2013-03-11T00:00:00-04:00\",\"2013-03-12T00:00:00-04:00\",\"2013-03-13T00:00:00-04:00\",\"2013-03-14T00:00:00-04:00\",\"2013-03-15T00:00:00-04:00\",\"2013-03-18T00:00:00-04:00\",\"2013-03-19T00:00:00-04:00\",\"2013-03-20T00:00:00-04:00\",\"2013-03-21T00:00:00-04:00\",\"2013-03-22T00:00:00-04:00\",\"2013-03-25T00:00:00-04:00\",\"2013-03-26T00:00:00-04:00\",\"2013-03-27T00:00:00-04:00\",\"2013-03-28T00:00:00-04:00\",\"2013-04-01T00:00:00-04:00\",\"2013-04-02T00:00:00-04:00\",\"2013-04-03T00:00:00-04:00\",\"2013-04-04T00:00:00-04:00\",\"2013-04-05T00:00:00-04:00\",\"2013-04-08T00:00:00-04:00\",\"2013-04-09T00:00:00-04:00\",\"2013-04-10T00:00:00-04:00\",\"2013-04-11T00:00:00-04:00\",\"2013-04-12T00:00:00-04:00\",\"2013-04-15T00:00:00-04:00\",\"2013-04-16T00:00:00-04:00\",\"2013-04-17T00:00:00-04:00\",\"2013-04-18T00:00:00-04:00\",\"2013-04-19T00:00:00-04:00\",\"2013-04-22T00:00:00-04:00\",\"2013-04-23T00:00:00-04:00\",\"2013-04-24T00:00:00-04:00\",\"2013-04-25T00:00:00-04:00\",\"2013-04-26T00:00:00-04:00\",\"2013-04-29T00:00:00-04:00\",\"2013-04-30T00:00:00-04:00\",\"2013-05-01T00:00:00-04:00\",\"2013-05-02T00:00:00-04:00\",\"2013-05-03T00:00:00-04:00\",\"2013-05-06T00:00:00-04:00\",\"2013-05-07T00:00:00-04:00\",\"2013-05-08T00:00:00-04:00\",\"2013-05-09T00:00:00-04:00\",\"2013-05-10T00:00:00-04:00\",\"2013-05-13T00:00:00-04:00\",\"2013-05-14T00:00:00-04:00\",\"2013-05-15T00:00:00-04:00\",\"2013-05-16T00:00:00-04:00\",\"2013-05-17T00:00:00-04:00\",\"2013-05-20T00:00:00-04:00\",\"2013-05-21T00:00:00-04:00\",\"2013-05-22T00:00:00-04:00\",\"2013-05-23T00:00:00-04:00\",\"2013-05-24T00:00:00-04:00\",\"2013-05-28T00:00:00-04:00\",\"2013-05-29T00:00:00-04:00\",\"2013-05-30T00:00:00-04:00\",\"2013-05-31T00:00:00-04:00\",\"2013-06-03T00:00:00-04:00\",\"2013-06-04T00:00:00-04:00\",\"2013-06-05T00:00:00-04:00\",\"2013-06-06T00:00:00-04:00\",\"2013-06-07T00:00:00-04:00\",\"2013-06-10T00:00:00-04:00\",\"2013-06-11T00:00:00-04:00\",\"2013-06-12T00:00:00-04:00\",\"2013-06-13T00:00:00-04:00\",\"2013-06-14T00:00:00-04:00\",\"2013-06-17T00:00:00-04:00\",\"2013-06-18T00:00:00-04:00\",\"2013-06-19T00:00:00-04:00\",\"2013-06-20T00:00:00-04:00\",\"2013-06-21T00:00:00-04:00\",\"2013-06-24T00:00:00-04:00\",\"2013-06-25T00:00:00-04:00\",\"2013-06-26T00:00:00-04:00\",\"2013-06-27T00:00:00-04:00\",\"2013-06-28T00:00:00-04:00\",\"2013-07-01T00:00:00-04:00\",\"2013-07-02T00:00:00-04:00\",\"2013-07-03T00:00:00-04:00\",\"2013-07-05T00:00:00-04:00\",\"2013-07-08T00:00:00-04:00\",\"2013-07-09T00:00:00-04:00\",\"2013-07-10T00:00:00-04:00\",\"2013-07-11T00:00:00-04:00\",\"2013-07-12T00:00:00-04:00\",\"2013-07-15T00:00:00-04:00\",\"2013-07-16T00:00:00-04:00\",\"2013-07-17T00:00:00-04:00\",\"2013-07-18T00:00:00-04:00\",\"2013-07-19T00:00:00-04:00\",\"2013-07-22T00:00:00-04:00\",\"2013-07-23T00:00:00-04:00\",\"2013-07-24T00:00:00-04:00\",\"2013-07-25T00:00:00-04:00\",\"2013-07-26T00:00:00-04:00\",\"2013-07-29T00:00:00-04:00\",\"2013-07-30T00:00:00-04:00\",\"2013-07-31T00:00:00-04:00\",\"2013-08-01T00:00:00-04:00\",\"2013-08-02T00:00:00-04:00\",\"2013-08-05T00:00:00-04:00\",\"2013-08-06T00:00:00-04:00\",\"2013-08-07T00:00:00-04:00\",\"2013-08-08T00:00:00-04:00\",\"2013-08-09T00:00:00-04:00\",\"2013-08-12T00:00:00-04:00\",\"2013-08-13T00:00:00-04:00\",\"2013-08-14T00:00:00-04:00\",\"2013-08-15T00:00:00-04:00\",\"2013-08-16T00:00:00-04:00\",\"2013-08-19T00:00:00-04:00\",\"2013-08-20T00:00:00-04:00\",\"2013-08-21T00:00:00-04:00\",\"2013-08-22T00:00:00-04:00\",\"2013-08-23T00:00:00-04:00\",\"2013-08-26T00:00:00-04:00\",\"2013-08-27T00:00:00-04:00\",\"2013-08-28T00:00:00-04:00\",\"2013-08-29T00:00:00-04:00\",\"2013-08-30T00:00:00-04:00\",\"2013-09-03T00:00:00-04:00\",\"2013-09-04T00:00:00-04:00\",\"2013-09-05T00:00:00-04:00\",\"2013-09-06T00:00:00-04:00\",\"2013-09-09T00:00:00-04:00\",\"2013-09-10T00:00:00-04:00\",\"2013-09-11T00:00:00-04:00\",\"2013-09-12T00:00:00-04:00\",\"2013-09-13T00:00:00-04:00\",\"2013-09-16T00:00:00-04:00\",\"2013-09-17T00:00:00-04:00\",\"2013-09-18T00:00:00-04:00\",\"2013-09-19T00:00:00-04:00\",\"2013-09-20T00:00:00-04:00\",\"2013-09-23T00:00:00-04:00\",\"2013-09-24T00:00:00-04:00\",\"2013-09-25T00:00:00-04:00\",\"2013-09-26T00:00:00-04:00\",\"2013-09-27T00:00:00-04:00\",\"2013-09-30T00:00:00-04:00\",\"2013-10-01T00:00:00-04:00\",\"2013-10-02T00:00:00-04:00\",\"2013-10-03T00:00:00-04:00\",\"2013-10-04T00:00:00-04:00\",\"2013-10-07T00:00:00-04:00\",\"2013-10-08T00:00:00-04:00\",\"2013-10-09T00:00:00-04:00\",\"2013-10-10T00:00:00-04:00\",\"2013-10-11T00:00:00-04:00\",\"2013-10-14T00:00:00-04:00\",\"2013-10-15T00:00:00-04:00\",\"2013-10-16T00:00:00-04:00\",\"2013-10-17T00:00:00-04:00\",\"2013-10-18T00:00:00-04:00\",\"2013-10-21T00:00:00-04:00\",\"2013-10-22T00:00:00-04:00\",\"2013-10-23T00:00:00-04:00\",\"2013-10-24T00:00:00-04:00\",\"2013-10-25T00:00:00-04:00\",\"2013-10-28T00:00:00-04:00\",\"2013-10-29T00:00:00-04:00\",\"2013-10-30T00:00:00-04:00\",\"2013-10-31T00:00:00-04:00\",\"2013-11-01T00:00:00-04:00\",\"2013-11-04T00:00:00-05:00\",\"2013-11-05T00:00:00-05:00\",\"2013-11-06T00:00:00-05:00\",\"2013-11-07T00:00:00-05:00\",\"2013-11-08T00:00:00-05:00\",\"2013-11-11T00:00:00-05:00\",\"2013-11-12T00:00:00-05:00\",\"2013-11-13T00:00:00-05:00\",\"2013-11-14T00:00:00-05:00\",\"2013-11-15T00:00:00-05:00\",\"2013-11-18T00:00:00-05:00\",\"2013-11-19T00:00:00-05:00\",\"2013-11-20T00:00:00-05:00\",\"2013-11-21T00:00:00-05:00\",\"2013-11-22T00:00:00-05:00\",\"2013-11-25T00:00:00-05:00\",\"2013-11-26T00:00:00-05:00\",\"2013-11-27T00:00:00-05:00\",\"2013-11-29T00:00:00-05:00\",\"2013-12-02T00:00:00-05:00\",\"2013-12-03T00:00:00-05:00\",\"2013-12-04T00:00:00-05:00\",\"2013-12-05T00:00:00-05:00\",\"2013-12-06T00:00:00-05:00\",\"2013-12-09T00:00:00-05:00\",\"2013-12-10T00:00:00-05:00\",\"2013-12-11T00:00:00-05:00\",\"2013-12-12T00:00:00-05:00\",\"2013-12-13T00:00:00-05:00\",\"2013-12-16T00:00:00-05:00\",\"2013-12-17T00:00:00-05:00\",\"2013-12-18T00:00:00-05:00\",\"2013-12-19T00:00:00-05:00\",\"2013-12-20T00:00:00-05:00\",\"2013-12-23T00:00:00-05:00\",\"2013-12-24T00:00:00-05:00\",\"2013-12-26T00:00:00-05:00\",\"2013-12-27T00:00:00-05:00\",\"2013-12-30T00:00:00-05:00\",\"2013-12-31T00:00:00-05:00\",\"2014-01-02T00:00:00-05:00\",\"2014-01-03T00:00:00-05:00\",\"2014-01-06T00:00:00-05:00\",\"2014-01-07T00:00:00-05:00\",\"2014-01-08T00:00:00-05:00\",\"2014-01-09T00:00:00-05:00\",\"2014-01-10T00:00:00-05:00\",\"2014-01-13T00:00:00-05:00\",\"2014-01-14T00:00:00-05:00\",\"2014-01-15T00:00:00-05:00\",\"2014-01-16T00:00:00-05:00\",\"2014-01-17T00:00:00-05:00\",\"2014-01-21T00:00:00-05:00\",\"2014-01-22T00:00:00-05:00\",\"2014-01-23T00:00:00-05:00\",\"2014-01-24T00:00:00-05:00\",\"2014-01-27T00:00:00-05:00\",\"2014-01-28T00:00:00-05:00\",\"2014-01-29T00:00:00-05:00\",\"2014-01-30T00:00:00-05:00\",\"2014-01-31T00:00:00-05:00\",\"2014-02-03T00:00:00-05:00\",\"2014-02-04T00:00:00-05:00\",\"2014-02-05T00:00:00-05:00\",\"2014-02-06T00:00:00-05:00\",\"2014-02-07T00:00:00-05:00\",\"2014-02-10T00:00:00-05:00\",\"2014-02-11T00:00:00-05:00\",\"2014-02-12T00:00:00-05:00\",\"2014-02-13T00:00:00-05:00\",\"2014-02-14T00:00:00-05:00\",\"2014-02-18T00:00:00-05:00\",\"2014-02-19T00:00:00-05:00\",\"2014-02-20T00:00:00-05:00\",\"2014-02-21T00:00:00-05:00\",\"2014-02-24T00:00:00-05:00\",\"2014-02-25T00:00:00-05:00\",\"2014-02-26T00:00:00-05:00\",\"2014-02-27T00:00:00-05:00\",\"2014-02-28T00:00:00-05:00\",\"2014-03-03T00:00:00-05:00\",\"2014-03-04T00:00:00-05:00\",\"2014-03-05T00:00:00-05:00\",\"2014-03-06T00:00:00-05:00\",\"2014-03-07T00:00:00-05:00\",\"2014-03-10T00:00:00-04:00\",\"2014-03-11T00:00:00-04:00\",\"2014-03-12T00:00:00-04:00\",\"2014-03-13T00:00:00-04:00\",\"2014-03-14T00:00:00-04:00\",\"2014-03-17T00:00:00-04:00\",\"2014-03-18T00:00:00-04:00\",\"2014-03-19T00:00:00-04:00\",\"2014-03-20T00:00:00-04:00\",\"2014-03-21T00:00:00-04:00\",\"2014-03-24T00:00:00-04:00\",\"2014-03-25T00:00:00-04:00\",\"2014-03-26T00:00:00-04:00\",\"2014-03-27T00:00:00-04:00\",\"2014-03-28T00:00:00-04:00\",\"2014-03-31T00:00:00-04:00\",\"2014-04-01T00:00:00-04:00\",\"2014-04-02T00:00:00-04:00\",\"2014-04-03T00:00:00-04:00\",\"2014-04-04T00:00:00-04:00\",\"2014-04-07T00:00:00-04:00\",\"2014-04-08T00:00:00-04:00\",\"2014-04-09T00:00:00-04:00\",\"2014-04-10T00:00:00-04:00\",\"2014-04-11T00:00:00-04:00\",\"2014-04-14T00:00:00-04:00\",\"2014-04-15T00:00:00-04:00\",\"2014-04-16T00:00:00-04:00\",\"2014-04-17T00:00:00-04:00\",\"2014-04-21T00:00:00-04:00\",\"2014-04-22T00:00:00-04:00\",\"2014-04-23T00:00:00-04:00\",\"2014-04-24T00:00:00-04:00\",\"2014-04-25T00:00:00-04:00\",\"2014-04-28T00:00:00-04:00\",\"2014-04-29T00:00:00-04:00\",\"2014-04-30T00:00:00-04:00\",\"2014-05-01T00:00:00-04:00\",\"2014-05-02T00:00:00-04:00\",\"2014-05-05T00:00:00-04:00\",\"2014-05-06T00:00:00-04:00\",\"2014-05-07T00:00:00-04:00\",\"2014-05-08T00:00:00-04:00\",\"2014-05-09T00:00:00-04:00\",\"2014-05-12T00:00:00-04:00\",\"2014-05-13T00:00:00-04:00\",\"2014-05-14T00:00:00-04:00\",\"2014-05-15T00:00:00-04:00\",\"2014-05-16T00:00:00-04:00\",\"2014-05-19T00:00:00-04:00\",\"2014-05-20T00:00:00-04:00\",\"2014-05-21T00:00:00-04:00\",\"2014-05-22T00:00:00-04:00\",\"2014-05-23T00:00:00-04:00\",\"2014-05-27T00:00:00-04:00\",\"2014-05-28T00:00:00-04:00\",\"2014-05-29T00:00:00-04:00\",\"2014-05-30T00:00:00-04:00\",\"2014-06-02T00:00:00-04:00\",\"2014-06-03T00:00:00-04:00\",\"2014-06-04T00:00:00-04:00\",\"2014-06-05T00:00:00-04:00\",\"2014-06-06T00:00:00-04:00\",\"2014-06-09T00:00:00-04:00\",\"2014-06-10T00:00:00-04:00\",\"2014-06-11T00:00:00-04:00\",\"2014-06-12T00:00:00-04:00\",\"2014-06-13T00:00:00-04:00\",\"2014-06-16T00:00:00-04:00\",\"2014-06-17T00:00:00-04:00\",\"2014-06-18T00:00:00-04:00\",\"2014-06-19T00:00:00-04:00\",\"2014-06-20T00:00:00-04:00\",\"2014-06-23T00:00:00-04:00\",\"2014-06-24T00:00:00-04:00\",\"2014-06-25T00:00:00-04:00\",\"2014-06-26T00:00:00-04:00\",\"2014-06-27T00:00:00-04:00\",\"2014-06-30T00:00:00-04:00\",\"2014-07-01T00:00:00-04:00\",\"2014-07-02T00:00:00-04:00\",\"2014-07-03T00:00:00-04:00\",\"2014-07-07T00:00:00-04:00\",\"2014-07-08T00:00:00-04:00\",\"2014-07-09T00:00:00-04:00\",\"2014-07-10T00:00:00-04:00\",\"2014-07-11T00:00:00-04:00\",\"2014-07-14T00:00:00-04:00\",\"2014-07-15T00:00:00-04:00\",\"2014-07-16T00:00:00-04:00\",\"2014-07-17T00:00:00-04:00\",\"2014-07-18T00:00:00-04:00\",\"2014-07-21T00:00:00-04:00\",\"2014-07-22T00:00:00-04:00\",\"2014-07-23T00:00:00-04:00\",\"2014-07-24T00:00:00-04:00\",\"2014-07-25T00:00:00-04:00\",\"2014-07-28T00:00:00-04:00\",\"2014-07-29T00:00:00-04:00\",\"2014-07-30T00:00:00-04:00\",\"2014-07-31T00:00:00-04:00\",\"2014-08-01T00:00:00-04:00\",\"2014-08-04T00:00:00-04:00\",\"2014-08-05T00:00:00-04:00\",\"2014-08-06T00:00:00-04:00\",\"2014-08-07T00:00:00-04:00\",\"2014-08-08T00:00:00-04:00\",\"2014-08-11T00:00:00-04:00\",\"2014-08-12T00:00:00-04:00\",\"2014-08-13T00:00:00-04:00\",\"2014-08-14T00:00:00-04:00\",\"2014-08-15T00:00:00-04:00\",\"2014-08-18T00:00:00-04:00\",\"2014-08-19T00:00:00-04:00\",\"2014-08-20T00:00:00-04:00\",\"2014-08-21T00:00:00-04:00\",\"2014-08-22T00:00:00-04:00\",\"2014-08-25T00:00:00-04:00\",\"2014-08-26T00:00:00-04:00\",\"2014-08-27T00:00:00-04:00\",\"2014-08-28T00:00:00-04:00\",\"2014-08-29T00:00:00-04:00\",\"2014-09-02T00:00:00-04:00\",\"2014-09-03T00:00:00-04:00\",\"2014-09-04T00:00:00-04:00\",\"2014-09-05T00:00:00-04:00\",\"2014-09-08T00:00:00-04:00\",\"2014-09-09T00:00:00-04:00\",\"2014-09-10T00:00:00-04:00\",\"2014-09-11T00:00:00-04:00\",\"2014-09-12T00:00:00-04:00\",\"2014-09-15T00:00:00-04:00\",\"2014-09-16T00:00:00-04:00\",\"2014-09-17T00:00:00-04:00\",\"2014-09-18T00:00:00-04:00\",\"2014-09-19T00:00:00-04:00\",\"2014-09-22T00:00:00-04:00\",\"2014-09-23T00:00:00-04:00\",\"2014-09-24T00:00:00-04:00\",\"2014-09-25T00:00:00-04:00\",\"2014-09-26T00:00:00-04:00\",\"2014-09-29T00:00:00-04:00\",\"2014-09-30T00:00:00-04:00\",\"2014-10-01T00:00:00-04:00\",\"2014-10-02T00:00:00-04:00\",\"2014-10-03T00:00:00-04:00\",\"2014-10-06T00:00:00-04:00\",\"2014-10-07T00:00:00-04:00\",\"2014-10-08T00:00:00-04:00\",\"2014-10-09T00:00:00-04:00\",\"2014-10-10T00:00:00-04:00\",\"2014-10-13T00:00:00-04:00\",\"2014-10-14T00:00:00-04:00\",\"2014-10-15T00:00:00-04:00\",\"2014-10-16T00:00:00-04:00\",\"2014-10-17T00:00:00-04:00\",\"2014-10-20T00:00:00-04:00\",\"2014-10-21T00:00:00-04:00\",\"2014-10-22T00:00:00-04:00\",\"2014-10-23T00:00:00-04:00\",\"2014-10-24T00:00:00-04:00\",\"2014-10-27T00:00:00-04:00\",\"2014-10-28T00:00:00-04:00\",\"2014-10-29T00:00:00-04:00\",\"2014-10-30T00:00:00-04:00\",\"2014-10-31T00:00:00-04:00\",\"2014-11-03T00:00:00-05:00\",\"2014-11-04T00:00:00-05:00\",\"2014-11-05T00:00:00-05:00\",\"2014-11-06T00:00:00-05:00\",\"2014-11-07T00:00:00-05:00\",\"2014-11-10T00:00:00-05:00\",\"2014-11-11T00:00:00-05:00\",\"2014-11-12T00:00:00-05:00\",\"2014-11-13T00:00:00-05:00\",\"2014-11-14T00:00:00-05:00\",\"2014-11-17T00:00:00-05:00\",\"2014-11-18T00:00:00-05:00\",\"2014-11-19T00:00:00-05:00\",\"2014-11-20T00:00:00-05:00\",\"2014-11-21T00:00:00-05:00\",\"2014-11-24T00:00:00-05:00\",\"2014-11-25T00:00:00-05:00\",\"2014-11-26T00:00:00-05:00\",\"2014-11-28T00:00:00-05:00\",\"2014-12-01T00:00:00-05:00\",\"2014-12-02T00:00:00-05:00\",\"2014-12-03T00:00:00-05:00\",\"2014-12-04T00:00:00-05:00\",\"2014-12-05T00:00:00-05:00\",\"2014-12-08T00:00:00-05:00\",\"2014-12-09T00:00:00-05:00\",\"2014-12-10T00:00:00-05:00\",\"2014-12-11T00:00:00-05:00\",\"2014-12-12T00:00:00-05:00\",\"2014-12-15T00:00:00-05:00\",\"2014-12-16T00:00:00-05:00\",\"2014-12-17T00:00:00-05:00\",\"2014-12-18T00:00:00-05:00\",\"2014-12-19T00:00:00-05:00\",\"2014-12-22T00:00:00-05:00\",\"2014-12-23T00:00:00-05:00\",\"2014-12-24T00:00:00-05:00\",\"2014-12-26T00:00:00-05:00\",\"2014-12-29T00:00:00-05:00\",\"2014-12-30T00:00:00-05:00\",\"2014-12-31T00:00:00-05:00\",\"2015-01-02T00:00:00-05:00\",\"2015-01-05T00:00:00-05:00\",\"2015-01-06T00:00:00-05:00\",\"2015-01-07T00:00:00-05:00\",\"2015-01-08T00:00:00-05:00\",\"2015-01-09T00:00:00-05:00\",\"2015-01-12T00:00:00-05:00\",\"2015-01-13T00:00:00-05:00\",\"2015-01-14T00:00:00-05:00\",\"2015-01-15T00:00:00-05:00\",\"2015-01-16T00:00:00-05:00\",\"2015-01-20T00:00:00-05:00\",\"2015-01-21T00:00:00-05:00\",\"2015-01-22T00:00:00-05:00\",\"2015-01-23T00:00:00-05:00\",\"2015-01-26T00:00:00-05:00\",\"2015-01-27T00:00:00-05:00\",\"2015-01-28T00:00:00-05:00\",\"2015-01-29T00:00:00-05:00\",\"2015-01-30T00:00:00-05:00\",\"2015-02-02T00:00:00-05:00\",\"2015-02-03T00:00:00-05:00\",\"2015-02-04T00:00:00-05:00\",\"2015-02-05T00:00:00-05:00\",\"2015-02-06T00:00:00-05:00\",\"2015-02-09T00:00:00-05:00\",\"2015-02-10T00:00:00-05:00\",\"2015-02-11T00:00:00-05:00\",\"2015-02-12T00:00:00-05:00\",\"2015-02-13T00:00:00-05:00\",\"2015-02-17T00:00:00-05:00\",\"2015-02-18T00:00:00-05:00\",\"2015-02-19T00:00:00-05:00\",\"2015-02-20T00:00:00-05:00\",\"2015-02-23T00:00:00-05:00\",\"2015-02-24T00:00:00-05:00\",\"2015-02-25T00:00:00-05:00\",\"2015-02-26T00:00:00-05:00\",\"2015-02-27T00:00:00-05:00\",\"2015-03-02T00:00:00-05:00\",\"2015-03-03T00:00:00-05:00\",\"2015-03-04T00:00:00-05:00\",\"2015-03-05T00:00:00-05:00\",\"2015-03-06T00:00:00-05:00\",\"2015-03-09T00:00:00-04:00\",\"2015-03-10T00:00:00-04:00\",\"2015-03-11T00:00:00-04:00\",\"2015-03-12T00:00:00-04:00\",\"2015-03-13T00:00:00-04:00\",\"2015-03-16T00:00:00-04:00\",\"2015-03-17T00:00:00-04:00\",\"2015-03-18T00:00:00-04:00\",\"2015-03-19T00:00:00-04:00\",\"2015-03-20T00:00:00-04:00\",\"2015-03-23T00:00:00-04:00\",\"2015-03-24T00:00:00-04:00\",\"2015-03-25T00:00:00-04:00\",\"2015-03-26T00:00:00-04:00\",\"2015-03-27T00:00:00-04:00\",\"2015-03-30T00:00:00-04:00\",\"2015-03-31T00:00:00-04:00\",\"2015-04-01T00:00:00-04:00\",\"2015-04-02T00:00:00-04:00\",\"2015-04-06T00:00:00-04:00\",\"2015-04-07T00:00:00-04:00\",\"2015-04-08T00:00:00-04:00\",\"2015-04-09T00:00:00-04:00\",\"2015-04-10T00:00:00-04:00\",\"2015-04-13T00:00:00-04:00\",\"2015-04-14T00:00:00-04:00\",\"2015-04-15T00:00:00-04:00\",\"2015-04-16T00:00:00-04:00\",\"2015-04-17T00:00:00-04:00\",\"2015-04-20T00:00:00-04:00\",\"2015-04-21T00:00:00-04:00\",\"2015-04-22T00:00:00-04:00\",\"2015-04-23T00:00:00-04:00\",\"2015-04-24T00:00:00-04:00\",\"2015-04-27T00:00:00-04:00\",\"2015-04-28T00:00:00-04:00\",\"2015-04-29T00:00:00-04:00\",\"2015-04-30T00:00:00-04:00\",\"2015-05-01T00:00:00-04:00\",\"2015-05-04T00:00:00-04:00\",\"2015-05-05T00:00:00-04:00\",\"2015-05-06T00:00:00-04:00\",\"2015-05-07T00:00:00-04:00\",\"2015-05-08T00:00:00-04:00\",\"2015-05-11T00:00:00-04:00\",\"2015-05-12T00:00:00-04:00\",\"2015-05-13T00:00:00-04:00\",\"2015-05-14T00:00:00-04:00\",\"2015-05-15T00:00:00-04:00\",\"2015-05-18T00:00:00-04:00\",\"2015-05-19T00:00:00-04:00\",\"2015-05-20T00:00:00-04:00\",\"2015-05-21T00:00:00-04:00\",\"2015-05-22T00:00:00-04:00\",\"2015-05-26T00:00:00-04:00\",\"2015-05-27T00:00:00-04:00\",\"2015-05-28T00:00:00-04:00\",\"2015-05-29T00:00:00-04:00\",\"2015-06-01T00:00:00-04:00\",\"2015-06-02T00:00:00-04:00\",\"2015-06-03T00:00:00-04:00\",\"2015-06-04T00:00:00-04:00\",\"2015-06-05T00:00:00-04:00\",\"2015-06-08T00:00:00-04:00\",\"2015-06-09T00:00:00-04:00\",\"2015-06-10T00:00:00-04:00\",\"2015-06-11T00:00:00-04:00\",\"2015-06-12T00:00:00-04:00\",\"2015-06-15T00:00:00-04:00\",\"2015-06-16T00:00:00-04:00\",\"2015-06-17T00:00:00-04:00\",\"2015-06-18T00:00:00-04:00\",\"2015-06-19T00:00:00-04:00\",\"2015-06-22T00:00:00-04:00\",\"2015-06-23T00:00:00-04:00\",\"2015-06-24T00:00:00-04:00\",\"2015-06-25T00:00:00-04:00\",\"2015-06-26T00:00:00-04:00\",\"2015-06-29T00:00:00-04:00\",\"2015-06-30T00:00:00-04:00\",\"2015-07-01T00:00:00-04:00\",\"2015-07-02T00:00:00-04:00\",\"2015-07-06T00:00:00-04:00\",\"2015-07-07T00:00:00-04:00\",\"2015-07-08T00:00:00-04:00\",\"2015-07-09T00:00:00-04:00\",\"2015-07-10T00:00:00-04:00\",\"2015-07-13T00:00:00-04:00\",\"2015-07-14T00:00:00-04:00\",\"2015-07-15T00:00:00-04:00\",\"2015-07-16T00:00:00-04:00\",\"2015-07-17T00:00:00-04:00\",\"2015-07-20T00:00:00-04:00\",\"2015-07-21T00:00:00-04:00\",\"2015-07-22T00:00:00-04:00\",\"2015-07-23T00:00:00-04:00\",\"2015-07-24T00:00:00-04:00\",\"2015-07-27T00:00:00-04:00\",\"2015-07-28T00:00:00-04:00\",\"2015-07-29T00:00:00-04:00\",\"2015-07-30T00:00:00-04:00\",\"2015-07-31T00:00:00-04:00\",\"2015-08-03T00:00:00-04:00\",\"2015-08-04T00:00:00-04:00\",\"2015-08-05T00:00:00-04:00\",\"2015-08-06T00:00:00-04:00\",\"2015-08-07T00:00:00-04:00\",\"2015-08-10T00:00:00-04:00\",\"2015-08-11T00:00:00-04:00\",\"2015-08-12T00:00:00-04:00\",\"2015-08-13T00:00:00-04:00\",\"2015-08-14T00:00:00-04:00\",\"2015-08-17T00:00:00-04:00\",\"2015-08-18T00:00:00-04:00\",\"2015-08-19T00:00:00-04:00\",\"2015-08-20T00:00:00-04:00\",\"2015-08-21T00:00:00-04:00\",\"2015-08-24T00:00:00-04:00\",\"2015-08-25T00:00:00-04:00\",\"2015-08-26T00:00:00-04:00\",\"2015-08-27T00:00:00-04:00\",\"2015-08-28T00:00:00-04:00\",\"2015-08-31T00:00:00-04:00\",\"2015-09-01T00:00:00-04:00\",\"2015-09-02T00:00:00-04:00\",\"2015-09-03T00:00:00-04:00\",\"2015-09-04T00:00:00-04:00\",\"2015-09-08T00:00:00-04:00\",\"2015-09-09T00:00:00-04:00\",\"2015-09-10T00:00:00-04:00\",\"2015-09-11T00:00:00-04:00\",\"2015-09-14T00:00:00-04:00\",\"2015-09-15T00:00:00-04:00\",\"2015-09-16T00:00:00-04:00\",\"2015-09-17T00:00:00-04:00\",\"2015-09-18T00:00:00-04:00\",\"2015-09-21T00:00:00-04:00\",\"2015-09-22T00:00:00-04:00\",\"2015-09-23T00:00:00-04:00\",\"2015-09-24T00:00:00-04:00\",\"2015-09-25T00:00:00-04:00\",\"2015-09-28T00:00:00-04:00\",\"2015-09-29T00:00:00-04:00\",\"2015-09-30T00:00:00-04:00\",\"2015-10-01T00:00:00-04:00\",\"2015-10-02T00:00:00-04:00\",\"2015-10-05T00:00:00-04:00\",\"2015-10-06T00:00:00-04:00\",\"2015-10-07T00:00:00-04:00\",\"2015-10-08T00:00:00-04:00\",\"2015-10-09T00:00:00-04:00\",\"2015-10-12T00:00:00-04:00\",\"2015-10-13T00:00:00-04:00\",\"2015-10-14T00:00:00-04:00\",\"2015-10-15T00:00:00-04:00\",\"2015-10-16T00:00:00-04:00\",\"2015-10-19T00:00:00-04:00\",\"2015-10-20T00:00:00-04:00\",\"2015-10-21T00:00:00-04:00\",\"2015-10-22T00:00:00-04:00\",\"2015-10-23T00:00:00-04:00\",\"2015-10-26T00:00:00-04:00\",\"2015-10-27T00:00:00-04:00\",\"2015-10-28T00:00:00-04:00\",\"2015-10-29T00:00:00-04:00\",\"2015-10-30T00:00:00-04:00\",\"2015-11-02T00:00:00-05:00\",\"2015-11-03T00:00:00-05:00\",\"2015-11-04T00:00:00-05:00\",\"2015-11-05T00:00:00-05:00\",\"2015-11-06T00:00:00-05:00\",\"2015-11-09T00:00:00-05:00\",\"2015-11-10T00:00:00-05:00\",\"2015-11-11T00:00:00-05:00\",\"2015-11-12T00:00:00-05:00\",\"2015-11-13T00:00:00-05:00\",\"2015-11-16T00:00:00-05:00\",\"2015-11-17T00:00:00-05:00\",\"2015-11-18T00:00:00-05:00\",\"2015-11-19T00:00:00-05:00\",\"2015-11-20T00:00:00-05:00\",\"2015-11-23T00:00:00-05:00\",\"2015-11-24T00:00:00-05:00\",\"2015-11-25T00:00:00-05:00\",\"2015-11-27T00:00:00-05:00\",\"2015-11-30T00:00:00-05:00\",\"2015-12-01T00:00:00-05:00\",\"2015-12-02T00:00:00-05:00\",\"2015-12-03T00:00:00-05:00\",\"2015-12-04T00:00:00-05:00\",\"2015-12-07T00:00:00-05:00\",\"2015-12-08T00:00:00-05:00\",\"2015-12-09T00:00:00-05:00\",\"2015-12-10T00:00:00-05:00\",\"2015-12-11T00:00:00-05:00\",\"2015-12-14T00:00:00-05:00\",\"2015-12-15T00:00:00-05:00\",\"2015-12-16T00:00:00-05:00\",\"2015-12-17T00:00:00-05:00\",\"2015-12-18T00:00:00-05:00\",\"2015-12-21T00:00:00-05:00\",\"2015-12-22T00:00:00-05:00\",\"2015-12-23T00:00:00-05:00\",\"2015-12-24T00:00:00-05:00\",\"2015-12-28T00:00:00-05:00\",\"2015-12-29T00:00:00-05:00\",\"2015-12-30T00:00:00-05:00\",\"2015-12-31T00:00:00-05:00\",\"2016-01-04T00:00:00-05:00\",\"2016-01-05T00:00:00-05:00\",\"2016-01-06T00:00:00-05:00\",\"2016-01-07T00:00:00-05:00\",\"2016-01-08T00:00:00-05:00\",\"2016-01-11T00:00:00-05:00\",\"2016-01-12T00:00:00-05:00\",\"2016-01-13T00:00:00-05:00\",\"2016-01-14T00:00:00-05:00\",\"2016-01-15T00:00:00-05:00\",\"2016-01-19T00:00:00-05:00\",\"2016-01-20T00:00:00-05:00\",\"2016-01-21T00:00:00-05:00\",\"2016-01-22T00:00:00-05:00\",\"2016-01-25T00:00:00-05:00\",\"2016-01-26T00:00:00-05:00\",\"2016-01-27T00:00:00-05:00\",\"2016-01-28T00:00:00-05:00\",\"2016-01-29T00:00:00-05:00\",\"2016-02-01T00:00:00-05:00\",\"2016-02-02T00:00:00-05:00\",\"2016-02-03T00:00:00-05:00\",\"2016-02-04T00:00:00-05:00\",\"2016-02-05T00:00:00-05:00\",\"2016-02-08T00:00:00-05:00\",\"2016-02-09T00:00:00-05:00\",\"2016-02-10T00:00:00-05:00\",\"2016-02-11T00:00:00-05:00\",\"2016-02-12T00:00:00-05:00\",\"2016-02-16T00:00:00-05:00\",\"2016-02-17T00:00:00-05:00\",\"2016-02-18T00:00:00-05:00\",\"2016-02-19T00:00:00-05:00\",\"2016-02-22T00:00:00-05:00\",\"2016-02-23T00:00:00-05:00\",\"2016-02-24T00:00:00-05:00\",\"2016-02-25T00:00:00-05:00\",\"2016-02-26T00:00:00-05:00\",\"2016-02-29T00:00:00-05:00\",\"2016-03-01T00:00:00-05:00\",\"2016-03-02T00:00:00-05:00\",\"2016-03-03T00:00:00-05:00\",\"2016-03-04T00:00:00-05:00\",\"2016-03-07T00:00:00-05:00\",\"2016-03-08T00:00:00-05:00\",\"2016-03-09T00:00:00-05:00\",\"2016-03-10T00:00:00-05:00\",\"2016-03-11T00:00:00-05:00\",\"2016-03-14T00:00:00-04:00\",\"2016-03-15T00:00:00-04:00\",\"2016-03-16T00:00:00-04:00\",\"2016-03-17T00:00:00-04:00\",\"2016-03-18T00:00:00-04:00\",\"2016-03-21T00:00:00-04:00\",\"2016-03-22T00:00:00-04:00\",\"2016-03-23T00:00:00-04:00\",\"2016-03-24T00:00:00-04:00\",\"2016-03-28T00:00:00-04:00\",\"2016-03-29T00:00:00-04:00\",\"2016-03-30T00:00:00-04:00\",\"2016-03-31T00:00:00-04:00\",\"2016-04-01T00:00:00-04:00\",\"2016-04-04T00:00:00-04:00\",\"2016-04-05T00:00:00-04:00\",\"2016-04-06T00:00:00-04:00\",\"2016-04-07T00:00:00-04:00\",\"2016-04-08T00:00:00-04:00\",\"2016-04-11T00:00:00-04:00\",\"2016-04-12T00:00:00-04:00\",\"2016-04-13T00:00:00-04:00\",\"2016-04-14T00:00:00-04:00\",\"2016-04-15T00:00:00-04:00\",\"2016-04-18T00:00:00-04:00\",\"2016-04-19T00:00:00-04:00\",\"2016-04-20T00:00:00-04:00\",\"2016-04-21T00:00:00-04:00\",\"2016-04-22T00:00:00-04:00\",\"2016-04-25T00:00:00-04:00\",\"2016-04-26T00:00:00-04:00\",\"2016-04-27T00:00:00-04:00\",\"2016-04-28T00:00:00-04:00\",\"2016-04-29T00:00:00-04:00\",\"2016-05-02T00:00:00-04:00\",\"2016-05-03T00:00:00-04:00\",\"2016-05-04T00:00:00-04:00\",\"2016-05-05T00:00:00-04:00\",\"2016-05-06T00:00:00-04:00\",\"2016-05-09T00:00:00-04:00\",\"2016-05-10T00:00:00-04:00\",\"2016-05-11T00:00:00-04:00\",\"2016-05-12T00:00:00-04:00\",\"2016-05-13T00:00:00-04:00\",\"2016-05-16T00:00:00-04:00\",\"2016-05-17T00:00:00-04:00\",\"2016-05-18T00:00:00-04:00\",\"2016-05-19T00:00:00-04:00\",\"2016-05-20T00:00:00-04:00\",\"2016-05-23T00:00:00-04:00\",\"2016-05-24T00:00:00-04:00\",\"2016-05-25T00:00:00-04:00\",\"2016-05-26T00:00:00-04:00\",\"2016-05-27T00:00:00-04:00\",\"2016-05-31T00:00:00-04:00\",\"2016-06-01T00:00:00-04:00\",\"2016-06-02T00:00:00-04:00\",\"2016-06-03T00:00:00-04:00\",\"2016-06-06T00:00:00-04:00\",\"2016-06-07T00:00:00-04:00\",\"2016-06-08T00:00:00-04:00\",\"2016-06-09T00:00:00-04:00\",\"2016-06-10T00:00:00-04:00\",\"2016-06-13T00:00:00-04:00\",\"2016-06-14T00:00:00-04:00\",\"2016-06-15T00:00:00-04:00\",\"2016-06-16T00:00:00-04:00\",\"2016-06-17T00:00:00-04:00\",\"2016-06-20T00:00:00-04:00\",\"2016-06-21T00:00:00-04:00\",\"2016-06-22T00:00:00-04:00\",\"2016-06-23T00:00:00-04:00\",\"2016-06-24T00:00:00-04:00\",\"2016-06-27T00:00:00-04:00\",\"2016-06-28T00:00:00-04:00\",\"2016-06-29T00:00:00-04:00\",\"2016-06-30T00:00:00-04:00\",\"2016-07-01T00:00:00-04:00\",\"2016-07-05T00:00:00-04:00\",\"2016-07-06T00:00:00-04:00\",\"2016-07-07T00:00:00-04:00\",\"2016-07-08T00:00:00-04:00\",\"2016-07-11T00:00:00-04:00\",\"2016-07-12T00:00:00-04:00\",\"2016-07-13T00:00:00-04:00\",\"2016-07-14T00:00:00-04:00\",\"2016-07-15T00:00:00-04:00\",\"2016-07-18T00:00:00-04:00\",\"2016-07-19T00:00:00-04:00\",\"2016-07-20T00:00:00-04:00\",\"2016-07-21T00:00:00-04:00\",\"2016-07-22T00:00:00-04:00\",\"2016-07-25T00:00:00-04:00\",\"2016-07-26T00:00:00-04:00\",\"2016-07-27T00:00:00-04:00\",\"2016-07-28T00:00:00-04:00\",\"2016-07-29T00:00:00-04:00\",\"2016-08-01T00:00:00-04:00\",\"2016-08-02T00:00:00-04:00\",\"2016-08-03T00:00:00-04:00\",\"2016-08-04T00:00:00-04:00\",\"2016-08-05T00:00:00-04:00\",\"2016-08-08T00:00:00-04:00\",\"2016-08-09T00:00:00-04:00\",\"2016-08-10T00:00:00-04:00\",\"2016-08-11T00:00:00-04:00\",\"2016-08-12T00:00:00-04:00\",\"2016-08-15T00:00:00-04:00\",\"2016-08-16T00:00:00-04:00\",\"2016-08-17T00:00:00-04:00\",\"2016-08-18T00:00:00-04:00\",\"2016-08-19T00:00:00-04:00\",\"2016-08-22T00:00:00-04:00\",\"2016-08-23T00:00:00-04:00\",\"2016-08-24T00:00:00-04:00\",\"2016-08-25T00:00:00-04:00\",\"2016-08-26T00:00:00-04:00\",\"2016-08-29T00:00:00-04:00\",\"2016-08-30T00:00:00-04:00\",\"2016-08-31T00:00:00-04:00\",\"2016-09-01T00:00:00-04:00\",\"2016-09-02T00:00:00-04:00\",\"2016-09-06T00:00:00-04:00\",\"2016-09-07T00:00:00-04:00\",\"2016-09-08T00:00:00-04:00\",\"2016-09-09T00:00:00-04:00\",\"2016-09-12T00:00:00-04:00\",\"2016-09-13T00:00:00-04:00\",\"2016-09-14T00:00:00-04:00\",\"2016-09-15T00:00:00-04:00\",\"2016-09-16T00:00:00-04:00\",\"2016-09-19T00:00:00-04:00\",\"2016-09-20T00:00:00-04:00\",\"2016-09-21T00:00:00-04:00\",\"2016-09-22T00:00:00-04:00\",\"2016-09-23T00:00:00-04:00\",\"2016-09-26T00:00:00-04:00\",\"2016-09-27T00:00:00-04:00\",\"2016-09-28T00:00:00-04:00\",\"2016-09-29T00:00:00-04:00\",\"2016-09-30T00:00:00-04:00\",\"2016-10-03T00:00:00-04:00\",\"2016-10-04T00:00:00-04:00\",\"2016-10-05T00:00:00-04:00\",\"2016-10-06T00:00:00-04:00\",\"2016-10-07T00:00:00-04:00\",\"2016-10-10T00:00:00-04:00\",\"2016-10-11T00:00:00-04:00\",\"2016-10-12T00:00:00-04:00\",\"2016-10-13T00:00:00-04:00\",\"2016-10-14T00:00:00-04:00\",\"2016-10-17T00:00:00-04:00\",\"2016-10-18T00:00:00-04:00\",\"2016-10-19T00:00:00-04:00\",\"2016-10-20T00:00:00-04:00\",\"2016-10-21T00:00:00-04:00\",\"2016-10-24T00:00:00-04:00\",\"2016-10-25T00:00:00-04:00\",\"2016-10-26T00:00:00-04:00\",\"2016-10-27T00:00:00-04:00\",\"2016-10-28T00:00:00-04:00\",\"2016-10-31T00:00:00-04:00\",\"2016-11-01T00:00:00-04:00\",\"2016-11-02T00:00:00-04:00\",\"2016-11-03T00:00:00-04:00\",\"2016-11-04T00:00:00-04:00\",\"2016-11-07T00:00:00-05:00\",\"2016-11-08T00:00:00-05:00\",\"2016-11-09T00:00:00-05:00\",\"2016-11-10T00:00:00-05:00\",\"2016-11-11T00:00:00-05:00\",\"2016-11-14T00:00:00-05:00\",\"2016-11-15T00:00:00-05:00\",\"2016-11-16T00:00:00-05:00\",\"2016-11-17T00:00:00-05:00\",\"2016-11-18T00:00:00-05:00\",\"2016-11-21T00:00:00-05:00\",\"2016-11-22T00:00:00-05:00\",\"2016-11-23T00:00:00-05:00\",\"2016-11-25T00:00:00-05:00\",\"2016-11-28T00:00:00-05:00\",\"2016-11-29T00:00:00-05:00\",\"2016-11-30T00:00:00-05:00\",\"2016-12-01T00:00:00-05:00\",\"2016-12-02T00:00:00-05:00\",\"2016-12-05T00:00:00-05:00\",\"2016-12-06T00:00:00-05:00\",\"2016-12-07T00:00:00-05:00\",\"2016-12-08T00:00:00-05:00\",\"2016-12-09T00:00:00-05:00\",\"2016-12-12T00:00:00-05:00\",\"2016-12-13T00:00:00-05:00\",\"2016-12-14T00:00:00-05:00\",\"2016-12-15T00:00:00-05:00\",\"2016-12-16T00:00:00-05:00\",\"2016-12-19T00:00:00-05:00\",\"2016-12-20T00:00:00-05:00\",\"2016-12-21T00:00:00-05:00\",\"2016-12-22T00:00:00-05:00\",\"2016-12-23T00:00:00-05:00\",\"2016-12-27T00:00:00-05:00\",\"2016-12-28T00:00:00-05:00\",\"2016-12-29T00:00:00-05:00\",\"2016-12-30T00:00:00-05:00\",\"2017-01-03T00:00:00-05:00\",\"2017-01-04T00:00:00-05:00\",\"2017-01-05T00:00:00-05:00\",\"2017-01-06T00:00:00-05:00\",\"2017-01-09T00:00:00-05:00\",\"2017-01-10T00:00:00-05:00\",\"2017-01-11T00:00:00-05:00\",\"2017-01-12T00:00:00-05:00\",\"2017-01-13T00:00:00-05:00\",\"2017-01-17T00:00:00-05:00\",\"2017-01-18T00:00:00-05:00\",\"2017-01-19T00:00:00-05:00\",\"2017-01-20T00:00:00-05:00\",\"2017-01-23T00:00:00-05:00\",\"2017-01-24T00:00:00-05:00\",\"2017-01-25T00:00:00-05:00\",\"2017-01-26T00:00:00-05:00\",\"2017-01-27T00:00:00-05:00\",\"2017-01-30T00:00:00-05:00\",\"2017-01-31T00:00:00-05:00\",\"2017-02-01T00:00:00-05:00\",\"2017-02-02T00:00:00-05:00\",\"2017-02-03T00:00:00-05:00\",\"2017-02-06T00:00:00-05:00\",\"2017-02-07T00:00:00-05:00\",\"2017-02-08T00:00:00-05:00\",\"2017-02-09T00:00:00-05:00\",\"2017-02-10T00:00:00-05:00\",\"2017-02-13T00:00:00-05:00\",\"2017-02-14T00:00:00-05:00\",\"2017-02-15T00:00:00-05:00\",\"2017-02-16T00:00:00-05:00\",\"2017-02-17T00:00:00-05:00\",\"2017-02-21T00:00:00-05:00\",\"2017-02-22T00:00:00-05:00\",\"2017-02-23T00:00:00-05:00\",\"2017-02-24T00:00:00-05:00\",\"2017-02-27T00:00:00-05:00\",\"2017-02-28T00:00:00-05:00\",\"2017-03-01T00:00:00-05:00\",\"2017-03-02T00:00:00-05:00\",\"2017-03-03T00:00:00-05:00\",\"2017-03-06T00:00:00-05:00\",\"2017-03-07T00:00:00-05:00\",\"2017-03-08T00:00:00-05:00\",\"2017-03-09T00:00:00-05:00\",\"2017-03-10T00:00:00-05:00\",\"2017-03-13T00:00:00-04:00\",\"2017-03-14T00:00:00-04:00\",\"2017-03-15T00:00:00-04:00\",\"2017-03-16T00:00:00-04:00\",\"2017-03-17T00:00:00-04:00\",\"2017-03-20T00:00:00-04:00\",\"2017-03-21T00:00:00-04:00\",\"2017-03-22T00:00:00-04:00\",\"2017-03-23T00:00:00-04:00\",\"2017-03-24T00:00:00-04:00\",\"2017-03-27T00:00:00-04:00\",\"2017-03-28T00:00:00-04:00\",\"2017-03-29T00:00:00-04:00\",\"2017-03-30T00:00:00-04:00\",\"2017-03-31T00:00:00-04:00\",\"2017-04-03T00:00:00-04:00\",\"2017-04-04T00:00:00-04:00\",\"2017-04-05T00:00:00-04:00\",\"2017-04-06T00:00:00-04:00\",\"2017-04-07T00:00:00-04:00\",\"2017-04-10T00:00:00-04:00\",\"2017-04-11T00:00:00-04:00\",\"2017-04-12T00:00:00-04:00\",\"2017-04-13T00:00:00-04:00\",\"2017-04-17T00:00:00-04:00\",\"2017-04-18T00:00:00-04:00\",\"2017-04-19T00:00:00-04:00\",\"2017-04-20T00:00:00-04:00\",\"2017-04-21T00:00:00-04:00\",\"2017-04-24T00:00:00-04:00\",\"2017-04-25T00:00:00-04:00\",\"2017-04-26T00:00:00-04:00\",\"2017-04-27T00:00:00-04:00\",\"2017-04-28T00:00:00-04:00\",\"2017-05-01T00:00:00-04:00\",\"2017-05-02T00:00:00-04:00\",\"2017-05-03T00:00:00-04:00\",\"2017-05-04T00:00:00-04:00\",\"2017-05-05T00:00:00-04:00\",\"2017-05-08T00:00:00-04:00\",\"2017-05-09T00:00:00-04:00\",\"2017-05-10T00:00:00-04:00\",\"2017-05-11T00:00:00-04:00\",\"2017-05-12T00:00:00-04:00\",\"2017-05-15T00:00:00-04:00\",\"2017-05-16T00:00:00-04:00\",\"2017-05-17T00:00:00-04:00\",\"2017-05-18T00:00:00-04:00\",\"2017-05-19T00:00:00-04:00\",\"2017-05-22T00:00:00-04:00\",\"2017-05-23T00:00:00-04:00\",\"2017-05-24T00:00:00-04:00\",\"2017-05-25T00:00:00-04:00\",\"2017-05-26T00:00:00-04:00\",\"2017-05-30T00:00:00-04:00\",\"2017-05-31T00:00:00-04:00\",\"2017-06-01T00:00:00-04:00\",\"2017-06-02T00:00:00-04:00\",\"2017-06-05T00:00:00-04:00\",\"2017-06-06T00:00:00-04:00\",\"2017-06-07T00:00:00-04:00\",\"2017-06-08T00:00:00-04:00\",\"2017-06-09T00:00:00-04:00\",\"2017-06-12T00:00:00-04:00\",\"2017-06-13T00:00:00-04:00\",\"2017-06-14T00:00:00-04:00\",\"2017-06-15T00:00:00-04:00\",\"2017-06-16T00:00:00-04:00\",\"2017-06-19T00:00:00-04:00\",\"2017-06-20T00:00:00-04:00\",\"2017-06-21T00:00:00-04:00\",\"2017-06-22T00:00:00-04:00\",\"2017-06-23T00:00:00-04:00\",\"2017-06-26T00:00:00-04:00\",\"2017-06-27T00:00:00-04:00\",\"2017-06-28T00:00:00-04:00\",\"2017-06-29T00:00:00-04:00\",\"2017-06-30T00:00:00-04:00\",\"2017-07-03T00:00:00-04:00\",\"2017-07-05T00:00:00-04:00\",\"2017-07-06T00:00:00-04:00\",\"2017-07-07T00:00:00-04:00\",\"2017-07-10T00:00:00-04:00\",\"2017-07-11T00:00:00-04:00\",\"2017-07-12T00:00:00-04:00\",\"2017-07-13T00:00:00-04:00\",\"2017-07-14T00:00:00-04:00\",\"2017-07-17T00:00:00-04:00\",\"2017-07-18T00:00:00-04:00\",\"2017-07-19T00:00:00-04:00\",\"2017-07-20T00:00:00-04:00\",\"2017-07-21T00:00:00-04:00\",\"2017-07-24T00:00:00-04:00\",\"2017-07-25T00:00:00-04:00\",\"2017-07-26T00:00:00-04:00\",\"2017-07-27T00:00:00-04:00\",\"2017-07-28T00:00:00-04:00\",\"2017-07-31T00:00:00-04:00\",\"2017-08-01T00:00:00-04:00\",\"2017-08-02T00:00:00-04:00\",\"2017-08-03T00:00:00-04:00\",\"2017-08-04T00:00:00-04:00\",\"2017-08-07T00:00:00-04:00\",\"2017-08-08T00:00:00-04:00\",\"2017-08-09T00:00:00-04:00\",\"2017-08-10T00:00:00-04:00\",\"2017-08-11T00:00:00-04:00\",\"2017-08-14T00:00:00-04:00\",\"2017-08-15T00:00:00-04:00\",\"2017-08-16T00:00:00-04:00\",\"2017-08-17T00:00:00-04:00\",\"2017-08-18T00:00:00-04:00\",\"2017-08-21T00:00:00-04:00\",\"2017-08-22T00:00:00-04:00\",\"2017-08-23T00:00:00-04:00\",\"2017-08-24T00:00:00-04:00\",\"2017-08-25T00:00:00-04:00\",\"2017-08-28T00:00:00-04:00\",\"2017-08-29T00:00:00-04:00\",\"2017-08-30T00:00:00-04:00\",\"2017-08-31T00:00:00-04:00\",\"2017-09-01T00:00:00-04:00\",\"2017-09-05T00:00:00-04:00\",\"2017-09-06T00:00:00-04:00\",\"2017-09-07T00:00:00-04:00\",\"2017-09-08T00:00:00-04:00\",\"2017-09-11T00:00:00-04:00\",\"2017-09-12T00:00:00-04:00\",\"2017-09-13T00:00:00-04:00\",\"2017-09-14T00:00:00-04:00\",\"2017-09-15T00:00:00-04:00\",\"2017-09-18T00:00:00-04:00\",\"2017-09-19T00:00:00-04:00\",\"2017-09-20T00:00:00-04:00\",\"2017-09-21T00:00:00-04:00\",\"2017-09-22T00:00:00-04:00\",\"2017-09-25T00:00:00-04:00\",\"2017-09-26T00:00:00-04:00\",\"2017-09-27T00:00:00-04:00\",\"2017-09-28T00:00:00-04:00\",\"2017-09-29T00:00:00-04:00\",\"2017-10-02T00:00:00-04:00\",\"2017-10-03T00:00:00-04:00\",\"2017-10-04T00:00:00-04:00\",\"2017-10-05T00:00:00-04:00\",\"2017-10-06T00:00:00-04:00\",\"2017-10-09T00:00:00-04:00\",\"2017-10-10T00:00:00-04:00\",\"2017-10-11T00:00:00-04:00\",\"2017-10-12T00:00:00-04:00\",\"2017-10-13T00:00:00-04:00\",\"2017-10-16T00:00:00-04:00\",\"2017-10-17T00:00:00-04:00\",\"2017-10-18T00:00:00-04:00\",\"2017-10-19T00:00:00-04:00\",\"2017-10-20T00:00:00-04:00\",\"2017-10-23T00:00:00-04:00\",\"2017-10-24T00:00:00-04:00\",\"2017-10-25T00:00:00-04:00\",\"2017-10-26T00:00:00-04:00\",\"2017-10-27T00:00:00-04:00\",\"2017-10-30T00:00:00-04:00\",\"2017-10-31T00:00:00-04:00\",\"2017-11-01T00:00:00-04:00\",\"2017-11-02T00:00:00-04:00\",\"2017-11-03T00:00:00-04:00\",\"2017-11-06T00:00:00-05:00\",\"2017-11-07T00:00:00-05:00\",\"2017-11-08T00:00:00-05:00\",\"2017-11-09T00:00:00-05:00\",\"2017-11-10T00:00:00-05:00\",\"2017-11-13T00:00:00-05:00\",\"2017-11-14T00:00:00-05:00\",\"2017-11-15T00:00:00-05:00\",\"2017-11-16T00:00:00-05:00\",\"2017-11-17T00:00:00-05:00\",\"2017-11-20T00:00:00-05:00\",\"2017-11-21T00:00:00-05:00\",\"2017-11-22T00:00:00-05:00\",\"2017-11-24T00:00:00-05:00\",\"2017-11-27T00:00:00-05:00\",\"2017-11-28T00:00:00-05:00\",\"2017-11-29T00:00:00-05:00\",\"2017-11-30T00:00:00-05:00\",\"2017-12-01T00:00:00-05:00\",\"2017-12-04T00:00:00-05:00\",\"2017-12-05T00:00:00-05:00\",\"2017-12-06T00:00:00-05:00\",\"2017-12-07T00:00:00-05:00\",\"2017-12-08T00:00:00-05:00\",\"2017-12-11T00:00:00-05:00\",\"2017-12-12T00:00:00-05:00\",\"2017-12-13T00:00:00-05:00\",\"2017-12-14T00:00:00-05:00\",\"2017-12-15T00:00:00-05:00\",\"2017-12-18T00:00:00-05:00\",\"2017-12-19T00:00:00-05:00\",\"2017-12-20T00:00:00-05:00\",\"2017-12-21T00:00:00-05:00\",\"2017-12-22T00:00:00-05:00\",\"2017-12-26T00:00:00-05:00\",\"2017-12-27T00:00:00-05:00\",\"2017-12-28T00:00:00-05:00\",\"2017-12-29T00:00:00-05:00\",\"2018-01-02T00:00:00-05:00\",\"2018-01-03T00:00:00-05:00\",\"2018-01-04T00:00:00-05:00\",\"2018-01-05T00:00:00-05:00\",\"2018-01-08T00:00:00-05:00\",\"2018-01-09T00:00:00-05:00\",\"2018-01-10T00:00:00-05:00\",\"2018-01-11T00:00:00-05:00\",\"2018-01-12T00:00:00-05:00\",\"2018-01-16T00:00:00-05:00\",\"2018-01-17T00:00:00-05:00\",\"2018-01-18T00:00:00-05:00\",\"2018-01-19T00:00:00-05:00\",\"2018-01-22T00:00:00-05:00\",\"2018-01-23T00:00:00-05:00\",\"2018-01-24T00:00:00-05:00\",\"2018-01-25T00:00:00-05:00\",\"2018-01-26T00:00:00-05:00\",\"2018-01-29T00:00:00-05:00\",\"2018-01-30T00:00:00-05:00\",\"2018-01-31T00:00:00-05:00\",\"2018-02-01T00:00:00-05:00\",\"2018-02-02T00:00:00-05:00\",\"2018-02-05T00:00:00-05:00\",\"2018-02-06T00:00:00-05:00\",\"2018-02-07T00:00:00-05:00\",\"2018-02-08T00:00:00-05:00\",\"2018-02-09T00:00:00-05:00\",\"2018-02-12T00:00:00-05:00\",\"2018-02-13T00:00:00-05:00\",\"2018-02-14T00:00:00-05:00\",\"2018-02-15T00:00:00-05:00\",\"2018-02-16T00:00:00-05:00\",\"2018-02-20T00:00:00-05:00\",\"2018-02-21T00:00:00-05:00\",\"2018-02-22T00:00:00-05:00\",\"2018-02-23T00:00:00-05:00\",\"2018-02-26T00:00:00-05:00\",\"2018-02-27T00:00:00-05:00\",\"2018-02-28T00:00:00-05:00\",\"2018-03-01T00:00:00-05:00\",\"2018-03-02T00:00:00-05:00\",\"2018-03-05T00:00:00-05:00\",\"2018-03-06T00:00:00-05:00\",\"2018-03-07T00:00:00-05:00\",\"2018-03-08T00:00:00-05:00\",\"2018-03-09T00:00:00-05:00\",\"2018-03-12T00:00:00-04:00\",\"2018-03-13T00:00:00-04:00\",\"2018-03-14T00:00:00-04:00\",\"2018-03-15T00:00:00-04:00\",\"2018-03-16T00:00:00-04:00\",\"2018-03-19T00:00:00-04:00\",\"2018-03-20T00:00:00-04:00\",\"2018-03-21T00:00:00-04:00\",\"2018-03-22T00:00:00-04:00\",\"2018-03-23T00:00:00-04:00\",\"2018-03-26T00:00:00-04:00\",\"2018-03-27T00:00:00-04:00\",\"2018-03-28T00:00:00-04:00\",\"2018-03-29T00:00:00-04:00\",\"2018-04-02T00:00:00-04:00\",\"2018-04-03T00:00:00-04:00\",\"2018-04-04T00:00:00-04:00\",\"2018-04-05T00:00:00-04:00\",\"2018-04-06T00:00:00-04:00\",\"2018-04-09T00:00:00-04:00\",\"2018-04-10T00:00:00-04:00\",\"2018-04-11T00:00:00-04:00\",\"2018-04-12T00:00:00-04:00\",\"2018-04-13T00:00:00-04:00\",\"2018-04-16T00:00:00-04:00\",\"2018-04-17T00:00:00-04:00\",\"2018-04-18T00:00:00-04:00\",\"2018-04-19T00:00:00-04:00\",\"2018-04-20T00:00:00-04:00\",\"2018-04-23T00:00:00-04:00\",\"2018-04-24T00:00:00-04:00\",\"2018-04-25T00:00:00-04:00\",\"2018-04-26T00:00:00-04:00\",\"2018-04-27T00:00:00-04:00\",\"2018-04-30T00:00:00-04:00\",\"2018-05-01T00:00:00-04:00\",\"2018-05-02T00:00:00-04:00\",\"2018-05-03T00:00:00-04:00\",\"2018-05-04T00:00:00-04:00\",\"2018-05-07T00:00:00-04:00\",\"2018-05-08T00:00:00-04:00\",\"2018-05-09T00:00:00-04:00\",\"2018-05-10T00:00:00-04:00\",\"2018-05-11T00:00:00-04:00\",\"2018-05-14T00:00:00-04:00\",\"2018-05-15T00:00:00-04:00\",\"2018-05-16T00:00:00-04:00\",\"2018-05-17T00:00:00-04:00\",\"2018-05-18T00:00:00-04:00\",\"2018-05-21T00:00:00-04:00\",\"2018-05-22T00:00:00-04:00\",\"2018-05-23T00:00:00-04:00\",\"2018-05-24T00:00:00-04:00\",\"2018-05-25T00:00:00-04:00\",\"2018-05-29T00:00:00-04:00\",\"2018-05-30T00:00:00-04:00\",\"2018-05-31T00:00:00-04:00\",\"2018-06-01T00:00:00-04:00\",\"2018-06-04T00:00:00-04:00\",\"2018-06-05T00:00:00-04:00\",\"2018-06-06T00:00:00-04:00\",\"2018-06-07T00:00:00-04:00\",\"2018-06-08T00:00:00-04:00\",\"2018-06-11T00:00:00-04:00\",\"2018-06-12T00:00:00-04:00\",\"2018-06-13T00:00:00-04:00\",\"2018-06-14T00:00:00-04:00\",\"2018-06-15T00:00:00-04:00\",\"2018-06-18T00:00:00-04:00\",\"2018-06-19T00:00:00-04:00\",\"2018-06-20T00:00:00-04:00\",\"2018-06-21T00:00:00-04:00\",\"2018-06-22T00:00:00-04:00\",\"2018-06-25T00:00:00-04:00\",\"2018-06-26T00:00:00-04:00\",\"2018-06-27T00:00:00-04:00\",\"2018-06-28T00:00:00-04:00\",\"2018-06-29T00:00:00-04:00\",\"2018-07-02T00:00:00-04:00\",\"2018-07-03T00:00:00-04:00\",\"2018-07-05T00:00:00-04:00\",\"2018-07-06T00:00:00-04:00\",\"2018-07-09T00:00:00-04:00\",\"2018-07-10T00:00:00-04:00\",\"2018-07-11T00:00:00-04:00\",\"2018-07-12T00:00:00-04:00\",\"2018-07-13T00:00:00-04:00\",\"2018-07-16T00:00:00-04:00\",\"2018-07-17T00:00:00-04:00\",\"2018-07-18T00:00:00-04:00\",\"2018-07-19T00:00:00-04:00\",\"2018-07-20T00:00:00-04:00\",\"2018-07-23T00:00:00-04:00\",\"2018-07-24T00:00:00-04:00\",\"2018-07-25T00:00:00-04:00\",\"2018-07-26T00:00:00-04:00\",\"2018-07-27T00:00:00-04:00\",\"2018-07-30T00:00:00-04:00\",\"2018-07-31T00:00:00-04:00\",\"2018-08-01T00:00:00-04:00\",\"2018-08-02T00:00:00-04:00\",\"2018-08-03T00:00:00-04:00\",\"2018-08-06T00:00:00-04:00\",\"2018-08-07T00:00:00-04:00\",\"2018-08-08T00:00:00-04:00\",\"2018-08-09T00:00:00-04:00\",\"2018-08-10T00:00:00-04:00\",\"2018-08-13T00:00:00-04:00\",\"2018-08-14T00:00:00-04:00\",\"2018-08-15T00:00:00-04:00\",\"2018-08-16T00:00:00-04:00\",\"2018-08-17T00:00:00-04:00\",\"2018-08-20T00:00:00-04:00\",\"2018-08-21T00:00:00-04:00\",\"2018-08-22T00:00:00-04:00\",\"2018-08-23T00:00:00-04:00\",\"2018-08-24T00:00:00-04:00\",\"2018-08-27T00:00:00-04:00\",\"2018-08-28T00:00:00-04:00\",\"2018-08-29T00:00:00-04:00\",\"2018-08-30T00:00:00-04:00\",\"2018-08-31T00:00:00-04:00\",\"2018-09-04T00:00:00-04:00\",\"2018-09-05T00:00:00-04:00\",\"2018-09-06T00:00:00-04:00\",\"2018-09-07T00:00:00-04:00\",\"2018-09-10T00:00:00-04:00\",\"2018-09-11T00:00:00-04:00\",\"2018-09-12T00:00:00-04:00\",\"2018-09-13T00:00:00-04:00\",\"2018-09-14T00:00:00-04:00\",\"2018-09-17T00:00:00-04:00\",\"2018-09-18T00:00:00-04:00\",\"2018-09-19T00:00:00-04:00\",\"2018-09-20T00:00:00-04:00\",\"2018-09-21T00:00:00-04:00\",\"2018-09-24T00:00:00-04:00\",\"2018-09-25T00:00:00-04:00\",\"2018-09-26T00:00:00-04:00\",\"2018-09-27T00:00:00-04:00\",\"2018-09-28T00:00:00-04:00\",\"2018-10-01T00:00:00-04:00\",\"2018-10-02T00:00:00-04:00\",\"2018-10-03T00:00:00-04:00\",\"2018-10-04T00:00:00-04:00\",\"2018-10-05T00:00:00-04:00\",\"2018-10-08T00:00:00-04:00\",\"2018-10-09T00:00:00-04:00\",\"2018-10-10T00:00:00-04:00\",\"2018-10-11T00:00:00-04:00\",\"2018-10-12T00:00:00-04:00\",\"2018-10-15T00:00:00-04:00\",\"2018-10-16T00:00:00-04:00\",\"2018-10-17T00:00:00-04:00\",\"2018-10-18T00:00:00-04:00\",\"2018-10-19T00:00:00-04:00\",\"2018-10-22T00:00:00-04:00\",\"2018-10-23T00:00:00-04:00\",\"2018-10-24T00:00:00-04:00\",\"2018-10-25T00:00:00-04:00\",\"2018-10-26T00:00:00-04:00\",\"2018-10-29T00:00:00-04:00\",\"2018-10-30T00:00:00-04:00\",\"2018-10-31T00:00:00-04:00\",\"2018-11-01T00:00:00-04:00\",\"2018-11-02T00:00:00-04:00\",\"2018-11-05T00:00:00-05:00\",\"2018-11-06T00:00:00-05:00\",\"2018-11-07T00:00:00-05:00\",\"2018-11-08T00:00:00-05:00\",\"2018-11-09T00:00:00-05:00\",\"2018-11-12T00:00:00-05:00\",\"2018-11-13T00:00:00-05:00\",\"2018-11-14T00:00:00-05:00\",\"2018-11-15T00:00:00-05:00\",\"2018-11-16T00:00:00-05:00\",\"2018-11-19T00:00:00-05:00\",\"2018-11-20T00:00:00-05:00\",\"2018-11-21T00:00:00-05:00\",\"2018-11-23T00:00:00-05:00\",\"2018-11-26T00:00:00-05:00\",\"2018-11-27T00:00:00-05:00\",\"2018-11-28T00:00:00-05:00\",\"2018-11-29T00:00:00-05:00\",\"2018-11-30T00:00:00-05:00\",\"2018-12-03T00:00:00-05:00\",\"2018-12-04T00:00:00-05:00\",\"2018-12-06T00:00:00-05:00\",\"2018-12-07T00:00:00-05:00\",\"2018-12-10T00:00:00-05:00\",\"2018-12-11T00:00:00-05:00\",\"2018-12-12T00:00:00-05:00\",\"2018-12-13T00:00:00-05:00\",\"2018-12-14T00:00:00-05:00\",\"2018-12-17T00:00:00-05:00\",\"2018-12-18T00:00:00-05:00\",\"2018-12-19T00:00:00-05:00\",\"2018-12-20T00:00:00-05:00\",\"2018-12-21T00:00:00-05:00\",\"2018-12-24T00:00:00-05:00\",\"2018-12-26T00:00:00-05:00\",\"2018-12-27T00:00:00-05:00\",\"2018-12-28T00:00:00-05:00\",\"2018-12-31T00:00:00-05:00\",\"2019-01-02T00:00:00-05:00\",\"2019-01-03T00:00:00-05:00\",\"2019-01-04T00:00:00-05:00\",\"2019-01-07T00:00:00-05:00\",\"2019-01-08T00:00:00-05:00\",\"2019-01-09T00:00:00-05:00\",\"2019-01-10T00:00:00-05:00\",\"2019-01-11T00:00:00-05:00\",\"2019-01-14T00:00:00-05:00\",\"2019-01-15T00:00:00-05:00\",\"2019-01-16T00:00:00-05:00\",\"2019-01-17T00:00:00-05:00\",\"2019-01-18T00:00:00-05:00\",\"2019-01-22T00:00:00-05:00\",\"2019-01-23T00:00:00-05:00\",\"2019-01-24T00:00:00-05:00\",\"2019-01-25T00:00:00-05:00\",\"2019-01-28T00:00:00-05:00\",\"2019-01-29T00:00:00-05:00\",\"2019-01-30T00:00:00-05:00\",\"2019-01-31T00:00:00-05:00\",\"2019-02-01T00:00:00-05:00\",\"2019-02-04T00:00:00-05:00\",\"2019-02-05T00:00:00-05:00\",\"2019-02-06T00:00:00-05:00\",\"2019-02-07T00:00:00-05:00\",\"2019-02-08T00:00:00-05:00\",\"2019-02-11T00:00:00-05:00\",\"2019-02-12T00:00:00-05:00\",\"2019-02-13T00:00:00-05:00\",\"2019-02-14T00:00:00-05:00\",\"2019-02-15T00:00:00-05:00\",\"2019-02-19T00:00:00-05:00\",\"2019-02-20T00:00:00-05:00\",\"2019-02-21T00:00:00-05:00\",\"2019-02-22T00:00:00-05:00\",\"2019-02-25T00:00:00-05:00\",\"2019-02-26T00:00:00-05:00\",\"2019-02-27T00:00:00-05:00\",\"2019-02-28T00:00:00-05:00\",\"2019-03-01T00:00:00-05:00\",\"2019-03-04T00:00:00-05:00\",\"2019-03-05T00:00:00-05:00\",\"2019-03-06T00:00:00-05:00\",\"2019-03-07T00:00:00-05:00\",\"2019-03-08T00:00:00-05:00\",\"2019-03-11T00:00:00-04:00\",\"2019-03-12T00:00:00-04:00\",\"2019-03-13T00:00:00-04:00\",\"2019-03-14T00:00:00-04:00\",\"2019-03-15T00:00:00-04:00\",\"2019-03-18T00:00:00-04:00\",\"2019-03-19T00:00:00-04:00\",\"2019-03-20T00:00:00-04:00\",\"2019-03-21T00:00:00-04:00\",\"2019-03-22T00:00:00-04:00\",\"2019-03-25T00:00:00-04:00\",\"2019-03-26T00:00:00-04:00\",\"2019-03-27T00:00:00-04:00\",\"2019-03-28T00:00:00-04:00\",\"2019-03-29T00:00:00-04:00\",\"2019-04-01T00:00:00-04:00\",\"2019-04-02T00:00:00-04:00\",\"2019-04-03T00:00:00-04:00\",\"2019-04-04T00:00:00-04:00\",\"2019-04-05T00:00:00-04:00\",\"2019-04-08T00:00:00-04:00\",\"2019-04-09T00:00:00-04:00\",\"2019-04-10T00:00:00-04:00\",\"2019-04-11T00:00:00-04:00\",\"2019-04-12T00:00:00-04:00\",\"2019-04-15T00:00:00-04:00\",\"2019-04-16T00:00:00-04:00\",\"2019-04-17T00:00:00-04:00\",\"2019-04-18T00:00:00-04:00\",\"2019-04-22T00:00:00-04:00\",\"2019-04-23T00:00:00-04:00\",\"2019-04-24T00:00:00-04:00\",\"2019-04-25T00:00:00-04:00\",\"2019-04-26T00:00:00-04:00\",\"2019-04-29T00:00:00-04:00\",\"2019-04-30T00:00:00-04:00\",\"2019-05-01T00:00:00-04:00\",\"2019-05-02T00:00:00-04:00\",\"2019-05-03T00:00:00-04:00\",\"2019-05-06T00:00:00-04:00\",\"2019-05-07T00:00:00-04:00\",\"2019-05-08T00:00:00-04:00\",\"2019-05-09T00:00:00-04:00\",\"2019-05-10T00:00:00-04:00\",\"2019-05-13T00:00:00-04:00\",\"2019-05-14T00:00:00-04:00\",\"2019-05-15T00:00:00-04:00\",\"2019-05-16T00:00:00-04:00\",\"2019-05-17T00:00:00-04:00\",\"2019-05-20T00:00:00-04:00\",\"2019-05-21T00:00:00-04:00\",\"2019-05-22T00:00:00-04:00\",\"2019-05-23T00:00:00-04:00\",\"2019-05-24T00:00:00-04:00\",\"2019-05-28T00:00:00-04:00\",\"2019-05-29T00:00:00-04:00\",\"2019-05-30T00:00:00-04:00\",\"2019-05-31T00:00:00-04:00\",\"2019-06-03T00:00:00-04:00\",\"2019-06-04T00:00:00-04:00\",\"2019-06-05T00:00:00-04:00\",\"2019-06-06T00:00:00-04:00\",\"2019-06-07T00:00:00-04:00\",\"2019-06-10T00:00:00-04:00\",\"2019-06-11T00:00:00-04:00\",\"2019-06-12T00:00:00-04:00\",\"2019-06-13T00:00:00-04:00\",\"2019-06-14T00:00:00-04:00\",\"2019-06-17T00:00:00-04:00\",\"2019-06-18T00:00:00-04:00\",\"2019-06-19T00:00:00-04:00\",\"2019-06-20T00:00:00-04:00\",\"2019-06-21T00:00:00-04:00\",\"2019-06-24T00:00:00-04:00\",\"2019-06-25T00:00:00-04:00\",\"2019-06-26T00:00:00-04:00\",\"2019-06-27T00:00:00-04:00\",\"2019-06-28T00:00:00-04:00\",\"2019-07-01T00:00:00-04:00\",\"2019-07-02T00:00:00-04:00\",\"2019-07-03T00:00:00-04:00\",\"2019-07-05T00:00:00-04:00\",\"2019-07-08T00:00:00-04:00\",\"2019-07-09T00:00:00-04:00\",\"2019-07-10T00:00:00-04:00\",\"2019-07-11T00:00:00-04:00\",\"2019-07-12T00:00:00-04:00\",\"2019-07-15T00:00:00-04:00\",\"2019-07-16T00:00:00-04:00\",\"2019-07-17T00:00:00-04:00\",\"2019-07-18T00:00:00-04:00\",\"2019-07-19T00:00:00-04:00\",\"2019-07-22T00:00:00-04:00\",\"2019-07-23T00:00:00-04:00\",\"2019-07-24T00:00:00-04:00\",\"2019-07-25T00:00:00-04:00\",\"2019-07-26T00:00:00-04:00\",\"2019-07-29T00:00:00-04:00\",\"2019-07-30T00:00:00-04:00\",\"2019-07-31T00:00:00-04:00\",\"2019-08-01T00:00:00-04:00\",\"2019-08-02T00:00:00-04:00\",\"2019-08-05T00:00:00-04:00\",\"2019-08-06T00:00:00-04:00\",\"2019-08-07T00:00:00-04:00\",\"2019-08-08T00:00:00-04:00\",\"2019-08-09T00:00:00-04:00\",\"2019-08-12T00:00:00-04:00\",\"2019-08-13T00:00:00-04:00\",\"2019-08-14T00:00:00-04:00\",\"2019-08-15T00:00:00-04:00\",\"2019-08-16T00:00:00-04:00\",\"2019-08-19T00:00:00-04:00\",\"2019-08-20T00:00:00-04:00\",\"2019-08-21T00:00:00-04:00\",\"2019-08-22T00:00:00-04:00\",\"2019-08-23T00:00:00-04:00\",\"2019-08-26T00:00:00-04:00\",\"2019-08-27T00:00:00-04:00\",\"2019-08-28T00:00:00-04:00\",\"2019-08-29T00:00:00-04:00\",\"2019-08-30T00:00:00-04:00\",\"2019-09-03T00:00:00-04:00\",\"2019-09-04T00:00:00-04:00\",\"2019-09-05T00:00:00-04:00\",\"2019-09-06T00:00:00-04:00\",\"2019-09-09T00:00:00-04:00\",\"2019-09-10T00:00:00-04:00\",\"2019-09-11T00:00:00-04:00\",\"2019-09-12T00:00:00-04:00\",\"2019-09-13T00:00:00-04:00\",\"2019-09-16T00:00:00-04:00\",\"2019-09-17T00:00:00-04:00\",\"2019-09-18T00:00:00-04:00\",\"2019-09-19T00:00:00-04:00\",\"2019-09-20T00:00:00-04:00\",\"2019-09-23T00:00:00-04:00\",\"2019-09-24T00:00:00-04:00\",\"2019-09-25T00:00:00-04:00\",\"2019-09-26T00:00:00-04:00\",\"2019-09-27T00:00:00-04:00\",\"2019-09-30T00:00:00-04:00\",\"2019-10-01T00:00:00-04:00\",\"2019-10-02T00:00:00-04:00\",\"2019-10-03T00:00:00-04:00\",\"2019-10-04T00:00:00-04:00\",\"2019-10-07T00:00:00-04:00\",\"2019-10-08T00:00:00-04:00\",\"2019-10-09T00:00:00-04:00\",\"2019-10-10T00:00:00-04:00\",\"2019-10-11T00:00:00-04:00\",\"2019-10-14T00:00:00-04:00\",\"2019-10-15T00:00:00-04:00\",\"2019-10-16T00:00:00-04:00\",\"2019-10-17T00:00:00-04:00\",\"2019-10-18T00:00:00-04:00\",\"2019-10-21T00:00:00-04:00\",\"2019-10-22T00:00:00-04:00\",\"2019-10-23T00:00:00-04:00\",\"2019-10-24T00:00:00-04:00\",\"2019-10-25T00:00:00-04:00\",\"2019-10-28T00:00:00-04:00\",\"2019-10-29T00:00:00-04:00\",\"2019-10-30T00:00:00-04:00\",\"2019-10-31T00:00:00-04:00\",\"2019-11-01T00:00:00-04:00\",\"2019-11-04T00:00:00-05:00\",\"2019-11-05T00:00:00-05:00\",\"2019-11-06T00:00:00-05:00\",\"2019-11-07T00:00:00-05:00\",\"2019-11-08T00:00:00-05:00\",\"2019-11-11T00:00:00-05:00\",\"2019-11-12T00:00:00-05:00\",\"2019-11-13T00:00:00-05:00\",\"2019-11-14T00:00:00-05:00\",\"2019-11-15T00:00:00-05:00\",\"2019-11-18T00:00:00-05:00\",\"2019-11-19T00:00:00-05:00\",\"2019-11-20T00:00:00-05:00\",\"2019-11-21T00:00:00-05:00\",\"2019-11-22T00:00:00-05:00\",\"2019-11-25T00:00:00-05:00\",\"2019-11-26T00:00:00-05:00\",\"2019-11-27T00:00:00-05:00\",\"2019-11-29T00:00:00-05:00\",\"2019-12-02T00:00:00-05:00\",\"2019-12-03T00:00:00-05:00\",\"2019-12-04T00:00:00-05:00\",\"2019-12-05T00:00:00-05:00\",\"2019-12-06T00:00:00-05:00\",\"2019-12-09T00:00:00-05:00\",\"2019-12-10T00:00:00-05:00\",\"2019-12-11T00:00:00-05:00\",\"2019-12-12T00:00:00-05:00\",\"2019-12-13T00:00:00-05:00\",\"2019-12-16T00:00:00-05:00\",\"2019-12-17T00:00:00-05:00\",\"2019-12-18T00:00:00-05:00\",\"2019-12-19T00:00:00-05:00\",\"2019-12-20T00:00:00-05:00\",\"2019-12-23T00:00:00-05:00\",\"2019-12-24T00:00:00-05:00\",\"2019-12-26T00:00:00-05:00\",\"2019-12-27T00:00:00-05:00\",\"2019-12-30T00:00:00-05:00\",\"2019-12-31T00:00:00-05:00\",\"2020-01-02T00:00:00-05:00\",\"2020-01-03T00:00:00-05:00\",\"2020-01-06T00:00:00-05:00\",\"2020-01-07T00:00:00-05:00\",\"2020-01-08T00:00:00-05:00\",\"2020-01-09T00:00:00-05:00\",\"2020-01-10T00:00:00-05:00\",\"2020-01-13T00:00:00-05:00\",\"2020-01-14T00:00:00-05:00\",\"2020-01-15T00:00:00-05:00\",\"2020-01-16T00:00:00-05:00\",\"2020-01-17T00:00:00-05:00\",\"2020-01-21T00:00:00-05:00\",\"2020-01-22T00:00:00-05:00\",\"2020-01-23T00:00:00-05:00\",\"2020-01-24T00:00:00-05:00\",\"2020-01-27T00:00:00-05:00\",\"2020-01-28T00:00:00-05:00\",\"2020-01-29T00:00:00-05:00\",\"2020-01-30T00:00:00-05:00\",\"2020-01-31T00:00:00-05:00\",\"2020-02-03T00:00:00-05:00\",\"2020-02-04T00:00:00-05:00\",\"2020-02-05T00:00:00-05:00\",\"2020-02-06T00:00:00-05:00\",\"2020-02-07T00:00:00-05:00\",\"2020-02-10T00:00:00-05:00\",\"2020-02-11T00:00:00-05:00\",\"2020-02-12T00:00:00-05:00\",\"2020-02-13T00:00:00-05:00\",\"2020-02-14T00:00:00-05:00\",\"2020-02-18T00:00:00-05:00\",\"2020-02-19T00:00:00-05:00\",\"2020-02-20T00:00:00-05:00\",\"2020-02-21T00:00:00-05:00\",\"2020-02-24T00:00:00-05:00\",\"2020-02-25T00:00:00-05:00\",\"2020-02-26T00:00:00-05:00\",\"2020-02-27T00:00:00-05:00\",\"2020-02-28T00:00:00-05:00\",\"2020-03-02T00:00:00-05:00\",\"2020-03-03T00:00:00-05:00\",\"2020-03-04T00:00:00-05:00\",\"2020-03-05T00:00:00-05:00\",\"2020-03-06T00:00:00-05:00\",\"2020-03-09T00:00:00-04:00\",\"2020-03-10T00:00:00-04:00\",\"2020-03-11T00:00:00-04:00\",\"2020-03-12T00:00:00-04:00\",\"2020-03-13T00:00:00-04:00\",\"2020-03-16T00:00:00-04:00\",\"2020-03-17T00:00:00-04:00\",\"2020-03-18T00:00:00-04:00\",\"2020-03-19T00:00:00-04:00\",\"2020-03-20T00:00:00-04:00\",\"2020-03-23T00:00:00-04:00\",\"2020-03-24T00:00:00-04:00\",\"2020-03-25T00:00:00-04:00\",\"2020-03-26T00:00:00-04:00\",\"2020-03-27T00:00:00-04:00\",\"2020-03-30T00:00:00-04:00\",\"2020-03-31T00:00:00-04:00\",\"2020-04-01T00:00:00-04:00\",\"2020-04-02T00:00:00-04:00\",\"2020-04-03T00:00:00-04:00\",\"2020-04-06T00:00:00-04:00\",\"2020-04-07T00:00:00-04:00\",\"2020-04-08T00:00:00-04:00\",\"2020-04-09T00:00:00-04:00\",\"2020-04-13T00:00:00-04:00\",\"2020-04-14T00:00:00-04:00\",\"2020-04-15T00:00:00-04:00\",\"2020-04-16T00:00:00-04:00\",\"2020-04-17T00:00:00-04:00\",\"2020-04-20T00:00:00-04:00\",\"2020-04-21T00:00:00-04:00\",\"2020-04-22T00:00:00-04:00\",\"2020-04-23T00:00:00-04:00\",\"2020-04-24T00:00:00-04:00\",\"2020-04-27T00:00:00-04:00\",\"2020-04-28T00:00:00-04:00\",\"2020-04-29T00:00:00-04:00\",\"2020-04-30T00:00:00-04:00\",\"2020-05-01T00:00:00-04:00\",\"2020-05-04T00:00:00-04:00\",\"2020-05-05T00:00:00-04:00\",\"2020-05-06T00:00:00-04:00\",\"2020-05-07T00:00:00-04:00\",\"2020-05-08T00:00:00-04:00\",\"2020-05-11T00:00:00-04:00\",\"2020-05-12T00:00:00-04:00\",\"2020-05-13T00:00:00-04:00\",\"2020-05-14T00:00:00-04:00\",\"2020-05-15T00:00:00-04:00\",\"2020-05-18T00:00:00-04:00\",\"2020-05-19T00:00:00-04:00\",\"2020-05-20T00:00:00-04:00\",\"2020-05-21T00:00:00-04:00\",\"2020-05-22T00:00:00-04:00\",\"2020-05-26T00:00:00-04:00\",\"2020-05-27T00:00:00-04:00\",\"2020-05-28T00:00:00-04:00\",\"2020-05-29T00:00:00-04:00\",\"2020-06-01T00:00:00-04:00\",\"2020-06-02T00:00:00-04:00\",\"2020-06-03T00:00:00-04:00\",\"2020-06-04T00:00:00-04:00\",\"2020-06-05T00:00:00-04:00\",\"2020-06-08T00:00:00-04:00\",\"2020-06-09T00:00:00-04:00\",\"2020-06-10T00:00:00-04:00\",\"2020-06-11T00:00:00-04:00\",\"2020-06-12T00:00:00-04:00\",\"2020-06-15T00:00:00-04:00\",\"2020-06-16T00:00:00-04:00\",\"2020-06-17T00:00:00-04:00\",\"2020-06-18T00:00:00-04:00\",\"2020-06-19T00:00:00-04:00\",\"2020-06-22T00:00:00-04:00\",\"2020-06-23T00:00:00-04:00\",\"2020-06-24T00:00:00-04:00\",\"2020-06-25T00:00:00-04:00\",\"2020-06-26T00:00:00-04:00\",\"2020-06-29T00:00:00-04:00\",\"2020-06-30T00:00:00-04:00\",\"2020-07-01T00:00:00-04:00\",\"2020-07-02T00:00:00-04:00\",\"2020-07-06T00:00:00-04:00\",\"2020-07-07T00:00:00-04:00\",\"2020-07-08T00:00:00-04:00\",\"2020-07-09T00:00:00-04:00\",\"2020-07-10T00:00:00-04:00\",\"2020-07-13T00:00:00-04:00\",\"2020-07-14T00:00:00-04:00\",\"2020-07-15T00:00:00-04:00\",\"2020-07-16T00:00:00-04:00\",\"2020-07-17T00:00:00-04:00\",\"2020-07-20T00:00:00-04:00\",\"2020-07-21T00:00:00-04:00\",\"2020-07-22T00:00:00-04:00\",\"2020-07-23T00:00:00-04:00\",\"2020-07-24T00:00:00-04:00\",\"2020-07-27T00:00:00-04:00\",\"2020-07-28T00:00:00-04:00\",\"2020-07-29T00:00:00-04:00\",\"2020-07-30T00:00:00-04:00\",\"2020-07-31T00:00:00-04:00\",\"2020-08-03T00:00:00-04:00\",\"2020-08-04T00:00:00-04:00\",\"2020-08-05T00:00:00-04:00\",\"2020-08-06T00:00:00-04:00\",\"2020-08-07T00:00:00-04:00\",\"2020-08-10T00:00:00-04:00\",\"2020-08-11T00:00:00-04:00\",\"2020-08-12T00:00:00-04:00\",\"2020-08-13T00:00:00-04:00\",\"2020-08-14T00:00:00-04:00\",\"2020-08-17T00:00:00-04:00\",\"2020-08-18T00:00:00-04:00\",\"2020-08-19T00:00:00-04:00\",\"2020-08-20T00:00:00-04:00\",\"2020-08-21T00:00:00-04:00\",\"2020-08-24T00:00:00-04:00\",\"2020-08-25T00:00:00-04:00\",\"2020-08-26T00:00:00-04:00\",\"2020-08-27T00:00:00-04:00\",\"2020-08-28T00:00:00-04:00\",\"2020-08-31T00:00:00-04:00\",\"2020-09-01T00:00:00-04:00\",\"2020-09-02T00:00:00-04:00\",\"2020-09-03T00:00:00-04:00\",\"2020-09-04T00:00:00-04:00\",\"2020-09-08T00:00:00-04:00\",\"2020-09-09T00:00:00-04:00\",\"2020-09-10T00:00:00-04:00\",\"2020-09-11T00:00:00-04:00\",\"2020-09-14T00:00:00-04:00\",\"2020-09-15T00:00:00-04:00\",\"2020-09-16T00:00:00-04:00\",\"2020-09-17T00:00:00-04:00\",\"2020-09-18T00:00:00-04:00\",\"2020-09-21T00:00:00-04:00\",\"2020-09-22T00:00:00-04:00\",\"2020-09-23T00:00:00-04:00\",\"2020-09-24T00:00:00-04:00\",\"2020-09-25T00:00:00-04:00\",\"2020-09-28T00:00:00-04:00\",\"2020-09-29T00:00:00-04:00\",\"2020-09-30T00:00:00-04:00\",\"2020-10-01T00:00:00-04:00\",\"2020-10-02T00:00:00-04:00\",\"2020-10-05T00:00:00-04:00\",\"2020-10-06T00:00:00-04:00\",\"2020-10-07T00:00:00-04:00\",\"2020-10-08T00:00:00-04:00\",\"2020-10-09T00:00:00-04:00\",\"2020-10-12T00:00:00-04:00\",\"2020-10-13T00:00:00-04:00\",\"2020-10-14T00:00:00-04:00\",\"2020-10-15T00:00:00-04:00\",\"2020-10-16T00:00:00-04:00\",\"2020-10-19T00:00:00-04:00\",\"2020-10-20T00:00:00-04:00\",\"2020-10-21T00:00:00-04:00\",\"2020-10-22T00:00:00-04:00\",\"2020-10-23T00:00:00-04:00\",\"2020-10-26T00:00:00-04:00\",\"2020-10-27T00:00:00-04:00\",\"2020-10-28T00:00:00-04:00\",\"2020-10-29T00:00:00-04:00\",\"2020-10-30T00:00:00-04:00\",\"2020-11-02T00:00:00-05:00\",\"2020-11-03T00:00:00-05:00\",\"2020-11-04T00:00:00-05:00\",\"2020-11-05T00:00:00-05:00\",\"2020-11-06T00:00:00-05:00\",\"2020-11-09T00:00:00-05:00\",\"2020-11-10T00:00:00-05:00\",\"2020-11-11T00:00:00-05:00\",\"2020-11-12T00:00:00-05:00\",\"2020-11-13T00:00:00-05:00\",\"2020-11-16T00:00:00-05:00\",\"2020-11-17T00:00:00-05:00\",\"2020-11-18T00:00:00-05:00\",\"2020-11-19T00:00:00-05:00\",\"2020-11-20T00:00:00-05:00\",\"2020-11-23T00:00:00-05:00\",\"2020-11-24T00:00:00-05:00\",\"2020-11-25T00:00:00-05:00\",\"2020-11-27T00:00:00-05:00\",\"2020-11-30T00:00:00-05:00\",\"2020-12-01T00:00:00-05:00\",\"2020-12-02T00:00:00-05:00\",\"2020-12-03T00:00:00-05:00\",\"2020-12-04T00:00:00-05:00\",\"2020-12-07T00:00:00-05:00\",\"2020-12-08T00:00:00-05:00\",\"2020-12-09T00:00:00-05:00\",\"2020-12-10T00:00:00-05:00\",\"2020-12-11T00:00:00-05:00\",\"2020-12-14T00:00:00-05:00\",\"2020-12-15T00:00:00-05:00\",\"2020-12-16T00:00:00-05:00\",\"2020-12-17T00:00:00-05:00\",\"2020-12-18T00:00:00-05:00\",\"2020-12-21T00:00:00-05:00\",\"2020-12-22T00:00:00-05:00\",\"2020-12-23T00:00:00-05:00\",\"2020-12-24T00:00:00-05:00\",\"2020-12-28T00:00:00-05:00\",\"2020-12-29T00:00:00-05:00\",\"2020-12-30T00:00:00-05:00\",\"2020-12-31T00:00:00-05:00\",\"2021-01-04T00:00:00-05:00\",\"2021-01-05T00:00:00-05:00\",\"2021-01-06T00:00:00-05:00\",\"2021-01-07T00:00:00-05:00\",\"2021-01-08T00:00:00-05:00\",\"2021-01-11T00:00:00-05:00\",\"2021-01-12T00:00:00-05:00\",\"2021-01-13T00:00:00-05:00\",\"2021-01-14T00:00:00-05:00\",\"2021-01-15T00:00:00-05:00\",\"2021-01-19T00:00:00-05:00\",\"2021-01-20T00:00:00-05:00\",\"2021-01-21T00:00:00-05:00\",\"2021-01-22T00:00:00-05:00\",\"2021-01-25T00:00:00-05:00\",\"2021-01-26T00:00:00-05:00\",\"2021-01-27T00:00:00-05:00\",\"2021-01-28T00:00:00-05:00\",\"2021-01-29T00:00:00-05:00\",\"2021-02-01T00:00:00-05:00\",\"2021-02-02T00:00:00-05:00\",\"2021-02-03T00:00:00-05:00\",\"2021-02-04T00:00:00-05:00\",\"2021-02-05T00:00:00-05:00\",\"2021-02-08T00:00:00-05:00\",\"2021-02-09T00:00:00-05:00\",\"2021-02-10T00:00:00-05:00\",\"2021-02-11T00:00:00-05:00\",\"2021-02-12T00:00:00-05:00\",\"2021-02-16T00:00:00-05:00\",\"2021-02-17T00:00:00-05:00\",\"2021-02-18T00:00:00-05:00\",\"2021-02-19T00:00:00-05:00\",\"2021-02-22T00:00:00-05:00\",\"2021-02-23T00:00:00-05:00\",\"2021-02-24T00:00:00-05:00\",\"2021-02-25T00:00:00-05:00\",\"2021-02-26T00:00:00-05:00\",\"2021-03-01T00:00:00-05:00\",\"2021-03-02T00:00:00-05:00\",\"2021-03-03T00:00:00-05:00\",\"2021-03-04T00:00:00-05:00\",\"2021-03-05T00:00:00-05:00\",\"2021-03-08T00:00:00-05:00\",\"2021-03-09T00:00:00-05:00\",\"2021-03-10T00:00:00-05:00\",\"2021-03-11T00:00:00-05:00\",\"2021-03-12T00:00:00-05:00\",\"2021-03-15T00:00:00-04:00\",\"2021-03-16T00:00:00-04:00\",\"2021-03-17T00:00:00-04:00\",\"2021-03-18T00:00:00-04:00\",\"2021-03-19T00:00:00-04:00\",\"2021-03-22T00:00:00-04:00\",\"2021-03-23T00:00:00-04:00\",\"2021-03-24T00:00:00-04:00\",\"2021-03-25T00:00:00-04:00\",\"2021-03-26T00:00:00-04:00\",\"2021-03-29T00:00:00-04:00\",\"2021-03-30T00:00:00-04:00\",\"2021-03-31T00:00:00-04:00\",\"2021-04-01T00:00:00-04:00\",\"2021-04-05T00:00:00-04:00\",\"2021-04-06T00:00:00-04:00\",\"2021-04-07T00:00:00-04:00\",\"2021-04-08T00:00:00-04:00\",\"2021-04-09T00:00:00-04:00\",\"2021-04-12T00:00:00-04:00\",\"2021-04-13T00:00:00-04:00\",\"2021-04-14T00:00:00-04:00\",\"2021-04-15T00:00:00-04:00\",\"2021-04-16T00:00:00-04:00\",\"2021-04-19T00:00:00-04:00\",\"2021-04-20T00:00:00-04:00\",\"2021-04-21T00:00:00-04:00\",\"2021-04-22T00:00:00-04:00\",\"2021-04-23T00:00:00-04:00\",\"2021-04-26T00:00:00-04:00\",\"2021-04-27T00:00:00-04:00\",\"2021-04-28T00:00:00-04:00\",\"2021-04-29T00:00:00-04:00\",\"2021-04-30T00:00:00-04:00\",\"2021-05-03T00:00:00-04:00\",\"2021-05-04T00:00:00-04:00\",\"2021-05-05T00:00:00-04:00\",\"2021-05-06T00:00:00-04:00\",\"2021-05-07T00:00:00-04:00\",\"2021-05-10T00:00:00-04:00\",\"2021-05-11T00:00:00-04:00\",\"2021-05-12T00:00:00-04:00\",\"2021-05-13T00:00:00-04:00\",\"2021-05-14T00:00:00-04:00\",\"2021-05-17T00:00:00-04:00\",\"2021-05-18T00:00:00-04:00\",\"2021-05-19T00:00:00-04:00\",\"2021-05-20T00:00:00-04:00\",\"2021-05-21T00:00:00-04:00\",\"2021-05-24T00:00:00-04:00\",\"2021-05-25T00:00:00-04:00\",\"2021-05-26T00:00:00-04:00\",\"2021-05-27T00:00:00-04:00\",\"2021-05-28T00:00:00-04:00\",\"2021-06-01T00:00:00-04:00\",\"2021-06-02T00:00:00-04:00\",\"2021-06-03T00:00:00-04:00\",\"2021-06-04T00:00:00-04:00\",\"2021-06-07T00:00:00-04:00\",\"2021-06-08T00:00:00-04:00\",\"2021-06-09T00:00:00-04:00\",\"2021-06-10T00:00:00-04:00\",\"2021-06-11T00:00:00-04:00\",\"2021-06-14T00:00:00-04:00\"],\"y\":[1.6916669607162476,1.6832501888275146,1.674834132194519,1.6075048446655273,1.6622101068496704,1.6580015420913696,1.628544807434082,1.6411690711975098,1.6411690711975098,1.6117125749588013,1.6075048446655273,1.6302279233932495,1.6580015420913696,1.6201286315917969,1.628544807434082,1.718598484992981,1.7589964866638184,1.781720519065857,1.7842453718185425,1.7690961360931396,1.7674131393432617,1.712707281112671,1.62433660030365,1.573838710784912,1.516608476638794,1.5780471563339233,1.62433660030365,1.6596847772598267,1.6815673112869263,1.733748197555542,1.7000831365585327,1.6032955646514893,1.5687888860702515,1.5654233694076538,1.5948797464370728,1.556165099143982,1.5401742458343506,1.5948797464370728,1.5923550128936768,1.5570062398910522,1.5359658002853394,1.5620561838150024,1.5990877151489258,1.6672595739364624,1.6672595739364624,1.7059743404388428,1.6832501888275146,1.6453770399093628,1.6335939168930054,1.6327531337738037,1.6201286315917969,1.5906713008880615,1.6032955646514893,1.7253315448760986,1.75310480594635,1.750580072402954,1.8305342197418213,1.8094942569732666,1.8852404356002808,1.9231138229370117,1.8566250801086426,1.8094942569732666,1.750580072402954,1.670626163482666,1.733748197555542,1.7867704629898071,1.7993944883346558,1.7253315448760986,1.7884535789489746,1.8860821723937988,1.9744526147842407,2.037574052810669,1.9862350225448608,1.95762038230896,2.035891532897949,1.9567782878875732,1.9719278812408447,1.9567782878875732,1.9567782878875732,1.931530237197876,1.893656849861145,1.9146968126296997,1.8852404356002808,1.9323714971542358,1.8944979906082153,1.9374209642410278,1.8953397274017334,1.93573796749115,1.8431589603424072,1.7674131393432617,1.7270148992538452,1.6815673112869263,1.5948797464370728,1.6832501888275146,1.766571044921875,1.6613680124282837,1.5788884162902832,1.5570062398910522,1.599929690361023,1.6672595739364624,1.6411690711975098,1.6159203052520752,1.5511152744293213,1.4888348579406738,1.405514121055603,1.3625913858413696,1.3541749715805054,1.3499667644500732,1.3280843496322632,1.3297679424285889,1.3466002941131592,1.4804186820983887,1.429079532623291,1.4762108325958252,1.5401742458343506,1.5107171535491943,1.4728442430496216,1.404672384262085,1.2708542346954346,1.2918946743011475,1.3289259672164917,1.3373425006866455,1.2540215253829956,1.2834783792495728,1.3676408529281616,1.3760571479797363,1.4560115337371826,1.523341417312622,1.5931965112686157,1.6790422201156616,1.760680079460144,1.8052870035171509,1.7253315448760986,1.6622101068496704,1.738797664642334,1.7345895767211914,1.7589964866638184,1.8036023378372192,1.750580072402954,1.6832501888275146,1.5654233694076538,1.6142370700836182,1.650426983833313,1.6874582767486572,1.7169150114059448,1.750580072402954,1.7169150114059448,1.6495850086212158,1.7009246349334717,1.718598484992981,1.6916669607162476,1.7068158388137817,1.6874582767486572,1.674834132194519,1.6344358921051025,1.6537930965423584,1.7379562854766846,1.7909786701202393,1.721123218536377,1.6832501888275146,1.6664177179336548,1.6117125749588013,1.6251782178878784,1.5654233694076538,1.5906713008880615,1.4703189134597778,1.5410155057907104,1.562897801399231,1.5772055387496948,1.6487433910369873,1.6411690711975098,1.6647347211837769,1.712707281112671,1.7547887563705444,1.6133954524993896,1.6782007217407227,1.7169150114059448,1.712707281112671,1.5612146854400635,1.514925479888916,1.514925479888916,1.5065085887908936,1.4837850332260132,1.5216580629348755,1.5780471563339233,1.5654233694076538,1.5544816255569458,1.4332876205444336,1.4644279479980469,1.5485904216766357,1.5990877151489258,1.5990877151489258,1.6975575685501099,1.7034491300582886,1.6075048446655273,1.6201286315917969,1.6361191272735596,1.5570062398910522,1.5620561838150024,1.5570062398910522,1.5713139772415161,1.5654233694076538,1.5906713008880615,1.6041373014450073,1.5822550058364868,1.6201286315917969,1.6176035404205322,1.5275497436523438,1.5250242948532104,1.4484366178512573,1.523341417312622,1.3297679424285889,1.3466002941131592,1.2540215253829956,1.1210447549819946,0.7843944430351257,0.7970191240310669,0.7911275029182434,0.7700871229171753,0.7742952108383179,0.786919355392456,0.8189013004302979,0.8247925043106079,0.8180595636367798,0.8306840062141418,0.8315257430076599,0.8500415682792664,0.8542491793632507,0.8921226859092712,0.873607337474823,0.8879142999649048,0.8332088589668274,0.8029103875160217,0.8037524223327637,0.8037524223327637,0.812168300151825,0.8332088589668274,0.8205845355987549,0.791969358921051,0.757462739944458,0.7566210031509399,0.757462739944458,0.7465215921401978,0.7153814435005188,0.6951823830604553,0.7145397663116455,0.694340705871582,0.6733001470565796,0.6665669679641724,0.6497347354888916,0.6387934684753418,0.6733001470565796,0.6665669679641724,0.6926574110984802,0.8584575057029724,0.875290036201477,0.8576160073280334,0.8921226859092712,0.8710822463035583,0.8677154183387756,0.8550911545753479,0.8635074496269226,0.8837065696716309,0.907271683216095,0.875290036201477,0.8837065696716309,0.9089555144309998,0.9190546870231628,0.8921226859092712,0.9022223353385925,0.9257877469062805,0.9712350964546204,1.018366813659668,1.022574782371521,1.018366813659668,1.0208913087844849,0.9931175112724304,1.0200494527816772,0.9905928373336792,1.00153386592865,1.0099502801895142,1.0099502801895142,1.0133167505264282,1.0099502801895142,1.0107918977737427,1.0250993967056274,1.0082670450210571,1.08401358127594,1.089904546737671,1.0772805213928223,1.0570811033248901,1.0377240180969238,1.0452983379364014,1.0730719566345215,1.0562394857406616,1.0629725456237793,1.0419321060180664,1.0604475736618042,1.0688639879226685,1.0941128730773926,1.0436148643493652,1.0166831016540527,1.0335159301757812,1.0671806335449219,1.005742073059082,0.959452748298645,0.9476698637008667,1.0074254274368286,0.9880678057670593,1.117678165435791,1.098320722579956,1.118519902229309,1.153868317604065,1.0966376066207886,1.1235696077346802,1.0932711362838745,1.0941128730773926,1.0461397171020508,1.0166831016540527,1.0394071340560913,0.9720771908760071,0.9889096021652222,1.0141583681106567,1.0495067834854126,1.0495067834854126,1.0545563697814941,1.0638140439987183,1.0621309280395508,1.0604475736618042,1.0814884901046753,1.0856964588165283,1.0730719566345215,1.0730719566345215,1.0730719566345215,1.0697053670883179,1.0730719566345215,1.1101033687591553,1.168175458908081,1.1673341989517212,1.1395604610443115,1.1429266929626465,1.1025290489196777,1.1260946989059448,1.110945224761963,1.089063048362732,1.0562394857406616,1.087380051612854,1.1101033687591553,1.1446102857589722,1.1193615198135376,1.1589179039001465,1.227931022644043,1.2498133182525635,1.2035239934921265,1.1824833154678345,1.2119401693344116,1.1883745193481445,1.1462935209274292,1.136193871498108,1.140401840209961,1.110945224761963,1.1547095775604248,1.1159948110580444,1.1319860219955444,1.136193871498108,1.1866915225982666,1.1993156671524048,1.1908997297286987,1.1446102857589722,1.1387189626693726,1.1572349071502686,1.1277775764465332,1.1025290489196777,1.1058951616287231,1.070547342300415,1.0654975175857544,1.0730719566345215,1.0814884901046753,1.1025290489196777,1.110945224761963,1.0941128730773926,1.205207109451294,1.2430803775787354,1.3163018226623535,1.3701659440994263,1.388681411743164,1.342392086982727,1.380265235900879,1.388681411743164,1.3996227979660034,1.4560115337371826,1.495568037033081,1.5132420063018799,1.514925479888916,1.5014593601226807,1.4896764755249023,1.4509615898132324,1.4299211502075195,1.414771556854248,1.4475953578948975,1.4181386232376099,1.453486442565918,1.4433870315551758,1.4433870315551758,1.4122470617294312,1.4433870315551758,1.3785820007324219,1.3466002941131592,1.3676408529281616,1.3718488216400146,1.3381839990615845,1.3676408529281616,1.3954144716262817,1.403830885887146,1.451803207397461,1.451803207397461,1.4374955892562866,1.4728442430496216,1.4661110639572144,1.5511152744293213,1.5864636898040771,1.5923550128936768,1.5755218267440796,1.5359658002853394,1.519133448600769,1.515767216682434,1.4770519733428955,1.4316045045852661,1.3524917364120483,1.403830885887146,1.4602197408676147,1.4307628870010376,1.4307628870010376,1.4156137704849243,1.314618468284607,1.335659146308899,1.405514121055603,1.4223467111587524,1.4139301776885986,1.4013057947158813,1.4223467111587524,1.453486442565918,1.405514121055603,1.3609079122543335,1.3466002941131592,1.275062084197998,1.296944499015808,1.365116000175476,1.3609079122543335,1.3861562013626099,1.357541561126709,1.3600664138793945,1.359224557876587,1.3457589149475098,1.2834783792495728,1.2876867055892944,1.2506550550460815,1.2371889352798462,1.2346643209457397,1.2035239934921265,1.2169899940490723,1.2876867055892944,1.2742204666137695,1.2127816677093506,1.2573879957199097,1.2371889352798462,1.275062084197998,1.2952611446380615,1.2658042907714844,1.3238765001296997,1.2615960836410522,1.2674875259399414,1.2961030006408691,1.3070437908172607,1.296944499015808,1.2733787298202515,1.3516497611999512,1.514925479888916,1.4349710941314697,1.562897801399231,1.5124003887176514,1.5115585327148438,1.4997762441635132,1.4795769453048706,1.4644279479980469,1.4728442430496216,1.4644279479980469,1.4694772958755493,1.4484366178512573,1.4299211502075195,1.4425456523895264,1.4349710941314697,1.392889380455017,1.388681411743164,1.3970975875854492,1.3760571479797363,1.3710073232650757,1.3735322952270508,1.388681411743164,1.4661110639572144,1.4139301776885986,1.4475953578948975,1.4728442430496216,1.4728442430496216,1.4459117650985718,1.5410155057907104,1.519133448600769,1.519974946975708,1.514925479888916,1.498934268951416,1.5679476261138916,1.5696309804916382,1.5553231239318848,1.5696309804916382,1.5620561838150024,1.5275497436523438,1.5393327474594116,1.515767216682434,1.523341417312622,1.4980926513671875,1.492201566696167,1.436653971672058,1.4189801216125488,1.5065085887908936,1.4795769453048706,1.4450702667236328,1.4198217391967773,1.408038854598999,1.436653971672058,1.3895231485366821,1.4307628870010376,1.4299211502075195,1.451803207397461,1.4711607694625854,1.5258665084838867,1.5115585327148438,1.516608476638794,1.5090339183807373,1.5452238321304321,1.5536398887634277,1.5485904216766357,1.5418568849563599,1.5502738952636719,1.5527983903884888,1.5107171535491943,1.5073506832122803,1.5393327474594116,1.5334410667419434,1.537649154663086,1.5140838623046875,1.556165099143982,1.5603729486465454,1.5275497436523438,1.5283915996551514,1.5384905338287354,1.5140838623046875,1.493884801864624,1.4821019172668457,1.495568037033081,1.5300747156143188,1.5216580629348755,1.519133448600769,1.4812602996826172,1.4475953578948975,1.4728442430496216,1.459377646446228,1.451803207397461,1.436653971672058,1.3912063837051392,1.3255596160888672,1.3045189380645752,1.29021155834198,1.2961030006408691,1.2952611446380615,1.2961030006408691,1.3213512897491455,1.3238765001296997,1.314618468284607,1.3062019348144531,1.3095686435699463,1.2876867055892944,1.3120934963226318,1.342392086982727,1.342392086982727,1.3524917364120483,1.3314510583877563,1.296944499015808,1.2961030006408691,1.3280843496322632,1.3053603172302246,1.2649625539779663,1.2624377012252808,1.2237231731414795,1.248971700668335,1.2397137880325317,1.2708542346954346,1.2632789611816406,1.2540215253829956,1.2809538841247559,1.2456051111221313,1.2506550550460815,1.2413966655731201,1.227089762687683,1.2371889352798462,1.2456051111221313,1.2624377012252808,1.2742204666137695,1.275062084197998,1.270012378692627,1.266645908355713,1.2456051111221313,1.2775869369506836,1.3062019348144531,1.2918946743011475,1.2254064083099365,1.2262479066848755,1.286845088005066,1.271695852279663,1.2952611446380615,1.2961030006408691,1.319668173789978,1.2876867055892944,1.2792701721191406,1.2582294940948486,1.2624377012252808,1.2514963150024414,1.270012378692627,1.2658042907714844,1.2548633813858032,1.2624377012252808,1.3297679424285889,1.3508083820343018,1.4088809490203857,1.4433870315551758,1.4307628870010376,1.408038854598999,1.4273964166641235,1.4307628870010376,1.4198217391967773,1.4299211502075195,1.4400209188461304,1.4105638265609741,1.4257131814956665,1.4560115337371826,1.452644944190979,1.4585363864898682,1.4341294765472412,1.452644944190979,1.4509615898132324,1.4585363864898682,1.468636155128479,1.4753687381744385,1.4964096546173096,1.5780471563339233,1.523341417312622,1.5570062398910522,1.5317579507827759,1.5023010969161987,1.5359658002853394,1.5081924200057983,1.4964096546173096,1.5292330980300903,1.5578479766845703,1.5923550128936768,1.6790422201156616,1.702607274055481,1.6739922761917114,1.5923550128936768,1.5755218267440796,1.609187364578247,1.6159203052520752,1.5864636898040771,1.5527983903884888,1.606662392616272,1.6075048446655273,1.5931965112686157,1.610870122909546,1.6394855976104736,1.6218119859695435,1.6159203052520752,1.636960744857788,1.6840921640396118,1.674834132194519,1.6487433910369873,1.6672595739364624,1.6883000135421753,1.6798837184906006,1.7084983587265015,1.8120191097259521,1.9231138229370117,1.8507335186004639,1.8010777235031128,1.8002361059188843,1.9778192043304443,1.948361873626709,1.8776655197143555,1.851575493812561,1.8431589603424072,1.72869873046875,1.665576457977295,1.733748197555542,1.8078111410140991,1.8263267278671265,1.796870231628418,1.7749875783920288,1.7758285999298096,1.772462248802185,1.7674131393432617,1.7707796096801758,1.7758285999298096,1.8027610778808594,1.8027610778808594,1.8221180438995361,1.8094942569732666,1.7867704629898071,1.789294958114624,1.8069692850112915,1.7800371646881104,1.7690961360931396,1.7842453718185425,1.8456835746765137,1.8061273097991943,1.7943446636199951,1.8726166486740112,1.879348874092102,1.890290379524231,1.8818739652633667,1.8120191097259521,1.7926613092422485,1.7909786701202393,1.7800371646881104,1.6453770399093628,1.6327531337738037,1.6117125749588013,1.6024547815322876,1.5974045991897583,1.6032955646514893,1.6260201930999756,1.629386305809021,1.6133954524993896,1.6075048446655273,1.5721557140350342,1.5729975700378418,1.609187364578247,1.6192868947982788,1.5822550058364868,1.606662392616272,1.6218119859695435,1.686617136001587,1.650426983833313,1.654634952545166,1.6411690711975098,1.6411690711975098,1.609187364578247,1.5923550128936768,1.6117125749588013,1.6201286315917969,1.6571601629257202,1.6580015420913696,1.6630514860153198,1.6436940431594849,1.5746809244155884,1.585621953010559,1.5654233694076538,1.6184451580047607,1.6335939168930054,1.7059743404388428,1.7068158388137817,1.712707281112671,1.741322636604309,1.7514220476150513,1.7278568744659424,1.7051328420639038,1.7084983587265015,1.7076572179794312,1.654634952545166,1.783403754234314,1.750580072402954,1.7699377536773682,1.7690961360931396,1.7345895767211914,1.6411690711975098,1.8473670482635498,1.897864580154419,1.9710866212844849,1.8995481729507446,1.9121723175048828,1.8650410175323486,1.8322179317474365,1.833059549331665,1.8608334064483643,1.8456835746765137,1.8507335186004639,1.833059549331665,1.8103361129760742,1.8473670482635498,1.8111776113510132,1.759838342666626,1.8187522888183594,1.9954935312271118,2.0283167362213135,1.9710866212844849,2.013167381286621,1.9904433488845825,2.050198793411255,2.0687148571014404,2.0594563484191895,2.0645065307617188,2.071239948272705,2.1579267978668213,2.146143913269043,2.116687297821045,2.1713929176330566,2.1739180088043213,2.167184352874756,2.1596100330352783,2.165501594543457,2.1713929176330566,2.1453022956848145,2.1604514122009277,2.2050580978393555,2.286696195602417,2.358234167098999,2.358234167098999,2.4019978046417236,2.5038352012634277,2.4062068462371826,2.480269432067871,2.51393461227417,2.454179525375366,2.5282421112060547,2.533291816711426,2.6157712936401367,2.7378060817718506,2.695725440979004,2.6258702278137207,2.717607021331787,2.758005380630493,2.7436976432800293,2.7251827716827393,2.8211276531219482,2.7765214443206787,2.783254861831665,2.7260236740112305,2.697409152984619,2.7352817058563232,2.7352817058563232,2.7016167640686035,2.6578519344329834,2.7285494804382324,2.732757091522217,2.7529561519622803,2.7613720893859863,2.784937858581543,2.830385208129883,2.8800418376922607,2.959153890609741,2.985244035720825,3.0046021938323975,2.986086368560791,2.976827621459961,2.9616785049438477,2.944004774093628,2.944004774093628,2.9692530632019043,2.9473717212677,2.8985564708709717,2.8766748905181885,2.8657338619232178,2.942321538925171,2.975144863128662,2.890982151031494,2.870783567428589,2.9204394817352295,2.8876161575317383,2.816920280456543,2.710033655166626,2.710874319076538,2.768947124481201,2.7723124027252197,2.7352817058563232,2.642702579498291,2.6553268432617188,2.530766725540161,2.4785854816436768,2.721815824508667,2.775679588317871,2.882565975189209,2.9355885982513428,2.903606414794922,2.8993990421295166,2.8623671531677246,2.840484857559204,2.804295063018799,2.840484857559204,2.819444417953491,2.8472180366516113,3.0062851905822754,3.049208164215088,3.030691623687744,3.0416338443756104,3.0601494312286377,3.050048589706421,3.0887644290924072,3.0163848400115967,3.031534433364868,3.028167724609375,2.9717788696289062,2.7874624729156494,2.811028242111206,2.844693422317505,2.8017704486846924,2.7537965774536133,2.7647390365600586,2.7016167640686035,2.6485941410064697,2.606513023376465,2.6494359970092773,2.6940414905548096,2.6090378761291504,2.583789348602295,2.629236936569214,2.6006221771240234,2.5879967212677,2.58042311668396,2.604830026626587,2.6553268432617188,2.763896942138672,2.858159065246582,2.86489200592041,2.8690998554229736,2.921280860900879,3.002077341079712,2.851426362991333,2.7807295322418213,2.901923179626465,2.986086368560791,2.996185302734375,3.050891637802124,3.1131720542907715,3.0618324279785156,3.1308467388153076,3.0626742839813232,3.1106462478637695,3.0954976081848145,3.022275686264038,3.039109230041504,2.991136074066162,2.9835612773895264,3.0062851905822754,3.0525741577148438,3.181342601776123,3.0786654949188232,2.984403133392334,3.075298309326172,2.9608373641967773,2.9448466300964355,2.8312275409698486,2.828701972961426,2.9625205993652344,2.9355885982513428,2.945688486099243,2.8901405334472656,2.9162309169769287,2.8573172092437744,2.874150037765503,2.7697880268096924,2.770629644393921,2.660377025604248,2.6544861793518066,2.598097085952759,2.5627479553222656,2.5913639068603516,2.5703234672546387,2.577897310256958,2.598097085952759,2.6528024673461914,2.673002004623413,2.6780519485473633,2.7192914485931396,2.8152356147766113,3.1401031017303467,3.241940498352051,3.2259488105773926,3.257089614868164,3.2974867820739746,3.243623971939087,3.2267909049987793,3.220900535583496,3.203225612640381,3.2562475204467773,3.2082746028900146,3.2065911293029785,3.2065911293029785,3.2242655754089355,3.258772611618042,3.2941205501556396,3.328627824783325,3.3925912380218506,3.550816297531128,3.5398755073547363,3.582798480987549,3.627403497695923,3.5255684852600098,3.5137853622436523,3.405214548110962,3.406898260116577,3.3824915885925293,3.4111063480377197,3.419523000717163,3.509577512741089,3.463287353515625,3.409423351287842,3.4540297985076904,3.3631346225738525,3.370708703994751,3.38670015335083,3.369025945663452,3.4489800930023193,3.391749143600464,3.4506630897521973,3.4329893589019775,3.361450672149658,3.2612977027893066,3.219217300415039,3.2655062675476074,3.2924370765686035,3.403532028198242,3.3488264083862305,3.3749165534973145,3.4590792655944824,3.4843289852142334,3.78731369972229,3.8243446350097656,3.802462100982666,3.9396471977233887,3.945537805557251,3.9009320735931396,3.9556384086608887,3.9556384086608887,3.9674203395843506,3.9101901054382324,4.043167591094971,4.096189498901367,4.123121738433838,4.121438026428223,4.095346927642822,3.9539554119110107,3.9648966789245605,3.9438557624816895,3.9219722747802734,3.937122344970703,3.9615297317504883,3.9994025230407715,3.954796075820923,3.935438871383667,3.938805341720581,3.987619638442993,3.9850950241088867,3.9724700450897217,4.0061354637146,4.041484355926514,4.037275314331055,3.9909870624542236,4.058315753936768,3.995194435119629,4.002768516540527,3.905982255935669,3.779738664627075,3.698941707611084,3.656020164489746,3.728398561477661,3.7536492347717285,3.8192949295043945,3.7847886085510254,3.6467623710632324,3.639188051223755,3.5390331745147705,3.6585452556610107,3.667802572250366,3.5499751567840576,3.613938570022583,3.6972594261169434,3.655177593231201,3.448137044906616,3.5078933238983154,3.4717037677764893,3.446455478668213,3.4843289852142334,3.3749165534973145,3.3252604007720947,3.3984830379486084,3.4717037677764893,3.318527936935425,3.1914422512054443,3.087080717086792,3.233523368835449,3.098022699356079,3.1704015731811523,3.1249547004699707,3.0954976081848145,3.125795602798462,3.295804023742676,3.5348262786865234,3.3471434116363525,3.268871784210205,3.3000121116638184,3.204909563064575,3.1148555278778076,3.1409449577331543,3.106438159942627,3.3109536170959473,3.2772881984710693,3.1704015731811523,3.3193695545196533,3.4439287185668945,3.2713968753814697,3.18723464012146,3.2890706062316895,3.3892242908477783,3.4388813972473145,3.4380385875701904,3.553340196609497,3.502002716064453,3.406057834625244,3.61141300201416,3.737657070159912,3.728398561477661,3.7620646953582764,3.732607364654541,3.685476541519165,3.75028133392334,3.909349203109741,3.880732774734497,3.897566318511963,3.9556384086608887,3.804987668991089,3.7393407821655273,3.624879837036133,3.6703274250030518,3.6728515625,3.5541834831237793,3.523043394088745,3.582798480987549,3.6282458305358887,3.669485569000244,3.6762187480926514,3.6408703327178955,3.7182998657226562,3.6745355129241943,3.677060604095459,3.7662723064422607,3.83781099319458,3.979203462600708,4.035593032836914,3.9707887172698975,4.0103440284729,4.052425384521484,4.037275314331055,4.070940017700195,4.111339092254639,3.9665794372558594,4.038118362426758,4.060840606689453,3.9733128547668457,3.925339937210083,3.8950417041778564,3.880732774734497,3.9825689792633057,4.038118362426758,4.059159278869629,4.006977081298828,4.044008255004883,4.038959503173828,4.128171920776367,4.230849266052246,4.3528852462768555,4.356252193450928,4.30491304397583,4.290604591369629,4.315011978149414,4.313329219818115,4.384024620056152,4.283873081207275,4.1811933517456055,4.339418888092041,4.346153259277344,4.283030986785889,4.297338485717773,4.215700149536133,4.23337459564209,4.504378795623779,4.482494831085205,4.463979244232178,4.483337879180908,4.375609397888184,4.400858402252197,4.400858402252197,4.469029903411865,4.437888145446777,4.399174690246582,4.3545684814453125,4.305754661560059,4.46061372756958,4.657553195953369,4.767807483673096,4.629780292510986,4.578441143035889,4.64577054977417,4.717308044433594,4.6777520179748535,4.735823631286621,4.776222229003906,4.836819171905518,4.814095973968506,4.86375093460083,4.816620349884033,4.746766090393066,4.736666202545166,4.796422958374023,4.763598918914795,4.667652606964111,4.633145809173584,4.642404556274414,4.670177459716797,4.649979591369629,4.63062047958374,4.688694000244141,4.6954264640808105,4.63819694519043,4.620522975921631,4.663443088531494,4.670177459716797,4.586857795715332,4.742558002471924,4.766965389251709,4.8831095695495605,4.851126670837402,4.855335712432861,4.844396114349365,4.784640312194824,4.715624809265137,4.633145809173584,4.62220573425293,4.692902088165283,4.5161614418029785,4.397491455078125,4.467347145080566,4.438732624053955,4.496802806854248,4.531309127807617,4.5363593101501465,4.46061372756958,4.438732624053955,4.52036714553833,4.481654167175293,4.50521993637085,4.463979244232178,4.512794494628906,4.538043022155762,4.52205228805542,4.52289342880249,4.537201404571533,4.6558709144592285,4.570866584777832,4.530468940734863,4.492595195770264,4.388232231140137,4.408432960510254,4.390758514404297,4.316696643829346,4.303229331970215,4.358777046203613,4.359618186950684,4.5245771408081055,4.561607360839844,4.614630699157715,4.538043022155762,4.483337879180908,4.558241844177246,4.49848747253418,4.580124378204346,4.654187202453613,4.650820732116699,4.598639011383057,4.600322246551514,4.708051681518555,5.245007038116455,5.487395286560059,5.457098960876465,5.482346534729004,5.542942047119141,5.586707592010498,5.551359176635742,5.608590126037598,5.571557521820068,5.733150482177734,5.780281066894531,5.707901477813721,5.687704563140869,5.694436073303223,5.714634418487549,5.6422553062438965,5.559775352478027,5.7314677238464355,5.882959842681885,5.748300075531006,5.692752838134766,5.728100299835205,5.657403945922852,5.583340644836426,5.638888835906982,5.68938684463501,5.6540374755859375,5.59680700302124,5.606906890869141,5.632155418395996,5.638888835906982,5.541259288787842,5.494129180908203,5.551359176635742,5.76849889755249,5.93345832824707,5.99237060546875,5.990687370300293,6.244858741760254,6.342487812042236,6.034450531005859,5.926723480224609,6.02435302734375,6.063068866729736,6.130398750305176,6.224660396575928,6.342487812042236,6.440114498138428,6.41991662979126,6.295354843139648,6.130398750305176,6.273473739624023,6.212876319885254,6.120298862457275,6.231391906738281,6.271790504455566,6.600024223327637,6.76330041885376,6.741417407989502,6.667353630065918,6.741417407989502,6.743102073669434,6.729634761810303,6.6505208015441895,6.796966075897217,6.719534873962402,6.581508159637451,6.76666784286499,6.808748722076416,6.987171649932861,6.993905544281006,7.280055999755859,7.0915350914001465,7.027570724487305,7.1403489112854,7.069652557373047,7.081432342529297,7.004005432128906,7.086483478546143,7.014102935791016,7.057868480682373,6.916473865509033,7.004005432128906,7.071334362030029,6.9114274978637695,6.800332546234131,6.854195594787598,6.791914939880371,6.749833106994629,6.987171649932861,6.65725564956665,6.833993434906006,7.197577953338623,7.413034439086914,6.892910957336426,6.712802886962891,6.849144458770752,6.744783401489258,6.6555705070495605,6.561309337615967,6.7161688804626465,7.015786647796631,7.2312445640563965,7.308670997619629,7.987024307250977,8.320305824279785,8.199112892150879,7.813645839691162,8.3556547164917,8.219311714172363,8.43981647491455,8.60645866394043,8.360705375671387,8.424668312072754,8.114950180053711,8.215946197509766,8.446549415588379,8.475168228149414,8.384268760681152,8.729336738586426,8.651907920837402,8.788248062133789,8.990242004394531,9.172029495239258,9.305009841918945,9.454815864562988,9.599575996398926,9.894144058227539,9.559179306030273,9.485116004943848,9.451449394226074,9.695521354675293,9.528878211975098,9.195596694946289,9.547392845153809,9.535614967346191,9.882359504699707,9.926128387451172,9.602943420410156,9.661856651306152,9.766219139099121,9.783050537109375,9.848699569702148,9.828498840332031,9.550764083862305,9.554130554199219,10.10792064666748,9.7847318649292,9.528878211975098,9.668590545654297,9.808300971984863,9.678689956665039,9.968208312988281,9.737603187561035,9.51541519165039,9.591161727905273,9.878996849060059,9.496898651123047,9.392535209655762,8.884193420410156,8.75290298461914,9.161931037902832,9.067670822143555,9.414419174194336,9.257879257202148,8.919546127319336,8.586259841918945,8.30179214477539,8.441500663757324,8.665373802185059,8.944792747497559,9.387486457824707,9.402636528015137,9.670272827148438,9.695521354675293,9.629874229431152,9.746020317077637,10.040589332580566,10.230796813964844,10.099501609802246,9.783050537109375,9.86721420288086,9.687104225158691,9.798199653625488,9.788101196289062,10.26109504699707,10.262774467468262,10.452984809875488,10.343573570251465,10.654974937438965,10.58427619934082,10.469817161560059,10.486650466918945,10.454668998718262,10.149998664855957,10.11801815032959,9.601261138916016,9.51373291015625,9.443035125732422,9.27639389038086,8.798349380493164,8.773100852966309,9.04073429107666,8.552595138549805,8.636759757995605,8.369117736816406,8.30179214477539,8.495363235473633,8.76131820678711,8.823598861694336,8.348918914794922,8.508832931518555,8.360705375671387,8.261391639709473,8.678837776184082,8.84043025970459,8.75290298461914,8.308523178100586,8.295055389404297,8.276542663574219,8.456648826599121,8.456648826599121,8.264759063720703,7.965137958526611,7.7025532722473145,8.01732063293457,7.887711524963379,7.699188232421875,7.741269111633301,7.788397789001465,7.753050804138184,7.929793357849121,7.980291366577148,7.584726810455322,7.130248069763184,7.194211006164551,7.338971138000488,7.613340377807617,7.298573017120361,7.184112548828125,7.293524742126465,7.889394760131836,7.7850341796875,7.939892768859863,8.256343841552734,7.911276817321777,8.172175407409668,7.9079108238220215,8.446549415588379,9.087868690490723,9.064302444458008,8.917860984802246,9.089550971984863,8.73438549041748,8.704087257385254,9.37065601348877,9.37065601348877,9.493532180786133,9.496898651123047,9.43630313873291,9.316789627075195,9.037369728088379,9.2898588180542,9.180445671081543,9.239361763000488,9.400952339172363,9.5372953414917,9.601261138916016,9.533930778503418,9.3538236618042,9.232625961303711,9.29322624206543,9.421151161193848,9.456501960754395,9.278075218200684,9.195596694946289,9.264612197875977,9.491848945617676,9.087868690490723,8.87914752960205,9.072718620300293,8.78320026397705,8.594676971435547,8.623291015625,9.106383323669434,9.190546035766602,9.252828598022461,9.333624839782715,9.067670822143555,8.786565780639648,8.682207107543945,8.557642936706543,8.222678184509277,8.310205459594727,8.3320894241333,8.465067863464355,8.27990436553955,8.348918914794922,8.274859428405762,8.151979446411133,7.975239276885986,8.005537033081055,7.57462739944458,7.714338302612305,7.512344837188721,7.155497074127197,7.224509239196777,7.492145538330078,8.069503784179688,7.887711524963379,7.8523664474487305,8.069503784179688,7.645323276519775,7.699188232421875,7.6419572830200195,7.746317386627197,7.327188491821289,7.209361553192139,6.800332546234131,6.8592448234558105,6.802015781402588,6.527644157409668,6.625274181365967,6.852511882781982,6.628640651702881,6.551210403442383,6.611805438995361,6.778448581695557,6.936673641204834,7.195896625518799,7.293524742126465,7.6167073249816895,7.246391773223877,7.312040328979492,7.4450154304504395,7.163914680480957,6.992220878601074,6.830628871917725,6.9854888916015625,6.904693603515625,6.818846702575684,6.704385757446289,6.63705587387085,7.2211480140686035,7.200944423675537,6.97202205657959,7.443333625793457,7.704235076904297,7.5998759269714355,7.441649913787842,7.478681564331055,7.273323059082031,7.4365997314453125,7.413034439086914,7.325504302978516,7.3187713623046875,7.433234691619873,7.281740665435791,7.256491661071777,7.254806995391846,7.421452045440674,7.384418964385986,7.638589859008789,7.389468193054199,7.394518852233887,7.344020843505859,7.453432559967041,7.3305559158325195,7.197577953338623,7.187480926513672,6.936673641204834,6.547842979431152,6.746468544006348,6.329020023345947,6.478829860687256,6.345854759216309,6.106832027435303,5.881275653839111,5.8240461349487305,6.066433906555176,6.086632251739502,5.756715774536133,5.75839900970459,6.066433906555176,6.0277204513549805,5.938506126403809,5.741567134857178,5.1759934425354,5.085099220275879,4.896574020385742,4.898259162902832,5.6422553062438965,5.110347747802734,4.667652606964111,5.186093807220459,5.359468460083008,5.586707592010498,5.127180576324463,4.751815319061279,4.556559085845947,4.331003189086914,4.243473052978516,4.866277694702148,4.953806400299072,4.953806400299072,4.610421657562256,4.539726734161377,4.671019554138184,4.255256175994873,4.007819175720215,4.2249579429626465,4.120596408843994,3.940488576889038,3.709883451461792,4.179510593414307,3.918607234954834,3.8293936252593994,3.7384982109069824,3.460761547088623,2.945688486099243,3.0264840126037598,3.4018492698669434,3.479278087615967,3.703150987625122,3.67790150642395,3.257089614868164,3.199859380722046,3.1729273796081543,3.3967995643615723,3.580272674560547,4.208125114440918,3.9101901054382324,4.05495023727417,3.844543933868408,4.061683654785156,3.891674757003784,4.324270725250244,4.3209028244018555,4.105447292327881,4.140795707702637,3.8950417041778564,3.7334489822387695,3.9236559867858887,3.8950417041778564,3.6947340965270996,3.7267162799835205,3.6459195613861084,3.9034571647644043,4.011185169219971,3.959005355834961,3.8058297634124756,4.305754661560059,4.398332118988037,4.287239074707031,4.147527694702148,3.9438557624816895,4.011185169219971,4.154261589050293,3.879892110824585,4.112180709838867,4.095346927642822,4.344468593597412,4.470712661743164,4.438732624053955,4.736666202545166,4.430314064025879,4.1710944175720215,4.285554885864258,4.312487602233887,4.374766826629639,4.563292503356934,4.714784145355225,4.61547327041626,4.527944087982178,4.4622955322265625,4.543092727661133,4.418531894683838,4.211492538452148,4.186243057250977,4.482494831085205,4.490911960601807,4.413481712341309,4.605373859405518,4.7652812004089355,4.544775485992432,4.531309127807617,4.391600131988525,4.373084545135498,4.595273017883301,3.9489052295684814,3.7671148777008057,3.854644536972046,4.243473052978516,4.251890182495117,4.275455951690674,4.319220066070557,4.108813285827637,4.199708938598633,4.179510593414307,4.2788214683532715,4.182877063751221,4.48081111907959,4.553191661834717,4.517843246459961,4.411799430847168,4.684485912322998,4.556559085845947,4.716468334197998,4.746766090393066,5.066583633422852,5.01271915435791,4.817463397979736,4.923506736755371,5.106980800628662,5.457098960876465,5.435214042663574,5.3005547523498535,5.369568347930908,4.999253273010254,4.852810859680176,4.780431270599365,5.016086101531982,5.026185512542725,5.133913516998291,5.270256996154785,5.130547523498535,4.994203567504883,5.064899444580078,5.0766825675964355,4.938657283782959,4.938657283782959,4.896574020385742,4.63062047958374,4.52962589263916,4.398332118988037,4.487544536590576,4.418531894683838,4.319220066070557,4.371401786804199,4.455564975738525,4.423580646514893,4.346153259277344,4.455564975738525,3.7671148777008057,3.795729160308838,3.932072877883911,3.704833984375,3.9606897830963135,4.199708938598633,4.342785835266113,4.09366512298584,4.068416118621826,4.115547180175781,4.021285057067871,4.095346927642822,4.208125114440918,4.199708938598633,4.14247989654541,4.060000419616699,3.9842541217803955,3.869792938232422,3.9118728637695312,3.83781099319458,3.863060474395752,3.6964168548583984,3.6795856952667236,3.6745355129241943,3.7384982109069824,3.731766700744629,3.731766700744629,3.704833984375,3.780580759048462,3.5466084480285645,3.5415592193603516,3.4439287185668945,3.524725914001465,3.482645273208618,3.440563201904297,3.5398755073547363,3.6408703327178955,3.6425540447235107,3.728398561477661,3.6964168548583984,3.760380506515503,3.8580093383789062,3.9758365154266357,4.022968292236328,4.065049171447754,3.9606897830963135,3.83781099319458,3.6812679767608643,3.6156222820281982,3.6846349239349365,3.847910165786743,4.11049747467041,4.065049171447754,4.1273298263549805,4.235057830810547,4.066732406616211,4.157628536224365,4.315853595733643,4.431998252868652,4.45051383972168,4.2232747077941895,4.130695819854736,4.238423824310303,3.940488576889038,3.8933584690093994,3.797412872314453,3.7755303382873535,3.797412872314453,3.8748419284820557,3.9505882263183594,4.0061354637146,3.925339937210083,3.9489052295684814,4.0313849449157715,4.049901008605957,4.196342468261719,4.2165422439575195,4.211492538452148,4.157628536224365,4.307436943054199,4.265355587005615,4.346153259277344,4.342785835266113,4.50942850112915,4.423580646514893,4.4168477058410645,4.487544536590576,4.415164470672607,4.38318395614624,4.411799430847168,4.50942850112915,4.455564975738525,4.379817485809326,4.322587490081787,4.381501197814941,4.48081111907959,4.4168477058410645,4.607055187225342,4.538043022155762,4.521211624145508,4.6020073890686035,4.740032196044922,4.686168193817139,4.667652606964111,4.740032196044922,4.317537307739258,4.265355587005615,4.248523712158203,4.169410705566406,4.053267002105713,4.140795707702637,4.078516483306885,4.132379531860352,4.0886149406433105,4.071783065795898,4.036434650421143,3.9960358142852783,4.071783065795898,4.145845413208008,4.292287826538086,4.238423824310303,4.112180709838867,4.144160747528076,3.987619638442993,4.107130527496338,4.034751892089844,4.05495023727417,4.123963356018066,4.290604591369629,4.319220066070557,4.255256175994873,4.309122085571289,4.261990070343018,4.108813285827637,4.012868404388428,3.6812679767608643,3.593740463256836,3.5903735160827637,3.6913671493530273,3.593740463256836,3.5045278072357178,3.565124034881592,3.656020164489746,3.75028133392334,3.755331039428711,3.7772138118743896,3.812561511993408,3.7839465141296387,3.8075132369995117,3.7401819229125977,3.704833984375,3.704833984375,3.74354887008667,3.731766700744629,3.731766700744629,3.6930508613586426,3.854644536972046,3.959005355834961,4.044850826263428,3.4439287185668945,3.4153144359588623,3.4203646183013916,3.496110439300537,3.4994781017303467,3.4506630897521973,3.4506630897521973,3.5028440952301025,3.4523468017578125,3.437196969985962,3.371551036834717,3.35471773147583,3.3059027194976807,3.3564014434814453,3.342935562133789,3.3277852535247803,3.35471773147583,3.405214548110962,3.4523468017578125,3.383333921432495,3.391749143600464,3.3143203258514404,3.167877435684204,3.2267909049987793,3.258772611618042,3.2267909049987793,3.1964917182922363,3.245306968688965,3.268871784210205,3.250356435775757,3.211641550064087,3.1762936115264893,3.174609899520874,2.9473717212677,2.895190715789795,2.944004774093628,2.944004774093628,3.0046021938323975,2.9945027828216553,3.043316125869751,3.1089632511138916,3.039949893951416,3.0769810676574707,3.257089614868164,3.233523368835449,3.2655062675476074,3.2671878337860107,3.342935562133789,3.5617570877075195,3.553340196609497,3.635822057723999,3.73681640625,3.6543354988098145,3.66611909866333,3.703150987625122,3.664435863494873,3.6728515625,3.6880016326904297,3.7704808712005615,3.8108789920806885,3.7889959812164307,3.8176119327545166,3.891674757003784,3.9219722747802734,3.9505882263183594,3.9825689792633057,4.0313849449157715,4.11049747467041,4.176143169403076,4.258622646331787,4.275455951690674,4.231690406799316,4.213174819946289,4.245157241821289,4.285554885864258,4.130695819854736,4.160995006561279,4.206444263458252,4.091980934143066,4.231690406799316,4.164360523223877,4.125647068023682,3.9017739295959473,3.8007800579071045,3.9219722747802734,3.8613767623901367,3.8950417041778564,3.8176119327545166,3.67790150642395,3.708200693130493,3.603839874267578,3.580272674560547,3.4708616733551025,3.585322618484497,3.5819573402404785,3.6880016326904297,3.6459195613861084,3.8681085109710693,3.836127519607544,3.6795856952667236,3.7250325679779053,3.8176119327545166,3.664435863494873,3.5583910942077637,3.53314208984375,3.53314208984375,3.5735409259796143,3.6459195613861084,3.6829516887664795,3.486011028289795,3.3059027194976807,3.258772611618042,3.233523368835449,3.174609899520874,3.1695597171783447,3.179659843444824,3.0921308994293213,3.1156959533691406,3.1560943126678467,3.0837137699127197,3.162827491760254,3.20995831489563,3.075298309326172,3.0971808433532715,3.1560943126678467,3.1729273796081543,3.203225612640381,3.252040386199951,3.2840216159820557,3.2840216159820557,3.2857041358947754,3.1897594928741455,3.2655062675476074,3.3328354358673096,3.309269905090332,3.3648173809051514,3.4506630897521973,3.5163092613220215,3.4153144359588623,3.3681843280792236,3.3227360248565674,3.3749165534973145,3.553340196609497,3.477595329284668,3.578589916229248,3.5567076206207275,3.529776096343994,3.5280933380126953,3.4557137489318848,3.342935562133789,3.317685842514038,3.2941205501556396,3.3378853797912598,3.3698673248291016,3.494429349899292,3.2082746028900146,3.166193723678589,3.1005477905273438,3.087080717086792,3.1005477905273438,3.087080717086792,3.085397958755493,3.0079684257507324,3.0180678367614746,3.0769810676574707,3.1140124797821045,3.199859380722046,3.1560943126678467,3.125795602798462,3.0938143730163574,3.0719316005706787,3.1392619609832764,3.1325290203094482,3.1291630268096924,3.2655062675476074,3.260455846786499,3.2924370765686035,3.2789711952209473,3.2823381423950195,3.2890706062316895,3.3530349731445312,3.3362019062042236,3.3463022708892822,3.3160030841827393,3.317685842514038,3.3665003776550293,3.347984552383423,3.406898260116577,3.4018492698669434,3.3530349731445312,3.3799660205841064,3.428781270980835,3.3328354358673096,3.2402572631835938,3.167877435684204,3.0837137699127197,3.075298309326172,3.1005477905273438,3.1914422512054443,3.204909563064575,3.220057249069214,3.2368903160095215,3.2655062675476074,3.262138843536377,3.2671878337860107,3.307586193084717,3.250356435775757,3.295804023742676,3.2907540798187256,3.3580844402313232,3.3648173809051514,3.4557137489318848,3.3984830379486084,3.390066146850586,3.551657199859619,3.5062096118927,3.4876937866210938,3.509577512741089,3.5348262786865234,3.4338300228118896,3.38670015335083,3.430464029312134,3.4018492698669434,3.425414562225342,3.4506630897521973,3.38670015335083,3.3530349731445312,3.4119486808776855,3.5600743293762207,3.5903735160827637,3.576907157897949,3.60888934135437,3.5886893272399902,3.6425540447235107,3.74354887008667,3.6896846294403076,3.6593856811523438,3.62908673286438,3.6543354988098145,3.6476049423217773,3.578589916229248,3.6425540447235107,3.652653455734253,3.7401819229125977,3.7452332973480225,3.790679454803467,3.7889959812164307,3.863060474395752,3.8512766361236572,3.856325149536133,3.78731369972229,3.6846349239349365,3.4725453853607178,3.496110439300537,3.4843289852142334,3.3984830379486084,3.479278087615967,3.467496395111084,3.428781270980835,3.428781270980835,3.4439287185668945,3.536508321762085,3.5179929733276367,3.5499751567840576,3.54492449760437,3.5415592193603516,3.5466084480285645,3.5314598083496094,3.5466084480285645,3.4590792655944824,3.3362019062042236,3.2823381423950195,3.3749165534973145,3.390066146850586,3.3698673248291016,3.3160030841827393,3.428781270980835,3.4136316776275635,3.344618320465088,3.373234272003174,3.4119486808776855,3.385016441345215,3.3580844402313232,3.3126370906829834,3.3126370906829834,3.2840216159820557,3.341252326965332,3.3580844402313232,3.3193695545196533,3.3160030841827393,3.38838267326355,3.3749165534973145,3.317685842514038,3.3362019062042236,3.3261029720306396,3.295804023742676,3.3277852535247803,3.3362019062042236,3.4557137489318848,3.4573974609375,3.5314598083496094,3.5280933380126953,3.566807508468628,3.5381922721862793,3.553340196609497,3.6577036380767822,3.656020164489746,3.6981003284454346,3.757014513015747,3.809194803237915,3.790679454803467,3.8580093383789062,3.7990963459014893,3.9691035747528076,4.022968292236328,4.044850826263428,4.007819175720215,3.9977192878723145,4.0061354637146,4.2687225341796875,4.277139186859131,4.443780899047852,4.4000163078308105,4.470712661743164,4.435365200042725,4.467347145080566,4.458930492401123,4.425264835357666,4.413481712341309,4.410116195678711,4.322587490081787,4.339418888092041,4.3528852462768555,4.322587490081787,4.3545684814453125,4.285554885864258,4.28892183303833,4.339418888092041,4.342785835266113,4.364668369293213,4.49764347076416,4.457246780395508,4.435365200042725,4.490911960601807,4.598639011383057,4.692902088165283,4.6558709144592285,4.649138927459717,4.671019554138184,4.671019554138184,4.748449325561523,4.709733486175537,4.62388801574707,4.588541030883789,4.499327659606934,4.472396373748779,4.4067487716674805,4.42189884185791,4.46061372756958,4.420215129852295,4.418531894683838,4.448830604553223,4.396650791168213,4.410116195678711,4.45051383972168,4.511110305786133,4.63062047958374,4.467347145080566,4.420215129852295,4.396650791168213,4.341103553771973,4.435365200042725,4.374766826629639,4.489228248596191,4.532993793487549,4.612106800079346,4.596956729888916,4.5818071365356445,4.519527435302734,4.3680338859558105,4.176143169403076,4.078516483306885,4.011185169219971,3.9707887172698975,3.9421732425689697,3.9909870624542236,3.918607234954834,3.925339937210083,3.9505882263183594,3.977520227432251,3.9994025230407715,3.9556384086608887,3.9657390117645264,3.9691035747528076,3.8899919986724854,3.856325149536133,3.8462276458740234,3.6829516887664795,3.7250325679779053,3.460761547088623,3.5954229831695557,3.4573974609375,3.60888934135437,3.4876937866210938,3.52640962600708,3.6004722118377686,3.4439287185668945,3.6072046756744385,3.6307711601257324,3.6375045776367188,3.8007800579071045,3.9303901195526123,3.78731369972229,3.834444761276245,3.8883087635040283,3.932072877883911,4.028017044067383,3.878208875656128,3.728398561477661,3.839494466781616,3.9085066318511963,3.856325149536133,3.8933584690093994,3.9085066318511963,3.9000916481018066,4.024652481079102,4.147527694702148,4.189609050750732,4.078516483306885,4.036434650421143,3.945537805557251,3.8058297634124756,3.7889959812164307,3.974153757095337,4.0196003913879395,3.959005355834961,4.038118362426758,3.8883087635040283,3.866426467895508,4.004454135894775,4.017918109893799,4.049901008605957,4.095346927642822,4.137429714202881,4.194659233093262,4.317537307739258,4.245157241821289,4.235057830810547,4.080197811126709,4.204758644104004,4.186243057250977,4.218225479125977,4.214859485626221,4.305754661560059,4.309122085571289,4.214859485626221,4.361301898956299,4.410116195678711,4.304070949554443,4.214859485626221,4.2249579429626465,4.347836017608643,4.324270725250244,4.283873081207275,4.315853595733643,4.194659233093262,4.140795707702637,4.236740589141846,4.147527694702148,3.9657390117645264,3.790679454803467,3.6913671493530273,3.780580759048462,3.8243446350097656,3.7755303382873535,3.7216668128967285,3.6206722259521484,3.7637479305267334,3.8293936252593994,3.891674757003784,3.932072877883911,3.9085066318511963,3.985936403274536,3.928705930709839,3.987619638442993,3.9674203395843506,4.073467254638672,4.159310817718506,4.051583290100098,3.9539554119110107,3.9893038272857666,3.928705930709839,3.815929412841797,3.9505882263183594,3.962371349334717,4.004454135894775,4.026334762573242,4.026334762573242,4.051583290100098,4.0987162590026855,4.061683654785156,4.004454135894775,4.061683654785156,4.251890182495117,4.186243057250977,4.038118362426758,4.078516483306885,4.10376501083374,4.070099353790283,3.9573209285736084,3.9101901054382324,4.043167591094971,4.1811933517456055,4.132379531860352,4.167728424072266,4.16604471206665,4.208125114440918,4.157628536224365,4.09366512298584,3.9960358142852783,3.932072877883911,3.9236559867858887,3.9169235229492188,3.979203462600708,3.940488576889038,3.9943530559539795,4.122281074523926,4.053267002105713,3.8512766361236572,3.8613767623901367,3.8681085109710693,3.839494466781616,3.903881072998047,3.9276020526885986,3.947934150695801,3.8920204639434814,3.9462406635284424,3.8513548374176025,3.8971035480499268,3.9530189037323,3.8598270416259766,4.039432048797607,4.044515132904053,4.093652725219727,4.030961990356445,4.049598693847656,4.102124214172363,4.049598693847656,4.027571678161621,4.030961990356445,3.981823205947876,4.03434944152832,3.991990566253662,4.058070659637451,4.068236827850342,4.180067539215088,3.924213409423828,4.002155303955078,4.032654762268066,4.025876998901367,3.9801290035247803,3.8276329040527344,3.7005538940429688,3.8056063652038574,3.7344412803649902,3.719191789627075,3.6819162368774414,3.7022476196289062,3.6293892860412598,3.6039726734161377,3.6531100273132324,3.597196340560913,3.676832437515259,3.7530791759490967,3.7768020629882812,3.7768020629882812,3.7920515537261963,3.790355920791626,3.775106430053711,3.825939655303955,3.825939655303955,3.8428831100463867,3.856438636779785,3.8733818531036377,3.8581326007843018,3.808995008468628,3.698859453201294,3.573474407196045,3.57686185836792,3.542975425720215,3.5700855255126953,3.444700241088867,3.5378918647766113,3.4938371181488037,3.531114101409912,3.13801646232605,3.2312068939208984,3.2159576416015625,3.2261247634887695,3.2329013347625732,3.2738893032073975,3.333662271499634,3.3661112785339355,3.357572317123413,3.275597333908081,3.2790122032165527,3.2790122032165527,3.337078332901001,3.304629325866699,3.2106995582580566,3.24997878074646,3.1218934059143066,3.171419620513916,3.0928597450256348,3.0296714305877686,3.045041084289551,3.1116456985473633,3.137263536453247,3.0979835987091064,2.998929738998413,3.021132230758667,2.935741662979126,2.985267162322998,3.0433332920074463,3.041625499725342,3.1355552673339844,3.0706582069396973,3.137263536453247,3.120185375213623,3.096275568008423,2.992098808288574,2.9972219467163086,2.9391565322875977,2.920370101928711,2.8742587566375732,2.8298556804656982,2.85888934135437,2.886214256286621,2.869136095046997,2.7837448120117188,2.7564196586608887,2.686398983001709,2.693230628967285,2.7273871898651123,2.7564196586608887,2.735926389694214,2.735926389694214,2.7444655895233154,2.6898152828216553,2.7154321670532227,2.734218120574951,2.8708441257476807,2.8571808338165283,2.8742587566375732,3.0296714305877686,3.0552878379821777,2.9511117935180664,2.9118316173553467,3.0706582069396973,3.171419620513916,3.3285391330718994,3.3285391330718994,3.2089924812316895,3.2277772426605225,3.187971830368042,3.141242027282715,3.1395115852355957,3.2208549976348877,3.316044569015503,3.302198886871338,3.5323832035064697,3.556612253189087,3.64487886428833,3.7487215995788574,3.736607551574707,3.767760992050171,3.8196818828582764,3.8733325004577637,4.006598472595215,3.857757329940796,3.8819870948791504,3.9512155055999756,3.935640335083008,3.859487771987915,3.8300657272338867,3.613727331161499,3.655263900756836,3.6206490993499756,3.6344950199127197,3.6760313510894775,3.6916072368621826,3.6864166259765625,3.8716022968292236,3.9944825172424316,4.023906230926514,4.151978015899658,3.9737133979797363,3.9564075469970703,3.9408316612243652,3.942561149597168,3.97198486328125,3.9702529907226562,4.056787967681885,4.001406192779541,4.015251636505127,3.997945547103882,4.029096603393555,4.105247497558594,3.980638027191162,3.9512155055999756,4.084480285644531,4.120825290679932,4.105247497558594,4.13986349105835,4.049867153167725,3.8975629806518555,3.826603651046753,3.996212959289551,4.025636196136475,4.063711166381836,4.240245342254639,4.421969890594482,4.486004829406738,4.58119535446167,4.686768054962158,4.685038089752197,4.685038089752197,4.660580635070801,4.618656158447266,4.578480243682861,4.58546781539917,4.512099742889404,4.520833492279053,4.53655481338501,4.653595447540283,4.768886089324951,4.793341636657715,4.840506076812744,4.861469268798828,4.823038578033447,4.805569648742676,4.807316780090332,4.842254161834717,4.812556743621826,4.564505577087402,4.466681480407715,4.4684295654296875,4.347897052764893,4.309465408325195,4.28501033782959,4.382833480834961,4.48240327835083,4.255313396453857,4.332174301147461,4.323441028594971,4.050932884216309,3.9496164321899414,3.9810588359832764,4.061413764953613,4.019489288330078,4.045692443847656,4.029969692230225,4.103339672088623,4.066655158996582,4.073642253875732,4.043944835662842,4.099843502044678,4.141767978668213,4.153996467590332,4.195920944213867,4.129540920257568,4.052680492401123,4.312959671020508,4.410782337188721,4.683290481567383,4.402048110961914,4.438732147216797,4.552275657653809,4.576731204986572,4.515594482421875,4.547037601470947,4.498125076293945,4.4317450523376465,4.454453945159912,4.424756050109863,4.319945812225342,4.335669040679932,4.298985004425049,4.330428600311279,4.409036636352539,4.377593040466309,4.247776031494141,4.157696723937988,4.29193115234375,4.311359405517578,4.334320545196533,4.35728120803833,4.461489200592041,4.500345706939697,4.530371189117432,4.487981796264648,4.495047092437744,4.542735576629639,4.457956790924072,4.495047092437744,4.457956790924072,4.532137393951416,4.482682704925537,4.655773162841797,4.671669960021973,4.940135478973389,5.256290912628174,5.341070175170898,5.342836380004883,5.279252529144287,5.291614532470703,5.344602108001709,5.277485370635986,5.2827839851379395,5.5954060554504395,5.655457973480225,5.542419910430908,5.704912185668945,5.787925720214844,5.772028923034668,5.780860424041748,5.74376916885376,5.862105369567871,6.045793533325195,6.047561168670654,6.1146769523620605,6.105845928192139,6.164132118225098,6.135871887207031,6.413168907165527,6.561532974243164,6.56859827041626,6.5862603187561035,6.5597639083862305,6.550933837890625,6.778778076171875,6.75935173034668,6.824700355529785,6.886518478393555,6.720490455627441,7.02251672744751,6.845893383026123,6.496182918548584,6.402572154998779,6.360182285308838,5.671353816986084,5.602471828460693,5.6201324462890625,5.916858673095703,5.905284404754639,6.126108646392822,6.320221900939941,6.208028793334961,6.165287494659424,6.544607162475586,6.231178283691406,6.717348575592041,6.516114711761475,6.683512210845947,6.947078227996826,6.856256008148193,6.849133491516113,6.861597061157227,7.290781021118164,7.262287616729736,7.1055731773376465,7.134066104888916,7.1910552978515625,7.278314590454102,7.484894275665283,7.516946792602539,7.509827136993408,7.547224998474121,7.65585470199585,7.5917463302612305,7.602430820465088,7.554347038269043,7.586400985717773,7.6879096031188965,7.743116855621338,7.807225704193115,7.743116855621338,7.769829750061035,7.739553451538086,7.661198616027832,7.554347038269043,7.700376033782959,7.908735275268555,8.156271934509277,8.083257675170898,8.353947639465332,8.736827850341797,8.900667190551758,8.973678588867188,8.95587158203125,8.724363327026367,8.526687622070312,8.635320663452148,8.720799446105957,8.811624526977539,8.768882751464844,8.670937538146973,8.492851257324219,8.473261833190918,8.49463176727295,8.590798377990723,8.480387687683105,9.244367599487305,9.192724227905273,9.328068733215332,8.792035102844238,8.886421203613281,9.071758270263672,8.991175651550293,8.948199272155762,8.889108657836914,9.168458938598633,8.883733749389648,8.971478462219238,9.014455795288086,8.874780654907227,8.855080604553223,9.392295837402344,9.333202362060547,9.422739028930664,9.200689315795898,9.283062934875488,8.851503372192383,8.919548034667969,9.141595840454102,9.09682846069336,9.030571937561035,8.890896797180176,8.890896797180176,9.170248031616211,9.010872840881348,8.921339988708496,9.078920364379883,8.878362655639648,8.831802368164062,8.957152366638184,9.292015075683594,9.232921600341797,9.272317886352539,9.186363220214844,9.25082778930664,9.431690216064453,9.648369789123535,9.786251068115234,9.805952072143555,9.754018783569336,9.81311321258545,9.827439308166504,9.74327564239502,9.929511070251465,9.888325691223145,9.816696166992188,9.857882499694824,9.902649879455566,10.128279685974121,10.036953926086426,9.637624740600586,9.934883117675781,9.916975975036621,10.199909210205078,10.312723159790039,10.284072875976562,10.122908592224121,9.85609245300293,9.524808883666992,9.390507698059082,8.738685607910156,8.928499221801758,8.756592750549316,8.641986846923828,8.554242134094238,8.640195846557617,8.459197998046875,8.275497436523438,8.24307918548584,8.127819061279297,8.118813514709473,8.20885944366455,8.24307918548584,8.142226219177246,8.214263916015625,8.516829490661621,8.664506912231445,8.821192741394043,8.992286682128906,8.98147964477539,8.869821548461914,9.098546028137207,9.17958927154541,9.06972885131836,8.831998825073242,8.873422622680664,8.87161922454834,8.941861152648926,8.868019104003906,8.675313949584961,7.949521064758301,8.167437553405762,8.099000930786133,8.198054313659668,8.162036895751953,6.539353370666504,6.658219814300537,6.798695087432861,6.780686855316162,6.881539821624756,7.068840980529785,6.8887434005737305,6.577174663543701,6.721253395080566,6.492528438568115,6.3160319328308105,6.359256744384766,6.3160319328308105,6.092711448669434,6.114323139190674,6.2602033615112305,6.366460800170898,6.393474578857422,6.559164524078369,6.43850040435791,6.575372695922852,6.458310127258301,6.413285732269287,6.508738040924072,6.411483287811279,6.418688774108887,6.404281139373779,6.492528438568115,6.928365707397461,6.856327533721924,6.708646297454834,6.719452857971191,6.697840213775635,6.726655960083008,6.978793144226074,6.967985153198242,6.937368392944336,6.935568809509277,6.931967735290527,6.933770179748535,6.743032455444336,7.080909729003906,7.2207818031311035,6.973733901977539,6.832040309906006,6.982814788818359,6.870189189910889,6.922869682312012,6.864739894866943,7.066376686096191,6.7811784744262695,7.378823280334473,7.46601676940918,7.734869003295898,7.878373146057129,8.063661575317383,7.782097816467285,7.905622959136963,7.945585250854492,7.843860626220703,7.485998153686523,7.360657691955566,7.478733062744141,7.529599666595459,7.4006218910217285,7.533230781555176,7.442401885986328,7.678554534912109,7.249846935272217,7.304344654083252,7.1517558097839355,7.327958583831787,7.329777240753174,7.208067893981934,7.131772041320801,7.251667022705078,6.930136203765869,6.841123580932617,6.5105133056640625,6.543210029602051,6.641305446624756,6.688534259796143,6.875638484954834,6.623138427734375,6.51596212387085,6.579541206359863,6.717599868774414,6.61768913269043,6.710333347320557,6.699432373046875,6.980998516082764,6.773911952972412,6.94103479385376,6.933769226074219,6.875638484954834,6.6997175216674805,6.7015485763549805,6.827993392944336,6.72353982925415,6.831657409667969,6.692385673522949,6.833490371704102,6.91595458984375,6.652069091796875,6.77851676940918,6.912288665771484,7.383249282836914,7.330104827880859,7.3227763175964355,7.350262641906738,7.403408050537109,7.374087333679199,7.368588447570801,7.4345598220825195,7.39424467086792,7.416234493255615,7.421731948852539,7.489534854888916,7.652631759643555,7.621476650238037,7.63063907623291,7.658127784729004,7.656295299530029,7.557339191436768,7.656295299530029,7.517024517059326,7.6123151779174805,7.559169769287109,7.848712921142578,7.8523736000061035,8.079608917236328,8.19505786895752,8.447946548461914,8.370983123779297,8.444281578063965,7.958662509918213,7.905519008636475,7.691113471984863,7.553675174713135,7.6398024559021,7.573832035064697,7.604986190795898,7.489534854888916,7.458380699157715,7.63063907623291,7.500531196594238,7.57566499710083,7.665457248687744,7.264135360717773,7.449221134185791,7.491369247436523,7.573832035064697,7.419899940490723,7.861540794372559,7.7717437744140625,7.837714195251465,7.8780317306518555,7.911015510559082,7.792830467224121,8.079059600830078,8.038434982299805,8.2064790725708,8.354209899902344,8.176931381225586,7.970108509063721,7.966414928436279,8.117838859558105,8.053208351135254,8.034740447998047,8.28219223022461,8.12891960144043,8.167698860168457,8.010735511779785,8.010735511779785,7.826071262359619,7.971954822540283,7.766978740692139,7.763285160064697,7.766978740692139,7.6081671714782715,7.456743240356445,7.549075603485107,7.471514701843262,7.30531644821167,7.203752517700195,7.3200907707214355,7.0726399421691895,7.074487209320068,6.869510173797607,6.869510173797607,7.102187156677246,7.244377613067627,7.360715866088867,7.508449077606201,7.517681121826172,7.497366428375244,7.619245529174805,7.761437892913818,7.720810890197754,7.576775074005127,7.669105052947998,7.770671367645264,7.896241664886475,7.8870086669921875,7.890703201293945,7.947948932647705,8.260030746459961,8.067980766296387,7.892550468444824,7.848229885101318,8.016276359558105,8.210174560546875,8.199090957641602,8.143691062927246,8.12891960144043,8.053208351135254,8.10122013092041,7.04437780380249,7.02577018737793,6.9587883949279785,6.921576499938965,7.0350751876831055,6.666667938232422,6.6127095222473145,6.811797142028809,6.89738655090332,6.962510108947754,6.547586917877197,6.61829137802124,6.201508522033691,6.309424877166748,6.009861946105957,6.127082347869873,5.939158916473389,6.082427978515625,6.158713340759277,6.41920280456543,6.348498821258545,6.443392276763916,6.212671756744385,6.261049270629883,6.261049270629883,6.294541358947754,6.2889580726623535,6.2889580726623535,6.460137367248535,6.268491268157959,6.195926189422607,6.268491268157959,6.004280090332031,6.283376693725586,6.0973124504089355,6.737371921539307,6.411761283874512,6.763421535491943,6.711323261260986,6.8545918464660645,6.9066901206970215,6.9587883949279785,7.100196838378906,7.122522354125977,6.997860908508301,6.748536109924316,6.558751106262207,6.852731227874756,6.9773945808410645,6.815518856048584,6.8285441398620605,6.839707374572754,6.917853832244873,7.077869892120361,6.981115341186523,6.930879592895508,6.949484825134277,6.951347827911377,6.9773945808410645,6.982975959777832,6.975534915924072,6.949484825134277,6.910409450531006,6.936459541320801,6.889944076538086,6.878781318664551,7.195089340209961,7.196950912475586,7.4481377601623535,7.442554473876953,7.472325325012207,7.596986293792725,7.563497066497803,7.345802307128906,7.38301420211792,7.64213228225708,7.715363025665283,7.681563377380371,7.7209954261779785,7.659032821655273,7.683443069458008,7.762303829193115,7.681563377380371,7.475020408630371,7.283497333526611,7.202757358551025,7.076953411102295,7.127650260925293,7.0938520431518555,7.172714710235596,7.204634666442871,7.131405353546143,7.26847505569458,7.50881814956665,7.585803031921387,7.5895586013793945,7.585803031921387,7.677809238433838,7.687196731567383,7.4468560218811035,7.570781230926514,7.525717735290527,7.555760383605957,7.570781230926514,7.6440110206604,7.5632710456848145,7.583924293518066,7.384891510009766,7.2365570068359375,7.354848861694336,7.533228874206543,7.51445198059082,7.347338676452637,7.4186906814575195,7.546370506286621,7.465631484985352,7.332317352294922,7.360482692718506,7.354848861694336,7.521961688995361,7.555760383605957,7.568904399871826,7.536982536315918,7.655275344848633,7.6609086990356445,7.54449462890625,7.4111785888671875,7.683443069458008,8.150982856750488,8.162247657775879,8.256131172180176,8.209192276000977,8.265520095825195,8.288050651550293,8.149855613708496,8.1214599609375,8.111992835998535,8.14039134979248,8.132818222045898,8.049520492553711,8.047627449035645,8.146068572998047,8.176359176635742,8.157427787780762,8.308877944946289,8.397851943969727,8.433822631835938,8.265336990356445,8.337275505065918,8.096847534179688,8.132818222045898,8.35241985321045,8.246404647827148,8.390281677246094,8.714001655578613,8.659104347229004,8.878705024719238,8.890064239501953,8.963894844055176,8.846522331237793,8.787834167480469,8.941177368164062,8.835162162780762,8.865452766418457,8.886275291442871,8.935498237609863,8.886275291442871,8.611777305603027,8.57959270477295,8.57201862335205,8.683713912963867,8.738615036010742,8.679927825927734,8.50954818725586,8.626920700073242,8.782155990600586,8.585271835327148,8.551197052001953,8.672356605529785,8.655317306518555,8.63638687133789,8.727253913879395,8.98093318939209,8.88817024230957,8.895743370056152,8.7935152053833,8.562553405761719,8.486831665039062,8.132818222045898,8.308877944946289,8.587162971496582,8.746188163757324,8.043841361999512,8.041947364807129,7.795843601226807,7.915109157562256,7.896178245544434,7.877084732055664,7.9802021980285645,7.9802021980285645,8.087137222290039,8.169249534606934,8.243725776672363,8.211263656616211,8.398402214050293,8.327747344970703,8.071861267089844,7.966834545135498,7.896176338195801,7.844620227813721,7.867534637451172,7.829342365264893,7.695671081542969,7.720497131347656,7.869445323944092,7.737682819366455,7.92482328414917,8.111961364746094,8.276189804077148,8.295283317565918,8.398402214050293,8.480515480041504,8.390763282775879,8.310561180114746,8.220809936523438,8.388855934143066,8.490062713623047,8.539711952209473,8.612276077270508,8.791779518127441,8.971280097961426,8.660017013549805,8.53016471862793,8.449962615966797,8.69820785522461,8.728761672973633,8.797506332397461,8.818512916564941,8.927360534667969,8.946455001831055,8.963641166687012,8.940726280212402,8.68865966796875,8.772682189941406,8.512977600097656,8.503429412841797,7.09987735748291,7.273650169372559,7.096057415008545,7.220182418823242,7.3443074226379395,7.497073173522949,7.1819891929626465,7.239278316497803,6.996759414672852,6.8764543533325195,6.689313888549805,6.695102691650391,6.534960746765137,6.324652671813965,6.424983501434326,6.380606174468994,6.509878158569336,6.259052276611328,6.176087379455566,5.788272380828857,5.840367794036865,5.892461776733398,5.8963212966918945,5.604977607727051,5.5490241050720215,5.54709529876709,5.518154144287109,5.54709529876709,5.473776817321777,5.493071556091309,5.485354423522949,5.49500036239624,5.410106658935547,5.462199687957764,5.5509538650512695,5.473776817321777,5.489212989807129,5.473776817321777,5.668648719787598,5.379235744476318,5.197869300842285,4.935467720031738,4.9470438957214355,4.921961784362793,4.860219955444336,4.879514694213867,4.952831745147705,4.835137367248535,5.028079986572266,5.045445442199707,4.960549831390381,5.057020664215088,5.172786712646484,5.001067638397217,5.0493035316467285,5.211374282836914,5.176645278930664,5.381164073944092,5.232600212097168,5.141915321350098,5.145774841308594,5.205585956573486,5.402388572692871,5.545165538787842,5.641636848449707,5.439046382904053,5.635847568511963,5.680225372314453,5.767049789428711,5.780555725097656,5.892461776733398,5.946485996246338,5.969637870788574,6.037169456481934,6.311146259307861,6.09453010559082,5.998907089233398,5.877913951873779,6.106240272521973,5.940362930297852,6.000858306884766,6.178446292877197,6.006712436676025,6.227232456207275,6.119900226593018,6.016469955444336,6.020373344421387,5.889624118804932,5.92670202255249,5.907187461853027,5.872059345245361,6.149172306060791,6.197960376739502,6.192105293273926,6.115996837615967,6.035985946655273,5.91109037399292,5.872059345245361,5.682764530181885,5.754969596862793,5.831078052520752,5.872059345245361,6.141366958618164,6.1764936447143555,6.20381498336792,6.285778522491455,6.332613945007324,6.4184794425964355,6.305294036865234,6.400915622711182,6.400915622711182,6.50239372253418,6.514102458953857,6.420431137084961,6.400915622711182,6.315049171447754,6.108191013336182,5.998907089233398,5.875962257385254,5.872059345245361,5.891574382781982,5.9559736251831055,5.6983771324157715,5.678861618041992,5.606655597686768,5.6632490158081055,5.553965091705322,5.470050811767578,5.571528911590576,5.557868003845215,5.555917263031006,5.600801944732666,5.801806449890137,5.850593090057373,5.620316028594971,5.678861618041992,5.6495890617370605,5.637879848480225,5.5871405601501465,5.628658771514893,5.626681327819824,5.581209659576416,5.391412734985352,5.245111465454102,5.146259784698486,5.086947441101074,5.166029453277588,5.12648868560791,5.169983863830566,5.219408988952637,5.108694553375244,5.140328407287598,5.205570697784424,5.009842872619629,5.04147481918335,5.150213718414307,5.221386909484863,5.2549967765808105,5.349895000457764,5.199639320373535,5.233248710632324,5.205570697784424,5.4111833572387695,5.6247053146362305,5.6820387840271,5.703786373138428,5.6583147048950195,5.533760070800781,5.9687113761901855,5.9687113761901855,6.1525774002075195,6.130829811096191,6.091288089752197,6.105128288269043,6.17827844619751,6.192117691040039,6.162461757659912,6.1189680099487305,6.000344276428223,5.7808918952941895,5.859973430633545,5.863927364349365,5.939055919647217,5.88962984085083,5.857996463775635,5.9608025550842285,6.150600433349609,6.198049068450928,6.273176670074463,6.162461757659912,6.093265533447266,6.162461757659912,6.2711992263793945,6.219796180725098,6.344350814819336,6.269222736358643,6.358190536499023,5.6820387840271,5.727510929107666,5.632613182067871,5.612843036651611,5.541668891906738,5.612843036651611,5.608888149261475,5.634929656982422,5.564818859100342,5.4446282386779785,5.41658353805542,5.406567573547363,5.414580345153809,5.4586501121521,5.426599979400635,5.588857173919678,5.552798748016357,5.634929656982422,5.662973880767822,5.646949291229248,5.536774158477783,5.494707107543945,5.5067267417907715,5.436615467071533,5.526757717132568,5.564818859100342,5.434612274169922,5.448635101318359,5.34446907043457,5.34446907043457,5.37451696395874,5.2182698249816895,5.232292175292969,5.102085590362549,5.084057331085205,4.947840690612793,4.9718780517578125,5.007935523986816,5.029971599578857,5.009939670562744,5.035980224609375,4.957857608795166,4.9618635177612305,4.805615425109863,4.787586212158203,4.817633628845215,4.719479560852051,4.192645072937012,4.17261266708374,4.152580261230469,4.25474214553833,4.188637733459473,4.312834739685059,4.3809428215026855,4.471086025238037,4.605297565460205,4.5371904373168945,4.619320392608643,4.699447154998779,4.699447154998779,4.699447154998779,4.829654216766357,5.220272064208984,5.172196865081787,5.0379838943481445,4.979024410247803,5.019686222076416,5.009520530700684,4.93429708480835,4.985123634338379,5.060347557067871,5.273821830749512,5.27992057800293,5.290086269378662,5.3714094161987305,5.3653106689453125,5.139638423919678,5.15183687210083,5.1681013107299805,5.265689373016357,5.310417652130127,5.3653106689453125,5.094910144805908,5.166068077087402,5.27585506439209,5.137605667114258,5.15183687210083,5.1355719566345215,5.157935619354248,5.269755840301514,5.082711219787598,4.985123634338379,4.979024410247803,5.009520530700684,5.003421306610107,5.025784969329834,4.621201038360596,4.745220184326172,4.775716781616211,4.739120006561279,4.794013977050781,4.865171432495117,4.852973461151123,4.913965225219727,4.924130439758301,4.9424285888671875,4.915998935699463,4.979024410247803,4.940395832061768,4.956659317016602,5.029850482940674,5.01765251159668,5.007487773895264,5.040017604827881,5.162002086639404,5.21689510345459,5.157935619354248,5.233160495758057,5.241292476654053,5.1681013107299805,5.198597431182861,5.330748558044434,5.33888053894043,5.196564674377441,5.342947006225586,5.391740322113037,4.96885871887207,4.976991176605225,5.0786452293396,5.139638423919678,5.064414024353027,5.01561975479126,5.082711219787598,5.082711219787598,5.198321342468262,4.9939398765563965,5.070324897766113,5.093033790588379,5.008391380310059,5.086841106414795,4.929941177368164,4.9567790031433105,4.973295211791992,4.9464569091796875,4.273441791534424,4.304409027099609,4.4840168952941895,4.531500339508057,4.636786937713623,4.655366897583008,4.5418219566345215,4.537693023681641,4.492274761199951,4.508790969848633,4.471630096435547,4.517047882080078,4.5645318031311035,4.556273460388184,4.620271682739258,4.725559711456299,4.715236663818359,4.702850341796875,4.787493705749512,4.787493705749512,4.793686389923096,4.830847263336182,4.882458209991455,4.768913269042969,4.684270858764648,4.702850341796875,4.839105129241943,4.948521614074707,4.865943431854248,4.954714775085449,5.0331645011901855,5.055873870849609,5.150839328765869,5.026971340179443,4.960908889770508,5.029036045074463,5.0517449378967285,4.9216837882995605,4.909296989440918,5.000133514404297,4.965036869049072,4.678077220916748,4.688399314880371,4.876265525817871,4.587240219116211,4.659496784210205,4.5707244873046875,4.702850341796875,4.680141448974609,4.720034122467041,4.598254680633545,4.627650260925293,4.486972808837891,4.62135124206543,4.558360576629639,4.615051746368408,4.541563034057617,4.455478191375732,4.32319974899292,4.3672919273376465,4.33369779586792,4.29590368270874,4.3127007484436035,4.335796356201172,4.436580657958984,4.489072799682617,4.516367435455322,4.5373640060424805,4.5373640060424805,4.535264492034912,4.516367435455322,4.434481620788574,4.390388011932373,4.386188507080078,4.400886058807373,4.4071855545043945,4.442879676818848,4.413484573364258,4.468075275421143,4.428182125091553,4.4827728271484375,4.430282115936279,4.36309289932251,4.3672919273376465,4.463876724243164,4.417684078216553,4.5562615394592285,4.514268398284912,4.554161548614502,4.484873294830322,4.489072799682617,4.547863006591797,4.60455322265625,4.6549458503723145,4.606653690338135,4.636048793792725,4.507967948913574,4.568859577178955,4.587756156921387,4.394587993621826,4.491171836853027,4.430282115936279,4.455478191375732,4.40508508682251,4.543663501739502,4.510068416595459,4.573059558868408,4.073339462280273,4.020847797393799,3.936861515045166,3.945261240005493,3.8843700885772705,3.9200644493103027,3.976755142211914,4.060741901397705,4.037182807922363,4.101434230804443,4.1121439933776855,4.182821273803711,4.287765979766846,4.30061674118042,4.345593452453613,4.319891929626465,4.32417631149292,4.3048996925354,4.259923458099365,4.2856245040893555,4.377719402313232,4.422695159912109,4.465530872344971,4.4526801109313965,4.424837589263916,4.384144306182861,4.328458786010742,4.337026596069336,4.394853115081787,4.287765979766846,4.315608978271484,4.332742214202881,4.195671558380127,4.176395893096924,4.221371650695801,4.157120227813721,4.210662841796875,4.294190883636475,4.294190883636475,4.311324596405029,4.343451499938965,4.27491569519043,4.199954986572266,4.178537368774414,4.142127990722656,4.02004861831665,4.002915382385254,3.9836390018463135,3.9643630981445312,3.876551866531372,3.818725109100342,3.6645195484161377,3.68379545211792,3.7608978748321533,3.518880844116211,3.469621419906616,3.4674794673919678,3.426786184310913,3.4653372764587402,3.4931797981262207,3.5210225582122803,3.5831332206726074,3.7202048301696777,3.7309136390686035,3.8915443420410156,4.073592185974121,4.180678367614746,4.095492839813232,4.0998616218566895,4.2374701499938965,4.2090744972229,4.152283668518066,4.069281578063965,4.193785190582275,4.165389060974121,4.174126148223877,4.078018665313721,4.014675140380859,4.005937576293945,4.07583475112915,4.016859531402588,3.9862797260284424,4.029964923858643,3.9950168132781982,4.043070316314697,3.9862797260284424,3.968806028366089,3.9207515716552734,3.988464117050171,3.975358724594116,4.001569747924805,4.080203533172607,4.2003374099731445,4.270233631134033,4.298629283905029,4.35978889465332,3.8792507648468018,3.748195171356201,3.822460174560547,3.9010939598083496,3.960069179534912,3.833380937576294,3.800617218017578,3.708878517150879,3.6782989501953125,3.7263524532318115,3.7460110187530518,3.72853684425354,3.671746253967285,3.638982057571411,3.5450587272644043,3.4183716773986816,3.525400400161743,3.5974807739257812,3.457688331604004,3.5319530963897705,3.4511353969573975,3.4030814170837402,3.542874336242676,3.5843753814697266,3.582191228866577,3.464240789413452,3.4271082878112793,3.411818742752075,3.4882681369781494,3.5122947692871094,3.40089750289917,3.4271082878112793,3.4882681369781494,3.564343214035034,3.5911927223205566,3.593430280685425,3.5665805339813232,3.499455213546753,3.546442985534668,3.4793179035186768,3.4927427768707275,3.4591803550720215,3.4256176948547363,3.450230360031128,3.3137426376342773,3.2376675605773926,3.1369800567626953,3.0944674015045166,3.0206298828125,3.1414546966552734,3.1056549549102783,3.166067361831665,2.8237292766571045,2.8684792518615723,2.910991907119751,2.9848294258117676,3.0340545177459717,3.004967212677002,3.0161545276641846,3.0609047412872314,3.0967047214508057,3.0497171878814697,3.0452420711517334,3.0899922847747803,3.11907958984375,3.056429386138916,3.0251047611236572,2.881904363632202,2.9535045623779297,3.0004918575286865,3.0116796493530273,3.0586671829223633,3.101179599761963,3.054192066192627,3.098942279815674,3.00944185256958,2.8707168102264404,2.9087541103363037,2.884141683578491,2.861767053604126,2.893091917037964,2.9154670238494873,2.8438668251037598,2.9669291973114014,3.022867202758789,3.0318169593811035,3.0474796295166016,2.7879292964935303,2.8595292568206787,2.834916830062866,2.846104383468628,2.850579261779785,2.834916830062866,2.9199421405792236,3.002729654312134,2.9535045623779297,3.069854736328125,3.186204671859741,3.2667551040649414,3.2264797687530518,3.24214243888855,3.2510926723480225,3.2832584381103516,3.228116512298584,3.062689781188965,2.9524054527282715,3.2074382305145264,3.492339611053467,3.6187071800231934,3.6095166206359863,3.568160057067871,3.5658626556396484,3.471661329269409,3.439495086669922,3.3544843196868896,3.418816566467285,3.3475911617279053,3.253389835357666,3.228116512298584,3.3613767623901367,3.480851411819458,3.5543744564056396,3.4142212867736816,3.377459764480591,3.4670662879943848,3.5107202529907227,3.4969348907470703,3.349889039993286,3.349889039993286,3.428007125854492,3.464768409729004,3.421114206314087,3.395840644836426,3.333805799484253,3.402733564376831,3.4073288440704346,3.377459764480591,3.3108296394348145,3.384352684020996,3.359079122543335,3.411923885345459,3.4142212867736816,3.473958730697632,3.5038273334503174,3.4946370124816895,3.5199103355407715,3.4946370124816895,3.561267375946045,3.542886734008789,3.4969348907470703,3.5222082138061523,3.6416831016540527,3.788728952407837,3.901310920715332,3.850764036178589,3.8025143146514893,3.3797576427459717,3.2235209941864014,3.244199514389038,3.1201295852661133,3.0489044189453125,3.228116512298584,3.735884428024292,3.708313226699829,3.7060153484344482,3.676146984100342,3.7129082679748535,3.8277878761291504,3.9150967597961426,3.857656955718994,3.904672622680664,3.8788137435913086,3.9023220539093018,3.8764631748199463,3.8835155963897705,3.6484360694885254,3.7659757137298584,3.664891481399536,3.6554882526397705,3.5896661281585693,3.5920166969299316,3.495634078979492,3.507388114929199,3.483880043029785,3.4509692192077637,3.5214929580688477,3.469775438308716,3.4862310886383057,3.4462673664093018,3.4791786670684814,3.4979848861694336,3.594367504119873,3.601419687271118,3.5402991771698,3.4627227783203125,3.5544040203094482,3.5896661281585693,3.542649984359741,3.394549608230591,3.2229416370391846,3.4157071113586426,3.448618173599243,3.4321627616882324,3.6084725856781006,3.669593095779419,3.52384352684021,3.5144402980804443,3.5026865005493164,3.493283271789551,3.441565990447998,3.2629053592681885,3.2629053592681885,3.0466318130493164,3.0865955352783203,3.0066685676574707,3.0630877017974854,2.886777877807617,3.2229416370391846,3.1735751628875732,3.4274611473083496,3.46037220954895,3.528545379638672,3.4392149448394775,3.2111876010894775,3.260554552078247,3.1735751628875732,3.1876797676086426,3.2158894538879395,3.1989636421203613,3.131260633468628,3.1989636421203613,3.092573404312134,3.0853195190429688,3.0587217807769775,3.0780653953552246,3.0417962074279785,3.0055267810821533,2.8918824195861816,2.8217616081237793,2.998272657394409,2.945077657699585,2.969257116317749,3.0514678955078125,3.160276174545288,3.136096715927124,3.684973955154419,3.7430050373077393,3.822798013687134,3.863903045654297,3.85906720161438,3.8324697017669678,3.7816925048828125,3.7550947666168213,3.7913644313812256,3.8131260871887207,3.851813554763794,3.692228078842163,3.7430050373077393,3.8203799724578857,3.84455943107605,3.7478411197662354,2.727461099624634,2.7081172466278076,2.741968870162964,2.7177891731262207,2.749222755432129,2.8507771492004395,2.783074378967285,2.773402452468872,2.744386911392212,2.732296943664551,2.792746067047119,2.773402452468872,2.739550828933716,2.763730525970459,2.7081172466278076,2.7081172466278076,2.6670119762420654,2.749222755432129,2.792746067047119,2.8145077228546143,2.8217616081237793,2.8290154933929443,2.8411052227020264,2.797581911087036,2.8048360347747803,2.795164108276367,2.8024179935455322,2.6525044441223145,2.722625255584717,2.773402452468872,2.799999952316284,2.737499952316284,2.765000104904175,2.7674999237060547,2.740000009536743,2.625,2.637500047683716,2.612499952316284,2.5350000858306885,2.5875000953674316,2.572499990463257,2.547499895095825,2.5399999618530273,2.5924999713897705,2.5250000953674316,2.4075000286102295,2.507499933242798,2.4649999141693115,2.484999895095825,2.4549999237060547,2.492500066757202,2.440000057220459,2.3299999237060547,2.234999895095825,2.2699999809265137,2.234999895095825,2.192500114440918,2.1624999046325684,2.2225000858306885,2.252500057220459,2.237499952316284,2.2225000858306885,2.190000057220459,2.1624999046325684,2.127500057220459,2.192500114440918,2.242500066757202,2.2125000953674316,2.192500114440918,2.172499895095825,2.130000114440918,2.119999885559082,2.065000057220459,2.132499933242798,2.172499895095825,2.1675000190734863,2.1524999141693115,2.015000104904175,2.0325000286102295,1.975000023841858,1.9249999523162842,1.9550000429153442,1.934999942779541,1.8925000429153442,1.899999976158142,1.8949999809265137,1.8674999475479126,1.9550000429153442,1.2599999904632568,1.2825000286102295,1.2549999952316284,1.3600000143051147,1.4299999475479126,1.375,1.4249999523162842,1.4075000286102295,1.4249999523162842,1.4325000047683716,1.4075000286102295,1.3825000524520874,1.3550000190734863,1.3424999713897705,1.3624999523162842,1.3674999475479126,1.3849999904632568,1.3674999475479126,1.340000033378601,1.3450000286102295,1.3274999856948853,1.3799999952316284,1.3624999523162842,1.3274999856948853,1.2949999570846558,1.2100000381469727,1.2274999618530273,1.1875,1.1575000286102295,1.0950000286102295,1.0499999523162842,1.0800000429153442,1.034999966621399,1.0225000381469727,1.0199999809265137,0.9950000047683716,1.002500057220459,1.0299999713897705,1.0075000524520874,1.0049999952316284,0.9599999785423279,0.9449999928474426,0.9275000095367432,0.9524999856948853,0.9524999856948853,0.9725000262260437,0.8974999785423279,0.8774999976158142,0.8675000071525574,0.8299999833106995,0.8025000095367432,0.8299999833106995,0.8450000286102295,0.8550000190734863,0.8849999904632568,0.9674999713897705,0.9125000238418579,0.9549999833106995,0.925000011920929,0.9700000286102295,1.0575000047683716,0.9925000071525574,0.9524999856948853,0.9950000047683716,1.0575000047683716,1.0774999856948853,1.190000057220459,1.2725000381469727,1.1475000381469727,1.1449999809265137,1.1024999618530273,1.087499976158142,1.0824999809265137,1.149999976158142,1.1100000143051147,1.1749999523162842,1.2549999952316284,1.252500057220459,1.2999999523162842,1.3200000524520874,1.3350000381469727,1.3799999952316284,1.3949999809265137,1.3300000429153442,1.3550000190734863,1.3875000476837158,1.372499942779541,1.3075000047683716,1.247499942779541,1.2625000476837158,1.3424999713897705,1.3949999809265137,1.402500033378601,1.4700000286102295,1.5075000524520874,1.4850000143051147,1.4824999570846558,1.597499966621399,1.6074999570846558,1.6050000190734863,1.587499976158142,1.5475000143051147,1.4524999856948853,1.4325000047683716,1.3600000143051147,1.4600000381469727,1.462499976158142,1.4774999618530273,1.5225000381469727,1.5549999475479126,1.5225000381469727,1.5049999952316284,1.4800000190734863,1.4850000143051147,1.4950000047683716,1.4700000286102295,1.4049999713897705,1.375,1.3650000095367432,1.375,1.4149999618530273,1.5075000524520874,1.524999976158142,1.587499976158142,1.5850000381469727,1.5425000190734863,1.5299999713897705,1.6074999570846558,1.600000023841858,1.6699999570846558,1.5824999809265137,1.627500057220459,1.3825000524520874,1.3949999809265137,1.3624999523162842,1.375,1.5149999856948853,1.5399999618530273,1.5149999856948853,1.497499942779541,1.402500033378601,1.3600000143051147,1.350000023841858,1.475000023841858,1.5325000286102295,1.5199999809265137,1.5774999856948853,1.4700000286102295,1.462499976158142,1.3799999952316284,1.4299999475479126,1.3875000476837158,1.3574999570846558,1.3574999570846558,1.1775000095367432,1.152500033378601,1.1549999713897705,1.1875,1.1475000381469727,1.1399999856948853,1.1549999713897705,1.0800000429153442,1.0700000524520874,1.0525000095367432,1.0325000286102295,0.9825000166893005,0.9599999785423279,0.987500011920929,1.0175000429153442,1.0449999570846558,1.034999966621399,0.9524999856948853,0.9850000143051147,1.0049999952316284,1.0475000143051147,1.027500033378601,1.0049999952316284,1.0149999856948853,1.037500023841858,1.034999966621399,1.0099999904632568,0.925000011920929,0.8899999856948853,0.8475000262260437,0.8675000071525574,0.8999999761581421,0.9574999809265137,0.9075000286102295,0.9424999952316284,0.9900000095367432,0.9800000190734863,0.925000011920929,1.0575000047683716,1.034999966621399,0.9950000047683716,1.1475000381469727,1.0924999713897705,1.0575000047683716,0.9424999952316284,1.0475000143051147,0.9399999976158142,0.9524999856948853,1.0399999618530273,1.0425000190734863,1.1024999618530273,1.0549999475479126,0.9125000238418579,0.875,0.8125,0.7124999761581421,0.699999988079071,0.7724999785423279,0.8174999952316284,0.8525000214576721,0.9725000262260437,1.184999942779541,1.4874999523162842,1.3174999952316284,1.2575000524520874,1.2200000286102295,1.402500033378601,1.1950000524520874,1.222499966621399,1.1749999523162842,1.1924999952316284,1.4550000429153442,1.409999966621399,1.5099999904632568,1.4325000047683716,1.5125000476837158,1.3700000047683716,1.347499966621399,1.2324999570846558,1.2174999713897705,1.2450000047683716,1.190000057220459,1.1349999904632568,1.0525000095367432,1.0325000286102295,1.0549999475479126,1.1449999809265137,1.1100000143051147,1.1074999570846558,1.1100000143051147,1.0449999570846558,1.1050000190734863,1.1725000143051147,1.0824999809265137,1.0149999856948853,1.0325000286102295,1.0449999570846558,1.1100000143051147,1.1174999475479126,1.034999966621399,1.252500057220459,1.2400000095367432,1.2675000429153442,1.0924999713897705,1.1799999475479126,1.1725000143051147,1.159999966621399,1.190000057220459,1.2374999523162842,1.2200000286102295,1.2174999713897705,1.2074999809265137,1.1024999618530273,1.1150000095367432,1.087499976158142,1.0950000286102295,1.0850000381469727,1.1100000143051147,1.0724999904632568,1.059999942779541,1.0225000381469727,1.065000057220459,1.0525000095367432,1.0850000381469727,1.065000057220459,1.0199999809265137,1.0475000143051147,1.0425000190734863,0.9900000095367432,0.9624999761581421,1.002500057220459,1.027500033378601,1.027500033378601,1.0075000524520874,1.002500057220459,0.9850000143051147,1.0149999856948853,1.024999976158142,1.002500057220459,1.037500023841858,1.1074999570846558,1.1575000286102295,1.1074999570846558,1.0399999618530273,1.0824999809265137,1.087499976158142,1.1299999952316284,1.159999966621399,1.1875,1.1575000286102295,1.2024999856948853,1.1799999475479126,1.152500033378601,1.2575000524520874,1.2174999713897705,1.2450000047683716,1.277500033378601,1.3125,1.347499966621399,1.6699999570846558,1.912500023841858,1.9275000095367432,1.9550000429153442,1.912500023841858,1.9249999523162842,1.837499976158142,1.5575000047683716,1.5225000381469727,1.7274999618530273,1.7725000381469727,2.1700000762939453,2.299999952316284,2.367500066757202,2.1875,2.640000104904175,2.509999990463257,2.2850000858306885,2.505000114440918,2.5225000381469727,2.5875000953674316,2.549999952316284,2.442500114440918,2.3475000858306885,2.365000009536743,2.2825000286102295,2.3399999141693115,3.372499942779541,3.005000114440918,2.950000047683716,2.9700000286102295,3.0625,3.4574999809265137,3.327500104904175,3.4774999618530273,3.4649999141693115,3.5250000953674316,3.7274999618530273,3.75,3.362499952316284,3.172499895095825,2.9549999237060547,2.932499885559082,2.617500066757202,2.6875,2.8924999237060547,2.7274999618530273,2.862499952316284,2.9649999141693115,2.872499942779541,2.7750000953674316,2.9375,2.7825000286102295,2.752500057220459,3.015000104904175,2.9075000286102295,2.8924999237060547,3.115000009536743,3.177500009536743,3.4749999046325684,3.4175000190734863,3.6875,4.019999980926514,4.139999866485596,3.950000047683716,4.144999980926514,4.03000020980835,4.224999904632568,4.087500095367432,4.235000133514404,3.4149999618530273,3.5299999713897705,3.327500104904175,3.180000066757202,3.4625000953674316,3.4625000953674316,3.7074999809265137,3.9075000286102295,3.882499933242798,4.864999771118164,5.142499923706055,5.037499904632568,5.247499942779541,4.84499979019165,4.815000057220459,4.710000038146973,4.3125,4.34250020980835,4.590000152587891,4.519999980926514,4.422500133514404,4.985000133514404,4.987500190734863,7.849999904632568,9.977499961853027,8.875,9.84000015258789,9.779999732971191,10.757499694824219,16.252500534057617,19.197500228881836,36.994998931884766,86.87750244140625,48.400001525878906,81.25,56.25,22.5,23.102500915527344,13.375,15.942500114440918,15.0,12.577500343322754,12.800000190734863,12.774999618530273,13.100000381469727,12.3774995803833,11.484999656677246,10.172499656677246,10.147500038146973,11.5,11.242500305175781,22.927499771118164,27.1825008392334,25.434999465942383,30.100000381469727,29.545000076293945,31.045000076293945,33.087501525878906,34.435001373291016,48.625,61.724998474121094,66.25,65.0,66.125,55.03499984741211,52.04249954223633,52.45249938964844,50.4375,50.067501068115234,48.622501373291016,45.4375,30.084999084472656,45.9375,45.25,45.32500076293945,48.6150016784668,47.45500183105469,47.86249923706055,46.73749923706055,46.125,44.49250030517578,42.564998626708984,39.59000015258789,35.272499084472656,35.247501373291016,41.63249969482422,39.11000061035156,38.67250061035156,41.092498779296875,39.63249969482422,39.627498626708984,37.79249954223633,37.79499816894531,42.23249816894531,44.442501068115234,44.64500045776367,44.04750061035156,43.397499084472656,40.54999923706055,40.182498931884766,39.869998931884766,40.252498626708984,40.27750015258789,35.80500030517578,36.72999954223633,36.1974983215332,41.125,39.97999954223633,45.150001525878906,45.16749954223633,42.20750045776367,42.622501373291016,44.1974983215332,45.002498626708984,52.35749816894531,60.63999938964844,63.532501220703125,55.5,62.255001068115234,70.55999755859375,64.54499816894531,62.09000015258789,70.00250244140625,75.0,75.63999938964844,55.09749984741211,58.334999084472656,57.36000061035156],\"type\":\"scatter\",\"xaxis\":\"x\",\"yaxis\":\"y\"},{\"name\":\"Revenue\",\"x\":[\"2020-04-30T00:00:00\",\"2020-01-31T00:00:00\",\"2019-10-31T00:00:00\",\"2019-07-31T00:00:00\",\"2019-04-30T00:00:00\",\"2019-01-31T00:00:00\",\"2018-10-31T00:00:00\",\"2018-07-31T00:00:00\",\"2018-04-30T00:00:00\",\"2018-01-31T00:00:00\",\"2017-10-31T00:00:00\",\"2017-07-31T00:00:00\",\"2017-04-30T00:00:00\",\"2017-01-31T00:00:00\",\"2016-10-31T00:00:00\",\"2016-07-31T00:00:00\",\"2016-04-30T00:00:00\",\"2016-01-31T00:00:00\",\"2015-10-31T00:00:00\",\"2015-07-31T00:00:00\",\"2015-04-30T00:00:00\",\"2015-01-31T00:00:00\",\"2014-10-31T00:00:00\",\"2014-07-31T00:00:00\",\"2014-04-30T00:00:00\",\"2014-01-31T00:00:00\",\"2013-10-31T00:00:00\",\"2013-07-31T00:00:00\",\"2013-04-30T00:00:00\",\"2013-01-31T00:00:00\",\"2012-10-31T00:00:00\",\"2012-07-31T00:00:00\",\"2012-04-30T00:00:00\",\"2012-01-31T00:00:00\",\"2011-10-31T00:00:00\",\"2011-07-31T00:00:00\",\"2011-04-30T00:00:00\",\"2011-01-31T00:00:00\",\"2010-10-31T00:00:00\",\"2010-07-31T00:00:00\",\"2010-04-30T00:00:00\",\"2010-01-31T00:00:00\",\"2009-10-31T00:00:00\",\"2009-07-31T00:00:00\",\"2009-04-30T00:00:00\",\"2009-01-31T00:00:00\",\"2008-10-31T00:00:00\",\"2008-07-31T00:00:00\",\"2008-04-30T00:00:00\",\"2008-01-31T00:00:00\",\"2007-10-31T00:00:00\",\"2007-07-31T00:00:00\",\"2007-04-30T00:00:00\",\"2007-01-31T00:00:00\",\"2006-10-31T00:00:00\",\"2006-07-31T00:00:00\",\"2006-04-30T00:00:00\",\"2006-01-31T00:00:00\",\"2005-10-31T00:00:00\",\"2005-07-31T00:00:00\",\"2005-04-30T00:00:00\",\"2005-01-31T00:00:00\"],\"y\":[1021.0,2194.0,1439.0,1286.0,1548.0,3063.0,1935.0,1501.0,1786.0,2825.0,1989.0,1688.0,2046.0,2403.0,1959.0,1632.0,1972.0,3525.0,2016.0,1762.0,2061.0,3476.0,2092.0,1731.0,1996.0,3684.0,2107.0,1384.0,1865.0,3562.0,1773.0,1550.0,2002.0,3579.0,1947.0,1744.0,2281.0,3693.0,1899.0,1799.0,2083.0,3524.0,1835.0,1739.0,1981.0,3492.0,1696.0,1804.0,1814.0,2866.0,1611.0,1338.0,1279.0,2304.0,1012.0,963.0,1040.0,1667.0,534.0,416.0,475.0,709.0],\"type\":\"scatter\",\"xaxis\":\"x2\",\"yaxis\":\"y2\"}],                        {\"template\":{\"data\":{\"histogram2dcontour\":[{\"type\":\"histogram2dcontour\",\"colorbar\":{\"outlinewidth\":0,\"ticks\":\"\"},\"colorscale\":[[0.0,\"#0d0887\"],[0.1111111111111111,\"#46039f\"],[0.2222222222222222,\"#7201a8\"],[0.3333333333333333,\"#9c179e\"],[0.4444444444444444,\"#bd3786\"],[0.5555555555555556,\"#d8576b\"],[0.6666666666666666,\"#ed7953\"],[0.7777777777777778,\"#fb9f3a\"],[0.8888888888888888,\"#fdca26\"],[1.0,\"#f0f921\"]]}],\"choropleth\":[{\"type\":\"choropleth\",\"colorbar\":{\"outlinewidth\":0,\"ticks\":\"\"}}],\"histogram2d\":[{\"type\":\"histogram2d\",\"colorbar\":{\"outlinewidth\":0,\"ticks\":\"\"},\"colorscale\":[[0.0,\"#0d0887\"],[0.1111111111111111,\"#46039f\"],[0.2222222222222222,\"#7201a8\"],[0.3333333333333333,\"#9c179e\"],[0.4444444444444444,\"#bd3786\"],[0.5555555555555556,\"#d8576b\"],[0.6666666666666666,\"#ed7953\"],[0.7777777777777778,\"#fb9f3a\"],[0.8888888888888888,\"#fdca26\"],[1.0,\"#f0f921\"]]}],\"heatmap\":[{\"type\":\"heatmap\",\"colorbar\":{\"outlinewidth\":0,\"ticks\":\"\"},\"colorscale\":[[0.0,\"#0d0887\"],[0.1111111111111111,\"#46039f\"],[0.2222222222222222,\"#7201a8\"],[0.3333333333333333,\"#9c179e\"],[0.4444444444444444,\"#bd3786\"],[0.5555555555555556,\"#d8576b\"],[0.6666666666666666,\"#ed7953\"],[0.7777777777777778,\"#fb9f3a\"],[0.8888888888888888,\"#fdca26\"],[1.0,\"#f0f921\"]]}],\"heatmapgl\":[{\"type\":\"heatmapgl\",\"colorbar\":{\"outlinewidth\":0,\"ticks\":\"\"},\"colorscale\":[[0.0,\"#0d0887\"],[0.1111111111111111,\"#46039f\"],[0.2222222222222222,\"#7201a8\"],[0.3333333333333333,\"#9c179e\"],[0.4444444444444444,\"#bd3786\"],[0.5555555555555556,\"#d8576b\"],[0.6666666666666666,\"#ed7953\"],[0.7777777777777778,\"#fb9f3a\"],[0.8888888888888888,\"#fdca26\"],[1.0,\"#f0f921\"]]}],\"contourcarpet\":[{\"type\":\"contourcarpet\",\"colorbar\":{\"outlinewidth\":0,\"ticks\":\"\"}}],\"contour\":[{\"type\":\"contour\",\"colorbar\":{\"outlinewidth\":0,\"ticks\":\"\"},\"colorscale\":[[0.0,\"#0d0887\"],[0.1111111111111111,\"#46039f\"],[0.2222222222222222,\"#7201a8\"],[0.3333333333333333,\"#9c179e\"],[0.4444444444444444,\"#bd3786\"],[0.5555555555555556,\"#d8576b\"],[0.6666666666666666,\"#ed7953\"],[0.7777777777777778,\"#fb9f3a\"],[0.8888888888888888,\"#fdca26\"],[1.0,\"#f0f921\"]]}],\"surface\":[{\"type\":\"surface\",\"colorbar\":{\"outlinewidth\":0,\"ticks\":\"\"},\"colorscale\":[[0.0,\"#0d0887\"],[0.1111111111111111,\"#46039f\"],[0.2222222222222222,\"#7201a8\"],[0.3333333333333333,\"#9c179e\"],[0.4444444444444444,\"#bd3786\"],[0.5555555555555556,\"#d8576b\"],[0.6666666666666666,\"#ed7953\"],[0.7777777777777778,\"#fb9f3a\"],[0.8888888888888888,\"#fdca26\"],[1.0,\"#f0f921\"]]}],\"mesh3d\":[{\"type\":\"mesh3d\",\"colorbar\":{\"outlinewidth\":0,\"ticks\":\"\"}}],\"scatter\":[{\"fillpattern\":{\"fillmode\":\"overlay\",\"size\":10,\"solidity\":0.2},\"type\":\"scatter\"}],\"parcoords\":[{\"type\":\"parcoords\",\"line\":{\"colorbar\":{\"outlinewidth\":0,\"ticks\":\"\"}}}],\"scatterpolargl\":[{\"type\":\"scatterpolargl\",\"marker\":{\"colorbar\":{\"outlinewidth\":0,\"ticks\":\"\"}}}],\"bar\":[{\"error_x\":{\"color\":\"#2a3f5f\"},\"error_y\":{\"color\":\"#2a3f5f\"},\"marker\":{\"line\":{\"color\":\"#E5ECF6\",\"width\":0.5},\"pattern\":{\"fillmode\":\"overlay\",\"size\":10,\"solidity\":0.2}},\"type\":\"bar\"}],\"scattergeo\":[{\"type\":\"scattergeo\",\"marker\":{\"colorbar\":{\"outlinewidth\":0,\"ticks\":\"\"}}}],\"scatterpolar\":[{\"type\":\"scatterpolar\",\"marker\":{\"colorbar\":{\"outlinewidth\":0,\"ticks\":\"\"}}}],\"histogram\":[{\"marker\":{\"pattern\":{\"fillmode\":\"overlay\",\"size\":10,\"solidity\":0.2}},\"type\":\"histogram\"}],\"scattergl\":[{\"type\":\"scattergl\",\"marker\":{\"colorbar\":{\"outlinewidth\":0,\"ticks\":\"\"}}}],\"scatter3d\":[{\"type\":\"scatter3d\",\"line\":{\"colorbar\":{\"outlinewidth\":0,\"ticks\":\"\"}},\"marker\":{\"colorbar\":{\"outlinewidth\":0,\"ticks\":\"\"}}}],\"scattermapbox\":[{\"type\":\"scattermapbox\",\"marker\":{\"colorbar\":{\"outlinewidth\":0,\"ticks\":\"\"}}}],\"scatterternary\":[{\"type\":\"scatterternary\",\"marker\":{\"colorbar\":{\"outlinewidth\":0,\"ticks\":\"\"}}}],\"scattercarpet\":[{\"type\":\"scattercarpet\",\"marker\":{\"colorbar\":{\"outlinewidth\":0,\"ticks\":\"\"}}}],\"carpet\":[{\"aaxis\":{\"endlinecolor\":\"#2a3f5f\",\"gridcolor\":\"white\",\"linecolor\":\"white\",\"minorgridcolor\":\"white\",\"startlinecolor\":\"#2a3f5f\"},\"baxis\":{\"endlinecolor\":\"#2a3f5f\",\"gridcolor\":\"white\",\"linecolor\":\"white\",\"minorgridcolor\":\"white\",\"startlinecolor\":\"#2a3f5f\"},\"type\":\"carpet\"}],\"table\":[{\"cells\":{\"fill\":{\"color\":\"#EBF0F8\"},\"line\":{\"color\":\"white\"}},\"header\":{\"fill\":{\"color\":\"#C8D4E3\"},\"line\":{\"color\":\"white\"}},\"type\":\"table\"}],\"barpolar\":[{\"marker\":{\"line\":{\"color\":\"#E5ECF6\",\"width\":0.5},\"pattern\":{\"fillmode\":\"overlay\",\"size\":10,\"solidity\":0.2}},\"type\":\"barpolar\"}],\"pie\":[{\"automargin\":true,\"type\":\"pie\"}]},\"layout\":{\"autotypenumbers\":\"strict\",\"colorway\":[\"#636efa\",\"#EF553B\",\"#00cc96\",\"#ab63fa\",\"#FFA15A\",\"#19d3f3\",\"#FF6692\",\"#B6E880\",\"#FF97FF\",\"#FECB52\"],\"font\":{\"color\":\"#2a3f5f\"},\"hovermode\":\"closest\",\"hoverlabel\":{\"align\":\"left\"},\"paper_bgcolor\":\"white\",\"plot_bgcolor\":\"#E5ECF6\",\"polar\":{\"bgcolor\":\"#E5ECF6\",\"angularaxis\":{\"gridcolor\":\"white\",\"linecolor\":\"white\",\"ticks\":\"\"},\"radialaxis\":{\"gridcolor\":\"white\",\"linecolor\":\"white\",\"ticks\":\"\"}},\"ternary\":{\"bgcolor\":\"#E5ECF6\",\"aaxis\":{\"gridcolor\":\"white\",\"linecolor\":\"white\",\"ticks\":\"\"},\"baxis\":{\"gridcolor\":\"white\",\"linecolor\":\"white\",\"ticks\":\"\"},\"caxis\":{\"gridcolor\":\"white\",\"linecolor\":\"white\",\"ticks\":\"\"}},\"coloraxis\":{\"colorbar\":{\"outlinewidth\":0,\"ticks\":\"\"}},\"colorscale\":{\"sequential\":[[0.0,\"#0d0887\"],[0.1111111111111111,\"#46039f\"],[0.2222222222222222,\"#7201a8\"],[0.3333333333333333,\"#9c179e\"],[0.4444444444444444,\"#bd3786\"],[0.5555555555555556,\"#d8576b\"],[0.6666666666666666,\"#ed7953\"],[0.7777777777777778,\"#fb9f3a\"],[0.8888888888888888,\"#fdca26\"],[1.0,\"#f0f921\"]],\"sequentialminus\":[[0.0,\"#0d0887\"],[0.1111111111111111,\"#46039f\"],[0.2222222222222222,\"#7201a8\"],[0.3333333333333333,\"#9c179e\"],[0.4444444444444444,\"#bd3786\"],[0.5555555555555556,\"#d8576b\"],[0.6666666666666666,\"#ed7953\"],[0.7777777777777778,\"#fb9f3a\"],[0.8888888888888888,\"#fdca26\"],[1.0,\"#f0f921\"]],\"diverging\":[[0,\"#8e0152\"],[0.1,\"#c51b7d\"],[0.2,\"#de77ae\"],[0.3,\"#f1b6da\"],[0.4,\"#fde0ef\"],[0.5,\"#f7f7f7\"],[0.6,\"#e6f5d0\"],[0.7,\"#b8e186\"],[0.8,\"#7fbc41\"],[0.9,\"#4d9221\"],[1,\"#276419\"]]},\"xaxis\":{\"gridcolor\":\"white\",\"linecolor\":\"white\",\"ticks\":\"\",\"title\":{\"standoff\":15},\"zerolinecolor\":\"white\",\"automargin\":true,\"zerolinewidth\":2},\"yaxis\":{\"gridcolor\":\"white\",\"linecolor\":\"white\",\"ticks\":\"\",\"title\":{\"standoff\":15},\"zerolinecolor\":\"white\",\"automargin\":true,\"zerolinewidth\":2},\"scene\":{\"xaxis\":{\"backgroundcolor\":\"#E5ECF6\",\"gridcolor\":\"white\",\"linecolor\":\"white\",\"showbackground\":true,\"ticks\":\"\",\"zerolinecolor\":\"white\",\"gridwidth\":2},\"yaxis\":{\"backgroundcolor\":\"#E5ECF6\",\"gridcolor\":\"white\",\"linecolor\":\"white\",\"showbackground\":true,\"ticks\":\"\",\"zerolinecolor\":\"white\",\"gridwidth\":2},\"zaxis\":{\"backgroundcolor\":\"#E5ECF6\",\"gridcolor\":\"white\",\"linecolor\":\"white\",\"showbackground\":true,\"ticks\":\"\",\"zerolinecolor\":\"white\",\"gridwidth\":2}},\"shapedefaults\":{\"line\":{\"color\":\"#2a3f5f\"}},\"annotationdefaults\":{\"arrowcolor\":\"#2a3f5f\",\"arrowhead\":0,\"arrowwidth\":1},\"geo\":{\"bgcolor\":\"white\",\"landcolor\":\"#E5ECF6\",\"subunitcolor\":\"white\",\"showland\":true,\"showlakes\":true,\"lakecolor\":\"white\"},\"title\":{\"x\":0.05},\"mapbox\":{\"style\":\"light\"}}},\"xaxis\":{\"anchor\":\"y\",\"domain\":[0.0,1.0],\"matches\":\"x2\",\"showticklabels\":false,\"title\":{\"text\":\"Date\"},\"rangeslider\":{\"visible\":true}},\"yaxis\":{\"anchor\":\"x\",\"domain\":[0.6499999999999999,0.9999999999999999],\"title\":{\"text\":\"Price ($US)\"}},\"xaxis2\":{\"anchor\":\"y2\",\"domain\":[0.0,1.0],\"title\":{\"text\":\"Date\"}},\"yaxis2\":{\"anchor\":\"x2\",\"domain\":[0.0,0.35],\"title\":{\"text\":\"Revenue ($US Millions)\"}},\"annotations\":[{\"font\":{\"size\":16},\"showarrow\":false,\"text\":\"Historical Share Price\",\"x\":0.5,\"xanchor\":\"center\",\"xref\":\"paper\",\"y\":0.9999999999999999,\"yanchor\":\"bottom\",\"yref\":\"paper\"},{\"font\":{\"size\":16},\"showarrow\":false,\"text\":\"Historical Revenue\",\"x\":0.5,\"xanchor\":\"center\",\"xref\":\"paper\",\"y\":0.35,\"yanchor\":\"bottom\",\"yref\":\"paper\"}],\"showlegend\":false,\"height\":900,\"title\":{\"text\":\"GameStop\"}},                        {\"responsive\": true}                    ).then(function(){\n",
              "                            \n",
              "var gd = document.getElementById('6fd7f7a6-7265-4f9f-9e6e-0de2e143d03d');\n",
              "var x = new MutationObserver(function (mutations, observer) {{\n",
              "        var display = window.getComputedStyle(gd).display;\n",
              "        if (!display || display === 'none') {{\n",
              "            console.log([gd, 'removed!']);\n",
              "            Plotly.purge(gd);\n",
              "            observer.disconnect();\n",
              "        }}\n",
              "}});\n",
              "\n",
              "// Listen for the removal of the full notebook cells\n",
              "var notebookContainer = gd.closest('#notebook-container');\n",
              "if (notebookContainer) {{\n",
              "    x.observe(notebookContainer, {childList: true});\n",
              "}}\n",
              "\n",
              "// Listen for the clearing of the current output cell\n",
              "var outputEl = gd.closest('.output');\n",
              "if (outputEl) {{\n",
              "    x.observe(outputEl, {childList: true});\n",
              "}}\n",
              "\n",
              "                        })                };                            </script>        </div>\n",
              "</body>\n",
              "</html>"
            ]
          },
          "metadata": {}
        }
      ],
      "source": [
        "make_graph(gme_data[['Date','Close']], gme_revenue, 'GameStop')"
      ]
    }
  ],
  "metadata": {
    "kernelspec": {
      "display_name": "Python",
      "language": "python",
      "name": "conda-env-python-py"
    },
    "language_info": {
      "codemirror_mode": {
        "name": "ipython",
        "version": 3
      },
      "file_extension": ".py",
      "mimetype": "text/x-python",
      "name": "python",
      "nbconvert_exporter": "python",
      "pygments_lexer": "ipython3",
      "version": "3.7.12"
    },
    "colab": {
      "provenance": []
    }
  },
  "nbformat": 4,
  "nbformat_minor": 0
}